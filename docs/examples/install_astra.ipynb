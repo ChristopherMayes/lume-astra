{
 "cells": [
  {
   "cell_type": "markdown",
   "metadata": {},
   "source": [
    "# Install Astra "
   ]
  },
  {
   "cell_type": "markdown",
   "metadata": {},
   "source": [
    "Simple download functions for Astra, generator"
   ]
  },
  {
   "cell_type": "code",
   "execution_count": 1,
   "metadata": {
    "execution": {
     "iopub.execute_input": "2023-08-02T15:51:18.539839Z",
     "iopub.status.busy": "2023-08-02T15:51:18.539015Z",
     "iopub.status.idle": "2023-08-02T15:51:20.046404Z",
     "shell.execute_reply": "2023-08-02T15:51:20.045901Z"
    }
   },
   "outputs": [],
   "source": [
    "from astra.install import install_astra, install_generator"
   ]
  },
  {
   "cell_type": "code",
   "execution_count": 2,
   "metadata": {
    "execution": {
     "iopub.execute_input": "2023-08-02T15:51:20.048763Z",
     "iopub.status.busy": "2023-08-02T15:51:20.048396Z",
     "iopub.status.idle": "2023-08-02T15:51:27.382112Z",
     "shell.execute_reply": "2023-08-02T15:51:27.380868Z"
    }
   },
   "outputs": [
    {
     "name": "stdout",
     "output_type": "stream",
     "text": [
      "Downloading http://www.desy.de/~mpyflo/Astra_for_Mac_OSX/Astra to /Users/chrisonian/Code/GitHub/lume-astra/docs/examples/Astra\n",
      "Installed Astra in /Users/chrisonian/Code/GitHub/lume-astra/docs/examples/Astra, and set $ASTRA_BIN equal to this.\n"
     ]
    }
   ],
   "source": [
    "astra_bin = install_astra('.', verbose=True)"
   ]
  },
  {
   "cell_type": "code",
   "execution_count": 3,
   "metadata": {
    "execution": {
     "iopub.execute_input": "2023-08-02T15:51:27.392087Z",
     "iopub.status.busy": "2023-08-02T15:51:27.391658Z",
     "iopub.status.idle": "2023-08-02T15:51:34.685566Z",
     "shell.execute_reply": "2023-08-02T15:51:34.684589Z"
    }
   },
   "outputs": [
    {
     "name": "stdout",
     "output_type": "stream",
     "text": [
      "Downloading http://www.desy.de/~mpyflo/Astra_for_Mac_OSX/generator to /Users/chrisonian/Code/GitHub/lume-astra/docs/examples/generator\n",
      "Installed Astra's generator in /Users/chrisonian/Code/GitHub/lume-astra/docs/examples/generator, and set $GENERATOR_BIN equal to this.\n"
     ]
    }
   ],
   "source": [
    "generator_bin = install_generator('.', verbose=True)"
   ]
  },
  {
   "cell_type": "code",
   "execution_count": 4,
   "metadata": {
    "execution": {
     "iopub.execute_input": "2023-08-02T15:51:34.693796Z",
     "iopub.status.busy": "2023-08-02T15:51:34.693544Z",
     "iopub.status.idle": "2023-08-02T15:51:34.697062Z",
     "shell.execute_reply": "2023-08-02T15:51:34.696620Z"
    }
   },
   "outputs": [],
   "source": [
    "# Cleanup\n",
    "import os\n",
    "os.remove(astra_bin)\n",
    "os.remove(generator_bin)"
   ]
  },
  {
   "cell_type": "markdown",
   "metadata": {},
   "source": [
    "# Install Astra Examples"
   ]
  },
  {
   "cell_type": "code",
   "execution_count": 5,
   "metadata": {
    "execution": {
     "iopub.execute_input": "2023-08-02T15:51:34.699656Z",
     "iopub.status.busy": "2023-08-02T15:51:34.699517Z",
     "iopub.status.idle": "2023-08-02T15:51:34.701726Z",
     "shell.execute_reply": "2023-08-02T15:51:34.701430Z"
    }
   },
   "outputs": [],
   "source": [
    "from astra.install import install_examples"
   ]
  },
  {
   "cell_type": "code",
   "execution_count": 6,
   "metadata": {
    "execution": {
     "iopub.execute_input": "2023-08-02T15:51:34.703513Z",
     "iopub.status.busy": "2023-08-02T15:51:34.703376Z",
     "iopub.status.idle": "2023-08-02T15:51:35.986535Z",
     "shell.execute_reply": "2023-08-02T15:51:35.986174Z"
    }
   },
   "outputs": [],
   "source": [
    "install_examples(\"~/astra_examples/\")"
   ]
  }
 ],
 "metadata": {
  "kernelspec": {
   "display_name": "Python 3 (ipykernel)",
   "language": "python",
   "name": "python3"
  },
  "language_info": {
   "codemirror_mode": {
    "name": "ipython",
    "version": 3
   },
   "file_extension": ".py",
   "mimetype": "text/x-python",
   "name": "python",
   "nbconvert_exporter": "python",
   "pygments_lexer": "ipython3",
   "version": "3.9.16"
  }
 },
 "nbformat": 4,
 "nbformat_minor": 4
}

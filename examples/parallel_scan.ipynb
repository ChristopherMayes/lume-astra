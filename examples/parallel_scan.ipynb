{
 "cells": [
  {
   "cell_type": "markdown",
   "metadata": {},
   "source": [
    "# Parallel Parameter Scan\n",
    "#### Using mpi4py"
   ]
  },
  {
   "cell_type": "code",
   "execution_count": null,
   "metadata": {},
   "outputs": [],
   "source": [
    "from astra import Astra,  AstraGenerator, tools\n",
    "import numpy as np\n",
    "import os\n",
    "#If on HPC cluster, use this:\n",
    "from mpi4py.futures import MPIPoolExecutor\n",
    "from mpi4py import MPI\n",
    "\n",
    "# Path to ASTRA executable file\n",
    "MY_ASTRA_BIN = os.path.expandvars('$HOME/Code/astra/Astra')\n",
    "# Directory where simulations will run\n",
    "MY_WORKDIR = os.path.expandvars('$HOME/Code/GitHub/work/')\n",
    "# Input template file \n",
    "MY_TEMPLATE = os.path.expandvars('$HOME/Code/GitHub/lcls2-lattice/astra/models/mygunb/astra.in')\n",
    "# Making clean working directory\n",
    "tools.mkdir_p(MY_WORKDIR)\n",
    "# Checking that all files / folders exist\n",
    "os.path.exists(MY_ASTRA_BIN), os.path.exists(MY_TEMPLATE), os.path.exists(MY_WORKDIR)"
   ]
  },
  {
   "cell_type": "code",
   "execution_count": null,
   "metadata": {},
   "outputs": [],
   "source": [
    "def get_astra_emittance(values, ):\n",
    "    # Provide input array with values to scan\n",
    "    "
   ]
  },
  {
   "cell_type": "code",
   "execution_count": null,
   "metadata": {},
   "outputs": [],
   "source": [
    "# Solenoid values to scan: \n",
    "sol_vals = np.arange(0.0548, 0.059, 0.00042) # Tesla\n",
    "print('solenoid values:', sol_vals)"
   ]
  },
  {
   "cell_type": "code",
   "execution_count": null,
   "metadata": {},
   "outputs": [],
   "source": [
    "with MPIPoolExecutor() as executor:\n",
    "    for result in executor.map(pow, [2]*32, range(32)):\n",
    "        print('sim complete', result)"
   ]
  },
  {
   "cell_type": "code",
   "execution_count": null,
   "metadata": {},
   "outputs": [],
   "source": []
  }
 ],
 "metadata": {
  "kernelspec": {
   "display_name": "Python 3",
   "language": "python",
   "name": "python3"
  },
  "language_info": {
   "codemirror_mode": {
    "name": "ipython",
    "version": 3
   },
   "file_extension": ".py",
   "mimetype": "text/x-python",
   "name": "python",
   "nbconvert_exporter": "python",
   "pygments_lexer": "ipython3",
   "version": "3.7.3"
  }
 },
 "nbformat": 4,
 "nbformat_minor": 2
}

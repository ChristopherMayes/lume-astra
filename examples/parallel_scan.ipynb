{
 "cells": [
  {
   "cell_type": "markdown",
   "metadata": {},
   "source": [
    "# Parallel Parameter Scan\n",
    "#### Using mpi4py"
   ]
  },
  {
   "cell_type": "code",
   "execution_count": null,
   "metadata": {},
   "outputs": [],
   "source": [
    "from astra import *\n",
    "import numpy as np\n",
    "import os\n",
    "#If on HPC cluster, use this:\n",
    "from mpi4py.futures import MPIPoolExecutor\n",
    "from mpi4py import MPI\n",
    "\n",
    "# Path to ASTRA executable file\n",
    "astra_bin = os.path.expandvars('$HOME/Code/astra/Astra')\n",
    "# Path to ASTRA executable file\n",
    "generator_bin = os.path.expandvars('$HOME/Code/astra/generator')\n",
    "# Directory where simulations will run\n",
    "workdir = os.path.expandvars('$HOME/Code/Github/benchmarking/lcls2/astra/')\n",
    "# Input template file \n",
    "astra_input_file = os.path.expandvars('$HOME/Code/Github/benchmarking/lcls2/astra/gunb/gunb.in')\n",
    "# Input generator template file \n",
    "generator_input_file = os.path.expandvars('$HOME/Code/Github/benchmarking/lcls2/astra/gunb/generator.in')\n",
    "# Making clean working directory\n",
    "tools.mkdir_p(workdir)\n",
    "# Checking that all files / folders exist\n",
    "os.path.exists(astra_bin), os.path.exists(astra_input_file), os.path.exists(workdir)"
   ]
  },
  {
   "cell_type": "code",
   "execution_count": null,
   "metadata": {},
   "outputs": [],
   "source": [
    "# Make astra and generator objects\n",
    "A = Astra(astra_bin=astra_bin, input_file=astra_input_file, workdir=workdir)\n",
    "A.timeout= 300\n",
    "A.verbose = True\n",
    "G = AstraGenerator(generator_bin=generator_bin, input_file=generator_input_file, sim_path=A.sim_path)\n",
    "G.verbose = True\n",
    "\n",
    "# Link particle files\n",
    "A.input['newrun']['distribution'] = G.input['fname']\n",
    "A.input['newrun']['l_rm_back'] = True # Remove backwards particles\n",
    "A.input\n",
    "\n",
    "# Set inputs\n",
    "settings = {}\n",
    "settings['maxb(2)'] = 0.548\n",
    "set_astra(A.input, G.input, settings, verbose=True)\n",
    "\n",
    "n_particles = G.input['ipart']\n",
    "sc_settings = recommended_spacecharge_mesh(n_particles)\n",
    "A.input['charge'].update(sc_settings)\n",
    "print('set spacecharge mesh for n_particles:', n_particles, 'to', sc_settings)\n",
    "\n",
    "A.input\n",
    "# # Run\n",
    "# G.run()\n",
    "# A.run()"
   ]
  },
  {
   "cell_type": "code",
   "execution_count": null,
   "metadata": {},
   "outputs": [],
   "source": [
    "def get_astra_emittance(values, ):\n",
    "    # Provide input array with values to scan\n",
    "    "
   ]
  },
  {
   "cell_type": "code",
   "execution_count": null,
   "metadata": {},
   "outputs": [],
   "source": [
    "# Solenoid values to scan: \n",
    "sol_vals = np.arange(0.0548, 0.059, 0.00042) # Tesla\n",
    "print('solenoid values:', sol_vals)"
   ]
  },
  {
   "cell_type": "code",
   "execution_count": null,
   "metadata": {},
   "outputs": [],
   "source": [
    "with MPIPoolExecutor() as executor:\n",
    "    for result in executor.map(pow, [2]*32, range(32)):\n",
    "        print('sim complete', result)"
   ]
  }
 ],
 "metadata": {
  "kernelspec": {
   "display_name": "Python 3",
   "language": "python",
   "name": "python3"
  },
  "language_info": {
   "codemirror_mode": {
    "name": "ipython",
    "version": 3
   },
   "file_extension": ".py",
   "mimetype": "text/x-python",
   "name": "python",
   "nbconvert_exporter": "python",
   "pygments_lexer": "ipython3",
   "version": "3.7.3"
  }
 },
 "nbformat": 4,
 "nbformat_minor": 2
}

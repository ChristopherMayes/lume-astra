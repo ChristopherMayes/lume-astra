{
 "cells": [
  {
   "cell_type": "markdown",
   "metadata": {},
   "source": [
    "# Astra Generator - particle generation"
   ]
  },
  {
   "cell_type": "code",
   "execution_count": 1,
   "metadata": {},
   "outputs": [],
   "source": [
    "# Useful for debugging\n",
    "%load_ext autoreload\n",
    "%autoreload 2"
   ]
  },
  {
   "cell_type": "code",
   "execution_count": 2,
   "metadata": {},
   "outputs": [],
   "source": [
    "from astra import AstraGenerator, template_dir\n",
    "import os"
   ]
  },
  {
   "cell_type": "code",
   "execution_count": 3,
   "metadata": {},
   "outputs": [
    {
     "data": {
      "text/plain": [
       "[True, True]"
      ]
     },
     "execution_count": 3,
     "metadata": {},
     "output_type": "execute_result"
    }
   ],
   "source": [
    "# Point to executable, template input file\n",
    "MY_GENERATOR_BIN = os.path.expandvars('$HOME/Code/astra/bin/generator')\n",
    "MY_TEMPLATE = os.path.join(template_dir, 'dcgun/generator.in')\n",
    "list(map(os.path.exists, [MY_GENERATOR_BIN, MY_TEMPLATE ]))"
   ]
  },
  {
   "cell_type": "code",
   "execution_count": 4,
   "metadata": {},
   "outputs": [],
   "source": [
    "# Make generator object\n",
    "g = AstraGenerator(generator_bin=MY_GENERATOR_BIN, input_file=MY_TEMPLATE )"
   ]
  },
  {
   "cell_type": "code",
   "execution_count": 5,
   "metadata": {},
   "outputs": [
    {
     "data": {
      "text/plain": [
       "{'fname': 'dist100.part',\n",
       " 'add': False,\n",
       " 'n_add': 0,\n",
       " 'ipart': 1000,\n",
       " 'species': 'electrons',\n",
       " 'probe': True,\n",
       " 'noise_reduc': True,\n",
       " 'cathode': True,\n",
       " 'q_total': 0.1,\n",
       " 'ref_zpos': 0,\n",
       " 'ref_clock': 0,\n",
       " 'ref_ekin': 1e-06,\n",
       " 'high_res': True,\n",
       " 'dist_z': 'p',\n",
       " 'lt': 0.0329081,\n",
       " 'rt': 0.002,\n",
       " 'dist_pz': 'g',\n",
       " 'sig_ekin': 0.0005,\n",
       " 'c_sig_ekin': 5,\n",
       " 'dist_x': 'r',\n",
       " 'sig_x': 0.192281,\n",
       " 'c_sig_x': 5,\n",
       " 'dist_px': 'g',\n",
       " 'nemit_x': 0.192281,\n",
       " 'c_sig_px': 5,\n",
       " 'cor_px': 0,\n",
       " 'dist_y': 'r',\n",
       " 'sig_y': 0.192281,\n",
       " 'c_sig_y': 5,\n",
       " 'dist_py': 'g',\n",
       " 'nemit_y': 0.192281,\n",
       " 'cor_py': 0}"
      ]
     },
     "execution_count": 5,
     "metadata": {},
     "output_type": "execute_result"
    }
   ],
   "source": [
    "# Look at its input\n",
    "g.input"
   ]
  },
  {
   "cell_type": "code",
   "execution_count": 6,
   "metadata": {},
   "outputs": [],
   "source": [
    "# Change some input\n",
    "g.input['ipart']= 999"
   ]
  },
  {
   "cell_type": "code",
   "execution_count": 7,
   "metadata": {},
   "outputs": [
    {
     "name": "stdout",
     "output_type": "stream",
     "text": [
      " --------------------------------------------------------------------------\n",
      "\n",
      "                              generator              \n",
      "                             Version 1.0             \n",
      "                        DESY,  Hamburg 2002          \n",
      "                        Wed Dec 11 10:29:18 \n",
      "\n",
      "     Working File is:    temp_generator.in                                 \n",
      "     Initializing        999      electrons\n",
      "     including 6 probe particles at standard positions\n",
      "     Particles start from a cathode\n",
      "     Particles are quasi randomly distributed\n",
      "\n",
      "          WARNING: Values could not be reached:\n",
      "          Energy spread too high.\n",
      "                  23 times standard correction procedure\n",
      "\n",
      "\n",
      "\n",
      "     Final check:\n",
      "     Particles taken into account      N =        999\n",
      "     total charge                      Q =    -0.1000     nC\n",
      "     horizontal beam position          x =    -6.0384E-07 mm\n",
      "     vertical beam position            y =     4.7797E-06 mm\n",
      "     longitudinal beam position        z =      0.000     m\n",
      "     horizontal beam size          sig x =     0.1923     mm\n",
      "     vertical beam size            sig y =     0.1923     mm\n",
      "     longitudinal beam size        sig z =      0.000     mm\n",
      "     total emission time               t =     3.5411E-02 ns\n",
      "     rms emission time             sig t =     9.5092E-03 ns\n",
      "     average kinetic energy            E =     1.0989E-06 MeV\n",
      "     energy spread                    dE =     4.4929E-04 keV\n",
      "     average momentum                  P =     1.0597E-03 MeV/c\n",
      "     transverse beam emittance     eps x =     0.1908     pi mrad mm\n",
      "     correlated divergence         cor x =     7.8369E-02 mrad \n",
      "     transverse beam emittance     eps y =     0.1923     pi mrad mm\n",
      "     correlated divergence         cor y =     3.4682E-03 mrad\n",
      "     longitudinal beam emittance   eps z =      0.000     pi keV mm\n",
      "     correlated energy spread      cor z =      0.000     keV\n",
      "     emittance ratio eps y/eps x         =     0.9922    \n",
      "\n",
      "     phase-space distribution saved to file: dist100.part                  \n",
      "\n",
      "\n",
      "     Generator ended with     1 warning(s)\n",
      "\n",
      "\n"
     ]
    }
   ],
   "source": [
    "# Run\n",
    "g.verbose=True\n",
    "g.run()"
   ]
  },
  {
   "cell_type": "code",
   "execution_count": 8,
   "metadata": {},
   "outputs": [
    {
     "data": {
      "text/plain": [
       "['.DS_Store',\n",
       " 'temp_generator.in',\n",
       " 'NORRAN',\n",
       " 'dcgun_GHV.dat',\n",
       " 'astra.in',\n",
       " '.ipynb_checkpoints',\n",
       " 'generator.in',\n",
       " 'dist100.part',\n",
       " 'solenoid_SLA_L60.dat']"
      ]
     },
     "execution_count": 8,
     "metadata": {},
     "output_type": "execute_result"
    }
   ],
   "source": [
    "os.listdir(g.path)"
   ]
  },
  {
   "cell_type": "code",
   "execution_count": null,
   "metadata": {},
   "outputs": [],
   "source": []
  },
  {
   "cell_type": "code",
   "execution_count": null,
   "metadata": {},
   "outputs": [],
   "source": []
  }
 ],
 "metadata": {
  "kernelspec": {
   "display_name": "Python 3",
   "language": "python",
   "name": "python3"
  },
  "language_info": {
   "codemirror_mode": {
    "name": "ipython",
    "version": 3
   },
   "file_extension": ".py",
   "mimetype": "text/x-python",
   "name": "python",
   "nbconvert_exporter": "python",
   "pygments_lexer": "ipython3",
   "version": "3.7.5"
  }
 },
 "nbformat": 4,
 "nbformat_minor": 4
}

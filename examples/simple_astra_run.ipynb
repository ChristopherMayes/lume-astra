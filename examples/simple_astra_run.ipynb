{
 "cells": [
  {
   "cell_type": "markdown",
   "metadata": {},
   "source": [
    "# Simple Astra run"
   ]
  },
  {
   "cell_type": "code",
   "execution_count": 1,
   "metadata": {},
   "outputs": [],
   "source": [
    "from astra import Astra,  AstraGenerator, tools\n",
    "import os"
   ]
  },
  {
   "cell_type": "code",
   "execution_count": 2,
   "metadata": {},
   "outputs": [
    {
     "data": {
      "text/plain": [
       "(True, True, True)"
      ]
     },
     "execution_count": 2,
     "metadata": {},
     "output_type": "execute_result"
    }
   ],
   "source": [
    "MY_ASTRA_BIN = os.path.expandvars('$HOME/Code/astra/Astra')\n",
    "MY_WORKDIR = os.getcwd()+'/work/'\n",
    "MY_TEMPLATE = os.path.expandvars('$HOME/Code/GitHub/lume-astra/templates/dcgun/astra.in')\n",
    "tools.mkdir_p(MY_WORKDIR)\n",
    "os.path.exists(MY_ASTRA_BIN), os.path.exists(MY_TEMPLATE), os.path.exists(MY_WORKDIR)"
   ]
  },
  {
   "cell_type": "code",
   "execution_count": 3,
   "metadata": {},
   "outputs": [],
   "source": [
    "a = Astra(astra_bin=MY_ASTRA_BIN, input_file=MY_TEMPLATE, workdir = 'work')"
   ]
  },
  {
   "cell_type": "code",
   "execution_count": 4,
   "metadata": {},
   "outputs": [],
   "source": [
    "# Change some inputs\n",
    "a.input['newrun']['zstop']  = 1\n",
    "a.input['newrun']['zemit']  = 200\n",
    "a.input['newrun']['zphase'] = 200\n",
    "a.input['newrun']['phases'] = True"
   ]
  },
  {
   "cell_type": "code",
   "execution_count": 5,
   "metadata": {},
   "outputs": [
    {
     "name": "stdout",
     "output_type": "stream",
     "text": [
      "init dir:  /Users/chrisonian/Code/GitHub/lume-astra/examples\n",
      "running astra in /Users/chrisonian/Code/GitHub/lume-astra/examples/work/astra_3_o0dcsy\n",
      " --------------------------------------------------------------------------\n",
      "\n",
      "               Astra- A space charge tracking algorithm \n",
      "                            Version 3.0              \n",
      "                        DESY,  Hamburg 2011          \n",
      "                        Wed May 15 15:11:57 \n",
      "\n",
      "     Parameter file is:  astra.in                                          \n",
      "     astra input file for L0 injector (20070501_1)                                   \n",
      "\n",
      " Initialize element settings:\n",
      "     neglecting space charge forces \n",
      "\n",
      " --------------------------------------------------------------------------\n",
      " Cavity:\n",
      "\n",
      "     Reading cavity field data from:      dcgun_GHV.dat                                                                   \n",
      "     maximum gradient                     -11.60     MV/m\n",
      "     at                                   3.9750E-02 m\n",
      "     estimated average gradient            2.353     MV/m\n",
      "     nominal phase                         0.000     deg\n",
      "\n",
      " --------------------------------------------------------------------------\n",
      " Solenoid:\n",
      "\n",
      "     Reading solenoid field data from:    solenoid_SLA_L60.dat                                                            \n",
      "     maximum |Bz| field                    2.4219E-02 T\n",
      "     at                                    0.3030     m\n",
      "     integral Bz squared                   4.8804E-05 T^2m\n",
      "\n",
      " --------------------------------------------------------------------------\n",
      "    1000 particles from file dist100.part                                      \n",
      "\n",
      "\n",
      "     Cathode located at:               z =      0.000     m\n",
      "     Particles taken into account      N =       1000\n",
      "     total charge                      Q =    -0.1000     nC\n",
      "     horizontal beam position          x =     2.1045E-07 mm\n",
      "     vertical beam position            y =     4.0699E-06 mm\n",
      "     longitudinal beam position        z =      0.000     m\n",
      "     horizontal beam size          sig x =      1.100     mm\n",
      "     vertical beam size            sig y =      1.100     mm\n",
      "     longitudinal beam size        sig z =      0.000     mm\n",
      "     total emission time               t =     3.2293E-02 ns\n",
      "     rms emission time             sig t =     8.7000E-03 ns\n",
      "     average kinetic energy            E =     1.1012E-06 MeV\n",
      "     energy spread                    dE =     4.5124E-04 keV\n",
      "     average momentum                  P =     1.0609E-03 MeV/c\n",
      "     transverse beam emittance     eps x =      1.091     pi mrad mm\n",
      "     correlated divergence         cor x =     7.8052E-02 mrad \n",
      "     transverse beam emittance     eps y =      1.100     pi mrad mm\n",
      "     correlated divergence         cor y =     3.6459E-03 mrad\n",
      "     longitudinal beam emittance   eps z =      0.000     pi keV mm\n",
      "     correlated energy spread      cor z =      0.000     keV\n",
      "     emittance ratio eps y/eps x         =     0.9917    \n",
      " --------------------------------------------------------------------------\n",
      "     Start auto phasing: \n",
      "     Reject phase scan of cavity number  :   1:   DC field\n",
      "\n",
      "     Cavity phasing completed:\n",
      "     Cavity number   Energy gain [MeV]  at  Phase [deg]\n",
      " --------------------------------------------------------------------------\n",
      " on axis tracking of the reference particle:\n",
      "     initial position                  z =    0.000     m\n",
      "                                       x =  -9.9349E-07 mm\n",
      "                                       y =  -1.9214E-05 mm\n",
      "     initial momentum                  p =   1.0109E-03 MeV/c\n",
      "     global phase shift              phi =    0.000     deg\n",
      "     time step for integration        dt =    2.000     ps\n",
      " --------------------------------------------------------------------------\n",
      " Online element settings:\n",
      "\n",
      " --------------------------------------------------------------------------\n",
      "\n",
      "     particle reaches position         z =    1.000     m\n",
      "     time of flight is                 t =    4.015     ns\n",
      "     final momentum                    p =   0.8721     MeV/c\n",
      "     final phase (cavity 1)      phi_end =    0.000     deg\n",
      " --------------------------------------------------------------------------\n",
      " off axis tracking of the reference particle: \n",
      "     initial position                  z =    0.000     m\n",
      "                                       x =    1.100     mm\n",
      "                                       y =    1.100     mm\n",
      "\n",
      "     final position                    x =  -0.3190     mm\n",
      "                                       y =   -1.299     mm\n",
      "     divergence                    px/pz =  -0.6103     mrad\n",
      "                                   py/pz =   -2.486     mrad\n",
      " --------------------------------------------------------------------------\n",
      " tracking of     1000 particles :\n",
      "     tracking will stop at             z =    1.000     m\n",
      "\n",
      "\n",
      "     final checkpoint at               z =    1.000     m\n",
      "     total number of iteration steps:          2081\n",
      "\n",
      "     **********************************************************************\n",
      "\n",
      "     Particles taken into account      N =       1000\n",
      "     total charge                      Q =    -0.1000     nC\n",
      "     horizontal beam position          x =    -1.2323E-04 mm\n",
      "     vertical beam position            y =     1.2818E-04 mm\n",
      "     longitudinal beam position        z =      1.000     m\n",
      "     horizontal beam size          sig x =      1.117     mm\n",
      "     vertical beam size            sig y =      1.128     mm\n",
      "     longitudinal beam size        sig z =      2.250     mm\n",
      "     average kinetic energy            E =     0.4998     MeV\n",
      "     energy spread                    dE =     1.3761E-03 keV\n",
      "     average momentum                  P =     0.8721     MeV/c\n",
      "     transverse beam emittance     eps x =      1.091     pi mrad mm\n",
      "     correlated divergence         cor x =      1.774     mrad \n",
      "     transverse beam emittance     eps y =      1.100     pi mrad mm\n",
      "     correlated divergence         cor y =      1.792     mrad\n",
      "     longitudinal beam emittance   eps z =     3.0960E-03 pi keV mm\n",
      "     correlated energy spread      cor z =     2.6412E-05 keV\n",
      "     emittance ratio eps y/eps x         =     0.9913    \n",
      "\n",
      "     Particle Statistics: \n",
      "\n",
      "\n",
      "     Total number of particles on stack     =       1000\n",
      "     Electrons (total)                      =       1000\n",
      "     particles at the cathode               =          0\n",
      "     active particles                       =       1000\n",
      "     passive particles (lost out of bunch)  =          0\n",
      "     probe particles                        =          6\n",
      "     backward traveling particles           =          0\n",
      "     particles lost with z<Zmin             =          0\n",
      "     particles lost due to cathode field    =          0\n",
      "     particles lost on aperture             =          0\n",
      "\n",
      "     **********************************************************************\n",
      "\n",
      "     Emittance information saved to file    : astra.Xemit.001               \n",
      "     Emittance information saved to file    : astra.Yemit.001               \n",
      "     Emittance information saved to file    : astra.Zemit.001               \n",
      "     Lost & found saved to file             : astra.LandF.001               \n",
      "     Phase-space distributions logged in    : astra.Log.001                 \n",
      "\n",
      "     **********************************************************************\n",
      "\n",
      "\n",
      "\n",
      "     finished simulation  Wed May 15 15:12:00 2019\n",
      "     elapsed time   :                 2.4 seconds \n",
      "     execution time :                 1.6 seconds \n",
      "     system time    :                 0.9 seconds\n",
      "     Goodbye.\n",
      " --------------------------------------------------------------------------\n"
     ]
    }
   ],
   "source": [
    "a.verbose = True\n",
    "a.run()"
   ]
  },
  {
   "cell_type": "code",
   "execution_count": 6,
   "metadata": {},
   "outputs": [
    {
     "data": {
      "text/plain": [
       "dict_keys(['z', 't', 'x_average', 'x_rms', 'xp_rms', 'x_normemit', 'xxp_average', 'y_average', 'y_rms', 'yp_rms', 'y_normemit', 'yyp_average', 'E_kinetic', 'z_rms', 'deltaE_rms', 'z_normemit', 'zEp_average', 'run_time', 'start_time'])"
      ]
     },
     "execution_count": 6,
     "metadata": {},
     "output_type": "execute_result"
    }
   ],
   "source": [
    "a.output.keys()"
   ]
  },
  {
   "cell_type": "code",
   "execution_count": 7,
   "metadata": {},
   "outputs": [
    {
     "data": {
      "text/plain": [
       "'/Users/chrisonian/Code/GitHub/lume-astra/examples/work/astra_3_o0dcsy/astra.in'"
      ]
     },
     "execution_count": 7,
     "metadata": {},
     "output_type": "execute_result"
    }
   ],
   "source": [
    "a.sim_input_file"
   ]
  },
  {
   "cell_type": "code",
   "execution_count": 8,
   "metadata": {},
   "outputs": [
    {
     "data": {
      "text/plain": [
       "'/Users/chrisonian/Code/GitHub/lume-astra/examples/work/astra_3_o0dcsy'"
      ]
     },
     "execution_count": 8,
     "metadata": {},
     "output_type": "execute_result"
    }
   ],
   "source": [
    "a.sim_path"
   ]
  },
  {
   "cell_type": "code",
   "execution_count": 9,
   "metadata": {},
   "outputs": [
    {
     "name": "stdout",
     "output_type": "stream",
     "text": [
      "loading 199 screens\n",
      "[5.0, 10.0, 15.0, 20.0, 25.0, 30.0, 35.0, 40.0, 45.0, 50.0, 55.0, 60.0, 65.0, 70.0, 75.0, 80.0, 85.0, 90.0, 95.0, 100.0, 105.0, 110.0, 115.0, 120.0, 125.0, 130.0, 135.0, 140.0, 145.0, 150.0, 155.0, 160.0, 165.0, 170.0, 175.0, 180.0, 185.0, 190.0, 195.0, 200.0, 205.0, 210.0, 215.0, 220.0, 225.0, 230.0, 235.0, 240.0, 245.0, 250.0, 255.0, 260.0, 265.0, 270.0, 275.0, 280.0, 285.0, 290.0, 295.0, 300.0, 305.0, 310.0, 315.0, 320.0, 325.0, 330.0, 335.0, 340.0, 345.0, 350.0, 355.0, 360.0, 365.0, 370.0, 375.0, 380.0, 385.0, 390.0, 395.0, 400.0, 405.0, 410.0, 415.0, 420.0, 425.0, 430.0, 435.0, 440.0, 445.0, 450.0, 455.0, 460.0, 465.0, 470.0, 475.0, 480.0, 485.0, 490.0, 495.0, 500.0, 505.0, 510.0, 515.0, 520.0, 525.0, 530.0, 535.0, 540.0, 545.0, 550.0, 555.0, 560.0, 565.0, 570.0, 575.0, 580.0, 585.0, 590.0, 595.0, 600.0, 605.0, 610.0, 615.0, 620.0, 625.0, 630.0, 635.0, 640.0, 645.0, 650.0, 655.0, 660.0, 665.0, 670.0, 675.0, 680.0, 685.0, 690.0, 695.0, 700.0, 705.0, 710.0, 715.0, 720.0, 725.0, 730.0, 735.0, 740.0, 745.0, 750.0, 755.0, 760.0, 765.0, 770.0, 775.0, 780.0, 785.0, 790.0, 795.0, 800.0, 805.0, 810.0, 815.0, 820.0, 825.0, 830.0, 835.0, 840.0, 845.0, 850.0, 855.0, 860.0, 865.0, 870.0, 875.0, 880.0, 885.0, 890.0, 895.0, 900.0, 905.0, 910.0, 915.0, 920.0, 925.0, 930.0, 935.0, 940.0, 945.0, 950.0, 955.0, 960.0, 965.0, 970.0, 975.0, 980.0, 985.0, 990.0, 1000.0]\n"
     ]
    }
   ],
   "source": [
    "a.load_screens()"
   ]
  },
  {
   "cell_type": "markdown",
   "metadata": {},
   "source": [
    "# Write screens to HDF5 in openPMD beamphysics format"
   ]
  },
  {
   "cell_type": "code",
   "execution_count": 10,
   "metadata": {},
   "outputs": [],
   "source": [
    "from astra import writers\n",
    "import h5py"
   ]
  },
  {
   "cell_type": "code",
   "execution_count": 11,
   "metadata": {},
   "outputs": [],
   "source": [
    "H5FILE='test_astra.h5'"
   ]
  },
  {
   "cell_type": "code",
   "execution_count": 12,
   "metadata": {},
   "outputs": [],
   "source": [
    "h5=h5py.File(H5FILE, 'w')"
   ]
  },
  {
   "cell_type": "code",
   "execution_count": 13,
   "metadata": {},
   "outputs": [],
   "source": [
    "for i in range(len(a.screen)):\n",
    "    screen = a.screen[i]\n",
    "    name = 'screen_'+str(i)\n",
    "    writers.write_astra_particles_h5(h5, name, screen)   "
   ]
  },
  {
   "cell_type": "code",
   "execution_count": 14,
   "metadata": {},
   "outputs": [],
   "source": [
    "h5.close()"
   ]
  },
  {
   "cell_type": "markdown",
   "metadata": {},
   "source": [
    "# Read openPMD"
   ]
  },
  {
   "cell_type": "code",
   "execution_count": 15,
   "metadata": {},
   "outputs": [],
   "source": [
    "h5 = h5py.File(H5FILE, 'r')"
   ]
  },
  {
   "cell_type": "code",
   "execution_count": 16,
   "metadata": {},
   "outputs": [
    {
     "data": {
      "text/plain": [
       "['screen_0',\n",
       " 'screen_1',\n",
       " 'screen_10',\n",
       " 'screen_100',\n",
       " 'screen_101',\n",
       " 'screen_102',\n",
       " 'screen_103',\n",
       " 'screen_104',\n",
       " 'screen_105',\n",
       " 'screen_106']"
      ]
     },
     "execution_count": 16,
     "metadata": {},
     "output_type": "execute_result"
    }
   ],
   "source": [
    "list(h5)[0:10]"
   ]
  },
  {
   "cell_type": "code",
   "execution_count": 17,
   "metadata": {},
   "outputs": [
    {
     "data": {
      "text/plain": [
       "['momentum',\n",
       " 'momentumOffset',\n",
       " 'particleStatus',\n",
       " 'position',\n",
       " 'positionOffset',\n",
       " 'time',\n",
       " 'timeOffset',\n",
       " 'weight']"
      ]
     },
     "execution_count": 17,
     "metadata": {},
     "output_type": "execute_result"
    }
   ],
   "source": [
    "list(h5['screen_0'])[0:10]"
   ]
  },
  {
   "cell_type": "code",
   "execution_count": null,
   "metadata": {},
   "outputs": [],
   "source": []
  }
 ],
 "metadata": {
  "kernelspec": {
   "display_name": "Python 3",
   "language": "python",
   "name": "python3"
  },
  "language_info": {
   "codemirror_mode": {
    "name": "ipython",
    "version": 3
   },
   "file_extension": ".py",
   "mimetype": "text/x-python",
   "name": "python",
   "nbconvert_exporter": "python",
   "pygments_lexer": "ipython3",
   "version": "3.6.8"
  }
 },
 "nbformat": 4,
 "nbformat_minor": 2
}

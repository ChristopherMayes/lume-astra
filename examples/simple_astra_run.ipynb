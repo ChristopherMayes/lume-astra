{
 "cells": [
  {
   "cell_type": "code",
   "execution_count": null,
   "metadata": {},
   "outputs": [],
   "source": [
    "# Useful for debugging\n",
    "%load_ext autoreload\n",
    "%autoreload 2"
   ]
  },
  {
   "cell_type": "markdown",
   "metadata": {},
   "source": [
    "# Simple LUME-Astra example"
   ]
  },
  {
   "cell_type": "code",
   "execution_count": 2,
   "metadata": {},
   "outputs": [],
   "source": [
    "from astra import Astra,  template_dir\n",
    "\n",
    "import matplotlib.pyplot as plt\n",
    "import os"
   ]
  },
  {
   "cell_type": "code",
   "execution_count": 3,
   "metadata": {},
   "outputs": [],
   "source": [
    "# Input template file \n",
    "MY_TEMPLATE = os.path.join(template_dir, 'dcgun/astra.in')"
   ]
  },
  {
   "cell_type": "code",
   "execution_count": 4,
   "metadata": {},
   "outputs": [],
   "source": [
    "# Make an Astra object\n",
    "A = Astra(input_file=MY_TEMPLATE)"
   ]
  },
  {
   "cell_type": "code",
   "execution_count": 5,
   "metadata": {},
   "outputs": [],
   "source": [
    "# Change some inputs\n",
    "A.input['newrun']['zemit']  = 1000\n",
    "A.input['newrun']['zphase'] = 20\n",
    "A.input['newrun']['phases'] = True\n",
    "A.input['newrun']['zstop']  = 1\n",
    "\n",
    "# Special flag\n",
    "A.verbose = True"
   ]
  },
  {
   "cell_type": "code",
   "execution_count": 6,
   "metadata": {},
   "outputs": [
    {
     "name": "stdout",
     "output_type": "stream",
     "text": [
      "init dir:  /Users/chrisonian/Code/GitHub/lume-astra/examples\n",
      "running astra in /private/var/folders/wj/lfgr01993dx79p9cm_skykbw0000gn/T/tmpm3v8pi83\n",
      " --------------------------------------------------------------------------\n",
      "\n",
      "               Astra- A space charge tracking algorithm \n",
      "                            Version 3.0              \n",
      "                        DESY,  Hamburg 2011          \n",
      "                        Sun Feb  2 17:48:22 \n",
      "\n",
      "     Parameter file is:  astra.in                                          \n",
      "     astra input file for L0 injector (20070501_1)                                   \n",
      "\n",
      " Initialize element settings:\n",
      "     neglecting space charge forces \n",
      "\n",
      " --------------------------------------------------------------------------\n",
      " Cavity:\n",
      "\n",
      "     Reading cavity field data from:      /Users/chrisonian/Code/GitHub/lume-astra/templates/dcgun/dcgun_GHV.dat          \n",
      "     maximum gradient                     -11.60     MV/m\n",
      "     at                                   3.9750E-02 m\n",
      "     estimated average gradient            2.353     MV/m\n",
      "     nominal phase                         0.000     deg\n",
      "\n",
      " --------------------------------------------------------------------------\n",
      " Solenoid:\n",
      "\n",
      "     Reading solenoid field data from:    /Users/chrisonian/Code/GitHub/lume-astra/templates/dcgun/solenoid_SLA_L60.dat   \n",
      "     maximum |Bz| field                    2.4219E-02 T\n",
      "     at                                    0.3030     m\n",
      "     integral Bz squared                   4.8804E-05 T^2m\n",
      "\n",
      " --------------------------------------------------------------------------\n",
      "     999 particles from file /Users/chrisonian/Code/GitHub/lume-astra/templates\n",
      "\n",
      "\n",
      "     Cathode located at:               z =      0.000     m\n",
      "     Particles taken into account      N =        999\n",
      "     total charge                      Q =    -0.1000     nC\n",
      "     horizontal beam position          x =    -6.0384E-07 mm\n",
      "     vertical beam position            y =     4.7797E-06 mm\n",
      "     longitudinal beam position        z =      0.000     m\n",
      "     horizontal beam size          sig x =      1.100     mm\n",
      "     vertical beam size            sig y =      1.100     mm\n",
      "     longitudinal beam size        sig z =      0.000     mm\n",
      "     total emission time               t =     3.2327E-02 ns\n",
      "     rms emission time             sig t =     8.7000E-03 ns\n",
      "     average kinetic energy            E =     1.1018E-06 MeV\n",
      "     energy spread                    dE =     4.5051E-04 keV\n",
      "     average momentum                  P =     1.0612E-03 MeV/c\n",
      "     transverse beam emittance     eps x =      1.091     pi mrad mm\n",
      "     correlated divergence         cor x =     7.8369E-02 mrad \n",
      "     transverse beam emittance     eps y =      1.100     pi mrad mm\n",
      "     correlated divergence         cor y =     3.4682E-03 mrad\n",
      "     longitudinal beam emittance   eps z =      0.000     pi keV mm\n",
      "     correlated energy spread      cor z =      0.000     keV\n",
      "     emittance ratio eps y/eps x         =     0.9922    \n",
      " --------------------------------------------------------------------------\n",
      "     Start auto phasing: \n",
      "     Reject phase scan of cavity number  :   1:   DC field\n",
      "\n",
      "     Cavity phasing completed:\n",
      "     Cavity number   Energy gain [MeV]  at  Phase [deg]\n",
      " --------------------------------------------------------------------------\n",
      " on axis tracking of the reference particle:\n",
      "     initial position                  z =    0.000     m\n",
      "                                       x =   2.8506E-06 mm\n",
      "                                       y =  -2.2564E-05 mm\n",
      "     initial momentum                  p =   1.0109E-03 MeV/c\n",
      "     global phase shift              phi =    0.000     deg\n",
      "     time step for integration        dt =    2.000     ps\n",
      " --------------------------------------------------------------------------\n",
      " Online element settings:\n",
      "\n",
      " --------------------------------------------------------------------------\n",
      "\n",
      "     particle reaches position         z =    1.000     m\n",
      "     time of flight is                 t =    4.015     ns\n",
      "     final momentum                    p =   0.8721     MeV/c\n",
      "     final phase (cavity 1)      phi_end =    0.000     deg\n",
      " --------------------------------------------------------------------------\n",
      " off axis tracking of the reference particle: \n",
      "     initial position                  z =    0.000     m\n",
      "                                       x =    1.100     mm\n",
      "                                       y =    1.100     mm\n",
      "\n",
      "     final position                    x =  -0.3190     mm\n",
      "                                       y =   -1.299     mm\n",
      "     divergence                    px/pz =  -0.6104     mrad\n",
      "                                   py/pz =   -2.486     mrad\n",
      " --------------------------------------------------------------------------\n",
      " tracking of      999 particles :\n",
      "     tracking will stop at             z =    1.000     m\n",
      "\n",
      "\n",
      "     final checkpoint at               z =    1.000     m\n",
      "     total number of iteration steps:          2093\n",
      "\n",
      "     **********************************************************************\n",
      "\n",
      "     Particles taken into account      N =        999\n",
      "     total charge                      Q =    -0.1000     nC\n",
      "     horizontal beam position          x =    -1.6078E-04 mm\n",
      "     vertical beam position            y =     8.7230E-05 mm\n",
      "     longitudinal beam position        z =      1.000     m\n",
      "     horizontal beam size          sig x =      1.117     mm\n",
      "     vertical beam size            sig y =      1.128     mm\n",
      "     longitudinal beam size        sig z =      2.250     mm\n",
      "     average kinetic energy            E =     0.4998     MeV\n",
      "     energy spread                    dE =     2.2551E-03 keV\n",
      "     average momentum                  P =     0.8721     MeV/c\n",
      "     transverse beam emittance     eps x =      1.091     pi mrad mm\n",
      "     correlated divergence         cor x =      1.773     mrad \n",
      "     transverse beam emittance     eps y =      1.101     pi mrad mm\n",
      "     correlated divergence         cor y =      1.792     mrad\n",
      "     longitudinal beam emittance   eps z =     5.0741E-03 pi keV mm\n",
      "     correlated energy spread      cor z =     2.3229E-05 keV\n",
      "     emittance ratio eps y/eps x         =     0.9913    \n",
      "\n",
      "     Particle Statistics: \n",
      "\n",
      "\n",
      "     Total number of particles on stack     =        999\n",
      "     Electrons (total)                      =        999\n",
      "     particles at the cathode               =          0\n",
      "     active particles                       =        999\n",
      "     passive particles (lost out of bunch)  =          0\n",
      "     probe particles                        =          6\n",
      "     backward traveling particles           =          0\n",
      "     particles lost with z<Zmin             =          0\n",
      "     particles lost due to cathode field    =          0\n",
      "     particles lost on aperture             =          0\n",
      "\n",
      "     **********************************************************************\n",
      "\n",
      "     Emittance information saved to file    : astra.Xemit.001               \n",
      "     Emittance information saved to file    : astra.Yemit.001               \n",
      "     Emittance information saved to file    : astra.Zemit.001               \n",
      "     Lost & found saved to file             : astra.LandF.001               \n",
      "     Phase-space distributions logged in    : astra.Log.001                 \n",
      "\n",
      "     **********************************************************************\n",
      "\n",
      "\n",
      "\n",
      "     finished simulation  Sun Feb  2 17:48:23 2020\n",
      "     elapsed time   :                 0.9 seconds \n",
      "     execution time :                 0.8 seconds \n",
      "     system time    :                 0.1 seconds\n",
      "     Goodbye.\n",
      " --------------------------------------------------------------------------\n",
      "loading 20 particle files\n",
      "[5.0, 10.0, 15.0, 20.0, 25.0, 30.0, 35.0, 40.0, 45.0, 50.0, 55.0, 60.0, 65.0, 70.0, 75.0, 80.0, 85.0, 90.0, 95.0, 100.0]\n"
     ]
    }
   ],
   "source": [
    "# Run\n",
    "A.run()"
   ]
  },
  {
   "cell_type": "code",
   "execution_count": 7,
   "metadata": {},
   "outputs": [
    {
     "data": {
      "text/plain": [
       "dict_keys(['stats', 'particles', 'run_info', 'other'])"
      ]
     },
     "execution_count": 7,
     "metadata": {},
     "output_type": "execute_result"
    }
   ],
   "source": [
    "# Output is automatically parsed into a .output dict\n",
    "A.output.keys()"
   ]
  },
  {
   "cell_type": "code",
   "execution_count": 8,
   "metadata": {},
   "outputs": [
    {
     "data": {
      "text/plain": [
       "dict_keys(['mean_z', 'mean_t', 'mean_x', 'sigma_x', 'sigma_xp', 'norm_emit_x', 'cov_x__xp', 'mean_y', 'sigma_y', 'sigma_yp', 'norm_emit_y', 'cov_y__yp', 'mean_kinetic_energy', 'sigma_z', 'sigma_energy', 'norm_emit_z', 'cov_z__energy'])"
      ]
     },
     "execution_count": 8,
     "metadata": {},
     "output_type": "execute_result"
    }
   ],
   "source": [
    "# These are the statistics from Astra's Xemit style files\n",
    "A.output['stats'].keys()"
   ]
  },
  {
   "cell_type": "code",
   "execution_count": 9,
   "metadata": {},
   "outputs": [
    {
     "data": {
      "text/plain": [
       "{'start_time': 1580694502.696533,\n",
       " 'run_script': '/Users/chrisonian/Code/astra/bin/Astra astra.in',\n",
       " 'run_time': 1.1894431114196777,\n",
       " 'run_error': False}"
      ]
     },
     "execution_count": 9,
     "metadata": {},
     "output_type": "execute_result"
    }
   ],
   "source": [
    "# Some simple run info\n",
    "A.output['run_info']"
   ]
  },
  {
   "cell_type": "code",
   "execution_count": 10,
   "metadata": {},
   "outputs": [
    {
     "data": {
      "text/plain": [
       "{'landf_z': array([0.      , 0.049975, 0.1     , 0.15    , 0.2     , 0.25    ,\n",
       "        0.3     , 0.35    , 0.4     , 0.45    , 0.5     , 0.55    ,\n",
       "        0.6     , 0.65    , 0.7     , 0.75    , 0.8     , 0.85    ,\n",
       "        0.9     , 0.95    , 1.      ]),\n",
       " 'landf_n_particles': array([999., 999., 999., 999., 999., 999., 999., 999., 999., 999., 999.,\n",
       "        999., 999., 999., 999., 999., 999., 999., 999., 999., 999.]),\n",
       " 'landf_total_charge': array([-0.e+00,  1.e-10,  1.e-10,  1.e-10,  1.e-10,  1.e-10,  1.e-10,\n",
       "         1.e-10,  1.e-10,  1.e-10,  1.e-10,  1.e-10,  1.e-10,  1.e-10,\n",
       "         1.e-10,  1.e-10,  1.e-10,  1.e-10,  1.e-10,  1.e-10,  1.e-10]),\n",
       " 'landf_n_lost': array([0., 0., 0., 0., 0., 0., 0., 0., 0., 0., 0., 0., 0., 0., 0., 0., 0.,\n",
       "        0., 0., 0., 0.]),\n",
       " 'landf_energy_deposited': array([0., 0., 0., 0., 0., 0., 0., 0., 0., 0., 0., 0., 0., 0., 0., 0., 0.,\n",
       "        0., 0., 0., 0.]),\n",
       " 'landf_energy_exchange': array([ 0.0000e+00,  4.4741e-05,  5.2248e-06,  1.3398e-08,  2.8471e-12,\n",
       "        -2.6123e-22, -2.7032e-21,  2.5782e-21,  4.7703e-22, -1.8741e-21,\n",
       "         4.5432e-22,  6.4740e-22,  4.9748e-21,  3.8537e-20,  0.0000e+00,\n",
       "         0.0000e+00,  0.0000e+00,  0.0000e+00,  0.0000e+00,  0.0000e+00,\n",
       "         0.0000e+00])}"
      ]
     },
     "execution_count": 10,
     "metadata": {},
     "output_type": "execute_result"
    }
   ],
   "source": [
    "# Other data, such as from the LandF file, are stored here\n",
    "A.output['other']"
   ]
  },
  {
   "cell_type": "code",
   "execution_count": 11,
   "metadata": {},
   "outputs": [
    {
     "data": {
      "text/plain": [
       "'/var/folders/wj/lfgr01993dx79p9cm_skykbw0000gn/T/tmpm3v8pi83'"
      ]
     },
     "execution_count": 11,
     "metadata": {},
     "output_type": "execute_result"
    }
   ],
   "source": [
    "# This is the path that work was done. By default, this will be automatically cleaned up.\n",
    "A.path"
   ]
  },
  {
   "cell_type": "markdown",
   "metadata": {},
   "source": [
    "# Particles "
   ]
  },
  {
   "cell_type": "code",
   "execution_count": 12,
   "metadata": {},
   "outputs": [
    {
     "data": {
      "text/plain": [
       "[<pmd_beamphysics.particles.ParticleGroup at 0x1138d63d0>,\n",
       " <pmd_beamphysics.particles.ParticleGroup at 0x113688c10>,\n",
       " <pmd_beamphysics.particles.ParticleGroup at 0x113c49e10>,\n",
       " <pmd_beamphysics.particles.ParticleGroup at 0x113c91790>,\n",
       " <pmd_beamphysics.particles.ParticleGroup at 0x113c91d50>,\n",
       " <pmd_beamphysics.particles.ParticleGroup at 0x113c912d0>,\n",
       " <pmd_beamphysics.particles.ParticleGroup at 0x113c913d0>,\n",
       " <pmd_beamphysics.particles.ParticleGroup at 0x113c91e90>,\n",
       " <pmd_beamphysics.particles.ParticleGroup at 0x113c91fd0>,\n",
       " <pmd_beamphysics.particles.ParticleGroup at 0x113c91f10>,\n",
       " <pmd_beamphysics.particles.ParticleGroup at 0x113c916d0>,\n",
       " <pmd_beamphysics.particles.ParticleGroup at 0x113c91850>,\n",
       " <pmd_beamphysics.particles.ParticleGroup at 0x113c91550>,\n",
       " <pmd_beamphysics.particles.ParticleGroup at 0x113c91b10>,\n",
       " <pmd_beamphysics.particles.ParticleGroup at 0x11c11bf90>,\n",
       " <pmd_beamphysics.particles.ParticleGroup at 0x11c11b050>,\n",
       " <pmd_beamphysics.particles.ParticleGroup at 0x113c91cd0>,\n",
       " <pmd_beamphysics.particles.ParticleGroup at 0x11c11bfd0>,\n",
       " <pmd_beamphysics.particles.ParticleGroup at 0x11c11b090>,\n",
       " <pmd_beamphysics.particles.ParticleGroup at 0x113c91b90>]"
      ]
     },
     "execution_count": 12,
     "metadata": {},
     "output_type": "execute_result"
    }
   ],
   "source": [
    "# Particles are automatically parsed in to openpmd-beamphysics ParticleGroup objects\n",
    "A.output['particles']"
   ]
  },
  {
   "cell_type": "code",
   "execution_count": 13,
   "metadata": {},
   "outputs": [
    {
     "data": {
      "text/plain": [
       "1010791.5697321692"
      ]
     },
     "execution_count": 13,
     "metadata": {},
     "output_type": "execute_result"
    }
   ],
   "source": [
    "# Get the last item, and request some statistic\n",
    "P = A.output['particles'][-1]\n",
    "P['mean_energy']"
   ]
  },
  {
   "cell_type": "code",
   "execution_count": 14,
   "metadata": {},
   "outputs": [
    {
     "data": {
      "text/plain": [
       "pmd_unit('eV', 1.602176634e-19, (2, 1, -2, 0, 0, 0, 0))"
      ]
     },
     "execution_count": 14,
     "metadata": {},
     "output_type": "execute_result"
    }
   ],
   "source": [
    "# Show the units\n",
    "P.units('mean_energy')"
   ]
  },
  {
   "cell_type": "code",
   "execution_count": 15,
   "metadata": {},
   "outputs": [
    {
     "data": {
      "image/png": "[encoded data removed]",
      "text/plain": [
       "<Figure size 432x288 with 3 Axes>"
      ]
     },
     "metadata": {
      "needs_background": "light"
     },
     "output_type": "display_data"
    }
   ],
   "source": [
    "# This provides easy ploting\n",
    "\n",
    "from pmd_beamphysics.plot import marginal_plot\n",
    "\n",
    "marginal_plot(P, 'z', 'x', bins=20)"
   ]
  },
  {
   "cell_type": "code",
   "execution_count": 16,
   "metadata": {},
   "outputs": [
    {
     "data": {
      "text/plain": [
       "[]"
      ]
     },
     "execution_count": 16,
     "metadata": {},
     "output_type": "execute_result"
    },
    {
     "data": {
      "image/png": "[encoded data removed]",
      "text/plain": [
       "<Figure size 432x288 with 1 Axes>"
      ]
     },
     "metadata": {
      "needs_background": "light"
     },
     "output_type": "display_data"
    }
   ],
   "source": [
    "# Traces can be made by gathering the coordinate arrays\n",
    "plt.plot(\n",
    "    [P.z for P in  A.particles],\n",
    "    [P.x for P in  A.particles]\n",
    ")\n",
    "plt.plot()"
   ]
  },
  {
   "cell_type": "markdown",
   "metadata": {},
   "source": [
    "# Stats\n",
    "\n",
    "Astra computes statistics in several output tables\n"
   ]
  },
  {
   "cell_type": "code",
   "execution_count": 17,
   "metadata": {},
   "outputs": [
    {
     "data": {
      "text/plain": [
       "(999, 1.091e-06)"
      ]
     },
     "execution_count": 17,
     "metadata": {},
     "output_type": "execute_result"
    }
   ],
   "source": [
    "# Astra's own calculated statistics can be retieved\n",
    "len(A.stat['norm_emit_x']), A.stat['norm_emit_x'][-1]"
   ]
  },
  {
   "cell_type": "code",
   "execution_count": 18,
   "metadata": {},
   "outputs": [
    {
     "data": {
      "text/plain": [
       "[1.3891394386199355e-06,\n",
       " 1.0945506694860522e-06,\n",
       " 1.0991259094912427e-06,\n",
       " 1.1275678359617495e-06,\n",
       " 1.325008658338251e-06,\n",
       " 1.6248465043875718e-06,\n",
       " 1.2377873785644943e-06,\n",
       " 1.1038128347982001e-06,\n",
       " 1.094034956911213e-06,\n",
       " 1.093221987371055e-06,\n",
       " 1.0931485944363338e-06,\n",
       " 1.0932082488969887e-06,\n",
       " 1.093215569362458e-06,\n",
       " 1.0932155579399107e-06,\n",
       " 1.0932155465177781e-06,\n",
       " 1.0932155350961275e-06,\n",
       " 1.093215523674849e-06,\n",
       " 1.093215512253953e-06,\n",
       " 1.0932155008335542e-06,\n",
       " 1.093215489413552e-06]"
      ]
     },
     "execution_count": 18,
     "metadata": {},
     "output_type": "execute_result"
    }
   ],
   "source": [
    "# Stats can also be computed from the particles. For example:\n",
    "[P['norm_emit_x'] for P in A.particles]"
   ]
  },
  {
   "cell_type": "code",
   "execution_count": 19,
   "metadata": {},
   "outputs": [
    {
     "data": {
      "text/plain": [
       "array([1.38913944e-06, 1.09455067e-06, 1.09912591e-06, 1.12756784e-06,\n",
       "       1.32500866e-06, 1.62484650e-06, 1.23778738e-06, 1.10381283e-06,\n",
       "       1.09403496e-06, 1.09322199e-06, 1.09314859e-06, 1.09320825e-06,\n",
       "       1.09321557e-06, 1.09321556e-06, 1.09321555e-06, 1.09321554e-06,\n",
       "       1.09321552e-06, 1.09321551e-06, 1.09321550e-06, 1.09321549e-06])"
      ]
     },
     "execution_count": 19,
     "metadata": {},
     "output_type": "execute_result"
    }
   ],
   "source": [
    "# For convenience, this function returns the same thing as a numpy array\n",
    "A.particle_stat('norm_emit_x')"
   ]
  },
  {
   "cell_type": "code",
   "execution_count": 20,
   "metadata": {},
   "outputs": [
    {
     "data": {
      "text/plain": [
       "<matplotlib.collections.PathCollection at 0x11d00fe50>"
      ]
     },
     "execution_count": 20,
     "metadata": {},
     "output_type": "execute_result"
    },
    {
     "data": {
      "image/png": "[encoded data removed]",
      "text/plain": [
       "<Figure size 432x288 with 1 Axes>"
      ]
     },
     "metadata": {
      "needs_background": "light"
     },
     "output_type": "display_data"
    }
   ],
   "source": [
    "# Compare these. \n",
    "key1 = 'mean_z'\n",
    "key2 = 'cov_x__xp'\n",
    "units1 = str(A.units(key1))\n",
    "units2 = str(A.units(key2))\n",
    "plt.xlabel(key1+f'({units1})')\n",
    "plt.ylabel(key2+f'({units2})')\n",
    "plt.plot(A.stat[key1], A.stat[key2])\n",
    "plt.scatter(A.particle_stat(key1), A.particle_stat(key2), color='red')"
   ]
  },
  {
   "cell_type": "markdown",
   "metadata": {},
   "source": [
    "# Alternative ways to run: run_astra, evaluate_astra\n",
    "\n",
    "This is the functional way to run astra and return the evaluate Astra object, or simple dict of outputs\n",
    "\n",
    "Settings is a list of settings that can appear in the input file."
   ]
  },
  {
   "cell_type": "code",
   "execution_count": 21,
   "metadata": {},
   "outputs": [],
   "source": [
    "from astra import run_astra, run_astra_with_generator"
   ]
  },
  {
   "cell_type": "code",
   "execution_count": 22,
   "metadata": {},
   "outputs": [
    {
     "name": "stdout",
     "output_type": "stream",
     "text": [
      "run_astra\n",
      "zstop is in astra newrun\n",
      "zemit is in astra newrun\n",
      "zphase is in astra newrun\n",
      "phases is in astra newrun\n",
      "init dir:  /Users/chrisonian/Code/GitHub/lume-astra/examples\n",
      "running astra in /private/var/folders/wj/lfgr01993dx79p9cm_skykbw0000gn/T/tmpmh7tgino\n",
      "loading 1 particle files\n",
      "[100.0]\n"
     ]
    }
   ],
   "source": [
    "settings0 = {'zstop':1, 'zemit':200, 'zphase':1, 'phases':True}\n",
    "\n",
    "# Just run astra\n",
    "A2 = run_astra(settings0, astra_input_file=MY_TEMPLATE, verbose=True, timeout=100)"
   ]
  },
  {
   "cell_type": "code",
   "execution_count": 23,
   "metadata": {},
   "outputs": [
    {
     "name": "stdout",
     "output_type": "stream",
     "text": [
      "run_astra_with_generator\n",
      "zstop is in astra newrun\n",
      "zemit is in astra newrun\n",
      "zphase is in astra newrun\n",
      "phases is in astra newrun\n",
      "ipart is in generator\n",
      "set spacecharge mesh for n_particles: 1234 to {'nrad': 9, 'nlong_in': 17}\n",
      " --------------------------------------------------------------------------\n",
      "\n",
      "                              generator              \n",
      "                             Version 1.0             \n",
      "                        DESY,  Hamburg 2002          \n",
      "                        Sun Feb  2 17:48:27 \n",
      "\n",
      "     Working File is:    temp_generator.in                                 \n",
      "     Initializing       1234      electrons\n",
      "     including 6 probe particles at standard positions\n",
      "     Particles start from a cathode\n",
      "     Particles are quasi randomly distributed\n",
      "\n",
      "          WARNING: Values could not be reached:\n",
      "          Energy spread too high.\n",
      "                  28 times standard correction procedure\n",
      "\n",
      "\n",
      "\n",
      "     Final check:\n",
      "     Particles taken into account      N =       1234\n",
      "     total charge                      Q =    -0.1000     nC\n",
      "     horizontal beam position          x =     2.3097E-06 mm\n",
      "     vertical beam position            y =     5.3629E-06 mm\n",
      "     longitudinal beam position        z =      0.000     m\n",
      "     horizontal beam size          sig x =     0.1923     mm\n",
      "     vertical beam size            sig y =     0.1923     mm\n",
      "     longitudinal beam size        sig z =      0.000     mm\n",
      "     total emission time               t =     3.5968E-02 ns\n",
      "     rms emission time             sig t =     9.5158E-03 ns\n",
      "     average kinetic energy            E =     1.0996E-06 MeV\n",
      "     energy spread                    dE =     4.4746E-04 keV\n",
      "     average momentum                  P =     1.0601E-03 MeV/c\n",
      "     transverse beam emittance     eps x =     0.1907     pi mrad mm\n",
      "     correlated divergence         cor x =     2.1689E-02 mrad \n",
      "     transverse beam emittance     eps y =     0.1923     pi mrad mm\n",
      "     correlated divergence         cor y =     1.1937E-03 mrad\n",
      "     longitudinal beam emittance   eps z =      0.000     pi keV mm\n",
      "     correlated energy spread      cor z =      0.000     keV\n",
      "     emittance ratio eps y/eps x         =     0.9917    \n",
      "\n",
      "     phase-space distribution saved to file: dist100.part                  \n",
      "\n",
      "\n",
      "     Generator ended with     1 warning(s)\n",
      "\n",
      "\n",
      "init dir:  /Users/chrisonian/Code/GitHub/lume-astra/examples\n",
      "running astra in /private/var/folders/wj/lfgr01993dx79p9cm_skykbw0000gn/T/tmpr925i_t4\n",
      "loading 1 particle files\n",
      "[100.0]\n",
      "run_astra_with_generator finished\n"
     ]
    }
   ],
   "source": [
    "MY_GENERATOR_TEMPLATE = os.path.join(template_dir, 'dcgun/generator.in')\n",
    "\n",
    "# Run Astra with Generator\n",
    "settings0['ipart']= 1234\n",
    "\n",
    "A3 = run_astra_with_generator(settings0, astra_input_file=MY_TEMPLATE,\n",
    "                              generator_input_file=MY_GENERATOR_TEMPLATE, verbose=True)"
   ]
  },
  {
   "cell_type": "code",
   "execution_count": 24,
   "metadata": {},
   "outputs": [
    {
     "data": {
      "text/plain": [
       "{'error': False,\n",
       " 'end_mean_z': 1.0,\n",
       " 'end_mean_t': 4.0157e-09,\n",
       " 'end_mean_x': -2.6224e-07,\n",
       " 'end_sigma_x': 0.0011177,\n",
       " 'end_sigma_xp': 0.0018667,\n",
       " 'end_norm_emit_x': 1.0924e-06,\n",
       " 'end_cov_x__xp': 1.9858175899999998e-06,\n",
       " 'end_mean_y': 1.4375999999999998e-07,\n",
       " 'end_sigma_y': 0.0011274,\n",
       " 'end_sigma_yp': 0.0018777,\n",
       " 'end_norm_emit_y': 1.0985e-06,\n",
       " 'end_cov_y__yp': 2.0166931199999997e-06,\n",
       " 'end_mean_kinetic_energy': 499790.0,\n",
       " 'end_sigma_z': 0.0022522,\n",
       " 'end_sigma_energy': 1.3934,\n",
       " 'end_norm_emit_z': 0.0031365,\n",
       " 'end_cov_z__energy': 9.98152518e-05,\n",
       " 'end_higher_order_energy_spread': 2.465641001980133,\n",
       " 'end_n_particle_loss': 0,\n",
       " 'fingerprint': '8c3e513d60ecdd3e5fb8fd60d27b6de4'}"
      ]
     },
     "execution_count": 24,
     "metadata": {},
     "output_type": "execute_result"
    }
   ],
   "source": [
    "# An even simpler run, returns a simple dict of outputs. For use in optimization\n",
    "from astra import evaluate_astra_with_generator\n",
    "\n",
    "MY_GENERATOR_TEMPLATE = os.path.join(template_dir, 'dcgun/generator.in')\n",
    "\n",
    "# Run Astra with Generator\n",
    "settings0['ipart']= 1234\n",
    "\n",
    "outputs = evaluate_astra_with_generator(settings0, astra_input_file=MY_TEMPLATE,\n",
    "                              generator_input_file=MY_GENERATOR_TEMPLATE, verbose=False)\n",
    "outputs "
   ]
  },
  {
   "cell_type": "code",
   "execution_count": 25,
   "metadata": {},
   "outputs": [
    {
     "data": {
      "text/plain": [
       "\u001b[0;31mSignature:\u001b[0m\n",
       "\u001b[0mevaluate_astra_with_generator\u001b[0m\u001b[0;34m(\u001b[0m\u001b[0;34m\u001b[0m\n",
       "\u001b[0;34m\u001b[0m    \u001b[0msettings\u001b[0m\u001b[0;34m,\u001b[0m\u001b[0;34m\u001b[0m\n",
       "\u001b[0;34m\u001b[0m    \u001b[0marchive_path\u001b[0m\u001b[0;34m=\u001b[0m\u001b[0;32mNone\u001b[0m\u001b[0;34m,\u001b[0m\u001b[0;34m\u001b[0m\n",
       "\u001b[0;34m\u001b[0m    \u001b[0mmerit_f\u001b[0m\u001b[0;34m=\u001b[0m\u001b[0;32mNone\u001b[0m\u001b[0;34m,\u001b[0m\u001b[0;34m\u001b[0m\n",
       "\u001b[0;34m\u001b[0m    \u001b[0;34m**\u001b[0m\u001b[0mparams\u001b[0m\u001b[0;34m,\u001b[0m\u001b[0;34m\u001b[0m\n",
       "\u001b[0;34m\u001b[0m\u001b[0;34m)\u001b[0m\u001b[0;34m\u001b[0m\u001b[0;34m\u001b[0m\u001b[0m\n",
       "\u001b[0;31mDocstring:\u001b[0m Convenience wrapper. See evaluate. \n",
       "\u001b[0;31mFile:\u001b[0m      ~/Code/GitHub/lume-astra/astra/evaluate.py\n",
       "\u001b[0;31mType:\u001b[0m      function\n"
      ]
     },
     "metadata": {},
     "output_type": "display_data"
    }
   ],
   "source": [
    "?evaluate_astra_with_generator"
   ]
  },
  {
   "cell_type": "markdown",
   "metadata": {},
   "source": [
    "# Load previously computed run\n",
    "\n",
    "If Astra was executed manually, and the output files exist along side the input, the Astra object can load them"
   ]
  },
  {
   "cell_type": "code",
   "execution_count": 26,
   "metadata": {},
   "outputs": [
    {
     "data": {
      "text/plain": [
       "'/var/folders/wj/lfgr01993dx79p9cm_skykbw0000gn/T/tmpm3v8pi83'"
      ]
     },
     "execution_count": 26,
     "metadata": {},
     "output_type": "execute_result"
    }
   ],
   "source": [
    "A4 = Astra(input_file=A.input_file, use_tempdir = False )\n",
    "A4.load_output()\n",
    "A4.output.keys()\n",
    "A4.path"
   ]
  },
  {
   "cell_type": "markdown",
   "metadata": {},
   "source": [
    "# Archive all output\n",
    "\n",
    "All of .input and .output can be archived and loaded from standard h5 files.\n",
    "\n",
    "Particles are stored in the openPMD-beamphysics format."
   ]
  },
  {
   "cell_type": "code",
   "execution_count": 27,
   "metadata": {},
   "outputs": [],
   "source": [
    "H5FILE='astra.h5'"
   ]
  },
  {
   "cell_type": "code",
   "execution_count": 28,
   "metadata": {},
   "outputs": [
    {
     "name": "stdout",
     "output_type": "stream",
     "text": [
      "Archiving to file astra.h5\n"
     ]
    },
    {
     "data": {
      "text/plain": [
       "'astra.h5'"
      ]
     },
     "execution_count": 28,
     "metadata": {},
     "output_type": "execute_result"
    }
   ],
   "source": [
    "A.archive(H5FILE)"
   ]
  },
  {
   "cell_type": "code",
   "execution_count": 29,
   "metadata": {},
   "outputs": [
    {
     "name": "stdout",
     "output_type": "stream",
     "text": [
      "Archiving to file astra_6f6d50ceed7f36b32d45bc43b7087aa6.h5\n"
     ]
    }
   ],
   "source": [
    "# If no file is given, a filename will be invented based on the fingerprint\n",
    "H5FILE2 = A2.archive()"
   ]
  },
  {
   "cell_type": "code",
   "execution_count": 30,
   "metadata": {},
   "outputs": [],
   "source": [
    "#These can be loaded into completely empty objects\n",
    "\n",
    "A5 = Astra()\n",
    "A5.load_archive(H5FILE2)"
   ]
  },
  {
   "cell_type": "code",
   "execution_count": 31,
   "metadata": {},
   "outputs": [
    {
     "data": {
      "text/plain": [
       "True"
      ]
     },
     "execution_count": 31,
     "metadata": {},
     "output_type": "execute_result"
    }
   ],
   "source": [
    "# Spot check that the loaded data is the same as the original\n",
    "A5.stat['sigma_z'][-1] == A.stat['sigma_z'][-1]"
   ]
  },
  {
   "cell_type": "code",
   "execution_count": 32,
   "metadata": {},
   "outputs": [
    {
     "data": {
      "text/plain": [
       "True"
      ]
     },
     "execution_count": 32,
     "metadata": {},
     "output_type": "execute_result"
    }
   ],
   "source": [
    "# Re-configure to set up working dir and run again\n",
    "A5.configure()\n",
    "A5.run()\n",
    "\n",
    "# Check stat again\n",
    "A5.stat['sigma_z'][-1] == A.stat['sigma_z'][-1]"
   ]
  },
  {
   "cell_type": "markdown",
   "metadata": {},
   "source": [
    "# Reading archived files manually"
   ]
  },
  {
   "cell_type": "code",
   "execution_count": 33,
   "metadata": {},
   "outputs": [],
   "source": [
    "from h5py import File"
   ]
  },
  {
   "cell_type": "code",
   "execution_count": 34,
   "metadata": {},
   "outputs": [
    {
     "data": {
      "text/plain": [
       "['input', 'output']"
      ]
     },
     "execution_count": 34,
     "metadata": {},
     "output_type": "execute_result"
    }
   ],
   "source": [
    "# Let's open one of these files\n",
    "h5 = File(H5FILE, 'r')\n",
    "\n",
    "# Basic input and output groups are at the top level\n",
    "list(h5)"
   ]
  },
  {
   "cell_type": "code",
   "execution_count": 35,
   "metadata": {},
   "outputs": [
    {
     "data": {
      "text/plain": [
       "['aperture',\n",
       " 'cavity',\n",
       " 'charge',\n",
       " 'fem',\n",
       " 'newrun',\n",
       " 'output',\n",
       " 'quadrupole',\n",
       " 'scan',\n",
       " 'solenoid']"
      ]
     },
     "execution_count": 35,
     "metadata": {},
     "output_type": "execute_result"
    }
   ],
   "source": [
    "# Input corresponds to the Asta namelist inputs\n",
    "list(h5['input'])"
   ]
  },
  {
   "cell_type": "code",
   "execution_count": 36,
   "metadata": {},
   "outputs": [
    {
     "data": {
      "text/plain": [
       "{'auto_phase': True,\n",
       " 'cathodes': False,\n",
       " 'distribution': '/Users/chrisonian/Code/GitHub/lume-astra/templates/dcgun/dist100.part',\n",
       " 'emits': True,\n",
       " 'h_max': 0.002,\n",
       " 'h_min': 0.0002,\n",
       " 'head': \"'astra input file for L0 injector (20070501_1)'\",\n",
       " 'landfs': True,\n",
       " 'larmors': False,\n",
       " 'lmagnetized': True,\n",
       " 'loop': False,\n",
       " 'lproject_emit': False,\n",
       " 'phase_scan': False,\n",
       " 'phases': True,\n",
       " 'refs': False,\n",
       " 'run': 1,\n",
       " 'screen': array([1.1, 2.2]),\n",
       " 't_phases': False,\n",
       " 'tchecks': False,\n",
       " 'track_all': True,\n",
       " 'tracks': False,\n",
       " 'trms': 0.0087,\n",
       " 'xyrms': 1.1,\n",
       " 'zemit': 1000,\n",
       " 'zphase': 20,\n",
       " 'zstart': 0,\n",
       " 'zstop': 1}"
      ]
     },
     "execution_count": 36,
     "metadata": {},
     "output_type": "execute_result"
    }
   ],
   "source": [
    "# The actual values are in attrs. Retrieve them by casting to a dict\n",
    "dict(h5['input']['newrun'].attrs)"
   ]
  },
  {
   "cell_type": "code",
   "execution_count": 37,
   "metadata": {},
   "outputs": [
    {
     "data": {
      "text/plain": [
       "['other', 'particles', 'stats']"
      ]
     },
     "execution_count": 37,
     "metadata": {},
     "output_type": "execute_result"
    }
   ],
   "source": [
    "# Output containts datasets\n",
    "list(h5['output'])"
   ]
  },
  {
   "cell_type": "code",
   "execution_count": 38,
   "metadata": {},
   "outputs": [
    {
     "data": {
      "text/plain": [
       "<HDF5 dataset \"norm_emit_x\": shape (999,), type \"<f8\">"
      ]
     },
     "execution_count": 38,
     "metadata": {},
     "output_type": "execute_result"
    }
   ],
   "source": [
    "# Example dataset\n",
    "h5['output']['stats']['norm_emit_x']"
   ]
  },
  {
   "cell_type": "code",
   "execution_count": 39,
   "metadata": {},
   "outputs": [
    {
     "data": {
      "text/plain": [
       "{'unitDimension': array([1, 0, 0, 0, 0, 0, 0]), 'unitSI': 1, 'unitSymbol': 'm'}"
      ]
     },
     "execution_count": 39,
     "metadata": {},
     "output_type": "execute_result"
    }
   ],
   "source": [
    "# unit information is stored in the attributes\n",
    "dict(h5['output']['stats']['norm_emit_x'].attrs)"
   ]
  },
  {
   "cell_type": "code",
   "execution_count": 40,
   "metadata": {},
   "outputs": [
    {
     "data": {
      "text/plain": [
       "pmd_unit('m', 1, [1 0 0 0 0 0 0])"
      ]
     },
     "execution_count": 40,
     "metadata": {},
     "output_type": "execute_result"
    }
   ],
   "source": [
    "# These can be read in with the units using a helper function\n",
    "\n",
    "from pmd_beamphysics.units import read_dataset_and_unit_h5\n",
    "\n",
    "dat, unit = read_dataset_and_unit_h5(h5['output']['stats']['norm_emit_x'])\n",
    "unit"
   ]
  },
  {
   "cell_type": "code",
   "execution_count": 41,
   "metadata": {},
   "outputs": [
    {
     "data": {
      "text/plain": [
       "['momentum', 'particleStatus', 'position', 'time', 'weight']"
      ]
     },
     "execution_count": 41,
     "metadata": {},
     "output_type": "execute_result"
    }
   ],
   "source": [
    "# Particles are stored in the openPMD-beamphysics standard.\n",
    "list(h5['output']['particles']['0'])"
   ]
  },
  {
   "cell_type": "code",
   "execution_count": 42,
   "metadata": {},
   "outputs": [
    {
     "data": {
      "text/plain": [
       "1.3891394386199355e-06"
      ]
     },
     "execution_count": 42,
     "metadata": {},
     "output_type": "execute_result"
    }
   ],
   "source": [
    "# These can be read in as a ParticleGroup object. This is the same type of object that A.particles is kept as.\n",
    "from pmd_beamphysics import ParticleGroup\n",
    "P = ParticleGroup(h5['output']['particles']['0'])\n",
    "P['norm_emit_x']"
   ]
  },
  {
   "cell_type": "code",
   "execution_count": 43,
   "metadata": {},
   "outputs": [],
   "source": [
    "# Cleanup\n",
    "os.remove(H5FILE)\n",
    "os.remove(H5FILE2)"
   ]
  }
 ],
 "metadata": {
  "kernelspec": {
   "display_name": "Python 3",
   "language": "python",
   "name": "python3"
  },
  "language_info": {
   "codemirror_mode": {
    "name": "ipython",
    "version": 3
   },
   "file_extension": ".py",
   "mimetype": "text/x-python",
   "name": "python",
   "nbconvert_exporter": "python",
   "pygments_lexer": "ipython3",
   "version": "3.7.6"
  }
 },
 "nbformat": 4,
 "nbformat_minor": 4
}

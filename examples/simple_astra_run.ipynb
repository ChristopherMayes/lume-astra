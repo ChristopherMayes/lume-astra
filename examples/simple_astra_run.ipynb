{
 "cells": [
  {
   "cell_type": "markdown",
   "metadata": {},
   "source": [
    "# Simple Astra run"
   ]
  },
  {
   "cell_type": "code",
   "execution_count": 1,
   "metadata": {},
   "outputs": [],
   "source": [
    "# Useful for debugging\n",
    "%load_ext autoreload\n",
    "%autoreload 2"
   ]
  },
  {
   "cell_type": "code",
   "execution_count": 2,
   "metadata": {},
   "outputs": [],
   "source": [
    "from astra import Astra,  AstraGenerator, tools, template_dir, run_astra, run_astra_with_generator\n",
    "import os"
   ]
  },
  {
   "cell_type": "code",
   "execution_count": 3,
   "metadata": {},
   "outputs": [],
   "source": [
    "# Path to ASTRA executable file\n",
    "MY_ASTRA_BIN = '$HOME/Code/astra/bin/Astra'\n",
    "\n",
    "# Input template file \n",
    "MY_TEMPLATE = os.path.join(template_dir, 'dcgun/astra.in')\n"
   ]
  },
  {
   "cell_type": "code",
   "execution_count": 4,
   "metadata": {},
   "outputs": [],
   "source": [
    "a = Astra(input_file=MY_TEMPLATE, astra_bin=MY_ASTRA_BIN)"
   ]
  },
  {
   "cell_type": "code",
   "execution_count": 5,
   "metadata": {},
   "outputs": [],
   "source": [
    "# Change some inputs\n",
    "a.input['newrun']['zemit']  = 1000\n",
    "a.input['newrun']['zphase'] = 2\n",
    "a.input['newrun']['phases'] = True\n",
    "a.input['newrun']['zstop']  = 1\n"
   ]
  },
  {
   "cell_type": "code",
   "execution_count": 6,
   "metadata": {},
   "outputs": [
    {
     "name": "stdout",
     "output_type": "stream",
     "text": [
      "init dir:  /Users/chrisonian/Code/GitHub/lume-astra/examples\n",
      "running astra in /private/var/folders/wj/lfgr01993dx79p9cm_skykbw0000gn/T/tmpz1xxq4d9\n",
      " --------------------------------------------------------------------------\n",
      "\n",
      "               Astra- A space charge tracking algorithm \n",
      "                            Version 3.0              \n",
      "                        DESY,  Hamburg 2011          \n",
      "                        Fri Jan 10 11:35:12 \n",
      "\n",
      "     Parameter file is:  astra.in                                          \n",
      "     astra input file for L0 injector (20070501_1)                                   \n",
      "\n",
      " Initialize element settings:\n",
      "     neglecting space charge forces \n",
      "\n",
      " --------------------------------------------------------------------------\n",
      " Cavity:\n",
      "\n",
      "     Reading cavity field data from:      /Users/chrisonian/Code/GitHub/lume-astra/templates/dcgun/dcgun_GHV.dat          \n",
      "     maximum gradient                     -11.60     MV/m\n",
      "     at                                   3.9750E-02 m\n",
      "     estimated average gradient            2.353     MV/m\n",
      "     nominal phase                         0.000     deg\n",
      "\n",
      " --------------------------------------------------------------------------\n",
      " Solenoid:\n",
      "\n",
      "     Reading solenoid field data from:    /Users/chrisonian/Code/GitHub/lume-astra/templates/dcgun/solenoid_SLA_L60.dat   \n",
      "     maximum |Bz| field                    2.4219E-02 T\n",
      "     at                                    0.3030     m\n",
      "     integral Bz squared                   4.8804E-05 T^2m\n",
      "\n",
      " --------------------------------------------------------------------------\n",
      "     999 particles from file /Users/chrisonian/Code/GitHub/lume-astra/templates\n",
      "\n",
      "\n",
      "     Cathode located at:               z =      0.000     m\n",
      "     Particles taken into account      N =        999\n",
      "     total charge                      Q =    -0.1000     nC\n",
      "     horizontal beam position          x =    -6.0384E-07 mm\n",
      "     vertical beam position            y =     4.7797E-06 mm\n",
      "     longitudinal beam position        z =      0.000     m\n",
      "     horizontal beam size          sig x =      1.100     mm\n",
      "     vertical beam size            sig y =      1.100     mm\n",
      "     longitudinal beam size        sig z =      0.000     mm\n",
      "     total emission time               t =     3.2327E-02 ns\n",
      "     rms emission time             sig t =     8.7000E-03 ns\n",
      "     average kinetic energy            E =     1.1018E-06 MeV\n",
      "     energy spread                    dE =     4.5051E-04 keV\n",
      "     average momentum                  P =     1.0612E-03 MeV/c\n",
      "     transverse beam emittance     eps x =      1.091     pi mrad mm\n",
      "     correlated divergence         cor x =     7.8369E-02 mrad \n",
      "     transverse beam emittance     eps y =      1.100     pi mrad mm\n",
      "     correlated divergence         cor y =     3.4682E-03 mrad\n",
      "     longitudinal beam emittance   eps z =      0.000     pi keV mm\n",
      "     correlated energy spread      cor z =      0.000     keV\n",
      "     emittance ratio eps y/eps x         =     0.9922    \n",
      " --------------------------------------------------------------------------\n",
      "     Start auto phasing: \n",
      "     Reject phase scan of cavity number  :   1:   DC field\n",
      "\n",
      "     Cavity phasing completed:\n",
      "     Cavity number   Energy gain [MeV]  at  Phase [deg]\n",
      " --------------------------------------------------------------------------\n",
      " on axis tracking of the reference particle:\n",
      "     initial position                  z =    0.000     m\n",
      "                                       x =   2.8506E-06 mm\n",
      "                                       y =  -2.2564E-05 mm\n",
      "     initial momentum                  p =   1.0109E-03 MeV/c\n",
      "     global phase shift              phi =    0.000     deg\n",
      "     time step for integration        dt =    2.000     ps\n",
      " --------------------------------------------------------------------------\n",
      " Online element settings:\n",
      "\n",
      " --------------------------------------------------------------------------\n",
      "\n",
      "     particle reaches position         z =    1.000     m\n",
      "     time of flight is                 t =    4.015     ns\n",
      "     final momentum                    p =   0.8721     MeV/c\n",
      "     final phase (cavity 1)      phi_end =    0.000     deg\n",
      " --------------------------------------------------------------------------\n",
      " off axis tracking of the reference particle: \n",
      "     initial position                  z =    0.000     m\n",
      "                                       x =    1.100     mm\n",
      "                                       y =    1.100     mm\n",
      "\n",
      "     final position                    x =  -0.3190     mm\n",
      "                                       y =   -1.299     mm\n",
      "     divergence                    px/pz =  -0.6104     mrad\n",
      "                                   py/pz =   -2.486     mrad\n",
      " --------------------------------------------------------------------------\n",
      " tracking of      999 particles :\n",
      "     tracking will stop at             z =    1.000     m\n",
      "\n",
      "\n",
      "     final checkpoint at               z =    1.000     m\n",
      "     total number of iteration steps:          2093\n",
      "\n",
      "     **********************************************************************\n",
      "\n",
      "     Particles taken into account      N =        999\n",
      "     total charge                      Q =    -0.1000     nC\n",
      "     horizontal beam position          x =    -1.6078E-04 mm\n",
      "     vertical beam position            y =     8.7230E-05 mm\n",
      "     longitudinal beam position        z =      1.000     m\n",
      "     horizontal beam size          sig x =      1.117     mm\n",
      "     vertical beam size            sig y =      1.128     mm\n",
      "     longitudinal beam size        sig z =      2.250     mm\n",
      "     average kinetic energy            E =     0.4998     MeV\n",
      "     energy spread                    dE =     2.2551E-03 keV\n",
      "     average momentum                  P =     0.8721     MeV/c\n",
      "     transverse beam emittance     eps x =      1.091     pi mrad mm\n",
      "     correlated divergence         cor x =      1.773     mrad \n",
      "     transverse beam emittance     eps y =      1.101     pi mrad mm\n",
      "     correlated divergence         cor y =      1.792     mrad\n",
      "     longitudinal beam emittance   eps z =     5.0741E-03 pi keV mm\n",
      "     correlated energy spread      cor z =     2.3229E-05 keV\n",
      "     emittance ratio eps y/eps x         =     0.9913    \n",
      "\n",
      "     Particle Statistics: \n",
      "\n",
      "\n",
      "     Total number of particles on stack     =        999\n",
      "     Electrons (total)                      =        999\n",
      "     particles at the cathode               =          0\n",
      "     active particles                       =        999\n",
      "     passive particles (lost out of bunch)  =          0\n",
      "     probe particles                        =          6\n",
      "     backward traveling particles           =          0\n",
      "     particles lost with z<Zmin             =          0\n",
      "     particles lost due to cathode field    =          0\n",
      "     particles lost on aperture             =          0\n",
      "\n",
      "     **********************************************************************\n",
      "\n",
      "     Emittance information saved to file    : astra.Xemit.001               \n",
      "     Emittance information saved to file    : astra.Yemit.001               \n",
      "     Emittance information saved to file    : astra.Zemit.001               \n",
      "     Lost & found saved to file             : astra.LandF.001               \n",
      "     Phase-space distributions logged in    : astra.Log.001                 \n",
      "\n",
      "     **********************************************************************\n",
      "\n",
      "\n",
      "\n",
      "     finished simulation  Fri Jan 10 11:35:13 2020\n",
      "     elapsed time   :                 1.0 seconds \n",
      "     execution time :                 1.0 seconds \n",
      "     system time    :                 0.1 seconds\n",
      "     Goodbye.\n",
      " --------------------------------------------------------------------------\n"
     ]
    }
   ],
   "source": [
    "a.verbose = True\n",
    "a.run()"
   ]
  },
  {
   "cell_type": "code",
   "execution_count": 7,
   "metadata": {},
   "outputs": [
    {
     "data": {
      "text/plain": [
       "dict_keys(['z', 't', 'x_average', 'x_rms', 'xp_rms', 'x_normemit', 'xxp_average', 'y_average', 'y_rms', 'yp_rms', 'y_normemit', 'yyp_average', 'E_kinetic', 'z_rms', 'deltaE_rms', 'z_normemit', 'zEp_average', 'z_for_landf', 'n_particles', 'total_charge', 'n_lost', 'energy_deposited', 'energy_exchange', 'start_time', 'run_time', 'run_error'])"
      ]
     },
     "execution_count": 7,
     "metadata": {},
     "output_type": "execute_result"
    }
   ],
   "source": [
    "a.output.keys()"
   ]
  },
  {
   "cell_type": "code",
   "execution_count": 8,
   "metadata": {},
   "outputs": [
    {
     "data": {
      "text/plain": [
       "'/var/folders/wj/lfgr01993dx79p9cm_skykbw0000gn/T/tmpz1xxq4d9/astra.in'"
      ]
     },
     "execution_count": 8,
     "metadata": {},
     "output_type": "execute_result"
    }
   ],
   "source": [
    "a.input_file"
   ]
  },
  {
   "cell_type": "code",
   "execution_count": 9,
   "metadata": {},
   "outputs": [
    {
     "data": {
      "text/plain": [
       "'/var/folders/wj/lfgr01993dx79p9cm_skykbw0000gn/T/tmpz1xxq4d9'"
      ]
     },
     "execution_count": 9,
     "metadata": {},
     "output_type": "execute_result"
    }
   ],
   "source": [
    "a.path"
   ]
  },
  {
   "cell_type": "code",
   "execution_count": 10,
   "metadata": {},
   "outputs": [
    {
     "name": "stdout",
     "output_type": "stream",
     "text": [
      "loading 2 screens\n",
      "[50.0, 100.0]\n"
     ]
    }
   ],
   "source": [
    "a.load_screens()"
   ]
  },
  {
   "cell_type": "code",
   "execution_count": 11,
   "metadata": {},
   "outputs": [
    {
     "data": {
      "text/plain": [
       "dict_keys(['x', 'y', 'z_ref', 'z_rel', 'px', 'py', 'pz_ref', 'pz_rel', 't_ref', 't_rel', 'qmacro', 'status', 'species_index'])"
      ]
     },
     "execution_count": 11,
     "metadata": {},
     "output_type": "execute_result"
    }
   ],
   "source": [
    "a.screen[0].keys()"
   ]
  },
  {
   "cell_type": "markdown",
   "metadata": {},
   "source": [
    "# Alternatives: run_astra, evaluate_astra\n",
    "\n",
    "This is the functional way to run astra and return the evaluate Astra object, or simple dict of outputs\n",
    "\n",
    "Settings is a list of settings that can appear in the input file."
   ]
  },
  {
   "cell_type": "code",
   "execution_count": 12,
   "metadata": {},
   "outputs": [
    {
     "name": "stdout",
     "output_type": "stream",
     "text": [
      "run_astra\n",
      "zstop is in astra newrun\n",
      "zemit is in astra newrun\n",
      "zphase is in astra newrun\n",
      "phases is in astra newrun\n",
      "init dir:  /Users/chrisonian/Code/GitHub/lume-astra/examples\n",
      "running astra in /private/var/folders/wj/lfgr01993dx79p9cm_skykbw0000gn/T/tmpze_t6ic8\n"
     ]
    }
   ],
   "source": [
    "settings0 = {'zstop':1, 'zemit':200, 'zphase':1, 'phases':True}\n",
    "\n",
    "# Just run astra\n",
    "a2 = run_astra(settings0, astra_input_file=MY_TEMPLATE, verbose=True, timeout=100)"
   ]
  },
  {
   "cell_type": "code",
   "execution_count": 13,
   "metadata": {},
   "outputs": [
    {
     "name": "stdout",
     "output_type": "stream",
     "text": [
      "run_astra_with_generator\n",
      "zstop is in astra newrun\n",
      "zemit is in astra newrun\n",
      "zphase is in astra newrun\n",
      "phases is in astra newrun\n",
      "ipart is in generator\n",
      "set spacecharge mesh for n_particles: 1234 to {'nrad': 9, 'nlong_in': 17}\n",
      " --------------------------------------------------------------------------\n",
      "\n",
      "                              generator              \n",
      "                             Version 1.0             \n",
      "                        DESY,  Hamburg 2002          \n",
      "                        Fri Jan 10 11:35:18 \n",
      "\n",
      "     Working File is:    temp_generator.in                                 \n",
      "     Initializing       1234      electrons\n",
      "     including 6 probe particles at standard positions\n",
      "     Particles start from a cathode\n",
      "     Particles are quasi randomly distributed\n",
      "\n",
      "          WARNING: Values could not be reached:\n",
      "          Energy spread too high.\n",
      "                  28 times standard correction procedure\n",
      "\n",
      "\n",
      "\n",
      "     Final check:\n",
      "     Particles taken into account      N =       1234\n",
      "     total charge                      Q =    -0.1000     nC\n",
      "     horizontal beam position          x =     2.3097E-06 mm\n",
      "     vertical beam position            y =     5.3629E-06 mm\n",
      "     longitudinal beam position        z =      0.000     m\n",
      "     horizontal beam size          sig x =     0.1923     mm\n",
      "     vertical beam size            sig y =     0.1923     mm\n",
      "     longitudinal beam size        sig z =      0.000     mm\n",
      "     total emission time               t =     3.5968E-02 ns\n",
      "     rms emission time             sig t =     9.5158E-03 ns\n",
      "     average kinetic energy            E =     1.0996E-06 MeV\n",
      "     energy spread                    dE =     4.4746E-04 keV\n",
      "     average momentum                  P =     1.0601E-03 MeV/c\n",
      "     transverse beam emittance     eps x =     0.1907     pi mrad mm\n",
      "     correlated divergence         cor x =     2.1689E-02 mrad \n",
      "     transverse beam emittance     eps y =     0.1923     pi mrad mm\n",
      "     correlated divergence         cor y =     1.1937E-03 mrad\n",
      "     longitudinal beam emittance   eps z =      0.000     pi keV mm\n",
      "     correlated energy spread      cor z =      0.000     keV\n",
      "     emittance ratio eps y/eps x         =     0.9917    \n",
      "\n",
      "     phase-space distribution saved to file: dist100.part                  \n",
      "\n",
      "\n",
      "     Generator ended with     1 warning(s)\n",
      "\n",
      "\n",
      "init dir:  /Users/chrisonian/Code/GitHub/lume-astra/examples\n",
      "running astra in /private/var/folders/wj/lfgr01993dx79p9cm_skykbw0000gn/T/tmpl2pwh7dg\n",
      "run_astra_with_generator finished\n"
     ]
    }
   ],
   "source": [
    "MY_GENERATOR_TEMPLATE = os.path.join(template_dir, 'dcgun/generator.in')\n",
    "\n",
    "# Run Astra with Generator\n",
    "settings0['ipart']= 1234\n",
    "\n",
    "a3 = run_astra_with_generator(settings0, astra_input_file=MY_TEMPLATE,\n",
    "                              generator_input_file=MY_GENERATOR_TEMPLATE, verbose=True)"
   ]
  },
  {
   "cell_type": "code",
   "execution_count": 14,
   "metadata": {},
   "outputs": [
    {
     "data": {
      "text/plain": [
       "{'error': False,\n",
       " 'end_z': 1.0,\n",
       " 'end_t': 4.0157e-09,\n",
       " 'end_x_average': -2.6224e-07,\n",
       " 'end_x_rms': 0.0011177,\n",
       " 'end_xp_rms': 0.0018667,\n",
       " 'end_x_normemit': 1.0924e-06,\n",
       " 'end_xxp_average': 0.0017767,\n",
       " 'end_y_average': 1.4375999999999998e-07,\n",
       " 'end_y_rms': 0.0011274,\n",
       " 'end_yp_rms': 0.0018777,\n",
       " 'end_y_normemit': 1.0985e-06,\n",
       " 'end_yyp_average': 0.0017888,\n",
       " 'end_E_kinetic': 499790.0,\n",
       " 'end_z_rms': 0.0022522,\n",
       " 'end_deltaE_rms': 1.3934,\n",
       " 'end_z_normemit': 0.0031365,\n",
       " 'end_zEp_average': 0.044319,\n",
       " 'end_z_for_landf': 1.0,\n",
       " 'end_n_particles': 1234.0,\n",
       " 'end_total_charge': 1.0000000000000002e-10,\n",
       " 'end_n_lost': 0.0,\n",
       " 'end_energy_deposited': 0.0,\n",
       " 'end_energy_exchange': 4.9979e-05,\n",
       " 'start_time': 1578684919.889556,\n",
       " 'run_time': 1.287519931793213,\n",
       " 'run_error': False,\n",
       " 'end_higher_order_energy_spread': 2.465641292052652,\n",
       " 'end_n_particle_loss': 0,\n",
       " 'fingerprint': 'a6eb329ed080ff4eb2bbe17caa8419f4'}"
      ]
     },
     "execution_count": 14,
     "metadata": {},
     "output_type": "execute_result"
    }
   ],
   "source": [
    "# An even simpler run, returns a simple dict of outputs. For use in optimization\n",
    "\n",
    "from astra import evaluate_astra_with_generator\n",
    "\n",
    "MY_GENERATOR_TEMPLATE = os.path.join(template_dir, 'dcgun/generator.in')\n",
    "\n",
    "# Run Astra with Generator\n",
    "settings0['ipart']= 1234\n",
    "\n",
    "outputs = evaluate_astra_with_generator(settings0, astra_input_file=MY_TEMPLATE,\n",
    "                              generator_input_file=MY_GENERATOR_TEMPLATE, verbose=False)\n",
    "outputs "
   ]
  },
  {
   "cell_type": "code",
   "execution_count": 15,
   "metadata": {},
   "outputs": [
    {
     "data": {
      "text/plain": [
       "\u001b[0;31mSignature:\u001b[0m\n",
       "\u001b[0mevaluate_astra_with_generator\u001b[0m\u001b[0;34m(\u001b[0m\u001b[0;34m\u001b[0m\n",
       "\u001b[0;34m\u001b[0m    \u001b[0msettings\u001b[0m\u001b[0;34m,\u001b[0m\u001b[0;34m\u001b[0m\n",
       "\u001b[0;34m\u001b[0m    \u001b[0marchive_path\u001b[0m\u001b[0;34m=\u001b[0m\u001b[0;32mNone\u001b[0m\u001b[0;34m,\u001b[0m\u001b[0;34m\u001b[0m\n",
       "\u001b[0;34m\u001b[0m    \u001b[0mmerit_f\u001b[0m\u001b[0;34m=\u001b[0m\u001b[0;32mNone\u001b[0m\u001b[0;34m,\u001b[0m\u001b[0;34m\u001b[0m\n",
       "\u001b[0;34m\u001b[0m    \u001b[0;34m**\u001b[0m\u001b[0mparams\u001b[0m\u001b[0;34m,\u001b[0m\u001b[0;34m\u001b[0m\n",
       "\u001b[0;34m\u001b[0m\u001b[0;34m)\u001b[0m\u001b[0;34m\u001b[0m\u001b[0;34m\u001b[0m\u001b[0m\n",
       "\u001b[0;31mDocstring:\u001b[0m Convenience wrapper. See evaluate. \n",
       "\u001b[0;31mFile:\u001b[0m      ~/Code/GitHub/lume-astra/astra/evaluate.py\n",
       "\u001b[0;31mType:\u001b[0m      function\n"
      ]
     },
     "metadata": {},
     "output_type": "display_data"
    }
   ],
   "source": [
    "?evaluate_astra_with_generator"
   ]
  },
  {
   "cell_type": "markdown",
   "metadata": {},
   "source": [
    "# Load previously computed run"
   ]
  },
  {
   "cell_type": "code",
   "execution_count": 16,
   "metadata": {},
   "outputs": [
    {
     "data": {
      "text/plain": [
       "'/var/folders/wj/lfgr01993dx79p9cm_skykbw0000gn/T/tmpz1xxq4d9'"
      ]
     },
     "execution_count": 16,
     "metadata": {},
     "output_type": "execute_result"
    }
   ],
   "source": [
    "a4 = Astra(input_file=a.input_file, use_tempdir = False )\n",
    "a4.load_output()\n",
    "a4.output.keys()\n",
    "a4.path"
   ]
  },
  {
   "cell_type": "markdown",
   "metadata": {},
   "source": [
    "# Archive screens, output to HDF5 in openPMD beamphysics format"
   ]
  },
  {
   "cell_type": "code",
   "execution_count": 17,
   "metadata": {},
   "outputs": [],
   "source": [
    "H5FILE='astra.h5'"
   ]
  },
  {
   "cell_type": "code",
   "execution_count": 18,
   "metadata": {},
   "outputs": [
    {
     "name": "stdout",
     "output_type": "stream",
     "text": [
      "Archiving to file astra.h5\n"
     ]
    },
    {
     "data": {
      "text/plain": [
       "'astra.h5'"
      ]
     },
     "execution_count": 18,
     "metadata": {},
     "output_type": "execute_result"
    }
   ],
   "source": [
    "a.archive(H5FILE)"
   ]
  },
  {
   "cell_type": "code",
   "execution_count": 19,
   "metadata": {},
   "outputs": [
    {
     "name": "stdout",
     "output_type": "stream",
     "text": [
      "Archiving to file astra_c067a48afcdce250b3f2d6c71856f25f.h5\n"
     ]
    }
   ],
   "source": [
    "# If no file is given, a filename will be invented based on the fingerprint\n",
    "H5FILE2 = a2.archive()"
   ]
  },
  {
   "cell_type": "markdown",
   "metadata": {},
   "source": [
    "# Read openPMD"
   ]
  },
  {
   "cell_type": "code",
   "execution_count": 20,
   "metadata": {},
   "outputs": [],
   "source": [
    "import h5py\n",
    "h5 = h5py.File(H5FILE, 'r')"
   ]
  },
  {
   "cell_type": "code",
   "execution_count": 21,
   "metadata": {},
   "outputs": [
    {
     "data": {
      "text/plain": [
       "{'basePath': b'/screen/%T/',\n",
       " 'dataType': b'openPMD',\n",
       " 'openPMD': b'2.0.0',\n",
       " 'openPMDextension': b'BeamPhysics;SpeciesType',\n",
       " 'particlesPath': b'/'}"
      ]
     },
     "execution_count": 21,
     "metadata": {},
     "output_type": "execute_result"
    }
   ],
   "source": [
    "# Base attributes\n",
    "dict(h5.attrs)"
   ]
  },
  {
   "cell_type": "code",
   "execution_count": 22,
   "metadata": {},
   "outputs": [
    {
     "data": {
      "text/plain": [
       "['input', 'output', 'screen']"
      ]
     },
     "execution_count": 22,
     "metadata": {},
     "output_type": "execute_result"
    }
   ],
   "source": [
    "# Groups\n",
    "list(h5)[0:10]"
   ]
  },
  {
   "cell_type": "code",
   "execution_count": 23,
   "metadata": {},
   "outputs": [
    {
     "data": {
      "text/plain": [
       "['0', '1']"
      ]
     },
     "execution_count": 23,
     "metadata": {},
     "output_type": "execute_result"
    }
   ],
   "source": [
    "# Screens\n",
    "list(h5['screen/'])[0:10]"
   ]
  },
  {
   "cell_type": "markdown",
   "metadata": {},
   "source": [
    "# Plot openPMD beamphysics"
   ]
  },
  {
   "cell_type": "code",
   "execution_count": 24,
   "metadata": {},
   "outputs": [],
   "source": [
    "from pmd_beamphysics import ParticleGroup, particle_paths\n",
    "from pmd_beamphysics.plot import marginal_plot"
   ]
  },
  {
   "cell_type": "code",
   "execution_count": 25,
   "metadata": {},
   "outputs": [
    {
     "data": {
      "text/plain": [
       "['/screen/0//', '/screen/1//']"
      ]
     },
     "execution_count": 25,
     "metadata": {},
     "output_type": "execute_result"
    }
   ],
   "source": [
    "ppaths = particle_paths(h5)\n",
    "ppaths"
   ]
  },
  {
   "cell_type": "code",
   "execution_count": 26,
   "metadata": {},
   "outputs": [
    {
     "data": {
      "text/plain": [
       "'ParticleGroup with 998 particles with total charge 9.989979999999996e-11 C'"
      ]
     },
     "execution_count": 26,
     "metadata": {},
     "output_type": "execute_result"
    }
   ],
   "source": [
    "P = ParticleGroup(h5[ppaths[0]])\n",
    "str(P)"
   ]
  },
  {
   "cell_type": "code",
   "execution_count": 27,
   "metadata": {},
   "outputs": [
    {
     "data": {
      "image/png": "[encoded data removed]",
      "text/plain": [
       "<Figure size 432x288 with 3 Axes>"
      ]
     },
     "metadata": {
      "needs_background": "light"
     },
     "output_type": "display_data"
    }
   ],
   "source": [
    "marginal_plot(P, 'x', 'y', bins=30)"
   ]
  },
  {
   "cell_type": "code",
   "execution_count": 28,
   "metadata": {},
   "outputs": [],
   "source": [
    "# Cleanup\n",
    "os.remove(H5FILE)\n",
    "os.remove(H5FILE2)"
   ]
  }
 ],
 "metadata": {
  "kernelspec": {
   "display_name": "Python 3",
   "language": "python",
   "name": "python3"
  },
  "language_info": {
   "codemirror_mode": {
    "name": "ipython",
    "version": 3
   },
   "file_extension": ".py",
   "mimetype": "text/x-python",
   "name": "python",
   "nbconvert_exporter": "python",
   "pygments_lexer": "ipython3",
   "version": "3.7.6"
  }
 },
 "nbformat": 4,
 "nbformat_minor": 4
}

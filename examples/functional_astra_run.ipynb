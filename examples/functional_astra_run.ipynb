{
 "cells": [
  {
   "cell_type": "code",
   "execution_count": null,
   "metadata": {},
   "outputs": [],
   "source": [
    "# Useful for debugging\n",
    "%load_ext autoreload\n",
    "%autoreload 2"
   ]
  },
  {
   "cell_type": "markdown",
   "metadata": {},
   "source": [
    "# Functional LUME-Astra examples\n",
    "\n",
    "This is the functional way to run astra and return the evaluate Astra object, or simple dict of outputs\n",
    "\n",
    "Settings is a list of settings that can appear in the input file."
   ]
  },
  {
   "cell_type": "code",
   "execution_count": 2,
   "metadata": {},
   "outputs": [],
   "source": [
    "from astra import run_astra, run_astra_with_generator, template_dir\n",
    "\n",
    "import matplotlib.pyplot as plt\n",
    "import os"
   ]
  },
  {
   "cell_type": "code",
   "execution_count": 3,
   "metadata": {},
   "outputs": [],
   "source": [
    "# Input template file \n",
    "ASTRA_IN = os.path.join(template_dir, 'dcgun/astra.in')"
   ]
  },
  {
   "cell_type": "code",
   "execution_count": null,
   "metadata": {},
   "outputs": [
    {
     "name": "stdout",
     "output_type": "stream",
     "text": [
      "run_astra\n",
      "zstop is in astra newrun\n",
      "zemit is in astra newrun\n",
      "zphase is in astra newrun\n",
      "phases is in astra newrun\n",
      "Linked /Users/chrisonian/Code/GitHub/lume-astra/templates/dcgun/generator.part to /var/folders/wj/lfgr01993dx79p9cm_skykbw0000gn/T/tmph7le2r0q/generator.part\n",
      "Linked /Users/chrisonian/Code/GitHub/lume-astra/templates/dcgun/dcgun_GHV.dat to /var/folders/wj/lfgr01993dx79p9cm_skykbw0000gn/T/tmph7le2r0q/dcgun_GHV.dat\n",
      "Linked /Users/chrisonian/Code/GitHub/lume-astra/templates/dcgun/solenoid_SLA_L60.dat to /var/folders/wj/lfgr01993dx79p9cm_skykbw0000gn/T/tmph7le2r0q/solenoid_SLA_L60.dat\n"
     ]
    }
   ],
   "source": [
    "settings0 = {'zstop':1, 'zemit':200, 'zphase':1, 'phases':True}\n",
    "\n",
    "# Just run astra\n",
    "A1 = run_astra(settings0, astra_input_file=ASTRA_IN, verbose=True, timeout=100)"
   ]
  },
  {
   "cell_type": "code",
   "execution_count": null,
   "metadata": {},
   "outputs": [],
   "source": [
    "GENERATOR_IN = os.path.join(template_dir, 'dcgun/generator.in')\n",
    "\n",
    "# Run Astra with Generator\n",
    "settings0['ipart']= 2000\n",
    "\n",
    "A2 = run_astra_with_generator(settings0, astra_input_file=ASTRA_IN,\n",
    "                              generator_input_file=GENERATOR_IN, verbose=True)"
   ]
  },
  {
   "cell_type": "code",
   "execution_count": null,
   "metadata": {},
   "outputs": [],
   "source": [
    "from astra.astra_distgen import run_astra_with_distgen\n",
    "DISTGEN_IN = os.path.join(template_dir, 'dcgun/distgen.yaml')\n",
    "\n",
    "# Run Astra with Distgen\n",
    "settings0 = {'zstop':1, 'zemit':200, 'zphase':1, 'phases':True}\n",
    "settings0['distgen:n_particle'] = 2000\n",
    "\n",
    "A3 = run_astra_with_distgen(settings0, astra_input_file=ASTRA_IN,\n",
    "                              distgen_input_file=DISTGEN_IN, verbose=True)"
   ]
  },
  {
   "cell_type": "code",
   "execution_count": null,
   "metadata": {},
   "outputs": [],
   "source": [
    "# These Generator and Distgen inputs are set up to produce nearly the same initial beams\n",
    "\n",
    "plt.plot(A2.stat('sigma_x'))\n",
    "plt.plot(A3.stat('sigma_x'))"
   ]
  },
  {
   "cell_type": "markdown",
   "metadata": {},
   "source": [
    "# Evaluate functions\n",
    "\n",
    "For scans an optimizations, a user often wants to run a simulation many times and examine some particular output. The package provides several `evaluate_` functions that are similar to the `run_` functions above, but apply some merit function to the output and returns that. Additionally, if an `archive_path` is provided, the `.archive` method will be called to save the complete object output"
   ]
  },
  {
   "cell_type": "code",
   "execution_count": null,
   "metadata": {},
   "outputs": [],
   "source": [
    "# This is the default merit function that is applied. The user can supply a different function if needed.\n",
    "\n",
    "from astra.evaluate import default_astra_merit\n",
    "\n",
    "default_astra_merit(A2)"
   ]
  },
  {
   "cell_type": "markdown",
   "metadata": {},
   "source": [
    "# evaluate_astra_with_generator"
   ]
  },
  {
   "cell_type": "code",
   "execution_count": null,
   "metadata": {},
   "outputs": [],
   "source": [
    "# An even simpler run, returns a simple dict of outputs. For use in optimization\n",
    "from astra import evaluate_astra_with_generator\n",
    "\n",
    "MY_GENERATOR_TEMPLATE = os.path.join(template_dir, 'dcgun/generator.in')\n",
    "\n",
    "# Run Astra with Generator\n",
    "# Run Astra with Generator\n",
    "settings0 = {'zstop':1, 'zemit':200, 'zphase':1, 'phases':True}\n",
    "settings0['ipart'] = 2000\n",
    "\n",
    "outputs1 = evaluate_astra_with_generator(settings0, \n",
    "                                        astra_input_file=ASTRA_IN,\n",
    "                                        generator_input_file=GENERATOR_IN,\n",
    "                                        archive_path = '.')\n",
    "outputs1"
   ]
  },
  {
   "cell_type": "code",
   "execution_count": null,
   "metadata": {},
   "outputs": [],
   "source": [
    "# The archive can be loaded into a clean object.\n",
    "from astra import Astra\n",
    "AX = Astra()\n",
    "AX.load_archive(outputs1['archive'])\n",
    "\n",
    "# Check the merit\n",
    "default_astra_merit(AX)"
   ]
  },
  {
   "cell_type": "code",
   "execution_count": null,
   "metadata": {},
   "outputs": [],
   "source": [
    "# Cleanup\n",
    "os.remove(outputs1['archive'])"
   ]
  },
  {
   "cell_type": "markdown",
   "metadata": {},
   "source": [
    "# evaluate_astra_with_distgen"
   ]
  },
  {
   "cell_type": "code",
   "execution_count": null,
   "metadata": {},
   "outputs": [],
   "source": [
    "from astra import evaluate_astra_with_distgen\n",
    "\n",
    "?evaluate_astra_with_distgen"
   ]
  },
  {
   "cell_type": "code",
   "execution_count": null,
   "metadata": {},
   "outputs": [],
   "source": [
    "# Run Astra with Distgen\n",
    "settings5 = {'zstop':1, 'zemit':200, 'zphase':1, 'phases':True}\n",
    "settings5['distgen:n_particle'] = 2000\n",
    "\n",
    "outputs2 = evaluate_astra_with_distgen(settings5, astra_input_file=ASTRA_IN,\n",
    "                              distgen_input_file=DISTGEN_IN, archive_path='.')\n",
    "outputs2"
   ]
  },
  {
   "cell_type": "code",
   "execution_count": null,
   "metadata": {},
   "outputs": [],
   "source": [
    "from distgen import Generator"
   ]
  },
  {
   "cell_type": "code",
   "execution_count": null,
   "metadata": {},
   "outputs": [],
   "source": [
    "# Re-form the generator object\n",
    "G = Generator()\n",
    "G.load_archive(outputs2['archive'])\n",
    "G"
   ]
  },
  {
   "cell_type": "code",
   "execution_count": null,
   "metadata": {},
   "outputs": [],
   "source": [
    "# Note that there are no particles, this is just the input. \n",
    "# Particles are \n",
    "G.particles == None"
   ]
  },
  {
   "cell_type": "code",
   "execution_count": null,
   "metadata": {},
   "outputs": [],
   "source": [
    "# This will essentially recreate evaluate_astra_with_distgen\n",
    "A = Astra(verbose=False)\n",
    "\n",
    "A.load_archive(outputs2['archive'])\n",
    "\n",
    "# Make particles\n",
    "G.run()\n",
    "\n",
    "A.initial_particles = G.particles\n",
    "A.configure()\n",
    "A.run()\n",
    "default_astra_merit(A)"
   ]
  },
  {
   "cell_type": "code",
   "execution_count": null,
   "metadata": {},
   "outputs": [],
   "source": [
    "# Cleanup\n",
    "os.remove(outputs2['archive'])"
   ]
  },
  {
   "cell_type": "code",
   "execution_count": null,
   "metadata": {},
   "outputs": [],
   "source": [
    "# Compare Generator, Distgen. Thee should be similar, but not exactly the same. \n",
    "for k in outputs1:\n",
    "    print(k, outputs1[k], outputs2[k])"
   ]
  },
  {
   "cell_type": "code",
   "execution_count": null,
   "metadata": {},
   "outputs": [],
   "source": []
  }
 ],
 "metadata": {
  "kernelspec": {
   "display_name": "Python 3",
   "language": "python",
   "name": "python3"
  },
  "language_info": {
   "codemirror_mode": {
    "name": "ipython",
    "version": 3
   },
   "file_extension": ".py",
   "mimetype": "text/x-python",
   "name": "python",
   "nbconvert_exporter": "python",
   "pygments_lexer": "ipython3",
   "version": "3.8.5"
  }
 },
 "nbformat": 4,
 "nbformat_minor": 4
}

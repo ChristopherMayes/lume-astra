{
 "cells": [
  {
   "cell_type": "code",
   "execution_count": 1,
   "metadata": {},
   "outputs": [],
   "source": [
    "# Useful for debugging\n",
    "%load_ext autoreload\n",
    "%autoreload 2"
   ]
  },
  {
   "cell_type": "markdown",
   "metadata": {},
   "source": [
    "# Functional LUME-Astra examples\n",
    "\n",
    "This is the functional way to run astra and return the evaluate Astra object, or simple dict of outputs\n",
    "\n",
    "Settings is a list of settings that can appear in the input file."
   ]
  },
  {
   "cell_type": "code",
   "execution_count": 2,
   "metadata": {},
   "outputs": [],
   "source": [
    "from astra import run_astra, run_astra_with_generator\n",
    "\n",
    "import matplotlib.pyplot as plt\n",
    "import os"
   ]
  },
  {
   "cell_type": "code",
   "execution_count": 3,
   "metadata": {},
   "outputs": [],
   "source": [
    "# Input template file \n",
    "ASTRA_IN =  'templates/dcgun/astra.in'"
   ]
  },
  {
   "cell_type": "code",
   "execution_count": 4,
   "metadata": {},
   "outputs": [
    {
     "name": "stdout",
     "output_type": "stream",
     "text": [
      "run_astra\n",
      "zstop is in astra newrun\n",
      "zemit is in astra newrun\n",
      "zphase is in astra newrun\n",
      "phases is in astra newrun\n",
      "loading 1 particle files\n",
      "[100.0]\n",
      "{'start_time': 1641763734.1101198, 'run_script': '/Users/chrisonian/Code/astra/bin/Astra astra.in', 'why_error': '', 'run_time': 1.5665271282196045, 'run_error': False}\n"
     ]
    }
   ],
   "source": [
    "settings0 = {'zstop':1, 'zemit':200, 'zphase':1, 'phases':True}\n",
    "\n",
    "# Just run astra\n",
    "A1 = run_astra(settings0, astra_input_file=ASTRA_IN, verbose=True, timeout=100)"
   ]
  },
  {
   "cell_type": "code",
   "execution_count": 5,
   "metadata": {},
   "outputs": [
    {
     "name": "stdout",
     "output_type": "stream",
     "text": [
      "run_astra_with_generator\n",
      "zstop is in astra newrun\n",
      "zemit is in astra newrun\n",
      "zphase is in astra newrun\n",
      "phases is in astra newrun\n",
      "ipart is in generator\n",
      "set spacecharge mesh for n_particles: 2000 to {'nrad': 10, 'nlong_in': 20}\n",
      " --------------------------------------------------------------------------\n",
      "\n",
      "                              generator              \n",
      "                 Version 1.0 - macOS 64bit - Intel   \n",
      "                        DESY,  Hamburg 2002          \n",
      "                        Sun Jan  9 13:28:55 \n",
      "\n",
      "     Working File is:    generator.in                                      \n",
      "     Initializing       2000      electrons\n",
      "     including 6 probe particles at standard positions\n",
      "     Particles start from a cathode\n",
      "     Particles are quasi randomly distributed\n",
      "\n",
      "          WARNING: Values could not be reached:\n",
      "          Energy spread too high.\n",
      "                  46 times standard correction procedure\n",
      "\n",
      "\n",
      "\n",
      "     Final check:\n",
      "     Particles taken into account      N =       2000\n",
      "     total charge                      Q =    -0.1000     nC\n",
      "     horizontal beam position          x =     2.3378E-06 mm\n",
      "     vertical beam position            y =     8.9462E-06 mm\n",
      "     longitudinal beam position        z =      0.000     m\n",
      "     horizontal beam size          sig x =     0.2500     mm\n",
      "     vertical beam size            sig y =     0.2500     mm\n",
      "     longitudinal beam size        sig z =      0.000     mm\n",
      "     total emission time               t =     5.0872E-02 ns\n",
      "     rms emission time             sig t =     8.3856E-03 ns\n",
      "     average kinetic energy            E =     1.0197E-06 MeV\n",
      "     energy spread                    dE =     4.2631E-04 keV\n",
      "     average momentum                  P =     1.0208E-03 MeV/c\n",
      "     transverse beam emittance     eps x =     0.1747     pi mrad mm\n",
      "     correlated divergence         cor x =     6.8371E-03 mrad \n",
      "     transverse beam emittance     eps y =     0.1750     pi mrad mm\n",
      "     correlated divergence         cor y =    -4.4571E-03 mrad\n",
      "     longitudinal beam emittance   eps z =      0.000     pi keV mm\n",
      "     correlated energy spread      cor z =      0.000     keV\n",
      "     emittance ratio eps y/eps x         =     0.9982    \n",
      "\n",
      "     phase-space distribution saved to file: generator.part                \n",
      "\n",
      "\n",
      "     Generator ended with     1 warning(s)\n",
      "\n",
      "\n",
      "Initial particles written to /var/folders/wj/lfgr01993dx79p9cm_skykbw0000gn/T/tmp74haqqur/astra.particles\n",
      "loading 1 particle files\n",
      "[100.0]\n",
      "{'start_time': 1641763735.7912629, 'run_script': '/Users/chrisonian/Code/astra/bin/Astra astra.in', 'why_error': '', 'run_time': 1.6123552322387695, 'run_error': False}\n",
      "run_astra_with_generator finished\n"
     ]
    }
   ],
   "source": [
    "GENERATOR_IN = 'templates/dcgun/generator.in'\n",
    "\n",
    "# Run Astra with Generator\n",
    "settings0['ipart']= 2000\n",
    "\n",
    "A2 = run_astra_with_generator(settings0, astra_input_file=ASTRA_IN,\n",
    "                              generator_input_file=GENERATOR_IN, verbose=True)"
   ]
  },
  {
   "cell_type": "code",
   "execution_count": 6,
   "metadata": {},
   "outputs": [
    {
     "name": "stdout",
     "output_type": "stream",
     "text": [
      "run_astra_with_generator\n",
      "zstop is in astra newrun\n",
      "zemit is in astra newrun\n",
      "zphase is in astra newrun\n",
      "phases is in astra newrun\n",
      "Setting distgen n_particle = 2000\n",
      "Distribution format: None\n",
      "   Warning: no output file specified, defaulting to \"None\".\n",
      "Output file: None\n",
      "\n",
      "Creating beam distribution....\n",
      "   Beam starting from: cathode\n",
      "   Total charge: 100 pC.\n",
      "   Number of macroparticles: 2000.\n",
      "   Assuming cylindrical symmetry...\n",
      "   r distribution: radial uniform\n",
      "      min_r = 0 mm, max_r = 0.5 mm\n",
      "   theta distribution: uniform theta\n",
      "      min_theta = 0 rad, max_theta = 6.28319 rad\n",
      "   t distribution: Gaussian\n",
      "      avg_t = 0 ps, sigma_t = 8.500 ps\n",
      "      Left n_sigma_cutoff = 3, Right n_sigma_cutoff = -3\n",
      "   px distribution: Gaussian\n",
      "      avg_px = 0 eV/c, sigma_px = 357.421 eV/c\n",
      "   py distribution: Gaussian\n",
      "      avg_py = 0 eV/c, sigma_py = 357.421 eV/c\n",
      "   pz distribution: Gaussian\n",
      "      avg_pz = 0 eV/c, sigma_pz = 357.421 eV/c\n",
      "   Shifting avg_x = -0.000182722 mm -> 0 mm\n",
      "   Scaling sigma_x = 0.249836 mm -> 0.25 mm\n",
      "   Shifting avg_y = -5.96585E-05 mm -> 0 mm\n",
      "   Scaling sigma_y = 0.249997 mm -> 0.25 mm\n",
      "   Shifting avg_px = -1.43404 eV/c -> 0 eV/c\n",
      "   Scaling sigma_px = 356.94 eV/c -> 357.421 eV/c\n",
      "   Shifting avg_py = -0.99808 eV/c -> 0 eV/c\n",
      "   Scaling sigma_py = 356.407 eV/c -> 357.421 eV/c\n",
      "   Shifting avg_pz = -2.93972 eV/c -> 0 eV/c\n",
      "   Scaling sigma_pz = 356.195 eV/c -> 357.421 eV/c\n",
      "   Shifting avg_t = -0.0272122 ps -> 0 ps\n",
      "   Scaling sigma_t = 8.36979 ps -> 8.38592 ps\n",
      "   Cathode start: fixing pz momenta to forward hemisphere\n",
      "      avg_pz -> 285.455 eV/c, sigma_pz -> 215.094 eV/c\n",
      "...done. Time Ellapsed: 62.366 ms.\n",
      "\n",
      "   Created particles in .particles: \n",
      "   ParticleGroup with 2000 particles with total charge 9.999999999999999e-11 Cset spacecharge mesh for n_particles: 2000 to {'nrad': 10, 'nlong_in': 20}\n",
      "Initial particles written to /var/folders/wj/lfgr01993dx79p9cm_skykbw0000gn/T/tmpa2kegrxc/astra.particles\n",
      "loading 1 particle files\n",
      "[100.0]\n",
      "{'start_time': 1641763737.552683, 'run_script': '/Users/chrisonian/Code/astra/bin/Astra astra.in', 'why_error': '', 'run_time': 1.5425069332122803, 'run_error': False}\n"
     ]
    }
   ],
   "source": [
    "from astra.astra_distgen import run_astra_with_distgen\n",
    "DISTGEN_IN =  'templates/dcgun/distgen.yaml'\n",
    "\n",
    "# Run Astra with Distgen\n",
    "settings0 = {'zstop':1, 'zemit':200, 'zphase':1, 'phases':True}\n",
    "settings0['distgen:n_particle'] = 2000\n",
    "\n",
    "A3 = run_astra_with_distgen(settings0, astra_input_file=ASTRA_IN,\n",
    "                              distgen_input_file=DISTGEN_IN, verbose=True)"
   ]
  },
  {
   "cell_type": "code",
   "execution_count": 7,
   "metadata": {},
   "outputs": [
    {
     "data": {
      "text/plain": [
       "[<matplotlib.lines.Line2D at 0x12623f2e0>]"
      ]
     },
     "execution_count": 7,
     "metadata": {},
     "output_type": "execute_result"
    },
    {
     "data": {
      "image/png": "[encoded data removed]",
      "text/plain": [
       "<Figure size 432x288 with 1 Axes>"
      ]
     },
     "metadata": {
      "needs_background": "light"
     },
     "output_type": "display_data"
    }
   ],
   "source": [
    "# These Generator and Distgen inputs are set up to produce nearly the same initial beams\n",
    "\n",
    "plt.plot(A2.stat('sigma_x'))\n",
    "plt.plot(A3.stat('sigma_x'))"
   ]
  },
  {
   "cell_type": "markdown",
   "metadata": {},
   "source": [
    "# Evaluate functions\n",
    "\n",
    "For scans an optimizations, a user often wants to run a simulation many times and examine some particular output. The package provides several `evaluate_` functions that are similar to the `run_` functions above, but apply some merit function to the output and returns that. Additionally, if an `archive_path` is provided, the `.archive` method will be called to save the complete object output"
   ]
  },
  {
   "cell_type": "code",
   "execution_count": 8,
   "metadata": {},
   "outputs": [
    {
     "data": {
      "text/plain": [
       "{'error': False,\n",
       " 'end_mean_z': 1.0,\n",
       " 'end_mean_t': 4.0153e-09,\n",
       " 'end_mean_x': 6.1453e-09,\n",
       " 'end_sigma_x': 0.00046093,\n",
       " 'end_sigma_xp': 0.00051108,\n",
       " 'end_norm_emit_x': 1.7455e-07,\n",
       " 'end_cov_x__xp': 2.1221217199999998e-07,\n",
       " 'end_mean_y': 3.9381999999999995e-08,\n",
       " 'end_sigma_y': 0.00046181,\n",
       " 'end_sigma_yp': 0.0005110700000000001,\n",
       " 'end_norm_emit_y': 1.7527e-07,\n",
       " 'end_cov_y__yp': 2.125018715e-07,\n",
       " 'end_mean_kinetic_energy': 499790.0,\n",
       " 'end_sigma_z': 0.0021705,\n",
       " 'end_sigma_energy': 1.5773,\n",
       " 'end_norm_emit_z': 0.0034225,\n",
       " 'end_cov_z__energy': 7.868713650000001e-05,\n",
       " 'end_n_particle_loss': 0,\n",
       " 'end_total_charge': 9.964999999999999e-11,\n",
       " 'end_higher_order_energy_spread': 1.5777476779598882}"
      ]
     },
     "execution_count": 8,
     "metadata": {},
     "output_type": "execute_result"
    }
   ],
   "source": [
    "# This is the default merit function that is applied. The user can supply a different function if needed.\n",
    "\n",
    "from astra.evaluate import default_astra_merit\n",
    "\n",
    "default_astra_merit(A2)"
   ]
  },
  {
   "cell_type": "markdown",
   "metadata": {},
   "source": [
    "# evaluate_astra_with_generator"
   ]
  },
  {
   "cell_type": "code",
   "execution_count": 9,
   "metadata": {},
   "outputs": [
    {
     "data": {
      "text/plain": [
       "{'error': False,\n",
       " 'end_mean_z': 1.0,\n",
       " 'end_mean_t': 4.0153e-09,\n",
       " 'end_mean_x': 6.1453e-09,\n",
       " 'end_sigma_x': 0.00046093,\n",
       " 'end_sigma_xp': 0.00051108,\n",
       " 'end_norm_emit_x': 1.7455e-07,\n",
       " 'end_cov_x__xp': 2.1221217199999998e-07,\n",
       " 'end_mean_y': 3.9381999999999995e-08,\n",
       " 'end_sigma_y': 0.00046181,\n",
       " 'end_sigma_yp': 0.0005110700000000001,\n",
       " 'end_norm_emit_y': 1.7527e-07,\n",
       " 'end_cov_y__yp': 2.125018715e-07,\n",
       " 'end_mean_kinetic_energy': 499790.0,\n",
       " 'end_sigma_z': 0.0021705,\n",
       " 'end_sigma_energy': 1.5773,\n",
       " 'end_norm_emit_z': 0.0034225,\n",
       " 'end_cov_z__energy': 7.868713650000001e-05,\n",
       " 'end_n_particle_loss': 0,\n",
       " 'end_total_charge': 9.964999999999999e-11,\n",
       " 'end_higher_order_energy_spread': 1.5777476779598882,\n",
       " 'fingerprint': '3c602065a986c41844ec38fe88db2e54',\n",
       " 'archive': '/Users/chrisonian/Code/GitHub/lume-astra/examples/3c602065a986c41844ec38fe88db2e54.h5'}"
      ]
     },
     "execution_count": 9,
     "metadata": {},
     "output_type": "execute_result"
    }
   ],
   "source": [
    "# An even simpler run, returns a simple dict of outputs. For use in optimization\n",
    "from astra import evaluate_astra_with_generator\n",
    "\n",
    "MY_GENERATOR_TEMPLATE = 'templates/dcgun/generator.in'\n",
    "\n",
    "# Run Astra with Generator\n",
    "# Run Astra with Generator\n",
    "settings0 = {'zstop':1, 'zemit':200, 'zphase':1, 'phases':True}\n",
    "settings0['ipart'] = 2000\n",
    "\n",
    "outputs1 = evaluate_astra_with_generator(settings0, \n",
    "                                        astra_input_file=ASTRA_IN,\n",
    "                                        generator_input_file=GENERATOR_IN,\n",
    "                                        archive_path = '.')\n",
    "outputs1"
   ]
  },
  {
   "cell_type": "code",
   "execution_count": 10,
   "metadata": {},
   "outputs": [
    {
     "data": {
      "text/plain": [
       "{'error': False,\n",
       " 'end_cov_x__xp': 2.1221217199999998e-07,\n",
       " 'end_cov_y__yp': 2.125018715e-07,\n",
       " 'end_cov_z__energy': 7.868713650000001e-05,\n",
       " 'end_mean_kinetic_energy': 499790.0,\n",
       " 'end_mean_t': 4.0153e-09,\n",
       " 'end_mean_x': 6.1453e-09,\n",
       " 'end_mean_y': 3.9381999999999995e-08,\n",
       " 'end_mean_z': 1.0,\n",
       " 'end_norm_emit_x': 1.7455e-07,\n",
       " 'end_norm_emit_y': 1.7527e-07,\n",
       " 'end_norm_emit_z': 0.0034225,\n",
       " 'end_sigma_energy': 1.5773,\n",
       " 'end_sigma_x': 0.00046093,\n",
       " 'end_sigma_xp': 0.00051108,\n",
       " 'end_sigma_y': 0.00046181,\n",
       " 'end_sigma_yp': 0.0005110700000000001,\n",
       " 'end_sigma_z': 0.0021705,\n",
       " 'end_n_particle_loss': 0,\n",
       " 'end_total_charge': 9.964999999999999e-11,\n",
       " 'end_higher_order_energy_spread': 1.5777476779598882}"
      ]
     },
     "execution_count": 10,
     "metadata": {},
     "output_type": "execute_result"
    }
   ],
   "source": [
    "# The archive can be loaded into a clean object.\n",
    "from astra import Astra\n",
    "AX = Astra()\n",
    "AX.load_archive(outputs1['archive'])\n",
    "\n",
    "# Check the merit\n",
    "default_astra_merit(AX)"
   ]
  },
  {
   "cell_type": "code",
   "execution_count": 11,
   "metadata": {},
   "outputs": [],
   "source": [
    "# Cleanup\n",
    "os.remove(outputs1['archive'])"
   ]
  },
  {
   "cell_type": "markdown",
   "metadata": {},
   "source": [
    "# evaluate_astra_with_distgen"
   ]
  },
  {
   "cell_type": "code",
   "execution_count": 12,
   "metadata": {},
   "outputs": [
    {
     "data": {
      "text/plain": [
       "\u001b[0;31mSignature:\u001b[0m\n",
       "\u001b[0mevaluate_astra_with_distgen\u001b[0m\u001b[0;34m(\u001b[0m\u001b[0;34m\u001b[0m\n",
       "\u001b[0;34m\u001b[0m    \u001b[0msettings\u001b[0m\u001b[0;34m,\u001b[0m\u001b[0;34m\u001b[0m\n",
       "\u001b[0;34m\u001b[0m    \u001b[0mastra_input_file\u001b[0m\u001b[0;34m=\u001b[0m\u001b[0;32mNone\u001b[0m\u001b[0;34m,\u001b[0m\u001b[0;34m\u001b[0m\n",
       "\u001b[0;34m\u001b[0m    \u001b[0mdistgen_input_file\u001b[0m\u001b[0;34m=\u001b[0m\u001b[0;32mNone\u001b[0m\u001b[0;34m,\u001b[0m\u001b[0;34m\u001b[0m\n",
       "\u001b[0;34m\u001b[0m    \u001b[0mworkdir\u001b[0m\u001b[0;34m=\u001b[0m\u001b[0;32mNone\u001b[0m\u001b[0;34m,\u001b[0m\u001b[0;34m\u001b[0m\n",
       "\u001b[0;34m\u001b[0m    \u001b[0mastra_bin\u001b[0m\u001b[0;34m=\u001b[0m\u001b[0;34m'$ASTRA_BIN'\u001b[0m\u001b[0;34m,\u001b[0m\u001b[0;34m\u001b[0m\n",
       "\u001b[0;34m\u001b[0m    \u001b[0mtimeout\u001b[0m\u001b[0;34m=\u001b[0m\u001b[0;36m2500\u001b[0m\u001b[0;34m,\u001b[0m\u001b[0;34m\u001b[0m\n",
       "\u001b[0;34m\u001b[0m    \u001b[0mverbose\u001b[0m\u001b[0;34m=\u001b[0m\u001b[0;32mFalse\u001b[0m\u001b[0;34m,\u001b[0m\u001b[0;34m\u001b[0m\n",
       "\u001b[0;34m\u001b[0m    \u001b[0mauto_set_spacecharge_mesh\u001b[0m\u001b[0;34m=\u001b[0m\u001b[0;32mTrue\u001b[0m\u001b[0;34m,\u001b[0m\u001b[0;34m\u001b[0m\n",
       "\u001b[0;34m\u001b[0m    \u001b[0marchive_path\u001b[0m\u001b[0;34m=\u001b[0m\u001b[0;32mNone\u001b[0m\u001b[0;34m,\u001b[0m\u001b[0;34m\u001b[0m\n",
       "\u001b[0;34m\u001b[0m    \u001b[0mmerit_f\u001b[0m\u001b[0;34m=\u001b[0m\u001b[0;32mNone\u001b[0m\u001b[0;34m,\u001b[0m\u001b[0;34m\u001b[0m\n",
       "\u001b[0;34m\u001b[0m\u001b[0;34m)\u001b[0m\u001b[0;34m\u001b[0m\u001b[0;34m\u001b[0m\u001b[0m\n",
       "\u001b[0;31mDocstring:\u001b[0m\n",
       "Similar to run_astra_with_distgen, but returns a flat dict of outputs as processed by merit_f. \n",
       "\n",
       "If no merit_f is given, a default one will be used. See:\n",
       "    astra.evaluate.default_astra_merit\n",
       "\n",
       "Will raise an exception if there is an error. \n",
       "\u001b[0;31mFile:\u001b[0m      ~/Code/GitHub/lume-astra/astra/astra_distgen.py\n",
       "\u001b[0;31mType:\u001b[0m      function\n"
      ]
     },
     "metadata": {},
     "output_type": "display_data"
    }
   ],
   "source": [
    "from astra import evaluate_astra_with_distgen\n",
    "\n",
    "?evaluate_astra_with_distgen"
   ]
  },
  {
   "cell_type": "code",
   "execution_count": 13,
   "metadata": {},
   "outputs": [
    {
     "data": {
      "text/plain": [
       "{'error': False,\n",
       " 'end_mean_z': 1.0,\n",
       " 'end_mean_t': 4.0156e-09,\n",
       " 'end_mean_x': 1.1246e-10,\n",
       " 'end_sigma_x': 0.00046191,\n",
       " 'end_sigma_xp': 0.00051138,\n",
       " 'end_norm_emit_x': 1.7514e-07,\n",
       " 'end_cov_x__xp': 2.12755746e-07,\n",
       " 'end_mean_y': 9.4211e-11,\n",
       " 'end_sigma_y': 0.00046157,\n",
       " 'end_sigma_yp': 0.00051168,\n",
       " 'end_norm_emit_y': 1.7457e-07,\n",
       " 'end_cov_y__yp': 2.12876084e-07,\n",
       " 'end_mean_kinetic_energy': 499790.0,\n",
       " 'end_sigma_z': 3.4398e-05,\n",
       " 'end_sigma_energy': 1.7225000000000001,\n",
       " 'end_norm_emit_z': 3.0846e-05,\n",
       " 'end_cov_z__energy': 5.05856988e-05,\n",
       " 'end_n_particle_loss': 0,\n",
       " 'end_total_charge': 9.999999999999999e-11,\n",
       " 'end_higher_order_energy_spread': 0.32241168020345395,\n",
       " 'fingerprint': 'e8fade0ca62f0ef454d13e945433b2b3',\n",
       " 'archive': '/Users/chrisonian/Code/GitHub/lume-astra/examples/e8fade0ca62f0ef454d13e945433b2b3.h5'}"
      ]
     },
     "execution_count": 13,
     "metadata": {},
     "output_type": "execute_result"
    }
   ],
   "source": [
    "# Run Astra with Distgen\n",
    "settings5 = {'zstop':1, 'zemit':200, 'zphase':1, 'phases':True}\n",
    "settings5['distgen:n_particle'] = 2000\n",
    "\n",
    "outputs2 = evaluate_astra_with_distgen(settings5, astra_input_file=ASTRA_IN,\n",
    "                              distgen_input_file=DISTGEN_IN, archive_path='.')\n",
    "outputs2"
   ]
  },
  {
   "cell_type": "code",
   "execution_count": 14,
   "metadata": {},
   "outputs": [],
   "source": [
    "from distgen import Generator"
   ]
  },
  {
   "cell_type": "code",
   "execution_count": 15,
   "metadata": {},
   "outputs": [
    {
     "data": {
      "text/plain": [
       "<disgten.Generator with input: \n",
       "n_particle: 2000\n",
       "r_dist:\n",
       "  max_r:\n",
       "    units: mm\n",
       "    value: 0.5\n",
       "  type: radial_uniform\n",
       "random_type: hammersley\n",
       "start:\n",
       "  MTE:\n",
       "    units: meV\n",
       "    value: 250\n",
       "  type: cathode\n",
       "t_dist:\n",
       "  avg_t:\n",
       "    units: ps\n",
       "    value: 0\n",
       "  n_sigma_cutoff: 3\n",
       "  sigma_t:\n",
       "    units: ps\n",
       "    value: 8.5\n",
       "  type: gaussian\n",
       "total_charge:\n",
       "  units: pC\n",
       "  value: 100\n",
       "\n",
       ">"
      ]
     },
     "execution_count": 15,
     "metadata": {},
     "output_type": "execute_result"
    }
   ],
   "source": [
    "# Re-form the generator object\n",
    "G = Generator()\n",
    "G.load_archive(outputs2['archive'])\n",
    "G"
   ]
  },
  {
   "cell_type": "code",
   "execution_count": 16,
   "metadata": {},
   "outputs": [
    {
     "data": {
      "text/plain": [
       "True"
      ]
     },
     "execution_count": 16,
     "metadata": {},
     "output_type": "execute_result"
    }
   ],
   "source": [
    "# Note that there are no particles, this is just the input. \n",
    "# Particles are \n",
    "G.particles == None"
   ]
  },
  {
   "cell_type": "code",
   "execution_count": 17,
   "metadata": {},
   "outputs": [
    {
     "data": {
      "text/plain": [
       "{'error': False,\n",
       " 'end_mean_z': 1.0,\n",
       " 'end_mean_t': 4.0156e-09,\n",
       " 'end_mean_x': 1.1246e-10,\n",
       " 'end_sigma_x': 0.00046191,\n",
       " 'end_sigma_xp': 0.00051138,\n",
       " 'end_norm_emit_x': 1.7514e-07,\n",
       " 'end_cov_x__xp': 2.12755746e-07,\n",
       " 'end_mean_y': 9.4211e-11,\n",
       " 'end_sigma_y': 0.00046157,\n",
       " 'end_sigma_yp': 0.00051168,\n",
       " 'end_norm_emit_y': 1.7457e-07,\n",
       " 'end_cov_y__yp': 2.12876084e-07,\n",
       " 'end_mean_kinetic_energy': 499790.0,\n",
       " 'end_sigma_z': 3.4398e-05,\n",
       " 'end_sigma_energy': 1.7225000000000001,\n",
       " 'end_norm_emit_z': 3.0846e-05,\n",
       " 'end_cov_z__energy': 5.05856988e-05,\n",
       " 'end_n_particle_loss': 0,\n",
       " 'end_total_charge': 9.999999999999999e-11,\n",
       " 'end_higher_order_energy_spread': 0.32241168020345395}"
      ]
     },
     "execution_count": 17,
     "metadata": {},
     "output_type": "execute_result"
    }
   ],
   "source": [
    "# This will essentially recreate evaluate_astra_with_distgen\n",
    "A = Astra(verbose=False)\n",
    "\n",
    "A.load_archive(outputs2['archive'])\n",
    "\n",
    "# Make particles\n",
    "G.run()\n",
    "\n",
    "A.initial_particles = G.particles\n",
    "A.configure()\n",
    "A.run()\n",
    "default_astra_merit(A)"
   ]
  },
  {
   "cell_type": "code",
   "execution_count": 18,
   "metadata": {},
   "outputs": [],
   "source": [
    "# Cleanup\n",
    "os.remove(outputs2['archive'])"
   ]
  },
  {
   "cell_type": "code",
   "execution_count": 19,
   "metadata": {},
   "outputs": [
    {
     "name": "stdout",
     "output_type": "stream",
     "text": [
      "error False False\n",
      "end_mean_z 1.0 1.0\n",
      "end_mean_t 4.0153e-09 4.0156e-09\n",
      "end_mean_x 6.1453e-09 1.1246e-10\n",
      "end_sigma_x 0.00046093 0.00046191\n",
      "end_sigma_xp 0.00051108 0.00051138\n",
      "end_norm_emit_x 1.7455e-07 1.7514e-07\n",
      "end_cov_x__xp 2.1221217199999998e-07 2.12755746e-07\n",
      "end_mean_y 3.9381999999999995e-08 9.4211e-11\n",
      "end_sigma_y 0.00046181 0.00046157\n",
      "end_sigma_yp 0.0005110700000000001 0.00051168\n",
      "end_norm_emit_y 1.7527e-07 1.7457e-07\n",
      "end_cov_y__yp 2.125018715e-07 2.12876084e-07\n",
      "end_mean_kinetic_energy 499790.0 499790.0\n",
      "end_sigma_z 0.0021705 3.4398e-05\n",
      "end_sigma_energy 1.5773 1.7225000000000001\n",
      "end_norm_emit_z 0.0034225 3.0846e-05\n",
      "end_cov_z__energy 7.868713650000001e-05 5.05856988e-05\n",
      "end_n_particle_loss 0 0\n",
      "end_total_charge 9.964999999999999e-11 9.999999999999999e-11\n",
      "end_higher_order_energy_spread 1.5777476779598882 0.32241168020345395\n",
      "fingerprint 3c602065a986c41844ec38fe88db2e54 e8fade0ca62f0ef454d13e945433b2b3\n",
      "archive /Users/chrisonian/Code/GitHub/lume-astra/examples/3c602065a986c41844ec38fe88db2e54.h5 /Users/chrisonian/Code/GitHub/lume-astra/examples/e8fade0ca62f0ef454d13e945433b2b3.h5\n"
     ]
    }
   ],
   "source": [
    "# Compare Generator, Distgen. Thee should be similar, but not exactly the same. \n",
    "for k in outputs1:\n",
    "    print(k, outputs1[k], outputs2[k])"
   ]
  }
 ],
 "metadata": {
  "kernelspec": {
   "display_name": "Python 3 (ipykernel)",
   "language": "python",
   "name": "python3"
  },
  "language_info": {
   "codemirror_mode": {
    "name": "ipython",
    "version": 3
   },
   "file_extension": ".py",
   "mimetype": "text/x-python",
   "name": "python",
   "nbconvert_exporter": "python",
   "pygments_lexer": "ipython3",
   "version": "3.9.7"
  }
 },
 "nbformat": 4,
 "nbformat_minor": 4
}

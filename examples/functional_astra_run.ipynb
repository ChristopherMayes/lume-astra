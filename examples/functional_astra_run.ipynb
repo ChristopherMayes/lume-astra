{
 "cells": [
  {
   "cell_type": "code",
   "execution_count": null,
   "metadata": {},
   "outputs": [],
   "source": [
    "# Useful for debugging\n",
    "%load_ext autoreload\n",
    "%autoreload 2"
   ]
  },
  {
   "cell_type": "markdown",
   "metadata": {},
   "source": [
    "# Functional LUME-Astra examples\n",
    "\n",
    "This is the functional way to run astra and return the evaluate Astra object, or simple dict of outputs\n",
    "\n",
    "Settings is a list of settings that can appear in the input file."
   ]
  },
  {
   "cell_type": "code",
   "execution_count": 2,
   "metadata": {},
   "outputs": [],
   "source": [
    "from astra import run_astra, run_astra_with_generator, template_dir\n",
    "\n",
    "import matplotlib.pyplot as plt\n",
    "import os"
   ]
  },
  {
   "cell_type": "code",
   "execution_count": 3,
   "metadata": {},
   "outputs": [],
   "source": [
    "# Input template file \n",
    "ASTRA_IN = os.path.join(template_dir, 'dcgun/astra.in')"
   ]
  },
  {
   "cell_type": "code",
   "execution_count": 4,
   "metadata": {},
   "outputs": [
    {
     "name": "stdout",
     "output_type": "stream",
     "text": [
      "run_astra\n",
      "zstop is in astra newrun\n",
      "zemit is in astra newrun\n",
      "zphase is in astra newrun\n",
      "phases is in astra newrun\n",
      "loading 1 particle files\n",
      "[100.0]\n",
      "{'start_time': 1583868857.56196, 'run_script': '/Users/chrisonian/Code/astra/bin/Astra /var/folders/wj/lfgr01993dx79p9cm_skykbw0000gn/T/tmpamta_5u4/astra.in', 'why_error': '', 'run_time': 1.5534119606018066, 'run_error': False}\n"
     ]
    }
   ],
   "source": [
    "settings0 = {'zstop':1, 'zemit':200, 'zphase':1, 'phases':True}\n",
    "\n",
    "# Just run astra\n",
    "A1 = run_astra(settings0, astra_input_file=ASTRA_IN, verbose=True, timeout=100)"
   ]
  },
  {
   "cell_type": "code",
   "execution_count": 5,
   "metadata": {},
   "outputs": [
    {
     "name": "stdout",
     "output_type": "stream",
     "text": [
      "run_astra_with_generator\n",
      "zstop is in astra newrun\n",
      "zemit is in astra newrun\n",
      "zphase is in astra newrun\n",
      "phases is in astra newrun\n",
      "ipart is in generator\n",
      "set spacecharge mesh for n_particles: 2000 to {'nrad': 10, 'nlong_in': 20}\n",
      " --------------------------------------------------------------------------\n",
      "\n",
      "                              generator              \n",
      "                             Version 1.0             \n",
      "                        DESY,  Hamburg 2002          \n",
      "                        Tue Mar 10 12:34:19 \n",
      "\n",
      "     Working File is:    /var/folders/wj/lfgr01993dx79p9cm_skykbw0000gn/T/t\n",
      "     Initializing       2000      electrons\n",
      "     including 6 probe particles at standard positions\n",
      "     Particles start from a cathode\n",
      "     Particles are quasi randomly distributed\n",
      "\n",
      "          WARNING: Values could not be reached:\n",
      "          Energy spread too high.\n",
      "                  46 times standard correction procedure\n",
      "\n",
      "\n",
      "\n",
      "     Final check:\n",
      "     Particles taken into account      N =       2000\n",
      "     total charge                      Q =    -0.1000     nC\n",
      "     horizontal beam position          x =     2.3378E-06 mm\n",
      "     vertical beam position            y =     8.9462E-06 mm\n",
      "     longitudinal beam position        z =      0.000     m\n",
      "     horizontal beam size          sig x =     0.2500     mm\n",
      "     vertical beam size            sig y =     0.2500     mm\n",
      "     longitudinal beam size        sig z =      0.000     mm\n",
      "     total emission time               t =     5.0872E-02 ns\n",
      "     rms emission time             sig t =     8.3856E-03 ns\n",
      "     average kinetic energy            E =     1.0192E-06 MeV\n",
      "     energy spread                    dE =     4.2627E-04 keV\n",
      "     average momentum                  P =     1.0206E-03 MeV/c\n",
      "     transverse beam emittance     eps x =     0.1747     pi mrad mm\n",
      "     correlated divergence         cor x =     6.8371E-03 mrad \n",
      "     transverse beam emittance     eps y =     0.1750     pi mrad mm\n",
      "     correlated divergence         cor y =    -4.4571E-03 mrad\n",
      "     longitudinal beam emittance   eps z =      0.000     pi keV mm\n",
      "     correlated energy spread      cor z =      0.000     keV\n",
      "     emittance ratio eps y/eps x         =     0.9982    \n",
      "\n",
      "     phase-space distribution saved to file: /var/folders/wj/lfgr01993dx79p\n",
      "\n",
      "\n",
      "     Generator ended with     1 warning(s)\n",
      "\n",
      "\n",
      "Initial particles written to /var/folders/wj/lfgr01993dx79p9cm_skykbw0000gn/T/tmp8wm7ena4/astra.particles\n",
      "loading 1 particle files\n",
      "[100.0]\n",
      "{'start_time': 1583868859.211509, 'run_script': '/Users/chrisonian/Code/astra/bin/Astra /var/folders/wj/lfgr01993dx79p9cm_skykbw0000gn/T/tmp8wm7ena4/astra.in', 'why_error': '', 'run_time': 1.569317102432251, 'run_error': False}\n",
      "run_astra_with_generator finished\n"
     ]
    }
   ],
   "source": [
    "GENERATOR_IN = os.path.join(template_dir, 'dcgun/generator.in')\n",
    "\n",
    "# Run Astra with Generator\n",
    "settings0['ipart']= 2000\n",
    "\n",
    "A2 = run_astra_with_generator(settings0, astra_input_file=ASTRA_IN,\n",
    "                              generator_input_file=GENERATOR_IN, verbose=True)"
   ]
  },
  {
   "cell_type": "code",
   "execution_count": 6,
   "metadata": {},
   "outputs": [
    {
     "data": {
      "text/plain": [
       "{'zstop': 1, 'zemit': 200, 'zphase': 1, 'phases': True, 'ipart': 2000}"
      ]
     },
     "execution_count": 6,
     "metadata": {},
     "output_type": "execute_result"
    }
   ],
   "source": [
    "from distgen.tools import unflatten_dict\n",
    "unflatten_dict(settings0)"
   ]
  },
  {
   "cell_type": "code",
   "execution_count": 7,
   "metadata": {},
   "outputs": [
    {
     "name": "stdout",
     "output_type": "stream",
     "text": [
      "run_astra_with_generator\n",
      "zstop is in astra newrun\n",
      "zemit is in astra newrun\n",
      "zphase is in astra newrun\n",
      "phases is in astra newrun\n",
      "Replacing param n_particle with value 2000\n",
      "Distribution format: None\n",
      "   Warning: no output file specified, defaulting to None.\n",
      "Output file: None\n",
      "\n",
      "Creating beam distribution....\n",
      "   Beam starting from: cathode.\n",
      "   Total charge: 100.000 pC.\n",
      "   Number of macroparticles: 2000.\n",
      "   r distribution: radial uniform\n",
      "      min_r = 0.000 mm, max_r = 0.500 mm\n",
      "      Assuming cylindrical symmetry...\n",
      "   t distribution: Gaussian\n",
      "      avg_t = 0.000 ps, sigma_t = 8.500 ps\n",
      "      Left n_sigma_cutoff = 3.000, Right n_sigma_cutoff = -3.000\n",
      "   px distribution: Gaussian\n",
      "      avg_px = 0.000 eV/c, sigma_px = 357.421 eV/c\n",
      "   py distribution: Gaussian\n",
      "      avg_py = 0.000 eV/c, sigma_py = 357.421 eV/c\n",
      "   pz distribution: Gaussian\n",
      "      avg_pz = 0.000 eV/c, sigma_pz = 357.421 eV/c\n",
      "   Scaling sigma_x -> 0.250 mm\n",
      "   Shifting avg_x -> 0.000 m\n",
      "   Scaling sigma_y -> 0.250 mm\n",
      "   Shifting avg_y -> 0.000 m\n",
      "   Scaling sigma_px -> 357.421 eV/c\n",
      "   Shifting avg_px -> 0.000 eV/c\n",
      "   Scaling sigma_py -> 357.421 eV/c\n",
      "   Shifting avg_py -> 0.000 eV/c\n",
      "   Scaling sigma_pz -> 357.421 eV/c\n",
      "   Shifting avg_pz -> 0.000 eV/c\n",
      "   Scaling sigma_t -> 8.500 ps\n",
      "   Shifting avg_t -> 0.000 ps\n",
      "   Cathode start: fixing pz momenta to forward hemisphere\n",
      "      avg_pz -> 285.598 eV/c, sigma_pz -> 214.904 eV/c\n",
      "...done. Time Ellapsed: 34.13 millisecond.\n",
      "\n",
      "set spacecharge mesh for n_particles: 2000 to {'nrad': 10, 'nlong_in': 20}\n",
      "Initial particles written to /var/folders/wj/lfgr01993dx79p9cm_skykbw0000gn/T/tmpyk9hbdnf/astra.particles\n",
      "loading 1 particle files\n",
      "[100.0]\n",
      "{'start_time': 1583868860.914988, 'run_script': '/Users/chrisonian/Code/astra/bin/Astra /var/folders/wj/lfgr01993dx79p9cm_skykbw0000gn/T/tmpyk9hbdnf/astra.in', 'why_error': '', 'run_time': 1.5555651187896729, 'run_error': False}\n"
     ]
    }
   ],
   "source": [
    "from astra.astra_distgen import run_astra_with_distgen\n",
    "DISTGEN_IN = os.path.join(template_dir, 'dcgun/distgen.yaml')\n",
    "\n",
    "# Run Astra with Distgen\n",
    "settings0 = {'zstop':1, 'zemit':200, 'zphase':1, 'phases':True}\n",
    "settings0['n_particle'] = 2000\n",
    "\n",
    "A3 = run_astra_with_distgen(settings0, astra_input_file=ASTRA_IN,\n",
    "                              distgen_input_file=DISTGEN_IN, verbose=True)"
   ]
  },
  {
   "cell_type": "code",
   "execution_count": 8,
   "metadata": {},
   "outputs": [
    {
     "data": {
      "text/plain": [
       "[<matplotlib.lines.Line2D at 0x1225fd3d0>]"
      ]
     },
     "execution_count": 8,
     "metadata": {},
     "output_type": "execute_result"
    },
    {
     "data": {
      "image/png": "[encoded data removed]",
      "text/plain": [
       "<Figure size 432x288 with 1 Axes>"
      ]
     },
     "metadata": {
      "needs_background": "light"
     },
     "output_type": "display_data"
    }
   ],
   "source": [
    "# These Generator and Distgen inputs are set up to produce nearly the same initial beams\n",
    "\n",
    "plt.plot(A2.stat('sigma_x'))\n",
    "plt.plot(A3.stat('sigma_x'))"
   ]
  },
  {
   "cell_type": "markdown",
   "metadata": {},
   "source": [
    "# Evaluate functions\n",
    "\n",
    "For scans an optimizations, a user often wants to run a simulation many times and examine some particular output. The package provides several `evaluate_` functions that are similar to the `run_` functions above, but apply some merit function to the output and returns that. Additionally, if an `archive_path` is provided, the `.archive` method will be called to save the complete object output"
   ]
  },
  {
   "cell_type": "code",
   "execution_count": 9,
   "metadata": {},
   "outputs": [
    {
     "data": {
      "text/plain": [
       "{'error': False,\n",
       " 'end_mean_z': 1.0,\n",
       " 'end_mean_t': 4.0153e-09,\n",
       " 'end_mean_x': 6.1453e-09,\n",
       " 'end_sigma_x': 0.00046093,\n",
       " 'end_sigma_xp': 0.00051108,\n",
       " 'end_norm_emit_x': 1.7455e-07,\n",
       " 'end_cov_x__xp': 2.1221217199999998e-07,\n",
       " 'end_mean_y': 3.9381999999999995e-08,\n",
       " 'end_sigma_y': 0.00046181,\n",
       " 'end_sigma_yp': 0.0005110700000000001,\n",
       " 'end_norm_emit_y': 1.7527e-07,\n",
       " 'end_cov_y__yp': 2.125018715e-07,\n",
       " 'end_mean_kinetic_energy': 499790.0,\n",
       " 'end_sigma_z': 0.0021705,\n",
       " 'end_sigma_energy': 1.5773,\n",
       " 'end_norm_emit_z': 0.0034225,\n",
       " 'end_cov_z__energy': 7.868713650000001e-05,\n",
       " 'end_n_particle_loss': 0,\n",
       " 'end_total_charge': 9.995e-11,\n",
       " 'end_higher_order_energy_spread': 1.5767317174233662}"
      ]
     },
     "execution_count": 9,
     "metadata": {},
     "output_type": "execute_result"
    }
   ],
   "source": [
    "# This is the default merit function that is applied. The user can supply a different function if needed.\n",
    "\n",
    "from astra.evaluate import default_astra_merit\n",
    "\n",
    "default_astra_merit(A2)"
   ]
  },
  {
   "cell_type": "markdown",
   "metadata": {},
   "source": [
    "# evaluate_astra_with_generator"
   ]
  },
  {
   "cell_type": "code",
   "execution_count": 10,
   "metadata": {},
   "outputs": [
    {
     "data": {
      "text/plain": [
       "{'error': False,\n",
       " 'end_mean_z': 1.0,\n",
       " 'end_mean_t': 4.0153e-09,\n",
       " 'end_mean_x': 6.1453e-09,\n",
       " 'end_sigma_x': 0.00046093,\n",
       " 'end_sigma_xp': 0.00051108,\n",
       " 'end_norm_emit_x': 1.7455e-07,\n",
       " 'end_cov_x__xp': 2.1221217199999998e-07,\n",
       " 'end_mean_y': 3.9381999999999995e-08,\n",
       " 'end_sigma_y': 0.00046181,\n",
       " 'end_sigma_yp': 0.0005110700000000001,\n",
       " 'end_norm_emit_y': 1.7527e-07,\n",
       " 'end_cov_y__yp': 2.125018715e-07,\n",
       " 'end_mean_kinetic_energy': 499790.0,\n",
       " 'end_sigma_z': 0.0021705,\n",
       " 'end_sigma_energy': 1.5773,\n",
       " 'end_norm_emit_z': 0.0034225,\n",
       " 'end_cov_z__energy': 7.868713650000001e-05,\n",
       " 'end_n_particle_loss': 0,\n",
       " 'end_total_charge': 9.995e-11,\n",
       " 'end_higher_order_energy_spread': 1.5767317174233662,\n",
       " 'fingerprint': 'adb00b9898e26afe34ad389fa47f24f1',\n",
       " 'archive': '/Users/chrisonian/Code/GitHub/lume-astra/examples/adb00b9898e26afe34ad389fa47f24f1.h5'}"
      ]
     },
     "execution_count": 10,
     "metadata": {},
     "output_type": "execute_result"
    }
   ],
   "source": [
    "# An even simpler run, returns a simple dict of outputs. For use in optimization\n",
    "from astra import evaluate_astra_with_generator\n",
    "\n",
    "MY_GENERATOR_TEMPLATE = os.path.join(template_dir, 'dcgun/generator.in')\n",
    "\n",
    "# Run Astra with Generator\n",
    "# Run Astra with Generator\n",
    "settings0 = {'zstop':1, 'zemit':200, 'zphase':1, 'phases':True}\n",
    "settings0['ipart'] = 2000\n",
    "\n",
    "outputs1 = evaluate_astra_with_generator(settings0, \n",
    "                                        astra_input_file=ASTRA_IN,\n",
    "                                        generator_input_file=GENERATOR_IN,\n",
    "                                        archive_path = '.')\n",
    "outputs1"
   ]
  },
  {
   "cell_type": "code",
   "execution_count": 11,
   "metadata": {},
   "outputs": [
    {
     "data": {
      "text/plain": [
       "{'error': False,\n",
       " 'end_cov_x__xp': 2.1221217199999998e-07,\n",
       " 'end_cov_y__yp': 2.125018715e-07,\n",
       " 'end_cov_z__energy': 7.868713650000001e-05,\n",
       " 'end_mean_kinetic_energy': 499790.0,\n",
       " 'end_mean_t': 4.0153e-09,\n",
       " 'end_mean_x': 6.1453e-09,\n",
       " 'end_mean_y': 3.9381999999999995e-08,\n",
       " 'end_mean_z': 1.0,\n",
       " 'end_norm_emit_x': 1.7455e-07,\n",
       " 'end_norm_emit_y': 1.7527e-07,\n",
       " 'end_norm_emit_z': 0.0034225,\n",
       " 'end_sigma_energy': 1.5773,\n",
       " 'end_sigma_x': 0.00046093,\n",
       " 'end_sigma_xp': 0.00051108,\n",
       " 'end_sigma_y': 0.00046181,\n",
       " 'end_sigma_yp': 0.0005110700000000001,\n",
       " 'end_sigma_z': 0.0021705,\n",
       " 'end_n_particle_loss': 0,\n",
       " 'end_total_charge': 9.995e-11,\n",
       " 'end_higher_order_energy_spread': 1.5767317174233662}"
      ]
     },
     "execution_count": 11,
     "metadata": {},
     "output_type": "execute_result"
    }
   ],
   "source": [
    "# The archive can be loaded into a clean object.\n",
    "from astra import Astra\n",
    "AX = Astra()\n",
    "AX.load_archive(outputs1['archive'])\n",
    "\n",
    "# Check the merit\n",
    "default_astra_merit(AX)"
   ]
  },
  {
   "cell_type": "code",
   "execution_count": 12,
   "metadata": {},
   "outputs": [],
   "source": [
    "# Cleanup\n",
    "os.remove(outputs1['archive'])"
   ]
  },
  {
   "cell_type": "markdown",
   "metadata": {},
   "source": [
    "# evaluate_astra_with_distgen"
   ]
  },
  {
   "cell_type": "code",
   "execution_count": 14,
   "metadata": {},
   "outputs": [
    {
     "data": {
      "text/plain": [
       "{'error': False,\n",
       " 'end_mean_z': 1.0,\n",
       " 'end_mean_t': 4.0156e-09,\n",
       " 'end_mean_x': -7.6398e-09,\n",
       " 'end_sigma_x': 0.00046213,\n",
       " 'end_sigma_xp': 0.00051159,\n",
       " 'end_norm_emit_x': 1.7519999999999998e-07,\n",
       " 'end_cov_x__xp': 2.129726105e-07,\n",
       " 'end_mean_y': -7.1453e-09,\n",
       " 'end_sigma_y': 0.00046133999999999997,\n",
       " 'end_sigma_yp': 0.00051148,\n",
       " 'end_norm_emit_y': 1.7452e-07,\n",
       " 'end_cov_y__yp': 2.1265928639999998e-07,\n",
       " 'end_mean_kinetic_energy': 499790.0,\n",
       " 'end_sigma_z': 0.0021988,\n",
       " 'end_sigma_energy': 1.5102,\n",
       " 'end_norm_emit_z': 0.0033203,\n",
       " 'end_cov_z__energy': 3.677493e-05,\n",
       " 'end_n_particle_loss': 0,\n",
       " 'end_total_charge': 9.999999999999999e-11,\n",
       " 'end_higher_order_energy_spread': 1.51004233649679,\n",
       " 'fingerprint': 'd6c63a4a61841386012287a8618f2eef',\n",
       " 'archive': '/Users/chrisonian/Code/GitHub/lume-astra/examples/d6c63a4a61841386012287a8618f2eef.h5'}"
      ]
     },
     "execution_count": 14,
     "metadata": {},
     "output_type": "execute_result"
    }
   ],
   "source": [
    "from astra.evaluate import evaluate_astra_with_distgen\n",
    "\n",
    "# Run Astra with Distgen\n",
    "settings5 = {'zstop':1, 'zemit':200, 'zphase':1, 'phases':True}\n",
    "settings5['n_particle'] = 2000\n",
    "\n",
    "outputs2 = evaluate_astra_with_distgen(settings5, astra_input_file=ASTRA_IN,\n",
    "                              distgen_input_file=DISTGEN_IN, archive_path='.')\n",
    "outputs2"
   ]
  },
  {
   "cell_type": "code",
   "execution_count": 15,
   "metadata": {},
   "outputs": [],
   "source": [
    "# Cleanup\n",
    "os.remove(outputs2['archive'])\n",
    "os.remove('NORRAN')"
   ]
  },
  {
   "cell_type": "code",
   "execution_count": 16,
   "metadata": {},
   "outputs": [
    {
     "name": "stdout",
     "output_type": "stream",
     "text": [
      "error False False\n",
      "end_mean_z 1.0 1.0\n",
      "end_mean_t 4.0153e-09 4.0156e-09\n",
      "end_mean_x 6.1453e-09 -7.6398e-09\n",
      "end_sigma_x 0.00046093 0.00046213\n",
      "end_sigma_xp 0.00051108 0.00051159\n",
      "end_norm_emit_x 1.7455e-07 1.7519999999999998e-07\n",
      "end_cov_x__xp 2.1221217199999998e-07 2.129726105e-07\n",
      "end_mean_y 3.9381999999999995e-08 -7.1453e-09\n",
      "end_sigma_y 0.00046181 0.00046133999999999997\n",
      "end_sigma_yp 0.0005110700000000001 0.00051148\n",
      "end_norm_emit_y 1.7527e-07 1.7452e-07\n",
      "end_cov_y__yp 2.125018715e-07 2.1265928639999998e-07\n",
      "end_mean_kinetic_energy 499790.0 499790.0\n",
      "end_sigma_z 0.0021705 0.0021988\n",
      "end_sigma_energy 1.5773 1.5102\n",
      "end_norm_emit_z 0.0034225 0.0033203\n",
      "end_cov_z__energy 7.868713650000001e-05 3.677493e-05\n",
      "end_n_particle_loss 0 0\n",
      "end_total_charge 9.995e-11 9.999999999999999e-11\n",
      "end_higher_order_energy_spread 1.5767317174233662 1.51004233649679\n",
      "fingerprint adb00b9898e26afe34ad389fa47f24f1 d6c63a4a61841386012287a8618f2eef\n",
      "archive /Users/chrisonian/Code/GitHub/lume-astra/examples/adb00b9898e26afe34ad389fa47f24f1.h5 /Users/chrisonian/Code/GitHub/lume-astra/examples/d6c63a4a61841386012287a8618f2eef.h5\n"
     ]
    }
   ],
   "source": [
    "# Compare\n",
    "for k in outputs1:\n",
    "    print(k, outputs1[k], outputs2[k])"
   ]
  },
  {
   "cell_type": "code",
   "execution_count": null,
   "metadata": {},
   "outputs": [],
   "source": []
  }
 ],
 "metadata": {
  "kernelspec": {
   "display_name": "Python 3",
   "language": "python",
   "name": "python3"
  },
  "language_info": {
   "codemirror_mode": {
    "name": "ipython",
    "version": 3
   },
   "file_extension": ".py",
   "mimetype": "text/x-python",
   "name": "python",
   "nbconvert_exporter": "python",
   "pygments_lexer": "ipython3",
   "version": "3.7.6"
  }
 },
 "nbformat": 4,
 "nbformat_minor": 4
}

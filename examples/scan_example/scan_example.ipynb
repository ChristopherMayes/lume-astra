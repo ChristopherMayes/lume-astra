{
 "cells": [
  {
   "cell_type": "markdown",
   "metadata": {},
   "source": [
    "# Scanning Astra evaluations"
   ]
  },
  {
   "cell_type": "code",
   "execution_count": 1,
   "metadata": {
    "execution": {
     "iopub.execute_input": "2023-08-02T15:50:29.140151Z",
     "iopub.status.busy": "2023-08-02T15:50:29.139566Z",
     "iopub.status.idle": "2023-08-02T15:50:29.168950Z",
     "shell.execute_reply": "2023-08-02T15:50:29.168527Z"
    }
   },
   "outputs": [],
   "source": [
    "# Useful for debugging\n",
    "%load_ext autoreload\n",
    "%autoreload 2"
   ]
  },
  {
   "cell_type": "code",
   "execution_count": 2,
   "metadata": {
    "execution": {
     "iopub.execute_input": "2023-08-02T15:50:29.171315Z",
     "iopub.status.busy": "2023-08-02T15:50:29.171160Z",
     "iopub.status.idle": "2023-08-02T15:50:30.671654Z",
     "shell.execute_reply": "2023-08-02T15:50:30.671130Z"
    }
   },
   "outputs": [],
   "source": [
    "from astra import evaluate_astra_with_distgen\n",
    "\n",
    "import matplotlib.pyplot as plt\n",
    "\n",
    "import numpy as np\n",
    "import os"
   ]
  },
  {
   "cell_type": "code",
   "execution_count": 3,
   "metadata": {
    "execution": {
     "iopub.execute_input": "2023-08-02T15:50:30.674230Z",
     "iopub.status.busy": "2023-08-02T15:50:30.673857Z",
     "iopub.status.idle": "2023-08-02T15:50:30.703288Z",
     "shell.execute_reply": "2023-08-02T15:50:30.702974Z"
    }
   },
   "outputs": [],
   "source": [
    "# Input files\n",
    "ASTRA_IN = 'templates/dcgun/astra.in'\n",
    "DISTGEN_IN = 'templates/dcgun/distgen.yaml'"
   ]
  },
  {
   "cell_type": "code",
   "execution_count": 4,
   "metadata": {
    "execution": {
     "iopub.execute_input": "2023-08-02T15:50:30.705073Z",
     "iopub.status.busy": "2023-08-02T15:50:30.704987Z",
     "iopub.status.idle": "2023-08-02T15:50:30.729556Z",
     "shell.execute_reply": "2023-08-02T15:50:30.729263Z"
    }
   },
   "outputs": [],
   "source": [
    "# Run Astra with Distgen\n",
    "\n",
    "# Basic settings\n",
    "settings0 = {'zstop':1, 'zemit':10, 'zphase':10, 'phases':True}\n",
    "settings0['distgen:n_particle'] = 2000\n",
    "\n",
    "# Solenoid field\n",
    "settings0['maxb(1)'] = 0.04"
   ]
  },
  {
   "cell_type": "code",
   "execution_count": 5,
   "metadata": {
    "execution": {
     "iopub.execute_input": "2023-08-02T15:50:30.731127Z",
     "iopub.status.busy": "2023-08-02T15:50:30.731040Z",
     "iopub.status.idle": "2023-08-02T15:50:31.561001Z",
     "shell.execute_reply": "2023-08-02T15:50:31.560676Z"
    }
   },
   "outputs": [
    {
     "data": {
      "text/plain": [
       "{'error': False,\n",
       " 'end_mean_z': 1.0,\n",
       " 'end_mean_t': 4.0156e-09,\n",
       " 'end_mean_x': -8.1128e-11,\n",
       " 'end_sigma_x': 0.00034241,\n",
       " 'end_sigma_xp': 0.00058502,\n",
       " 'end_norm_emit_x': 1.7516000000000001e-07,\n",
       " 'end_cov_x__xp': 1.72026784e-07,\n",
       " 'end_mean_y': 5.7747e-09,\n",
       " 'end_sigma_y': 0.00034245,\n",
       " 'end_sigma_yp': 0.0005843,\n",
       " 'end_norm_emit_y': 1.7455e-07,\n",
       " 'end_cov_y__yp': 1.7197839e-07,\n",
       " 'end_mean_kinetic_energy': 499790.0,\n",
       " 'end_sigma_z': 0.0021695000000000004,\n",
       " 'end_sigma_energy': 1.7883,\n",
       " 'end_norm_emit_z': 0.0038791,\n",
       " 'end_cov_z__energy': 7.779827000000001e-05,\n",
       " 'end_n_particle_loss': 0,\n",
       " 'end_total_charge': 9.999999999999999e-11,\n",
       " 'end_higher_order_energy_spread': 1.7879755920478746,\n",
       " 'fingerprint': 'c71d39dfb11bd6db0f35e04ba612b590'}"
      ]
     },
     "execution_count": 5,
     "metadata": {},
     "output_type": "execute_result"
    }
   ],
   "source": [
    "# This is the basic function we will use\n",
    "outputs = evaluate_astra_with_distgen(settings0, astra_input_file=ASTRA_IN,\n",
    "                              distgen_input_file=DISTGEN_IN)\n",
    "outputs"
   ]
  },
  {
   "cell_type": "code",
   "execution_count": 6,
   "metadata": {
    "execution": {
     "iopub.execute_input": "2023-08-02T15:50:31.579635Z",
     "iopub.status.busy": "2023-08-02T15:50:31.579505Z",
     "iopub.status.idle": "2023-08-02T15:50:32.400838Z",
     "shell.execute_reply": "2023-08-02T15:50:32.400500Z"
    }
   },
   "outputs": [
    {
     "data": {
      "text/plain": [
       "{'error': False,\n",
       " 'end_mean_z': 1.0,\n",
       " 'end_mean_t': 4.0156e-09,\n",
       " 'end_mean_x': -3.6051e-09,\n",
       " 'end_sigma_x': 0.0006159000000000001,\n",
       " 'end_sigma_xp': 0.00065659,\n",
       " 'end_norm_emit_x': 1.7486999999999998e-07,\n",
       " 'end_cov_x__xp': 3.9120120300000003e-07,\n",
       " 'end_mean_y': -5.7092e-09,\n",
       " 'end_sigma_y': 0.00061615,\n",
       " 'end_sigma_yp': 0.00065711,\n",
       " 'end_norm_emit_y': 1.7486e-07,\n",
       " 'end_cov_y__yp': 3.917050395e-07,\n",
       " 'end_mean_kinetic_energy': 499790.0,\n",
       " 'end_sigma_z': 0.0021695000000000004,\n",
       " 'end_sigma_energy': 1.7883,\n",
       " 'end_norm_emit_z': 0.0038791,\n",
       " 'end_cov_z__energy': 7.776355800000001e-05,\n",
       " 'end_n_particle_loss': 0,\n",
       " 'end_total_charge': 9.999999999999999e-11,\n",
       " 'end_higher_order_energy_spread': 1.7879772256019293,\n",
       " 'fingerprint': 'f2d8e898c2ee41ce7a659b5a28b3ffb2'}"
      ]
     },
     "execution_count": 6,
     "metadata": {},
     "output_type": "execute_result"
    }
   ],
   "source": [
    "# Make a bare minimum function to evaluate\n",
    "def f(b):\n",
    "    s = settings0.copy()\n",
    "    s['maxb(1)'] = b\n",
    "    return evaluate_astra_with_distgen(s, astra_input_file=ASTRA_IN,\n",
    "                          distgen_input_file=DISTGEN_IN)\n",
    "# Make a list to scan\n",
    "blist = np.linspace(0, 0.1, 20)\n",
    "f(0)"
   ]
  },
  {
   "cell_type": "code",
   "execution_count": 7,
   "metadata": {
    "execution": {
     "iopub.execute_input": "2023-08-02T15:50:32.402664Z",
     "iopub.status.busy": "2023-08-02T15:50:32.402545Z",
     "iopub.status.idle": "2023-08-02T15:50:32.432965Z",
     "shell.execute_reply": "2023-08-02T15:50:32.432680Z"
    }
   },
   "outputs": [],
   "source": [
    "# Get a parallel executor\n",
    "\n",
    "# Processes. These lines are needed to get this to work on macOS\n",
    "import multiprocessing as mp                                                                                     \n",
    "mp.set_start_method(\"fork\")    \n",
    "from concurrent.futures import ProcessPoolExecutor as Executor\n",
    "\n",
    "#from concurrent.futures import ThreadPoolExecutor as Executor # DO NOT USE\n",
    "#from dask.distributed import Client as Executor\n",
    "\n",
    "executor=Executor()"
   ]
  },
  {
   "cell_type": "code",
   "execution_count": 8,
   "metadata": {
    "execution": {
     "iopub.execute_input": "2023-08-02T15:50:32.434587Z",
     "iopub.status.busy": "2023-08-02T15:50:32.434503Z",
     "iopub.status.idle": "2023-08-02T15:50:32.513537Z",
     "shell.execute_reply": "2023-08-02T15:50:32.492191Z"
    }
   },
   "outputs": [],
   "source": [
    "# Make a map object. Note that this does not execute immediately.\n",
    "results = executor.map(f, blist)"
   ]
  },
  {
   "cell_type": "code",
   "execution_count": 9,
   "metadata": {
    "execution": {
     "iopub.execute_input": "2023-08-02T15:50:32.528076Z",
     "iopub.status.busy": "2023-08-02T15:50:32.527743Z",
     "iopub.status.idle": "2023-08-02T15:50:34.523266Z",
     "shell.execute_reply": "2023-08-02T15:50:34.522965Z"
    }
   },
   "outputs": [],
   "source": [
    "# Actually evalute the funciton and gather the results\n",
    "outputs = []\n",
    "for r in results:\n",
    "    outputs.append(r)\n",
    "#    outputs.append(r.result())"
   ]
  },
  {
   "cell_type": "code",
   "execution_count": 10,
   "metadata": {
    "execution": {
     "iopub.execute_input": "2023-08-02T15:50:34.525168Z",
     "iopub.status.busy": "2023-08-02T15:50:34.525048Z",
     "iopub.status.idle": "2023-08-02T15:50:34.620205Z",
     "shell.execute_reply": "2023-08-02T15:50:34.619902Z"
    }
   },
   "outputs": [
    {
     "data": {
      "text/plain": [
       "[<matplotlib.lines.Line2D at 0x1471dc790>]"
      ]
     },
     "execution_count": 10,
     "metadata": {},
     "output_type": "execute_result"
    },
    {
     "data": {
      "image/png": "[encoded data removed]",
      "text/plain": [
       "<Figure size 640x480 with 1 Axes>"
      ]
     },
     "metadata": {},
     "output_type": "display_data"
    }
   ],
   "source": [
    "# Simple plot\n",
    "plt.plot(blist, [o['end_sigma_x'] for o in outputs])"
   ]
  },
  {
   "cell_type": "markdown",
   "metadata": {},
   "source": [
    "# Better: robust evaluation, form dataset "
   ]
  },
  {
   "cell_type": "code",
   "execution_count": 11,
   "metadata": {
    "execution": {
     "iopub.execute_input": "2023-08-02T15:50:34.622052Z",
     "iopub.status.busy": "2023-08-02T15:50:34.621941Z",
     "iopub.status.idle": "2023-08-02T15:50:34.648562Z",
     "shell.execute_reply": "2023-08-02T15:50:34.648288Z"
    }
   },
   "outputs": [],
   "source": [
    "from tempfile import TemporaryDirectory\n",
    "SCRATCH=TemporaryDirectory()"
   ]
  },
  {
   "cell_type": "code",
   "execution_count": 12,
   "metadata": {
    "execution": {
     "iopub.execute_input": "2023-08-02T15:50:34.650184Z",
     "iopub.status.busy": "2023-08-02T15:50:34.650091Z",
     "iopub.status.idle": "2023-08-02T15:50:34.675119Z",
     "shell.execute_reply": "2023-08-02T15:50:34.674735Z"
    }
   },
   "outputs": [],
   "source": [
    "# Make a robust evaluate\n",
    "def evaluate(b):\n",
    "    try:\n",
    "        s = settings0.copy()\n",
    "        s['maxb(1)'] = b\n",
    "        output = evaluate_astra_with_distgen(s, astra_input_file=ASTRA_IN,\n",
    "                              distgen_input_file=DISTGEN_IN, archive_path=SCRATCH.name)\n",
    "        # Add the input\n",
    "        output['maxb(1)'] = b\n",
    "        output['Exception'] = False\n",
    "    except:\n",
    "        output = {}\n",
    "        output['maxb(1)'] = b\n",
    "        output['Exception'] = True\n",
    "        \n",
    "    return output"
   ]
  },
  {
   "cell_type": "code",
   "execution_count": 13,
   "metadata": {
    "execution": {
     "iopub.execute_input": "2023-08-02T15:50:34.677236Z",
     "iopub.status.busy": "2023-08-02T15:50:34.677117Z",
     "iopub.status.idle": "2023-08-02T15:50:34.704493Z",
     "shell.execute_reply": "2023-08-02T15:50:34.704228Z"
    }
   },
   "outputs": [
    {
     "data": {
      "text/plain": [
       "'/var/folders/2f/l5_mybzs30j4qqvyj98w1_nw0000gn/T/tmp8jg8ann9'"
      ]
     },
     "execution_count": 13,
     "metadata": {},
     "output_type": "execute_result"
    }
   ],
   "source": [
    "SCRATCH.name"
   ]
  },
  {
   "cell_type": "code",
   "execution_count": 14,
   "metadata": {
    "execution": {
     "iopub.execute_input": "2023-08-02T15:50:34.706070Z",
     "iopub.status.busy": "2023-08-02T15:50:34.705960Z",
     "iopub.status.idle": "2023-08-02T15:50:34.781487Z",
     "shell.execute_reply": "2023-08-02T15:50:34.781145Z"
    }
   },
   "outputs": [
    {
     "data": {
      "text/plain": [
       "{'maxb(1)': 1000000000.0, 'Exception': True}"
      ]
     },
     "execution_count": 14,
     "metadata": {},
     "output_type": "execute_result"
    }
   ],
   "source": [
    "# This will cause a crash in Astra\n",
    "evaluate(1e9)"
   ]
  },
  {
   "cell_type": "code",
   "execution_count": 15,
   "metadata": {
    "execution": {
     "iopub.execute_input": "2023-08-02T15:50:34.783159Z",
     "iopub.status.busy": "2023-08-02T15:50:34.783047Z",
     "iopub.status.idle": "2023-08-02T15:50:36.946202Z",
     "shell.execute_reply": "2023-08-02T15:50:36.945700Z"
    }
   },
   "outputs": [],
   "source": [
    "# Get a new executor\n",
    "executor =  Executor()\n",
    "\n",
    "# Make a map object. Note that this does not execute immediately.\n",
    "\n",
    "blist[-1] = 1e9 # Add something that will crash\n",
    "results = executor.map(evaluate, blist)\n",
    "# Actually evalute the funciton and gather the results\n",
    "outputs = []\n",
    "for r in results:\n",
    "    outputs.append(r)"
   ]
  },
  {
   "cell_type": "code",
   "execution_count": 16,
   "metadata": {
    "execution": {
     "iopub.execute_input": "2023-08-02T15:50:36.948193Z",
     "iopub.status.busy": "2023-08-02T15:50:36.948074Z",
     "iopub.status.idle": "2023-08-02T15:50:36.981481Z",
     "shell.execute_reply": "2023-08-02T15:50:36.981219Z"
    }
   },
   "outputs": [
    {
     "data": {
      "text/plain": [
       "['d70364f093fe5d4a9d3acd0d0193fa91.h5',\n",
       " '284fa843911e69ab6122d23d79ad4806.h5',\n",
       " '926798389bda3d66c00620a39ddd3b8b.h5',\n",
       " 'c191147e9f05abf7a8ba60eb73fbddbd.h5',\n",
       " 'da89d10555a9b4c7b864fbb542ac497b.h5',\n",
       " '7b87b3f42160e0dc6a00aa7fa134604c.h5',\n",
       " '961dc67f12dc8c627e0a53ad04219881.h5',\n",
       " '1d54b0678b9ef6bfc42b0c2ff2120ae5.h5',\n",
       " '0a331d558139ac3a05c4cf676a8455b6.h5',\n",
       " '9a8e21bd4149448d46774270247b7c2b.h5',\n",
       " 'd6fd70f4af4f613844fd65600267f9fb.h5',\n",
       " '7c0baedf140c3dbeef2fc3a73c15ea7b.h5',\n",
       " 'dae144c959cdf177ec97e3b59f159015.h5',\n",
       " 'efffe3c12cb38f91092589b38d338d29.h5',\n",
       " 'aa14936ee8e37ca095d6d052bb7b2c04.h5',\n",
       " '47ce10b464da11518826a3c6d6654f42.h5',\n",
       " 'e6bd6c13a2d22ad150081863f1c6fb59.h5',\n",
       " '1c33e9ed18d9ff88f91eda547cfe96cd.h5',\n",
       " '3124ef1903c236f1962db3ec8dacd2fe.h5']"
      ]
     },
     "execution_count": 16,
     "metadata": {},
     "output_type": "execute_result"
    }
   ],
   "source": [
    "# Archive files are here\n",
    "os.listdir(SCRATCH.name)"
   ]
  },
  {
   "cell_type": "markdown",
   "metadata": {},
   "source": [
    "# Pandas "
   ]
  },
  {
   "cell_type": "code",
   "execution_count": 17,
   "metadata": {
    "execution": {
     "iopub.execute_input": "2023-08-02T15:50:36.983153Z",
     "iopub.status.busy": "2023-08-02T15:50:36.983036Z",
     "iopub.status.idle": "2023-08-02T15:50:37.339225Z",
     "shell.execute_reply": "2023-08-02T15:50:37.338900Z"
    }
   },
   "outputs": [],
   "source": [
    "import pandas as pd"
   ]
  },
  {
   "cell_type": "code",
   "execution_count": 18,
   "metadata": {
    "execution": {
     "iopub.execute_input": "2023-08-02T15:50:37.341133Z",
     "iopub.status.busy": "2023-08-02T15:50:37.340935Z",
     "iopub.status.idle": "2023-08-02T15:50:37.386794Z",
     "shell.execute_reply": "2023-08-02T15:50:37.386529Z"
    }
   },
   "outputs": [
    {
     "data": {
      "text/html": [
       "<div>\n",
       "<style scoped>\n",
       "    .dataframe tbody tr th:only-of-type {\n",
       "        vertical-align: middle;\n",
       "    }\n",
       "\n",
       "    .dataframe tbody tr th {\n",
       "        vertical-align: top;\n",
       "    }\n",
       "\n",
       "    .dataframe thead th {\n",
       "        text-align: right;\n",
       "    }\n",
       "</style>\n",
       "<table border=\"1\" class=\"dataframe\">\n",
       "  <thead>\n",
       "    <tr style=\"text-align: right;\">\n",
       "      <th></th>\n",
       "      <th>error</th>\n",
       "      <th>end_mean_z</th>\n",
       "      <th>end_mean_t</th>\n",
       "      <th>end_mean_x</th>\n",
       "      <th>end_sigma_x</th>\n",
       "      <th>end_sigma_xp</th>\n",
       "      <th>end_norm_emit_x</th>\n",
       "      <th>end_cov_x__xp</th>\n",
       "      <th>end_mean_y</th>\n",
       "      <th>end_sigma_y</th>\n",
       "      <th>...</th>\n",
       "      <th>end_sigma_energy</th>\n",
       "      <th>end_norm_emit_z</th>\n",
       "      <th>end_cov_z__energy</th>\n",
       "      <th>end_n_particle_loss</th>\n",
       "      <th>end_total_charge</th>\n",
       "      <th>end_higher_order_energy_spread</th>\n",
       "      <th>fingerprint</th>\n",
       "      <th>archive</th>\n",
       "      <th>maxb(1)</th>\n",
       "      <th>Exception</th>\n",
       "    </tr>\n",
       "  </thead>\n",
       "  <tbody>\n",
       "    <tr>\n",
       "      <th>0</th>\n",
       "      <td>False</td>\n",
       "      <td>1.0</td>\n",
       "      <td>4.015600e-09</td>\n",
       "      <td>-3.605100e-09</td>\n",
       "      <td>0.000616</td>\n",
       "      <td>0.000657</td>\n",
       "      <td>1.748700e-07</td>\n",
       "      <td>3.912012e-07</td>\n",
       "      <td>-5.709200e-09</td>\n",
       "      <td>0.000616</td>\n",
       "      <td>...</td>\n",
       "      <td>1.7883</td>\n",
       "      <td>0.003879</td>\n",
       "      <td>0.000078</td>\n",
       "      <td>0.0</td>\n",
       "      <td>1.000000e-10</td>\n",
       "      <td>1.787977</td>\n",
       "      <td>d70364f093fe5d4a9d3acd0d0193fa91</td>\n",
       "      <td>/var/folders/2f/l5_mybzs30j4qqvyj98w1_nw0000gn...</td>\n",
       "      <td>0.000000e+00</td>\n",
       "      <td>False</td>\n",
       "    </tr>\n",
       "    <tr>\n",
       "      <th>1</th>\n",
       "      <td>False</td>\n",
       "      <td>1.0</td>\n",
       "      <td>4.015600e-09</td>\n",
       "      <td>-2.727100e-09</td>\n",
       "      <td>0.000608</td>\n",
       "      <td>0.000647</td>\n",
       "      <td>1.749400e-07</td>\n",
       "      <td>3.799807e-07</td>\n",
       "      <td>-5.900700e-09</td>\n",
       "      <td>0.000608</td>\n",
       "      <td>...</td>\n",
       "      <td>1.7883</td>\n",
       "      <td>0.003879</td>\n",
       "      <td>0.000078</td>\n",
       "      <td>0.0</td>\n",
       "      <td>1.000000e-10</td>\n",
       "      <td>1.787977</td>\n",
       "      <td>47ce10b464da11518826a3c6d6654f42</td>\n",
       "      <td>/var/folders/2f/l5_mybzs30j4qqvyj98w1_nw0000gn...</td>\n",
       "      <td>5.263158e-03</td>\n",
       "      <td>False</td>\n",
       "    </tr>\n",
       "    <tr>\n",
       "      <th>2</th>\n",
       "      <td>False</td>\n",
       "      <td>1.0</td>\n",
       "      <td>4.015600e-09</td>\n",
       "      <td>-1.654600e-09</td>\n",
       "      <td>0.000584</td>\n",
       "      <td>0.000621</td>\n",
       "      <td>1.750100e-07</td>\n",
       "      <td>3.477970e-07</td>\n",
       "      <td>-5.564700e-09</td>\n",
       "      <td>0.000584</td>\n",
       "      <td>...</td>\n",
       "      <td>1.7883</td>\n",
       "      <td>0.003879</td>\n",
       "      <td>0.000078</td>\n",
       "      <td>0.0</td>\n",
       "      <td>1.000000e-10</td>\n",
       "      <td>1.787977</td>\n",
       "      <td>284fa843911e69ab6122d23d79ad4806</td>\n",
       "      <td>/var/folders/2f/l5_mybzs30j4qqvyj98w1_nw0000gn...</td>\n",
       "      <td>1.052632e-02</td>\n",
       "      <td>False</td>\n",
       "    </tr>\n",
       "    <tr>\n",
       "      <th>3</th>\n",
       "      <td>False</td>\n",
       "      <td>1.0</td>\n",
       "      <td>4.015600e-09</td>\n",
       "      <td>-5.596500e-10</td>\n",
       "      <td>0.000546</td>\n",
       "      <td>0.000581</td>\n",
       "      <td>1.750700e-07</td>\n",
       "      <td>2.999282e-07</td>\n",
       "      <td>-4.652900e-09</td>\n",
       "      <td>0.000545</td>\n",
       "      <td>...</td>\n",
       "      <td>1.7883</td>\n",
       "      <td>0.003879</td>\n",
       "      <td>0.000078</td>\n",
       "      <td>0.0</td>\n",
       "      <td>1.000000e-10</td>\n",
       "      <td>1.787977</td>\n",
       "      <td>d6fd70f4af4f613844fd65600267f9fb</td>\n",
       "      <td>/var/folders/2f/l5_mybzs30j4qqvyj98w1_nw0000gn...</td>\n",
       "      <td>1.578947e-02</td>\n",
       "      <td>False</td>\n",
       "    </tr>\n",
       "    <tr>\n",
       "      <th>4</th>\n",
       "      <td>False</td>\n",
       "      <td>1.0</td>\n",
       "      <td>4.015600e-09</td>\n",
       "      <td>3.749800e-10</td>\n",
       "      <td>0.000496</td>\n",
       "      <td>0.000535</td>\n",
       "      <td>1.751200e-07</td>\n",
       "      <td>2.448360e-07</td>\n",
       "      <td>-3.170800e-09</td>\n",
       "      <td>0.000495</td>\n",
       "      <td>...</td>\n",
       "      <td>1.7883</td>\n",
       "      <td>0.003879</td>\n",
       "      <td>0.000078</td>\n",
       "      <td>0.0</td>\n",
       "      <td>1.000000e-10</td>\n",
       "      <td>1.787976</td>\n",
       "      <td>da89d10555a9b4c7b864fbb542ac497b</td>\n",
       "      <td>/var/folders/2f/l5_mybzs30j4qqvyj98w1_nw0000gn...</td>\n",
       "      <td>2.105263e-02</td>\n",
       "      <td>False</td>\n",
       "    </tr>\n",
       "    <tr>\n",
       "      <th>5</th>\n",
       "      <td>False</td>\n",
       "      <td>1.0</td>\n",
       "      <td>4.015600e-09</td>\n",
       "      <td>9.793000e-10</td>\n",
       "      <td>0.000439</td>\n",
       "      <td>0.000499</td>\n",
       "      <td>1.751500e-07</td>\n",
       "      <td>1.935768e-07</td>\n",
       "      <td>-1.156600e-09</td>\n",
       "      <td>0.000439</td>\n",
       "      <td>...</td>\n",
       "      <td>1.7883</td>\n",
       "      <td>0.003879</td>\n",
       "      <td>0.000078</td>\n",
       "      <td>0.0</td>\n",
       "      <td>1.000000e-10</td>\n",
       "      <td>1.787976</td>\n",
       "      <td>7c0baedf140c3dbeef2fc3a73c15ea7b</td>\n",
       "      <td>/var/folders/2f/l5_mybzs30j4qqvyj98w1_nw0000gn...</td>\n",
       "      <td>2.631579e-02</td>\n",
       "      <td>False</td>\n",
       "    </tr>\n",
       "    <tr>\n",
       "      <th>6</th>\n",
       "      <td>False</td>\n",
       "      <td>1.0</td>\n",
       "      <td>4.015600e-09</td>\n",
       "      <td>1.098900e-09</td>\n",
       "      <td>0.000384</td>\n",
       "      <td>0.000492</td>\n",
       "      <td>1.751700e-07</td>\n",
       "      <td>1.589409e-07</td>\n",
       "      <td>1.296300e-09</td>\n",
       "      <td>0.000384</td>\n",
       "      <td>...</td>\n",
       "      <td>1.7883</td>\n",
       "      <td>0.003879</td>\n",
       "      <td>0.000078</td>\n",
       "      <td>0.0</td>\n",
       "      <td>1.000000e-10</td>\n",
       "      <td>1.787976</td>\n",
       "      <td>7b87b3f42160e0dc6a00aa7fa134604c</td>\n",
       "      <td>/var/folders/2f/l5_mybzs30j4qqvyj98w1_nw0000gn...</td>\n",
       "      <td>3.157895e-02</td>\n",
       "      <td>False</td>\n",
       "    </tr>\n",
       "    <tr>\n",
       "      <th>7</th>\n",
       "      <td>False</td>\n",
       "      <td>1.0</td>\n",
       "      <td>4.015600e-09</td>\n",
       "      <td>5.689600e-10</td>\n",
       "      <td>0.000347</td>\n",
       "      <td>0.000534</td>\n",
       "      <td>1.751700e-07</td>\n",
       "      <td>1.545434e-07</td>\n",
       "      <td>4.052900e-09</td>\n",
       "      <td>0.000347</td>\n",
       "      <td>...</td>\n",
       "      <td>1.7883</td>\n",
       "      <td>0.003879</td>\n",
       "      <td>0.000078</td>\n",
       "      <td>0.0</td>\n",
       "      <td>1.000000e-10</td>\n",
       "      <td>1.787976</td>\n",
       "      <td>dae144c959cdf177ec97e3b59f159015</td>\n",
       "      <td>/var/folders/2f/l5_mybzs30j4qqvyj98w1_nw0000gn...</td>\n",
       "      <td>3.684211e-02</td>\n",
       "      <td>False</td>\n",
       "    </tr>\n",
       "    <tr>\n",
       "      <th>8</th>\n",
       "      <td>False</td>\n",
       "      <td>1.0</td>\n",
       "      <td>4.015600e-09</td>\n",
       "      <td>-6.653800e-10</td>\n",
       "      <td>0.000349</td>\n",
       "      <td>0.000629</td>\n",
       "      <td>1.751500e-07</td>\n",
       "      <td>1.937603e-07</td>\n",
       "      <td>6.928300e-09</td>\n",
       "      <td>0.000349</td>\n",
       "      <td>...</td>\n",
       "      <td>1.7883</td>\n",
       "      <td>0.003879</td>\n",
       "      <td>0.000078</td>\n",
       "      <td>0.0</td>\n",
       "      <td>1.000000e-10</td>\n",
       "      <td>1.787976</td>\n",
       "      <td>aa14936ee8e37ca095d6d052bb7b2c04</td>\n",
       "      <td>/var/folders/2f/l5_mybzs30j4qqvyj98w1_nw0000gn...</td>\n",
       "      <td>4.210526e-02</td>\n",
       "      <td>False</td>\n",
       "    </tr>\n",
       "    <tr>\n",
       "      <th>9</th>\n",
       "      <td>False</td>\n",
       "      <td>1.0</td>\n",
       "      <td>4.015600e-09</td>\n",
       "      <td>-2.662300e-09</td>\n",
       "      <td>0.000399</td>\n",
       "      <td>0.000768</td>\n",
       "      <td>1.751300e-07</td>\n",
       "      <td>2.886720e-07</td>\n",
       "      <td>9.753800e-09</td>\n",
       "      <td>0.000399</td>\n",
       "      <td>...</td>\n",
       "      <td>1.7883</td>\n",
       "      <td>0.003879</td>\n",
       "      <td>0.000078</td>\n",
       "      <td>0.0</td>\n",
       "      <td>1.000000e-10</td>\n",
       "      <td>1.787976</td>\n",
       "      <td>efffe3c12cb38f91092589b38d338d29</td>\n",
       "      <td>/var/folders/2f/l5_mybzs30j4qqvyj98w1_nw0000gn...</td>\n",
       "      <td>4.736842e-02</td>\n",
       "      <td>False</td>\n",
       "    </tr>\n",
       "    <tr>\n",
       "      <th>10</th>\n",
       "      <td>False</td>\n",
       "      <td>1.0</td>\n",
       "      <td>4.015600e-09</td>\n",
       "      <td>-5.442600e-09</td>\n",
       "      <td>0.000491</td>\n",
       "      <td>0.000938</td>\n",
       "      <td>1.751000e-07</td>\n",
       "      <td>4.490753e-07</td>\n",
       "      <td>1.230300e-08</td>\n",
       "      <td>0.000490</td>\n",
       "      <td>...</td>\n",
       "      <td>1.7883</td>\n",
       "      <td>0.003879</td>\n",
       "      <td>0.000078</td>\n",
       "      <td>0.0</td>\n",
       "      <td>1.000000e-10</td>\n",
       "      <td>1.787976</td>\n",
       "      <td>926798389bda3d66c00620a39ddd3b8b</td>\n",
       "      <td>/var/folders/2f/l5_mybzs30j4qqvyj98w1_nw0000gn...</td>\n",
       "      <td>5.263158e-02</td>\n",
       "      <td>False</td>\n",
       "    </tr>\n",
       "    <tr>\n",
       "      <th>11</th>\n",
       "      <td>False</td>\n",
       "      <td>1.0</td>\n",
       "      <td>4.015600e-09</td>\n",
       "      <td>-8.943500e-09</td>\n",
       "      <td>0.000610</td>\n",
       "      <td>0.001129</td>\n",
       "      <td>1.750800e-07</td>\n",
       "      <td>6.815942e-07</td>\n",
       "      <td>1.438200e-08</td>\n",
       "      <td>0.000610</td>\n",
       "      <td>...</td>\n",
       "      <td>1.7883</td>\n",
       "      <td>0.003879</td>\n",
       "      <td>0.000078</td>\n",
       "      <td>0.0</td>\n",
       "      <td>1.000000e-10</td>\n",
       "      <td>1.787976</td>\n",
       "      <td>1d54b0678b9ef6bfc42b0c2ff2120ae5</td>\n",
       "      <td>/var/folders/2f/l5_mybzs30j4qqvyj98w1_nw0000gn...</td>\n",
       "      <td>5.789474e-02</td>\n",
       "      <td>False</td>\n",
       "    </tr>\n",
       "    <tr>\n",
       "      <th>12</th>\n",
       "      <td>False</td>\n",
       "      <td>1.0</td>\n",
       "      <td>4.015600e-09</td>\n",
       "      <td>-1.305700e-08</td>\n",
       "      <td>0.000746</td>\n",
       "      <td>0.001333</td>\n",
       "      <td>1.750700e-07</td>\n",
       "      <td>9.890153e-07</td>\n",
       "      <td>1.580400e-08</td>\n",
       "      <td>0.000746</td>\n",
       "      <td>...</td>\n",
       "      <td>1.7883</td>\n",
       "      <td>0.003879</td>\n",
       "      <td>0.000078</td>\n",
       "      <td>0.0</td>\n",
       "      <td>1.000000e-10</td>\n",
       "      <td>1.787976</td>\n",
       "      <td>0a331d558139ac3a05c4cf676a8455b6</td>\n",
       "      <td>/var/folders/2f/l5_mybzs30j4qqvyj98w1_nw0000gn...</td>\n",
       "      <td>6.315789e-02</td>\n",
       "      <td>False</td>\n",
       "    </tr>\n",
       "    <tr>\n",
       "      <th>13</th>\n",
       "      <td>False</td>\n",
       "      <td>1.0</td>\n",
       "      <td>4.015600e-09</td>\n",
       "      <td>-1.761700e-08</td>\n",
       "      <td>0.000890</td>\n",
       "      <td>0.001543</td>\n",
       "      <td>1.751000e-07</td>\n",
       "      <td>1.369874e-06</td>\n",
       "      <td>1.640300e-08</td>\n",
       "      <td>0.000891</td>\n",
       "      <td>...</td>\n",
       "      <td>1.7883</td>\n",
       "      <td>0.003879</td>\n",
       "      <td>0.000078</td>\n",
       "      <td>0.0</td>\n",
       "      <td>1.000000e-10</td>\n",
       "      <td>1.787976</td>\n",
       "      <td>e6bd6c13a2d22ad150081863f1c6fb59</td>\n",
       "      <td>/var/folders/2f/l5_mybzs30j4qqvyj98w1_nw0000gn...</td>\n",
       "      <td>6.842105e-02</td>\n",
       "      <td>False</td>\n",
       "    </tr>\n",
       "    <tr>\n",
       "      <th>14</th>\n",
       "      <td>False</td>\n",
       "      <td>1.0</td>\n",
       "      <td>4.015600e-09</td>\n",
       "      <td>-2.254200e-08</td>\n",
       "      <td>0.001038</td>\n",
       "      <td>0.001754</td>\n",
       "      <td>1.751800e-07</td>\n",
       "      <td>1.818200e-06</td>\n",
       "      <td>1.601500e-08</td>\n",
       "      <td>0.001040</td>\n",
       "      <td>...</td>\n",
       "      <td>1.7883</td>\n",
       "      <td>0.003879</td>\n",
       "      <td>0.000078</td>\n",
       "      <td>0.0</td>\n",
       "      <td>1.000000e-10</td>\n",
       "      <td>1.787977</td>\n",
       "      <td>3124ef1903c236f1962db3ec8dacd2fe</td>\n",
       "      <td>/var/folders/2f/l5_mybzs30j4qqvyj98w1_nw0000gn...</td>\n",
       "      <td>7.368421e-02</td>\n",
       "      <td>False</td>\n",
       "    </tr>\n",
       "    <tr>\n",
       "      <th>15</th>\n",
       "      <td>False</td>\n",
       "      <td>1.0</td>\n",
       "      <td>4.015600e-09</td>\n",
       "      <td>-2.742500e-08</td>\n",
       "      <td>0.001186</td>\n",
       "      <td>0.001962</td>\n",
       "      <td>1.753100e-07</td>\n",
       "      <td>2.323812e-06</td>\n",
       "      <td>1.459800e-08</td>\n",
       "      <td>0.001189</td>\n",
       "      <td>...</td>\n",
       "      <td>1.7883</td>\n",
       "      <td>0.003879</td>\n",
       "      <td>0.000077</td>\n",
       "      <td>0.0</td>\n",
       "      <td>1.000000e-10</td>\n",
       "      <td>1.787978</td>\n",
       "      <td>961dc67f12dc8c627e0a53ad04219881</td>\n",
       "      <td>/var/folders/2f/l5_mybzs30j4qqvyj98w1_nw0000gn...</td>\n",
       "      <td>7.894737e-02</td>\n",
       "      <td>False</td>\n",
       "    </tr>\n",
       "    <tr>\n",
       "      <th>16</th>\n",
       "      <td>False</td>\n",
       "      <td>1.0</td>\n",
       "      <td>4.015600e-09</td>\n",
       "      <td>-3.215500e-08</td>\n",
       "      <td>0.001330</td>\n",
       "      <td>0.002161</td>\n",
       "      <td>1.755100e-07</td>\n",
       "      <td>2.871803e-06</td>\n",
       "      <td>1.223600e-08</td>\n",
       "      <td>0.001334</td>\n",
       "      <td>...</td>\n",
       "      <td>1.7883</td>\n",
       "      <td>0.003879</td>\n",
       "      <td>0.000077</td>\n",
       "      <td>0.0</td>\n",
       "      <td>1.000000e-10</td>\n",
       "      <td>1.787978</td>\n",
       "      <td>9a8e21bd4149448d46774270247b7c2b</td>\n",
       "      <td>/var/folders/2f/l5_mybzs30j4qqvyj98w1_nw0000gn...</td>\n",
       "      <td>8.421053e-02</td>\n",
       "      <td>False</td>\n",
       "    </tr>\n",
       "    <tr>\n",
       "      <th>17</th>\n",
       "      <td>False</td>\n",
       "      <td>1.0</td>\n",
       "      <td>4.015600e-09</td>\n",
       "      <td>-3.645000e-08</td>\n",
       "      <td>0.001467</td>\n",
       "      <td>0.002349</td>\n",
       "      <td>1.757800e-07</td>\n",
       "      <td>3.444868e-06</td>\n",
       "      <td>8.855100e-09</td>\n",
       "      <td>0.001472</td>\n",
       "      <td>...</td>\n",
       "      <td>1.7883</td>\n",
       "      <td>0.003879</td>\n",
       "      <td>0.000077</td>\n",
       "      <td>0.0</td>\n",
       "      <td>1.000000e-10</td>\n",
       "      <td>1.787979</td>\n",
       "      <td>c191147e9f05abf7a8ba60eb73fbddbd</td>\n",
       "      <td>/var/folders/2f/l5_mybzs30j4qqvyj98w1_nw0000gn...</td>\n",
       "      <td>8.947368e-02</td>\n",
       "      <td>False</td>\n",
       "    </tr>\n",
       "    <tr>\n",
       "      <th>18</th>\n",
       "      <td>False</td>\n",
       "      <td>1.0</td>\n",
       "      <td>4.015600e-09</td>\n",
       "      <td>-4.010700e-08</td>\n",
       "      <td>0.001595</td>\n",
       "      <td>0.002522</td>\n",
       "      <td>1.761000e-07</td>\n",
       "      <td>4.022045e-06</td>\n",
       "      <td>4.511600e-09</td>\n",
       "      <td>0.001601</td>\n",
       "      <td>...</td>\n",
       "      <td>1.7883</td>\n",
       "      <td>0.003879</td>\n",
       "      <td>0.000077</td>\n",
       "      <td>0.0</td>\n",
       "      <td>1.000000e-10</td>\n",
       "      <td>1.787980</td>\n",
       "      <td>1c33e9ed18d9ff88f91eda547cfe96cd</td>\n",
       "      <td>/var/folders/2f/l5_mybzs30j4qqvyj98w1_nw0000gn...</td>\n",
       "      <td>9.473684e-02</td>\n",
       "      <td>False</td>\n",
       "    </tr>\n",
       "    <tr>\n",
       "      <th>19</th>\n",
       "      <td>NaN</td>\n",
       "      <td>NaN</td>\n",
       "      <td>NaN</td>\n",
       "      <td>NaN</td>\n",
       "      <td>NaN</td>\n",
       "      <td>NaN</td>\n",
       "      <td>NaN</td>\n",
       "      <td>NaN</td>\n",
       "      <td>NaN</td>\n",
       "      <td>NaN</td>\n",
       "      <td>...</td>\n",
       "      <td>NaN</td>\n",
       "      <td>NaN</td>\n",
       "      <td>NaN</td>\n",
       "      <td>NaN</td>\n",
       "      <td>NaN</td>\n",
       "      <td>NaN</td>\n",
       "      <td>NaN</td>\n",
       "      <td>NaN</td>\n",
       "      <td>1.000000e+09</td>\n",
       "      <td>True</td>\n",
       "    </tr>\n",
       "  </tbody>\n",
       "</table>\n",
       "<p>20 rows × 25 columns</p>\n",
       "</div>"
      ],
      "text/plain": [
       "    error  end_mean_z    end_mean_t    end_mean_x  end_sigma_x  end_sigma_xp  \\\n",
       "0   False         1.0  4.015600e-09 -3.605100e-09     0.000616      0.000657   \n",
       "1   False         1.0  4.015600e-09 -2.727100e-09     0.000608      0.000647   \n",
       "2   False         1.0  4.015600e-09 -1.654600e-09     0.000584      0.000621   \n",
       "3   False         1.0  4.015600e-09 -5.596500e-10     0.000546      0.000581   \n",
       "4   False         1.0  4.015600e-09  3.749800e-10     0.000496      0.000535   \n",
       "5   False         1.0  4.015600e-09  9.793000e-10     0.000439      0.000499   \n",
       "6   False         1.0  4.015600e-09  1.098900e-09     0.000384      0.000492   \n",
       "7   False         1.0  4.015600e-09  5.689600e-10     0.000347      0.000534   \n",
       "8   False         1.0  4.015600e-09 -6.653800e-10     0.000349      0.000629   \n",
       "9   False         1.0  4.015600e-09 -2.662300e-09     0.000399      0.000768   \n",
       "10  False         1.0  4.015600e-09 -5.442600e-09     0.000491      0.000938   \n",
       "11  False         1.0  4.015600e-09 -8.943500e-09     0.000610      0.001129   \n",
       "12  False         1.0  4.015600e-09 -1.305700e-08     0.000746      0.001333   \n",
       "13  False         1.0  4.015600e-09 -1.761700e-08     0.000890      0.001543   \n",
       "14  False         1.0  4.015600e-09 -2.254200e-08     0.001038      0.001754   \n",
       "15  False         1.0  4.015600e-09 -2.742500e-08     0.001186      0.001962   \n",
       "16  False         1.0  4.015600e-09 -3.215500e-08     0.001330      0.002161   \n",
       "17  False         1.0  4.015600e-09 -3.645000e-08     0.001467      0.002349   \n",
       "18  False         1.0  4.015600e-09 -4.010700e-08     0.001595      0.002522   \n",
       "19    NaN         NaN           NaN           NaN          NaN           NaN   \n",
       "\n",
       "    end_norm_emit_x  end_cov_x__xp    end_mean_y  end_sigma_y  ...  \\\n",
       "0      1.748700e-07   3.912012e-07 -5.709200e-09     0.000616  ...   \n",
       "1      1.749400e-07   3.799807e-07 -5.900700e-09     0.000608  ...   \n",
       "2      1.750100e-07   3.477970e-07 -5.564700e-09     0.000584  ...   \n",
       "3      1.750700e-07   2.999282e-07 -4.652900e-09     0.000545  ...   \n",
       "4      1.751200e-07   2.448360e-07 -3.170800e-09     0.000495  ...   \n",
       "5      1.751500e-07   1.935768e-07 -1.156600e-09     0.000439  ...   \n",
       "6      1.751700e-07   1.589409e-07  1.296300e-09     0.000384  ...   \n",
       "7      1.751700e-07   1.545434e-07  4.052900e-09     0.000347  ...   \n",
       "8      1.751500e-07   1.937603e-07  6.928300e-09     0.000349  ...   \n",
       "9      1.751300e-07   2.886720e-07  9.753800e-09     0.000399  ...   \n",
       "10     1.751000e-07   4.490753e-07  1.230300e-08     0.000490  ...   \n",
       "11     1.750800e-07   6.815942e-07  1.438200e-08     0.000610  ...   \n",
       "12     1.750700e-07   9.890153e-07  1.580400e-08     0.000746  ...   \n",
       "13     1.751000e-07   1.369874e-06  1.640300e-08     0.000891  ...   \n",
       "14     1.751800e-07   1.818200e-06  1.601500e-08     0.001040  ...   \n",
       "15     1.753100e-07   2.323812e-06  1.459800e-08     0.001189  ...   \n",
       "16     1.755100e-07   2.871803e-06  1.223600e-08     0.001334  ...   \n",
       "17     1.757800e-07   3.444868e-06  8.855100e-09     0.001472  ...   \n",
       "18     1.761000e-07   4.022045e-06  4.511600e-09     0.001601  ...   \n",
       "19              NaN            NaN           NaN          NaN  ...   \n",
       "\n",
       "    end_sigma_energy  end_norm_emit_z  end_cov_z__energy  end_n_particle_loss  \\\n",
       "0             1.7883         0.003879           0.000078                  0.0   \n",
       "1             1.7883         0.003879           0.000078                  0.0   \n",
       "2             1.7883         0.003879           0.000078                  0.0   \n",
       "3             1.7883         0.003879           0.000078                  0.0   \n",
       "4             1.7883         0.003879           0.000078                  0.0   \n",
       "5             1.7883         0.003879           0.000078                  0.0   \n",
       "6             1.7883         0.003879           0.000078                  0.0   \n",
       "7             1.7883         0.003879           0.000078                  0.0   \n",
       "8             1.7883         0.003879           0.000078                  0.0   \n",
       "9             1.7883         0.003879           0.000078                  0.0   \n",
       "10            1.7883         0.003879           0.000078                  0.0   \n",
       "11            1.7883         0.003879           0.000078                  0.0   \n",
       "12            1.7883         0.003879           0.000078                  0.0   \n",
       "13            1.7883         0.003879           0.000078                  0.0   \n",
       "14            1.7883         0.003879           0.000078                  0.0   \n",
       "15            1.7883         0.003879           0.000077                  0.0   \n",
       "16            1.7883         0.003879           0.000077                  0.0   \n",
       "17            1.7883         0.003879           0.000077                  0.0   \n",
       "18            1.7883         0.003879           0.000077                  0.0   \n",
       "19               NaN              NaN                NaN                  NaN   \n",
       "\n",
       "    end_total_charge  end_higher_order_energy_spread  \\\n",
       "0       1.000000e-10                        1.787977   \n",
       "1       1.000000e-10                        1.787977   \n",
       "2       1.000000e-10                        1.787977   \n",
       "3       1.000000e-10                        1.787977   \n",
       "4       1.000000e-10                        1.787976   \n",
       "5       1.000000e-10                        1.787976   \n",
       "6       1.000000e-10                        1.787976   \n",
       "7       1.000000e-10                        1.787976   \n",
       "8       1.000000e-10                        1.787976   \n",
       "9       1.000000e-10                        1.787976   \n",
       "10      1.000000e-10                        1.787976   \n",
       "11      1.000000e-10                        1.787976   \n",
       "12      1.000000e-10                        1.787976   \n",
       "13      1.000000e-10                        1.787976   \n",
       "14      1.000000e-10                        1.787977   \n",
       "15      1.000000e-10                        1.787978   \n",
       "16      1.000000e-10                        1.787978   \n",
       "17      1.000000e-10                        1.787979   \n",
       "18      1.000000e-10                        1.787980   \n",
       "19               NaN                             NaN   \n",
       "\n",
       "                         fingerprint  \\\n",
       "0   d70364f093fe5d4a9d3acd0d0193fa91   \n",
       "1   47ce10b464da11518826a3c6d6654f42   \n",
       "2   284fa843911e69ab6122d23d79ad4806   \n",
       "3   d6fd70f4af4f613844fd65600267f9fb   \n",
       "4   da89d10555a9b4c7b864fbb542ac497b   \n",
       "5   7c0baedf140c3dbeef2fc3a73c15ea7b   \n",
       "6   7b87b3f42160e0dc6a00aa7fa134604c   \n",
       "7   dae144c959cdf177ec97e3b59f159015   \n",
       "8   aa14936ee8e37ca095d6d052bb7b2c04   \n",
       "9   efffe3c12cb38f91092589b38d338d29   \n",
       "10  926798389bda3d66c00620a39ddd3b8b   \n",
       "11  1d54b0678b9ef6bfc42b0c2ff2120ae5   \n",
       "12  0a331d558139ac3a05c4cf676a8455b6   \n",
       "13  e6bd6c13a2d22ad150081863f1c6fb59   \n",
       "14  3124ef1903c236f1962db3ec8dacd2fe   \n",
       "15  961dc67f12dc8c627e0a53ad04219881   \n",
       "16  9a8e21bd4149448d46774270247b7c2b   \n",
       "17  c191147e9f05abf7a8ba60eb73fbddbd   \n",
       "18  1c33e9ed18d9ff88f91eda547cfe96cd   \n",
       "19                               NaN   \n",
       "\n",
       "                                              archive       maxb(1)  Exception  \n",
       "0   /var/folders/2f/l5_mybzs30j4qqvyj98w1_nw0000gn...  0.000000e+00      False  \n",
       "1   /var/folders/2f/l5_mybzs30j4qqvyj98w1_nw0000gn...  5.263158e-03      False  \n",
       "2   /var/folders/2f/l5_mybzs30j4qqvyj98w1_nw0000gn...  1.052632e-02      False  \n",
       "3   /var/folders/2f/l5_mybzs30j4qqvyj98w1_nw0000gn...  1.578947e-02      False  \n",
       "4   /var/folders/2f/l5_mybzs30j4qqvyj98w1_nw0000gn...  2.105263e-02      False  \n",
       "5   /var/folders/2f/l5_mybzs30j4qqvyj98w1_nw0000gn...  2.631579e-02      False  \n",
       "6   /var/folders/2f/l5_mybzs30j4qqvyj98w1_nw0000gn...  3.157895e-02      False  \n",
       "7   /var/folders/2f/l5_mybzs30j4qqvyj98w1_nw0000gn...  3.684211e-02      False  \n",
       "8   /var/folders/2f/l5_mybzs30j4qqvyj98w1_nw0000gn...  4.210526e-02      False  \n",
       "9   /var/folders/2f/l5_mybzs30j4qqvyj98w1_nw0000gn...  4.736842e-02      False  \n",
       "10  /var/folders/2f/l5_mybzs30j4qqvyj98w1_nw0000gn...  5.263158e-02      False  \n",
       "11  /var/folders/2f/l5_mybzs30j4qqvyj98w1_nw0000gn...  5.789474e-02      False  \n",
       "12  /var/folders/2f/l5_mybzs30j4qqvyj98w1_nw0000gn...  6.315789e-02      False  \n",
       "13  /var/folders/2f/l5_mybzs30j4qqvyj98w1_nw0000gn...  6.842105e-02      False  \n",
       "14  /var/folders/2f/l5_mybzs30j4qqvyj98w1_nw0000gn...  7.368421e-02      False  \n",
       "15  /var/folders/2f/l5_mybzs30j4qqvyj98w1_nw0000gn...  7.894737e-02      False  \n",
       "16  /var/folders/2f/l5_mybzs30j4qqvyj98w1_nw0000gn...  8.421053e-02      False  \n",
       "17  /var/folders/2f/l5_mybzs30j4qqvyj98w1_nw0000gn...  8.947368e-02      False  \n",
       "18  /var/folders/2f/l5_mybzs30j4qqvyj98w1_nw0000gn...  9.473684e-02      False  \n",
       "19                                                NaN  1.000000e+09       True  \n",
       "\n",
       "[20 rows x 25 columns]"
      ]
     },
     "execution_count": 18,
     "metadata": {},
     "output_type": "execute_result"
    }
   ],
   "source": [
    "# Make a DataFrame\n",
    "df = pd.DataFrame(outputs)\n",
    "df"
   ]
  },
  {
   "cell_type": "code",
   "execution_count": 19,
   "metadata": {
    "execution": {
     "iopub.execute_input": "2023-08-02T15:50:37.388289Z",
     "iopub.status.busy": "2023-08-02T15:50:37.388183Z",
     "iopub.status.idle": "2023-08-02T15:50:37.415874Z",
     "shell.execute_reply": "2023-08-02T15:50:37.415617Z"
    }
   },
   "outputs": [],
   "source": [
    "# Get all runs without an exeption\n",
    "filtered_df=df[~df['Exception']]"
   ]
  },
  {
   "cell_type": "markdown",
   "metadata": {},
   "source": [
    "# Visualize with Bokeh"
   ]
  },
  {
   "cell_type": "code",
   "execution_count": 20,
   "metadata": {
    "execution": {
     "iopub.execute_input": "2023-08-02T15:50:37.417502Z",
     "iopub.status.busy": "2023-08-02T15:50:37.417414Z",
     "iopub.status.idle": "2023-08-02T15:50:37.644910Z",
     "shell.execute_reply": "2023-08-02T15:50:37.644631Z"
    }
   },
   "outputs": [
    {
     "data": {
      "text/html": [
       "<style>\n",
       "        .bk-notebook-logo {\n",
       "            display: block;\n",
       "            width: 20px;\n",
       "            height: 20px;\n",
       "            background-image: url(data:image/png;base64,iVBORw0KGgoAAAANSUhEUgAAABQAAAAUCAYAAACNiR0NAAAABHNCSVQICAgIfAhkiAAAAAlwSFlzAAALEgAACxIB0t1+/AAAABx0RVh0U29mdHdhcmUAQWRvYmUgRmlyZXdvcmtzIENTNui8sowAAAOkSURBVDiNjZRtaJVlGMd/1/08zzln5zjP1LWcU9N0NkN8m2CYjpgQYQXqSs0I84OLIC0hkEKoPtiH3gmKoiJDU7QpLgoLjLIQCpEsNJ1vqUOdO7ppbuec5+V+rj4ctwzd8IIbbi6u+8f1539dt3A78eXC7QizUF7gyV1fD1Yqg4JWz84yffhm0qkFqBogB9rM8tZdtwVsPUhWhGcFJngGeWrPzHm5oaMmkfEg1usvLFyc8jLRqDOMru7AyC8saQr7GG7f5fvDeH7Ej8CM66nIF+8yngt6HWaKh7k49Soy9nXurCi1o3qUbS3zWfrYeQDTB/Qj6kX6Ybhw4B+bOYoLKCC9H3Nu/leUTZ1JdRWkkn2ldcCamzrcf47KKXdAJllSlxAOkRgyHsGC/zRday5Qld9DyoM4/q/rUoy/CXh3jzOu3bHUVZeU+DEn8FInkPBFlu3+nW3Nw0mk6vCDiWg8CeJaxEwuHS3+z5RgY+YBR6V1Z1nxSOfoaPa4LASWxxdNp+VWTk7+4vzaou8v8PN+xo+KY2xsw6une2frhw05CTYOmQvsEhjhWjn0bmXPjpE1+kplmmkP3suftwTubK9Vq22qKmrBhpY4jvd5afdRA3wGjFAgcnTK2s4hY0/GPNIb0nErGMCRxWOOX64Z8RAC4oCXdklmEvcL8o0BfkNK4lUg9HTl+oPlQxdNo3Mg4Nv175e/1LDGzZen30MEjRUtmXSfiTVu1kK8W4txyV6BMKlbgk3lMwYCiusNy9fVfvvwMxv8Ynl6vxoByANLTWplvuj/nF9m2+PDtt1eiHPBr1oIfhCChQMBw6Aw0UulqTKZdfVvfG7VcfIqLG9bcldL/+pdWTLxLUy8Qq38heUIjh4XlzZxzQm19lLFlr8vdQ97rjZVOLf8nclzckbcD4wxXMidpX30sFd37Fv/GtwwhzhxGVAprjbg0gCAEeIgwCZyTV2Z1REEW8O4py0wsjeloKoMr6iCY6dP92H6Vw/oTyICIthibxjm/DfN9lVz8IqtqKYLUXfoKVMVQVVJOElGjrnnUt9T9wbgp8AyYKaGlqingHZU/uG2NTZSVqwHQTWkx9hxjkpWDaCg6Ckj5qebgBVbT3V3NNXMSiWSDdGV3hrtzla7J+duwPOToIg42ChPQOQjspnSlp1V+Gjdged7+8UN5CRAV7a5EdFNwCjEaBR27b3W890TE7g24NAP/mMDXRWrGoFPQI9ls/MWO2dWFAar/xcOIImbbpA3zgAAAABJRU5ErkJggg==);\n",
       "        }\n",
       "    </style>\n",
       "    <div>\n",
       "        <a href=\"https://bokeh.org\" target=\"_blank\" class=\"bk-notebook-logo\"></a>\n",
       "        <span id=\"d907a712-6da0-463c-98a7-b763d04e623a\">Loading BokehJS ...</span>\n",
       "    </div>\n"
      ]
     },
     "metadata": {},
     "output_type": "display_data"
    },
    {
     "data": {
      "application/javascript": [
       "(function(root) {\n",
       "  function now() {\n",
       "    return new Date();\n",
       "  }\n",
       "\n",
       "  const force = true;\n",
       "\n",
       "  if (typeof root._bokeh_onload_callbacks === \"undefined\" || force === true) {\n",
       "    root._bokeh_onload_callbacks = [];\n",
       "    root._bokeh_is_loading = undefined;\n",
       "  }\n",
       "\n",
       "const JS_MIME_TYPE = 'application/javascript';\n",
       "  const HTML_MIME_TYPE = 'text/html';\n",
       "  const EXEC_MIME_TYPE = 'application/vnd.bokehjs_exec.v0+json';\n",
       "  const CLASS_NAME = 'output_bokeh rendered_html';\n",
       "\n",
       "  /**\n",
       "   * Render data to the DOM node\n",
       "   */\n",
       "  function render(props, node) {\n",
       "    const script = document.createElement(\"script\");\n",
       "    node.appendChild(script);\n",
       "  }\n",
       "\n",
       "  /**\n",
       "   * Handle when an output is cleared or removed\n",
       "   */\n",
       "  function handleClearOutput(event, handle) {\n",
       "    const cell = handle.cell;\n",
       "\n",
       "    const id = cell.output_area._bokeh_element_id;\n",
       "    const server_id = cell.output_area._bokeh_server_id;\n",
       "    // Clean up Bokeh references\n",
       "    if (id != null && id in Bokeh.index) {\n",
       "      Bokeh.index[id].model.document.clear();\n",
       "      delete Bokeh.index[id];\n",
       "    }\n",
       "\n",
       "    if (server_id !== undefined) {\n",
       "      // Clean up Bokeh references\n",
       "      const cmd_clean = \"from bokeh.io.state import curstate; print(curstate().uuid_to_server['\" + server_id + \"'].get_sessions()[0].document.roots[0]._id)\";\n",
       "      cell.notebook.kernel.execute(cmd_clean, {\n",
       "        iopub: {\n",
       "          output: function(msg) {\n",
       "            const id = msg.content.text.trim();\n",
       "            if (id in Bokeh.index) {\n",
       "              Bokeh.index[id].model.document.clear();\n",
       "              delete Bokeh.index[id];\n",
       "            }\n",
       "          }\n",
       "        }\n",
       "      });\n",
       "      // Destroy server and session\n",
       "      const cmd_destroy = \"import bokeh.io.notebook as ion; ion.destroy_server('\" + server_id + \"')\";\n",
       "      cell.notebook.kernel.execute(cmd_destroy);\n",
       "    }\n",
       "  }\n",
       "\n",
       "  /**\n",
       "   * Handle when a new output is added\n",
       "   */\n",
       "  function handleAddOutput(event, handle) {\n",
       "    const output_area = handle.output_area;\n",
       "    const output = handle.output;\n",
       "\n",
       "    // limit handleAddOutput to display_data with EXEC_MIME_TYPE content only\n",
       "    if ((output.output_type != \"display_data\") || (!Object.prototype.hasOwnProperty.call(output.data, EXEC_MIME_TYPE))) {\n",
       "      return\n",
       "    }\n",
       "\n",
       "    const toinsert = output_area.element.find(\".\" + CLASS_NAME.split(' ')[0]);\n",
       "\n",
       "    if (output.metadata[EXEC_MIME_TYPE][\"id\"] !== undefined) {\n",
       "      toinsert[toinsert.length - 1].firstChild.textContent = output.data[JS_MIME_TYPE];\n",
       "      // store reference to embed id on output_area\n",
       "      output_area._bokeh_element_id = output.metadata[EXEC_MIME_TYPE][\"id\"];\n",
       "    }\n",
       "    if (output.metadata[EXEC_MIME_TYPE][\"server_id\"] !== undefined) {\n",
       "      const bk_div = document.createElement(\"div\");\n",
       "      bk_div.innerHTML = output.data[HTML_MIME_TYPE];\n",
       "      const script_attrs = bk_div.children[0].attributes;\n",
       "      for (let i = 0; i < script_attrs.length; i++) {\n",
       "        toinsert[toinsert.length - 1].firstChild.setAttribute(script_attrs[i].name, script_attrs[i].value);\n",
       "        toinsert[toinsert.length - 1].firstChild.textContent = bk_div.children[0].textContent\n",
       "      }\n",
       "      // store reference to server id on output_area\n",
       "      output_area._bokeh_server_id = output.metadata[EXEC_MIME_TYPE][\"server_id\"];\n",
       "    }\n",
       "  }\n",
       "\n",
       "  function register_renderer(events, OutputArea) {\n",
       "\n",
       "    function append_mime(data, metadata, element) {\n",
       "      // create a DOM node to render to\n",
       "      const toinsert = this.create_output_subarea(\n",
       "        metadata,\n",
       "        CLASS_NAME,\n",
       "        EXEC_MIME_TYPE\n",
       "      );\n",
       "      this.keyboard_manager.register_events(toinsert);\n",
       "      // Render to node\n",
       "      const props = {data: data, metadata: metadata[EXEC_MIME_TYPE]};\n",
       "      render(props, toinsert[toinsert.length - 1]);\n",
       "      element.append(toinsert);\n",
       "      return toinsert\n",
       "    }\n",
       "\n",
       "    /* Handle when an output is cleared or removed */\n",
       "    events.on('clear_output.CodeCell', handleClearOutput);\n",
       "    events.on('delete.Cell', handleClearOutput);\n",
       "\n",
       "    /* Handle when a new output is added */\n",
       "    events.on('output_added.OutputArea', handleAddOutput);\n",
       "\n",
       "    /**\n",
       "     * Register the mime type and append_mime function with output_area\n",
       "     */\n",
       "    OutputArea.prototype.register_mime_type(EXEC_MIME_TYPE, append_mime, {\n",
       "      /* Is output safe? */\n",
       "      safe: true,\n",
       "      /* Index of renderer in `output_area.display_order` */\n",
       "      index: 0\n",
       "    });\n",
       "  }\n",
       "\n",
       "  // register the mime type if in Jupyter Notebook environment and previously unregistered\n",
       "  if (root.Jupyter !== undefined) {\n",
       "    const events = require('base/js/events');\n",
       "    const OutputArea = require('notebook/js/outputarea').OutputArea;\n",
       "\n",
       "    if (OutputArea.prototype.mime_types().indexOf(EXEC_MIME_TYPE) == -1) {\n",
       "      register_renderer(events, OutputArea);\n",
       "    }\n",
       "  }\n",
       "  if (typeof (root._bokeh_timeout) === \"undefined\" || force === true) {\n",
       "    root._bokeh_timeout = Date.now() + 5000;\n",
       "    root._bokeh_failed_load = false;\n",
       "  }\n",
       "\n",
       "  const NB_LOAD_WARNING = {'data': {'text/html':\n",
       "     \"<div style='background-color: #fdd'>\\n\"+\n",
       "     \"<p>\\n\"+\n",
       "     \"BokehJS does not appear to have successfully loaded. If loading BokehJS from CDN, this \\n\"+\n",
       "     \"may be due to a slow or bad network connection. Possible fixes:\\n\"+\n",
       "     \"</p>\\n\"+\n",
       "     \"<ul>\\n\"+\n",
       "     \"<li>re-rerun `output_notebook()` to attempt to load from CDN again, or</li>\\n\"+\n",
       "     \"<li>use INLINE resources instead, as so:</li>\\n\"+\n",
       "     \"</ul>\\n\"+\n",
       "     \"<code>\\n\"+\n",
       "     \"from bokeh.resources import INLINE\\n\"+\n",
       "     \"output_notebook(resources=INLINE)\\n\"+\n",
       "     \"</code>\\n\"+\n",
       "     \"</div>\"}};\n",
       "\n",
       "  function display_loaded() {\n",
       "    const el = document.getElementById(\"d907a712-6da0-463c-98a7-b763d04e623a\");\n",
       "    if (el != null) {\n",
       "      el.textContent = \"BokehJS is loading...\";\n",
       "    }\n",
       "    if (root.Bokeh !== undefined) {\n",
       "      if (el != null) {\n",
       "        el.textContent = \"BokehJS \" + root.Bokeh.version + \" successfully loaded.\";\n",
       "      }\n",
       "    } else if (Date.now() < root._bokeh_timeout) {\n",
       "      setTimeout(display_loaded, 100)\n",
       "    }\n",
       "  }\n",
       "\n",
       "  function run_callbacks() {\n",
       "    try {\n",
       "      root._bokeh_onload_callbacks.forEach(function(callback) {\n",
       "        if (callback != null)\n",
       "          callback();\n",
       "      });\n",
       "    } finally {\n",
       "      delete root._bokeh_onload_callbacks\n",
       "    }\n",
       "    console.debug(\"Bokeh: all callbacks have finished\");\n",
       "  }\n",
       "\n",
       "  function load_libs(css_urls, js_urls, callback) {\n",
       "    if (css_urls == null) css_urls = [];\n",
       "    if (js_urls == null) js_urls = [];\n",
       "\n",
       "    root._bokeh_onload_callbacks.push(callback);\n",
       "    if (root._bokeh_is_loading > 0) {\n",
       "      console.debug(\"Bokeh: BokehJS is being loaded, scheduling callback at\", now());\n",
       "      return null;\n",
       "    }\n",
       "    if (js_urls == null || js_urls.length === 0) {\n",
       "      run_callbacks();\n",
       "      return null;\n",
       "    }\n",
       "    console.debug(\"Bokeh: BokehJS not loaded, scheduling load and callback at\", now());\n",
       "    root._bokeh_is_loading = css_urls.length + js_urls.length;\n",
       "\n",
       "    function on_load() {\n",
       "      root._bokeh_is_loading--;\n",
       "      if (root._bokeh_is_loading === 0) {\n",
       "        console.debug(\"Bokeh: all BokehJS libraries/stylesheets loaded\");\n",
       "        run_callbacks()\n",
       "      }\n",
       "    }\n",
       "\n",
       "    function on_error(url) {\n",
       "      console.error(\"failed to load \" + url);\n",
       "    }\n",
       "\n",
       "    for (let i = 0; i < css_urls.length; i++) {\n",
       "      const url = css_urls[i];\n",
       "      const element = document.createElement(\"link\");\n",
       "      element.onload = on_load;\n",
       "      element.onerror = on_error.bind(null, url);\n",
       "      element.rel = \"stylesheet\";\n",
       "      element.type = \"text/css\";\n",
       "      element.href = url;\n",
       "      console.debug(\"Bokeh: injecting link tag for BokehJS stylesheet: \", url);\n",
       "      document.body.appendChild(element);\n",
       "    }\n",
       "\n",
       "    for (let i = 0; i < js_urls.length; i++) {\n",
       "      const url = js_urls[i];\n",
       "      const element = document.createElement('script');\n",
       "      element.onload = on_load;\n",
       "      element.onerror = on_error.bind(null, url);\n",
       "      element.async = false;\n",
       "      element.src = url;\n",
       "      console.debug(\"Bokeh: injecting script tag for BokehJS library: \", url);\n",
       "      document.head.appendChild(element);\n",
       "    }\n",
       "  };\n",
       "\n",
       "  function inject_raw_css(css) {\n",
       "    const element = document.createElement(\"style\");\n",
       "    element.appendChild(document.createTextNode(css));\n",
       "    document.body.appendChild(element);\n",
       "  }\n",
       "\n",
       "  const js_urls = [\"https://cdn.bokeh.org/bokeh/release/bokeh-3.2.1.min.js\", \"https://cdn.bokeh.org/bokeh/release/bokeh-gl-3.2.1.min.js\", \"https://cdn.bokeh.org/bokeh/release/bokeh-widgets-3.2.1.min.js\", \"https://cdn.bokeh.org/bokeh/release/bokeh-tables-3.2.1.min.js\", \"https://cdn.bokeh.org/bokeh/release/bokeh-mathjax-3.2.1.min.js\"];\n",
       "  const css_urls = [];\n",
       "\n",
       "  const inline_js = [    function(Bokeh) {\n",
       "      Bokeh.set_log_level(\"info\");\n",
       "    },\n",
       "function(Bokeh) {\n",
       "    }\n",
       "  ];\n",
       "\n",
       "  function run_inline_js() {\n",
       "    if (root.Bokeh !== undefined || force === true) {\n",
       "          for (let i = 0; i < inline_js.length; i++) {\n",
       "      inline_js[i].call(root, root.Bokeh);\n",
       "    }\n",
       "if (force === true) {\n",
       "        display_loaded();\n",
       "      }} else if (Date.now() < root._bokeh_timeout) {\n",
       "      setTimeout(run_inline_js, 100);\n",
       "    } else if (!root._bokeh_failed_load) {\n",
       "      console.log(\"Bokeh: BokehJS failed to load within specified timeout.\");\n",
       "      root._bokeh_failed_load = true;\n",
       "    } else if (force !== true) {\n",
       "      const cell = $(document.getElementById(\"d907a712-6da0-463c-98a7-b763d04e623a\")).parents('.cell').data().cell;\n",
       "      cell.output_area.append_execute_result(NB_LOAD_WARNING)\n",
       "    }\n",
       "  }\n",
       "\n",
       "  if (root._bokeh_is_loading === 0) {\n",
       "    console.debug(\"Bokeh: BokehJS loaded, going straight to plotting\");\n",
       "    run_inline_js();\n",
       "  } else {\n",
       "    load_libs(css_urls, js_urls, function() {\n",
       "      console.debug(\"Bokeh: BokehJS plotting callback run at\", now());\n",
       "      run_inline_js();\n",
       "    });\n",
       "  }\n",
       "}(window));"
      ],
      "application/vnd.bokehjs_load.v0+json": "(function(root) {\n  function now() {\n    return new Date();\n  }\n\n  const force = true;\n\n  if (typeof root._bokeh_onload_callbacks === \"undefined\" || force === true) {\n    root._bokeh_onload_callbacks = [];\n    root._bokeh_is_loading = undefined;\n  }\n\n\n  if (typeof (root._bokeh_timeout) === \"undefined\" || force === true) {\n    root._bokeh_timeout = Date.now() + 5000;\n    root._bokeh_failed_load = false;\n  }\n\n  const NB_LOAD_WARNING = {'data': {'text/html':\n     \"<div style='background-color: #fdd'>\\n\"+\n     \"<p>\\n\"+\n     \"BokehJS does not appear to have successfully loaded. If loading BokehJS from CDN, this \\n\"+\n     \"may be due to a slow or bad network connection. Possible fixes:\\n\"+\n     \"</p>\\n\"+\n     \"<ul>\\n\"+\n     \"<li>re-rerun `output_notebook()` to attempt to load from CDN again, or</li>\\n\"+\n     \"<li>use INLINE resources instead, as so:</li>\\n\"+\n     \"</ul>\\n\"+\n     \"<code>\\n\"+\n     \"from bokeh.resources import INLINE\\n\"+\n     \"output_notebook(resources=INLINE)\\n\"+\n     \"</code>\\n\"+\n     \"</div>\"}};\n\n  function display_loaded() {\n    const el = document.getElementById(\"d907a712-6da0-463c-98a7-b763d04e623a\");\n    if (el != null) {\n      el.textContent = \"BokehJS is loading...\";\n    }\n    if (root.Bokeh !== undefined) {\n      if (el != null) {\n        el.textContent = \"BokehJS \" + root.Bokeh.version + \" successfully loaded.\";\n      }\n    } else if (Date.now() < root._bokeh_timeout) {\n      setTimeout(display_loaded, 100)\n    }\n  }\n\n  function run_callbacks() {\n    try {\n      root._bokeh_onload_callbacks.forEach(function(callback) {\n        if (callback != null)\n          callback();\n      });\n    } finally {\n      delete root._bokeh_onload_callbacks\n    }\n    console.debug(\"Bokeh: all callbacks have finished\");\n  }\n\n  function load_libs(css_urls, js_urls, callback) {\n    if (css_urls == null) css_urls = [];\n    if (js_urls == null) js_urls = [];\n\n    root._bokeh_onload_callbacks.push(callback);\n    if (root._bokeh_is_loading > 0) {\n      console.debug(\"Bokeh: BokehJS is being loaded, scheduling callback at\", now());\n      return null;\n    }\n    if (js_urls == null || js_urls.length === 0) {\n      run_callbacks();\n      return null;\n    }\n    console.debug(\"Bokeh: BokehJS not loaded, scheduling load and callback at\", now());\n    root._bokeh_is_loading = css_urls.length + js_urls.length;\n\n    function on_load() {\n      root._bokeh_is_loading--;\n      if (root._bokeh_is_loading === 0) {\n        console.debug(\"Bokeh: all BokehJS libraries/stylesheets loaded\");\n        run_callbacks()\n      }\n    }\n\n    function on_error(url) {\n      console.error(\"failed to load \" + url);\n    }\n\n    for (let i = 0; i < css_urls.length; i++) {\n      const url = css_urls[i];\n      const element = document.createElement(\"link\");\n      element.onload = on_load;\n      element.onerror = on_error.bind(null, url);\n      element.rel = \"stylesheet\";\n      element.type = \"text/css\";\n      element.href = url;\n      console.debug(\"Bokeh: injecting link tag for BokehJS stylesheet: \", url);\n      document.body.appendChild(element);\n    }\n\n    for (let i = 0; i < js_urls.length; i++) {\n      const url = js_urls[i];\n      const element = document.createElement('script');\n      element.onload = on_load;\n      element.onerror = on_error.bind(null, url);\n      element.async = false;\n      element.src = url;\n      console.debug(\"Bokeh: injecting script tag for BokehJS library: \", url);\n      document.head.appendChild(element);\n    }\n  };\n\n  function inject_raw_css(css) {\n    const element = document.createElement(\"style\");\n    element.appendChild(document.createTextNode(css));\n    document.body.appendChild(element);\n  }\n\n  const js_urls = [\"https://cdn.bokeh.org/bokeh/release/bokeh-3.2.1.min.js\", \"https://cdn.bokeh.org/bokeh/release/bokeh-gl-3.2.1.min.js\", \"https://cdn.bokeh.org/bokeh/release/bokeh-widgets-3.2.1.min.js\", \"https://cdn.bokeh.org/bokeh/release/bokeh-tables-3.2.1.min.js\", \"https://cdn.bokeh.org/bokeh/release/bokeh-mathjax-3.2.1.min.js\"];\n  const css_urls = [];\n\n  const inline_js = [    function(Bokeh) {\n      Bokeh.set_log_level(\"info\");\n    },\nfunction(Bokeh) {\n    }\n  ];\n\n  function run_inline_js() {\n    if (root.Bokeh !== undefined || force === true) {\n          for (let i = 0; i < inline_js.length; i++) {\n      inline_js[i].call(root, root.Bokeh);\n    }\nif (force === true) {\n        display_loaded();\n      }} else if (Date.now() < root._bokeh_timeout) {\n      setTimeout(run_inline_js, 100);\n    } else if (!root._bokeh_failed_load) {\n      console.log(\"Bokeh: BokehJS failed to load within specified timeout.\");\n      root._bokeh_failed_load = true;\n    } else if (force !== true) {\n      const cell = $(document.getElementById(\"d907a712-6da0-463c-98a7-b763d04e623a\")).parents('.cell').data().cell;\n      cell.output_area.append_execute_result(NB_LOAD_WARNING)\n    }\n  }\n\n  if (root._bokeh_is_loading === 0) {\n    console.debug(\"Bokeh: BokehJS loaded, going straight to plotting\");\n    run_inline_js();\n  } else {\n    load_libs(css_urls, js_urls, function() {\n      console.debug(\"Bokeh: BokehJS plotting callback run at\", now());\n      run_inline_js();\n    });\n  }\n}(window));"
     },
     "metadata": {},
     "output_type": "display_data"
    }
   ],
   "source": [
    "from bokeh.plotting import figure, output_notebook, show\n",
    "\n",
    "from bokeh.models import ColumnDataSource\n",
    "\n",
    "# Allows plots to show up in the notebook\n",
    "output_notebook()"
   ]
  },
  {
   "cell_type": "code",
   "execution_count": 21,
   "metadata": {
    "execution": {
     "iopub.execute_input": "2023-08-02T15:50:37.646513Z",
     "iopub.status.busy": "2023-08-02T15:50:37.646394Z",
     "iopub.status.idle": "2023-08-02T15:50:37.680756Z",
     "shell.execute_reply": "2023-08-02T15:50:37.680486Z"
    }
   },
   "outputs": [
    {
     "data": {
      "text/plain": [
       "['index',\n",
       " 'error',\n",
       " 'end_mean_z',\n",
       " 'end_mean_t',\n",
       " 'end_mean_x',\n",
       " 'end_sigma_x',\n",
       " 'end_sigma_xp',\n",
       " 'end_norm_emit_x',\n",
       " 'end_cov_x__xp',\n",
       " 'end_mean_y',\n",
       " 'end_sigma_y',\n",
       " 'end_sigma_yp',\n",
       " 'end_norm_emit_y',\n",
       " 'end_cov_y__yp',\n",
       " 'end_mean_kinetic_energy',\n",
       " 'end_sigma_z',\n",
       " 'end_sigma_energy',\n",
       " 'end_norm_emit_z',\n",
       " 'end_cov_z__energy',\n",
       " 'end_n_particle_loss',\n",
       " 'end_total_charge',\n",
       " 'end_higher_order_energy_spread',\n",
       " 'fingerprint',\n",
       " 'archive',\n",
       " 'maxb(1)',\n",
       " 'Exception']"
      ]
     },
     "execution_count": 21,
     "metadata": {},
     "output_type": "execute_result"
    }
   ],
   "source": [
    "# Form a Bokeh style data source\n",
    "source = ColumnDataSource(filtered_df)\n",
    "source.column_names"
   ]
  },
  {
   "cell_type": "code",
   "execution_count": 22,
   "metadata": {
    "execution": {
     "iopub.execute_input": "2023-08-02T15:50:37.682290Z",
     "iopub.status.busy": "2023-08-02T15:50:37.682204Z",
     "iopub.status.idle": "2023-08-02T15:50:37.735388Z",
     "shell.execute_reply": "2023-08-02T15:50:37.735093Z"
    }
   },
   "outputs": [
    {
     "data": {
      "text/html": [
       "\n",
       "  <div id=\"a335a13e-2bf6-406b-8468-80cb03386e6a\" data-root-id=\"p1004\" style=\"display: contents;\"></div>\n"
      ]
     },
     "metadata": {},
     "output_type": "display_data"
    },
    {
     "data": {
      "application/javascript": [
       "(function(root) {\n",
       "  function embed_document(root) {\n",
       "  const docs_json = {\"cdf3b960-705c-4638-80e3-1c7523c6dec2\":{\"version\":\"3.2.1\",\"title\":\"Bokeh Application\",\"roots\":[{\"type\":\"object\",\"name\":\"Figure\",\"id\":\"p1004\",\"attributes\":{\"x_range\":{\"type\":\"object\",\"name\":\"DataRange1d\",\"id\":\"p1005\"},\"y_range\":{\"type\":\"object\",\"name\":\"DataRange1d\",\"id\":\"p1006\"},\"x_scale\":{\"type\":\"object\",\"name\":\"LinearScale\",\"id\":\"p1013\"},\"y_scale\":{\"type\":\"object\",\"name\":\"LinearScale\",\"id\":\"p1014\"},\"title\":{\"type\":\"object\",\"name\":\"Title\",\"id\":\"p1011\"},\"renderers\":[{\"type\":\"object\",\"name\":\"GlyphRenderer\",\"id\":\"p1038\",\"attributes\":{\"data_source\":{\"type\":\"object\",\"name\":\"ColumnDataSource\",\"id\":\"p1001\",\"attributes\":{\"selected\":{\"type\":\"object\",\"name\":\"Selection\",\"id\":\"p1002\",\"attributes\":{\"indices\":[],\"line_indices\":[]}},\"selection_policy\":{\"type\":\"object\",\"name\":\"UnionRenderers\",\"id\":\"p1003\"},\"data\":{\"type\":\"map\",\"entries\":[[\"index\",{\"type\":\"ndarray\",\"array\":{\"type\":\"bytes\",\"data\":\"AAAAAAEAAAACAAAAAwAAAAQAAAAFAAAABgAAAAcAAAAIAAAACQAAAAoAAAALAAAADAAAAA0AAAAOAAAADwAAABAAAAARAAAAEgAAAA==\"},\"shape\":[19],\"dtype\":\"int32\",\"order\":\"little\"}],[\"error\",{\"type\":\"ndarray\",\"array\":[false,false,false,false,false,false,false,false,false,false,false,false,false,false,false,false,false,false,false],\"shape\":[19],\"dtype\":\"object\",\"order\":\"little\"}],[\"end_mean_z\",{\"type\":\"ndarray\",\"array\":{\"type\":\"bytes\",\"data\":\"AAAAAAAA8D8AAAAAAADwPwAAAAAAAPA/AAAAAAAA8D8AAAAAAADwPwAAAAAAAPA/AAAAAAAA8D8AAAAAAADwPwAAAAAAAPA/AAAAAAAA8D8AAAAAAADwPwAAAAAAAPA/AAAAAAAA8D8AAAAAAADwPwAAAAAAAPA/AAAAAAAA8D8AAAAAAADwPwAAAAAAAPA/AAAAAAAA8D8=\"},\"shape\":[19],\"dtype\":\"float64\",\"order\":\"little\"}],[\"end_mean_t\",{\"type\":\"ndarray\",\"array\":{\"type\":\"bytes\",\"data\":\"WWOe6jI/MT5ZY57qMj8xPlljnuoyPzE+WWOe6jI/MT5ZY57qMj8xPlljnuoyPzE+WWOe6jI/MT5ZY57qMj8xPlljnuoyPzE+WWOe6jI/MT5ZY57qMj8xPlljnuoyPzE+WWOe6jI/MT5ZY57qMj8xPlljnuoyPzE+WWOe6jI/MT5ZY57qMj8xPlljnuoyPzE+WWOe6jI/MT4=\"},\"shape\":[19],\"dtype\":\"float64\",\"order\":\"little\"}],[\"end_mean_x\",{\"type\":\"ndarray\",\"array\":{\"type\":\"bytes\",\"data\":\"t0KI4LL3Lr6f02bR9GwnvnZwYfwBbRy++s8GxLs6A75aJ8zJt8T5PfqIXccB0xA+0GVaaAPhEj4cbKEFoIwDPnAeXo++3Aa+tt82qXXeJr5Vkk+1M2A3vlacI7q9NEO+ezatYikKTL6joooqhupSvuJjMztMNFi+AV8fz4ZyXb4uRAl8WUNhvtLW1VymkWO+nIiCnEOIZb4=\"},\"shape\":[19],\"dtype\":\"float64\",\"order\":\"little\"}],[\"end_sigma_x\",{\"type\":\"ndarray\",\"array\":{\"type\":\"bytes\",\"data\":\"6QvGLYsuRD/1vH41xetDP53hHxkfJEM/S99zedbiQT+UCUt+vD5AP9DFMj8vwzw/b03bO3ouOT/Jg1+wPMQ2P02RU6Ze2DY/dOFRdG4kOj9qoQm59xVAP+cjxr6m/0M/mwGyADtxSD8++/y9NSxNPzJA/cKGAlE/vd8NDpttUz8/nxIhv8hVPyA3suGfCFg/tspdlVUiWj8=\"},\"shape\":[19],\"dtype\":\"float64\",\"order\":\"little\"}],[\"end_sigma_xp\",{\"type\":\"ndarray\",\"array\":{\"type\":\"bytes\",\"data\":\"jTnXSeCDRT/keMv2nTZFP+KReHk6V0Q/8pbMLYQHQz/TgjiL7otBPzG/aMnCW0A/DAxRbKIiQD+1KWik739BP1aA7zZvnEQ/5oq93bMqST85/RM7nr9OP/RAGgQMgVI/fNP02QHXVT+zImqiz0dZP1kKkog6vVw/7nMh+8URYD+1lyMak7RhP32ASYUMP2M/rt48MNupZD8=\"},\"shape\":[19],\"dtype\":\"float64\",\"order\":\"little\"}],[\"end_norm_emit_x\",{\"type\":\"ndarray\",\"array\":{\"type\":\"bytes\",\"data\":\"tkxryXx4hz7+9WeD5HqHPkWfZD1MfYc+psJhAVx/hz4iYF/PE4GHPtPxXbEbgoc+nf1cncuChz6d/Vydy4KHPtPxXbEbgoc+COZexWuBhz5XVGDjY4CHPoxIYfezf4c+psJhAVx/hz5XVGDjY4CHPoODXJMjg4c+K1BWEZuHhz4bxkxJeo6HPlHlPzvBl4c+BKIw+7+ihz4=\"},\"shape\":[19],\"dtype\":\"float64\",\"order\":\"little\"}],[\"end_cov_x__xp\",{\"type\":\"ndarray\",\"array\":{\"type\":\"bytes\",\"data\":\"MbEDFslAmj6Gyr31BICZPuRMXDAbV5c+xKABA7oglD5qBWxDQG6QPpnTxo0/+4k+pbn2uipVhT4bZjsHEr6EPoRJ+lGNAYo+avE/uFhfkz7jDPQkDiOePoRVpYPZ3qY+6U9q2smXsD7GqhU2kPu2Prkt9Kobgb4+TbjhTFl+wz6KmuZqJhfIPvb4ZzDM5cw+rgcMN6Pe0D4=\"},\"shape\":[19],\"dtype\":\"float64\",\"order\":\"little\"}],[\"end_mean_y\",{\"type\":\"ndarray\",\"array\":{\"type\":\"bytes\",\"data\":\"YZ/h71SFOL7rvCNl41c5vrf4is1z5je+LJBM6+r7M74l1lm2qTwrviGcDtXH3hO+r/+aDDBFFj5iVuDuNWgxPsThxRS/wT0++RJdUDXyRD6gbLlRpWtKPp8Luo6W4k4++DkLoiv4UD6yQ8CC0pxRPlgdIXArMlE+igHi2lVZTz599FLoz0ZKPn+Ne4gkBEM+sfJCgY5gMz4=\"},\"shape\":[19],\"dtype\":\"float64\",\"order\":\"little\"}],[\"end_sigma_y\",{\"type\":\"ndarray\",\"array\":{\"type\":\"bytes\",\"data\":\"piK6DKQwRD+hjZbiLutDP1u5tG1aIUM/wxxWGxDfQT+d7dmMNjtAP/TTLI7Svjw/6jtkb84tOT/Spk1JlMU2P8l/3Nmy1zY/kMxdKroeOj/7CFebWhFAP5zYbHqK+0M/5g2sunlwSD+SaUSbqTFNP1Fabh+oCVE/SpIxiFl5Uz8TK0jYXNpVP1PGZBZGH1g/cxwuKMI8Wj8=\"},\"shape\":[19],\"dtype\":\"float64\",\"order\":\"little\"}],[\"end_sigma_yp\",{\"type\":\"ndarray\",\"array\":{\"type\":\"bytes\",\"data\":\"aivd+jyIRT9Xg8UbeDlFP90fMXL9WEQ/jGBnMxwJQz/Ce7vjHI5BP+JAJwhHXkA/IsR0pY4jQD/hWlCM6nxBPyKuWqFhlEQ/u5y3ViAfST9XGwhuSbNOP4aoZ+ZufFI/l/1fGivWVT8iuxzAbExZP+a8tQL5yFw/NkU2RqEbYD95liAjoMJhP0N3SZwVUWM/F8LF5dO+ZD8=\"},\"shape\":[19],\"dtype\":\"float64\",\"order\":\"little\"}],[\"end_norm_emit_y\",{\"type\":\"ndarray\",\"array\":{\"type\":\"bytes\",\"data\":\"0cZr0yR4hz6KHW8ZvXWHPl7ucmn9coc+/Mp1pe1whz6ap3jh3W6HPuoVev/VbYc+Hwp7EyZthz4fCnsTJm2HPgWQegl+bYc+mqd44d1uhz78ynWl7XCHPg6AcUsFdIc+0cZr0yR4hz4qJWQzpH2HPv8gWmHbhIc+G8ZMSXqOhz6Zjjz1KJqHPnd6KWXnp4c+7X0UrQW3hz4=\"},\"shape\":[19],\"dtype\":\"float64\",\"order\":\"little\"}],[\"end_cov_y__yp\",{\"type\":\"ndarray\",\"array\":{\"type\":\"bytes\",\"data\":\"Kpt7+3BJmj5PEI8tV4OZPm6LqqmjVpc+soomG2IflD7Fv3Hsr26QPnOz116OAYo+zuTMyH9ehT44n2geHcOEPmU7aTP2+Yk+5J/ybGxSkz40Ej/VRw6ePltXdgdj1KY+W3w6o6KWsD4qHaRwEQS3PrdvY51mmr4+LdC3ECGWwz4aeThx0j3IPhASf8nnG80+MVcisA8B0T4=\"},\"shape\":[19],\"dtype\":\"float64\",\"order\":\"little\"}],[\"end_mean_kinetic_energy\",{\"type\":\"ndarray\",\"array\":{\"type\":\"bytes\",\"data\":\"AAAAADiBHkEAAAAAOIEeQQAAAAA4gR5BAAAAADiBHkEAAAAAOIEeQQAAAAA4gR5BAAAAADiBHkEAAAAAOIEeQQAAAAA4gR5BAAAAADiBHkEAAAAAOIEeQQAAAAA4gR5BAAAAADiBHkEAAAAAOIEeQQAAAAA4gR5BAAAAADiBHkEAAAAAOIEeQQAAAAA4gR5BAAAAADiBHkE=\"},\"shape\":[19],\"dtype\":\"float64\",\"order\":\"little\"}],[\"end_sigma_z\",{\"type\":\"ndarray\",\"array\":{\"type\":\"bytes\",\"data\":\"lriOccXFYT+WuI5xxcVhP5a4jnHFxWE/lriOccXFYT+WuI5xxcVhP5a4jnHFxWE/lriOccXFYT+WuI5xxcVhP5a4jnHFxWE/lriOccXFYT+WuI5xxcVhP5a4jnHFxWE/lriOccXFYT+WuI5xxcVhP5a4jnHFxWE/lriOccXFYT+WuI5xxcVhP5a4jnHFxWE/lriOccXFYT8=\"},\"shape\":[19],\"dtype\":\"float64\",\"order\":\"little\"}],[\"end_sigma_energy\",{\"type\":\"ndarray\",\"array\":{\"type\":\"bytes\",\"data\":\"Iv32deCc/D8i/fZ14Jz8PyL99nXgnPw/Iv32deCc/D8i/fZ14Jz8PyL99nXgnPw/Iv32deCc/D8i/fZ14Jz8PyL99nXgnPw/Iv32deCc/D8i/fZ14Jz8PyL99nXgnPw/Iv32deCc/D8i/fZ14Jz8PyL99nXgnPw/Iv32deCc/D8i/fZ14Jz8PyL99nXgnPw/Iv32deCc/D8=\"},\"shape\":[19],\"dtype\":\"float64\",\"order\":\"little\"}],[\"end_norm_emit_z\",{\"type\":\"ndarray\",\"array\":{\"type\":\"bytes\",\"data\":\"yMlp9A/Hbz/IyWn0D8dvP8jJafQPx28/yMlp9A/Hbz/IyWn0D8dvP8jJafQPx28/yMlp9A/Hbz/IyWn0D8dvP8jJafQPx28/yMlp9A/Hbz/IyWn0D8dvP8jJafQPx28/yMlp9A/Hbz9PlIRE2sZvP0+UhETaxm8/T5SERNrGbz9PlIRE2sZvP0+UhETaxm8/T5SERNrGbz8=\"},\"shape\":[19],\"dtype\":\"float64\",\"order\":\"little\"}],[\"end_cov_z__energy\",{\"type\":\"ndarray\",\"array\":{\"type\":\"bytes\",\"data\":\"dfPzwJ9iFD+FzIMGxWIUP6R+o5EPYxQ/4+Lip6RjFD8hRyK+OWQUP1DS0Y6pZBQ/gF2BXxllFD+AXYFfGWUUP1DS0Y6pZBQ/4+Lip6RjFD8ntiRl5WEUPw1zB4FGXxQ/lhmL+8dbFD/Qgj8aj1cUP5z8BFJRUhQ/KhKLc35MFD9p6kE58UUUP4oQ2XMZPxQ/i4RQI/c3FD8=\"},\"shape\":[19],\"dtype\":\"float64\",\"order\":\"little\"}],[\"end_n_particle_loss\",{\"type\":\"ndarray\",\"array\":{\"type\":\"bytes\",\"data\":\"AAAAAAAAAAAAAAAAAAAAAAAAAAAAAAAAAAAAAAAAAAAAAAAAAAAAAAAAAAAAAAAAAAAAAAAAAAAAAAAAAAAAAAAAAAAAAAAAAAAAAAAAAAAAAAAAAAAAAAAAAAAAAAAAAAAAAAAAAAAAAAAAAAAAAAAAAAAAAAAAAAAAAAAAAAAAAAAAAAAAAAAAAAAAAAAAAAAAAAAAAAA=\"},\"shape\":[19],\"dtype\":\"float64\",\"order\":\"little\"}],[\"end_total_charge\",{\"type\":\"ndarray\",\"array\":{\"type\":\"bytes\",\"data\":\"ur3X2d982z26vdfZ33zbPbq919nffNs9ur3X2d982z26vdfZ33zbPbq919nffNs9ur3X2d982z26vdfZ33zbPbq919nffNs9ur3X2d982z26vdfZ33zbPbq919nffNs9ur3X2d982z26vdfZ33zbPbq919nffNs9ur3X2d982z26vdfZ33zbPbq919nffNs9ur3X2d982z0=\"},\"shape\":[19],\"dtype\":\"float64\",\"order\":\"little\"}],[\"end_higher_order_energy_spread\",{\"type\":\"ndarray\",\"array\":{\"type\":\"bytes\",\"data\":\"5j/fAY6b/D8aBezPjZv8P8InepWNm/w/XFCuVI2b/D9KZMQQjZv8P23rDs6Mm/w/gyqdkYyb/D9gs9JgjJv8P+9ODUGMm/w/WL1cN4yb/D9CNuxHjJv8P0rw1HWMm/w/BlvHwoyb/D/ZDdIujZv8Pz+cR7iNm/w/91DCW46b/D8TqzgUj5v8P00eKNuPm/w/rKTnqJCb/D8=\"},\"shape\":[19],\"dtype\":\"float64\",\"order\":\"little\"}],[\"fingerprint\",{\"type\":\"ndarray\",\"array\":[\"d70364f093fe5d4a9d3acd0d0193fa91\",\"47ce10b464da11518826a3c6d6654f42\",\"284fa843911e69ab6122d23d79ad4806\",\"d6fd70f4af4f613844fd65600267f9fb\",\"da89d10555a9b4c7b864fbb542ac497b\",\"7c0baedf140c3dbeef2fc3a73c15ea7b\",\"7b87b3f42160e0dc6a00aa7fa134604c\",\"dae144c959cdf177ec97e3b59f159015\",\"aa14936ee8e37ca095d6d052bb7b2c04\",\"efffe3c12cb38f91092589b38d338d29\",\"926798389bda3d66c00620a39ddd3b8b\",\"1d54b0678b9ef6bfc42b0c2ff2120ae5\",\"0a331d558139ac3a05c4cf676a8455b6\",\"e6bd6c13a2d22ad150081863f1c6fb59\",\"3124ef1903c236f1962db3ec8dacd2fe\",\"961dc67f12dc8c627e0a53ad04219881\",\"9a8e21bd4149448d46774270247b7c2b\",\"c191147e9f05abf7a8ba60eb73fbddbd\",\"1c33e9ed18d9ff88f91eda547cfe96cd\"],\"shape\":[19],\"dtype\":\"object\",\"order\":\"little\"}],[\"archive\",{\"type\":\"ndarray\",\"array\":[\"/var/folders/2f/l5_mybzs30j4qqvyj98w1_nw0000gn/T/tmp8jg8ann9/d70364f093fe5d4a9d3acd0d0193fa91.h5\",\"/var/folders/2f/l5_mybzs30j4qqvyj98w1_nw0000gn/T/tmp8jg8ann9/47ce10b464da11518826a3c6d6654f42.h5\",\"/var/folders/2f/l5_mybzs30j4qqvyj98w1_nw0000gn/T/tmp8jg8ann9/284fa843911e69ab6122d23d79ad4806.h5\",\"/var/folders/2f/l5_mybzs30j4qqvyj98w1_nw0000gn/T/tmp8jg8ann9/d6fd70f4af4f613844fd65600267f9fb.h5\",\"/var/folders/2f/l5_mybzs30j4qqvyj98w1_nw0000gn/T/tmp8jg8ann9/da89d10555a9b4c7b864fbb542ac497b.h5\",\"/var/folders/2f/l5_mybzs30j4qqvyj98w1_nw0000gn/T/tmp8jg8ann9/7c0baedf140c3dbeef2fc3a73c15ea7b.h5\",\"/var/folders/2f/l5_mybzs30j4qqvyj98w1_nw0000gn/T/tmp8jg8ann9/7b87b3f42160e0dc6a00aa7fa134604c.h5\",\"/var/folders/2f/l5_mybzs30j4qqvyj98w1_nw0000gn/T/tmp8jg8ann9/dae144c959cdf177ec97e3b59f159015.h5\",\"/var/folders/2f/l5_mybzs30j4qqvyj98w1_nw0000gn/T/tmp8jg8ann9/aa14936ee8e37ca095d6d052bb7b2c04.h5\",\"/var/folders/2f/l5_mybzs30j4qqvyj98w1_nw0000gn/T/tmp8jg8ann9/efffe3c12cb38f91092589b38d338d29.h5\",\"/var/folders/2f/l5_mybzs30j4qqvyj98w1_nw0000gn/T/tmp8jg8ann9/926798389bda3d66c00620a39ddd3b8b.h5\",\"/var/folders/2f/l5_mybzs30j4qqvyj98w1_nw0000gn/T/tmp8jg8ann9/1d54b0678b9ef6bfc42b0c2ff2120ae5.h5\",\"/var/folders/2f/l5_mybzs30j4qqvyj98w1_nw0000gn/T/tmp8jg8ann9/0a331d558139ac3a05c4cf676a8455b6.h5\",\"/var/folders/2f/l5_mybzs30j4qqvyj98w1_nw0000gn/T/tmp8jg8ann9/e6bd6c13a2d22ad150081863f1c6fb59.h5\",\"/var/folders/2f/l5_mybzs30j4qqvyj98w1_nw0000gn/T/tmp8jg8ann9/3124ef1903c236f1962db3ec8dacd2fe.h5\",\"/var/folders/2f/l5_mybzs30j4qqvyj98w1_nw0000gn/T/tmp8jg8ann9/961dc67f12dc8c627e0a53ad04219881.h5\",\"/var/folders/2f/l5_mybzs30j4qqvyj98w1_nw0000gn/T/tmp8jg8ann9/9a8e21bd4149448d46774270247b7c2b.h5\",\"/var/folders/2f/l5_mybzs30j4qqvyj98w1_nw0000gn/T/tmp8jg8ann9/c191147e9f05abf7a8ba60eb73fbddbd.h5\",\"/var/folders/2f/l5_mybzs30j4qqvyj98w1_nw0000gn/T/tmp8jg8ann9/1c33e9ed18d9ff88f91eda547cfe96cd.h5\"],\"shape\":[19],\"dtype\":\"object\",\"order\":\"little\"}],[\"maxb(1)\",{\"type\":\"ndarray\",\"array\":{\"type\":\"bytes\",\"data\":\"AAAAAAAAAADtWIEw0o51P+1YgTDSjoU/sgJhpB0rkD/tWIEw0o6VPyivobyG8po/sgJhpB0roD/PLXHq99yiP+1YgTDSjqU/C4SRdqxAqD8or6G8hvKqP0basQJhpK0/sgJhpB0rsD9BGGnHCoSxP88tcer33LI/XkN5DeU1tD/tWIEw0o61P3xuiVO/57Y/C4SRdqxAuD8=\"},\"shape\":[19],\"dtype\":\"float64\",\"order\":\"little\"}],[\"Exception\",{\"type\":\"ndarray\",\"array\":{\"type\":\"bytes\",\"data\":\"AAAAAAAAAAAAAAAAAAAAAAAAAA==\"},\"shape\":[19],\"dtype\":\"bool\",\"order\":\"little\"}]]}}},\"view\":{\"type\":\"object\",\"name\":\"CDSView\",\"id\":\"p1039\",\"attributes\":{\"filter\":{\"type\":\"object\",\"name\":\"AllIndices\",\"id\":\"p1040\"}}},\"glyph\":{\"type\":\"object\",\"name\":\"Circle\",\"id\":\"p1035\",\"attributes\":{\"x\":{\"type\":\"field\",\"field\":\"maxb(1)\"},\"y\":{\"type\":\"field\",\"field\":\"end_sigma_x\"},\"line_color\":{\"type\":\"value\",\"value\":\"#1f77b4\"},\"fill_color\":{\"type\":\"value\",\"value\":\"#1f77b4\"}}},\"nonselection_glyph\":{\"type\":\"object\",\"name\":\"Circle\",\"id\":\"p1036\",\"attributes\":{\"x\":{\"type\":\"field\",\"field\":\"maxb(1)\"},\"y\":{\"type\":\"field\",\"field\":\"end_sigma_x\"},\"line_color\":{\"type\":\"value\",\"value\":\"#1f77b4\"},\"line_alpha\":{\"type\":\"value\",\"value\":0.1},\"fill_color\":{\"type\":\"value\",\"value\":\"#1f77b4\"},\"fill_alpha\":{\"type\":\"value\",\"value\":0.1},\"hatch_alpha\":{\"type\":\"value\",\"value\":0.1}}},\"muted_glyph\":{\"type\":\"object\",\"name\":\"Circle\",\"id\":\"p1037\",\"attributes\":{\"x\":{\"type\":\"field\",\"field\":\"maxb(1)\"},\"y\":{\"type\":\"field\",\"field\":\"end_sigma_x\"},\"line_color\":{\"type\":\"value\",\"value\":\"#1f77b4\"},\"line_alpha\":{\"type\":\"value\",\"value\":0.2},\"fill_color\":{\"type\":\"value\",\"value\":\"#1f77b4\"},\"fill_alpha\":{\"type\":\"value\",\"value\":0.2},\"hatch_alpha\":{\"type\":\"value\",\"value\":0.2}}}}}],\"toolbar\":{\"type\":\"object\",\"name\":\"Toolbar\",\"id\":\"p1012\",\"attributes\":{\"tools\":[{\"type\":\"object\",\"name\":\"PanTool\",\"id\":\"p1025\"},{\"type\":\"object\",\"name\":\"WheelZoomTool\",\"id\":\"p1026\"},{\"type\":\"object\",\"name\":\"BoxZoomTool\",\"id\":\"p1027\",\"attributes\":{\"overlay\":{\"type\":\"object\",\"name\":\"BoxAnnotation\",\"id\":\"p1028\",\"attributes\":{\"syncable\":false,\"level\":\"overlay\",\"visible\":false,\"left_units\":\"canvas\",\"right_units\":\"canvas\",\"bottom_units\":\"canvas\",\"top_units\":\"canvas\",\"line_color\":\"black\",\"line_alpha\":1.0,\"line_width\":2,\"line_dash\":[4,4],\"fill_color\":\"lightgrey\",\"fill_alpha\":0.5}}}},{\"type\":\"object\",\"name\":\"SaveTool\",\"id\":\"p1029\"},{\"type\":\"object\",\"name\":\"ResetTool\",\"id\":\"p1030\"},{\"type\":\"object\",\"name\":\"HelpTool\",\"id\":\"p1031\"}]}},\"left\":[{\"type\":\"object\",\"name\":\"LinearAxis\",\"id\":\"p1020\",\"attributes\":{\"ticker\":{\"type\":\"object\",\"name\":\"BasicTicker\",\"id\":\"p1021\",\"attributes\":{\"mantissas\":[1,2,5]}},\"formatter\":{\"type\":\"object\",\"name\":\"BasicTickFormatter\",\"id\":\"p1022\"},\"major_label_policy\":{\"type\":\"object\",\"name\":\"AllLabels\",\"id\":\"p1023\"}}}],\"below\":[{\"type\":\"object\",\"name\":\"LinearAxis\",\"id\":\"p1015\",\"attributes\":{\"ticker\":{\"type\":\"object\",\"name\":\"BasicTicker\",\"id\":\"p1016\",\"attributes\":{\"mantissas\":[1,2,5]}},\"formatter\":{\"type\":\"object\",\"name\":\"BasicTickFormatter\",\"id\":\"p1017\"},\"major_label_policy\":{\"type\":\"object\",\"name\":\"AllLabels\",\"id\":\"p1018\"}}}],\"center\":[{\"type\":\"object\",\"name\":\"Grid\",\"id\":\"p1019\",\"attributes\":{\"axis\":{\"id\":\"p1015\"}}},{\"type\":\"object\",\"name\":\"Grid\",\"id\":\"p1024\",\"attributes\":{\"dimension\":1,\"axis\":{\"id\":\"p1020\"}}}]}}]}};\n",
       "  const render_items = [{\"docid\":\"cdf3b960-705c-4638-80e3-1c7523c6dec2\",\"roots\":{\"p1004\":\"a335a13e-2bf6-406b-8468-80cb03386e6a\"},\"root_ids\":[\"p1004\"]}];\n",
       "  root.Bokeh.embed.embed_items_notebook(docs_json, render_items);\n",
       "  }\n",
       "  if (root.Bokeh !== undefined) {\n",
       "    embed_document(root);\n",
       "  } else {\n",
       "    let attempts = 0;\n",
       "    const timer = setInterval(function(root) {\n",
       "      if (root.Bokeh !== undefined) {\n",
       "        clearInterval(timer);\n",
       "        embed_document(root);\n",
       "      } else {\n",
       "        attempts++;\n",
       "        if (attempts > 100) {\n",
       "          clearInterval(timer);\n",
       "          console.log(\"Bokeh: ERROR: Unable to run BokehJS code because BokehJS library is missing\");\n",
       "        }\n",
       "      }\n",
       "    }, 10, root)\n",
       "  }\n",
       "})(window);"
      ],
      "application/vnd.bokehjs_exec.v0+json": ""
     },
     "metadata": {
      "application/vnd.bokehjs_exec.v0+json": {
       "id": "p1004"
      }
     },
     "output_type": "display_data"
    }
   ],
   "source": [
    "# A simple plot\n",
    "p = figure()\n",
    "p.circle(x='maxb(1)', y='end_sigma_x', source=source)\n",
    "show(p)"
   ]
  },
  {
   "cell_type": "code",
   "execution_count": 23,
   "metadata": {
    "execution": {
     "iopub.execute_input": "2023-08-02T15:50:37.736888Z",
     "iopub.status.busy": "2023-08-02T15:50:37.736780Z",
     "iopub.status.idle": "2023-08-02T15:50:37.790972Z",
     "shell.execute_reply": "2023-08-02T15:50:37.790717Z"
    }
   },
   "outputs": [
    {
     "data": {
      "text/html": [
       "\n",
       "  <div id=\"b941f2a6-baf7-493e-824f-4b728887168f\" data-root-id=\"p1065\" style=\"display: contents;\"></div>\n"
      ]
     },
     "metadata": {},
     "output_type": "display_data"
    },
    {
     "data": {
      "application/javascript": [
       "(function(root) {\n",
       "  function embed_document(root) {\n",
       "  const docs_json = {\"96d5860a-ffef-46d1-941c-794b89351c87\":{\"version\":\"3.2.1\",\"title\":\"Bokeh Application\",\"roots\":[{\"type\":\"object\",\"name\":\"Figure\",\"id\":\"p1065\",\"attributes\":{\"x_range\":{\"type\":\"object\",\"name\":\"DataRange1d\",\"id\":\"p1066\"},\"y_range\":{\"type\":\"object\",\"name\":\"DataRange1d\",\"id\":\"p1067\"},\"x_scale\":{\"type\":\"object\",\"name\":\"LinearScale\",\"id\":\"p1074\"},\"y_scale\":{\"type\":\"object\",\"name\":\"LinearScale\",\"id\":\"p1075\"},\"title\":{\"type\":\"object\",\"name\":\"Title\",\"id\":\"p1072\"},\"renderers\":[{\"type\":\"object\",\"name\":\"GlyphRenderer\",\"id\":\"p1093\",\"attributes\":{\"data_source\":{\"type\":\"object\",\"name\":\"ColumnDataSource\",\"id\":\"p1001\",\"attributes\":{\"selected\":{\"type\":\"object\",\"name\":\"Selection\",\"id\":\"p1002\",\"attributes\":{\"indices\":[],\"line_indices\":[]}},\"selection_policy\":{\"type\":\"object\",\"name\":\"UnionRenderers\",\"id\":\"p1003\"},\"data\":{\"type\":\"map\",\"entries\":[[\"index\",{\"type\":\"ndarray\",\"array\":{\"type\":\"bytes\",\"data\":\"AAAAAAEAAAACAAAAAwAAAAQAAAAFAAAABgAAAAcAAAAIAAAACQAAAAoAAAALAAAADAAAAA0AAAAOAAAADwAAABAAAAARAAAAEgAAAA==\"},\"shape\":[19],\"dtype\":\"int32\",\"order\":\"little\"}],[\"error\",{\"type\":\"ndarray\",\"array\":[false,false,false,false,false,false,false,false,false,false,false,false,false,false,false,false,false,false,false],\"shape\":[19],\"dtype\":\"object\",\"order\":\"little\"}],[\"end_mean_z\",{\"type\":\"ndarray\",\"array\":{\"type\":\"bytes\",\"data\":\"AAAAAAAA8D8AAAAAAADwPwAAAAAAAPA/AAAAAAAA8D8AAAAAAADwPwAAAAAAAPA/AAAAAAAA8D8AAAAAAADwPwAAAAAAAPA/AAAAAAAA8D8AAAAAAADwPwAAAAAAAPA/AAAAAAAA8D8AAAAAAADwPwAAAAAAAPA/AAAAAAAA8D8AAAAAAADwPwAAAAAAAPA/AAAAAAAA8D8=\"},\"shape\":[19],\"dtype\":\"float64\",\"order\":\"little\"}],[\"end_mean_t\",{\"type\":\"ndarray\",\"array\":{\"type\":\"bytes\",\"data\":\"WWOe6jI/MT5ZY57qMj8xPlljnuoyPzE+WWOe6jI/MT5ZY57qMj8xPlljnuoyPzE+WWOe6jI/MT5ZY57qMj8xPlljnuoyPzE+WWOe6jI/MT5ZY57qMj8xPlljnuoyPzE+WWOe6jI/MT5ZY57qMj8xPlljnuoyPzE+WWOe6jI/MT5ZY57qMj8xPlljnuoyPzE+WWOe6jI/MT4=\"},\"shape\":[19],\"dtype\":\"float64\",\"order\":\"little\"}],[\"end_mean_x\",{\"type\":\"ndarray\",\"array\":{\"type\":\"bytes\",\"data\":\"t0KI4LL3Lr6f02bR9GwnvnZwYfwBbRy++s8GxLs6A75aJ8zJt8T5PfqIXccB0xA+0GVaaAPhEj4cbKEFoIwDPnAeXo++3Aa+tt82qXXeJr5Vkk+1M2A3vlacI7q9NEO+ezatYikKTL6joooqhupSvuJjMztMNFi+AV8fz4ZyXb4uRAl8WUNhvtLW1VymkWO+nIiCnEOIZb4=\"},\"shape\":[19],\"dtype\":\"float64\",\"order\":\"little\"}],[\"end_sigma_x\",{\"type\":\"ndarray\",\"array\":{\"type\":\"bytes\",\"data\":\"6QvGLYsuRD/1vH41xetDP53hHxkfJEM/S99zedbiQT+UCUt+vD5AP9DFMj8vwzw/b03bO3ouOT/Jg1+wPMQ2P02RU6Ze2DY/dOFRdG4kOj9qoQm59xVAP+cjxr6m/0M/mwGyADtxSD8++/y9NSxNPzJA/cKGAlE/vd8NDpttUz8/nxIhv8hVPyA3suGfCFg/tspdlVUiWj8=\"},\"shape\":[19],\"dtype\":\"float64\",\"order\":\"little\"}],[\"end_sigma_xp\",{\"type\":\"ndarray\",\"array\":{\"type\":\"bytes\",\"data\":\"jTnXSeCDRT/keMv2nTZFP+KReHk6V0Q/8pbMLYQHQz/TgjiL7otBPzG/aMnCW0A/DAxRbKIiQD+1KWik739BP1aA7zZvnEQ/5oq93bMqST85/RM7nr9OP/RAGgQMgVI/fNP02QHXVT+zImqiz0dZP1kKkog6vVw/7nMh+8URYD+1lyMak7RhP32ASYUMP2M/rt48MNupZD8=\"},\"shape\":[19],\"dtype\":\"float64\",\"order\":\"little\"}],[\"end_norm_emit_x\",{\"type\":\"ndarray\",\"array\":{\"type\":\"bytes\",\"data\":\"tkxryXx4hz7+9WeD5HqHPkWfZD1MfYc+psJhAVx/hz4iYF/PE4GHPtPxXbEbgoc+nf1cncuChz6d/Vydy4KHPtPxXbEbgoc+COZexWuBhz5XVGDjY4CHPoxIYfezf4c+psJhAVx/hz5XVGDjY4CHPoODXJMjg4c+K1BWEZuHhz4bxkxJeo6HPlHlPzvBl4c+BKIw+7+ihz4=\"},\"shape\":[19],\"dtype\":\"float64\",\"order\":\"little\"}],[\"end_cov_x__xp\",{\"type\":\"ndarray\",\"array\":{\"type\":\"bytes\",\"data\":\"MbEDFslAmj6Gyr31BICZPuRMXDAbV5c+xKABA7oglD5qBWxDQG6QPpnTxo0/+4k+pbn2uipVhT4bZjsHEr6EPoRJ+lGNAYo+avE/uFhfkz7jDPQkDiOePoRVpYPZ3qY+6U9q2smXsD7GqhU2kPu2Prkt9Kobgb4+TbjhTFl+wz6KmuZqJhfIPvb4ZzDM5cw+rgcMN6Pe0D4=\"},\"shape\":[19],\"dtype\":\"float64\",\"order\":\"little\"}],[\"end_mean_y\",{\"type\":\"ndarray\",\"array\":{\"type\":\"bytes\",\"data\":\"YZ/h71SFOL7rvCNl41c5vrf4is1z5je+LJBM6+r7M74l1lm2qTwrviGcDtXH3hO+r/+aDDBFFj5iVuDuNWgxPsThxRS/wT0++RJdUDXyRD6gbLlRpWtKPp8Luo6W4k4++DkLoiv4UD6yQ8CC0pxRPlgdIXArMlE+igHi2lVZTz599FLoz0ZKPn+Ne4gkBEM+sfJCgY5gMz4=\"},\"shape\":[19],\"dtype\":\"float64\",\"order\":\"little\"}],[\"end_sigma_y\",{\"type\":\"ndarray\",\"array\":{\"type\":\"bytes\",\"data\":\"piK6DKQwRD+hjZbiLutDP1u5tG1aIUM/wxxWGxDfQT+d7dmMNjtAP/TTLI7Svjw/6jtkb84tOT/Spk1JlMU2P8l/3Nmy1zY/kMxdKroeOj/7CFebWhFAP5zYbHqK+0M/5g2sunlwSD+SaUSbqTFNP1Fabh+oCVE/SpIxiFl5Uz8TK0jYXNpVP1PGZBZGH1g/cxwuKMI8Wj8=\"},\"shape\":[19],\"dtype\":\"float64\",\"order\":\"little\"}],[\"end_sigma_yp\",{\"type\":\"ndarray\",\"array\":{\"type\":\"bytes\",\"data\":\"aivd+jyIRT9Xg8UbeDlFP90fMXL9WEQ/jGBnMxwJQz/Ce7vjHI5BP+JAJwhHXkA/IsR0pY4jQD/hWlCM6nxBPyKuWqFhlEQ/u5y3ViAfST9XGwhuSbNOP4aoZ+ZufFI/l/1fGivWVT8iuxzAbExZP+a8tQL5yFw/NkU2RqEbYD95liAjoMJhP0N3SZwVUWM/F8LF5dO+ZD8=\"},\"shape\":[19],\"dtype\":\"float64\",\"order\":\"little\"}],[\"end_norm_emit_y\",{\"type\":\"ndarray\",\"array\":{\"type\":\"bytes\",\"data\":\"0cZr0yR4hz6KHW8ZvXWHPl7ucmn9coc+/Mp1pe1whz6ap3jh3W6HPuoVev/VbYc+Hwp7EyZthz4fCnsTJm2HPgWQegl+bYc+mqd44d1uhz78ynWl7XCHPg6AcUsFdIc+0cZr0yR4hz4qJWQzpH2HPv8gWmHbhIc+G8ZMSXqOhz6Zjjz1KJqHPnd6KWXnp4c+7X0UrQW3hz4=\"},\"shape\":[19],\"dtype\":\"float64\",\"order\":\"little\"}],[\"end_cov_y__yp\",{\"type\":\"ndarray\",\"array\":{\"type\":\"bytes\",\"data\":\"Kpt7+3BJmj5PEI8tV4OZPm6LqqmjVpc+soomG2IflD7Fv3Hsr26QPnOz116OAYo+zuTMyH9ehT44n2geHcOEPmU7aTP2+Yk+5J/ybGxSkz40Ej/VRw6ePltXdgdj1KY+W3w6o6KWsD4qHaRwEQS3PrdvY51mmr4+LdC3ECGWwz4aeThx0j3IPhASf8nnG80+MVcisA8B0T4=\"},\"shape\":[19],\"dtype\":\"float64\",\"order\":\"little\"}],[\"end_mean_kinetic_energy\",{\"type\":\"ndarray\",\"array\":{\"type\":\"bytes\",\"data\":\"AAAAADiBHkEAAAAAOIEeQQAAAAA4gR5BAAAAADiBHkEAAAAAOIEeQQAAAAA4gR5BAAAAADiBHkEAAAAAOIEeQQAAAAA4gR5BAAAAADiBHkEAAAAAOIEeQQAAAAA4gR5BAAAAADiBHkEAAAAAOIEeQQAAAAA4gR5BAAAAADiBHkEAAAAAOIEeQQAAAAA4gR5BAAAAADiBHkE=\"},\"shape\":[19],\"dtype\":\"float64\",\"order\":\"little\"}],[\"end_sigma_z\",{\"type\":\"ndarray\",\"array\":{\"type\":\"bytes\",\"data\":\"lriOccXFYT+WuI5xxcVhP5a4jnHFxWE/lriOccXFYT+WuI5xxcVhP5a4jnHFxWE/lriOccXFYT+WuI5xxcVhP5a4jnHFxWE/lriOccXFYT+WuI5xxcVhP5a4jnHFxWE/lriOccXFYT+WuI5xxcVhP5a4jnHFxWE/lriOccXFYT+WuI5xxcVhP5a4jnHFxWE/lriOccXFYT8=\"},\"shape\":[19],\"dtype\":\"float64\",\"order\":\"little\"}],[\"end_sigma_energy\",{\"type\":\"ndarray\",\"array\":{\"type\":\"bytes\",\"data\":\"Iv32deCc/D8i/fZ14Jz8PyL99nXgnPw/Iv32deCc/D8i/fZ14Jz8PyL99nXgnPw/Iv32deCc/D8i/fZ14Jz8PyL99nXgnPw/Iv32deCc/D8i/fZ14Jz8PyL99nXgnPw/Iv32deCc/D8i/fZ14Jz8PyL99nXgnPw/Iv32deCc/D8i/fZ14Jz8PyL99nXgnPw/Iv32deCc/D8=\"},\"shape\":[19],\"dtype\":\"float64\",\"order\":\"little\"}],[\"end_norm_emit_z\",{\"type\":\"ndarray\",\"array\":{\"type\":\"bytes\",\"data\":\"yMlp9A/Hbz/IyWn0D8dvP8jJafQPx28/yMlp9A/Hbz/IyWn0D8dvP8jJafQPx28/yMlp9A/Hbz/IyWn0D8dvP8jJafQPx28/yMlp9A/Hbz/IyWn0D8dvP8jJafQPx28/yMlp9A/Hbz9PlIRE2sZvP0+UhETaxm8/T5SERNrGbz9PlIRE2sZvP0+UhETaxm8/T5SERNrGbz8=\"},\"shape\":[19],\"dtype\":\"float64\",\"order\":\"little\"}],[\"end_cov_z__energy\",{\"type\":\"ndarray\",\"array\":{\"type\":\"bytes\",\"data\":\"dfPzwJ9iFD+FzIMGxWIUP6R+o5EPYxQ/4+Lip6RjFD8hRyK+OWQUP1DS0Y6pZBQ/gF2BXxllFD+AXYFfGWUUP1DS0Y6pZBQ/4+Lip6RjFD8ntiRl5WEUPw1zB4FGXxQ/lhmL+8dbFD/Qgj8aj1cUP5z8BFJRUhQ/KhKLc35MFD9p6kE58UUUP4oQ2XMZPxQ/i4RQI/c3FD8=\"},\"shape\":[19],\"dtype\":\"float64\",\"order\":\"little\"}],[\"end_n_particle_loss\",{\"type\":\"ndarray\",\"array\":{\"type\":\"bytes\",\"data\":\"AAAAAAAAAAAAAAAAAAAAAAAAAAAAAAAAAAAAAAAAAAAAAAAAAAAAAAAAAAAAAAAAAAAAAAAAAAAAAAAAAAAAAAAAAAAAAAAAAAAAAAAAAAAAAAAAAAAAAAAAAAAAAAAAAAAAAAAAAAAAAAAAAAAAAAAAAAAAAAAAAAAAAAAAAAAAAAAAAAAAAAAAAAAAAAAAAAAAAAAAAAA=\"},\"shape\":[19],\"dtype\":\"float64\",\"order\":\"little\"}],[\"end_total_charge\",{\"type\":\"ndarray\",\"array\":{\"type\":\"bytes\",\"data\":\"ur3X2d982z26vdfZ33zbPbq919nffNs9ur3X2d982z26vdfZ33zbPbq919nffNs9ur3X2d982z26vdfZ33zbPbq919nffNs9ur3X2d982z26vdfZ33zbPbq919nffNs9ur3X2d982z26vdfZ33zbPbq919nffNs9ur3X2d982z26vdfZ33zbPbq919nffNs9ur3X2d982z0=\"},\"shape\":[19],\"dtype\":\"float64\",\"order\":\"little\"}],[\"end_higher_order_energy_spread\",{\"type\":\"ndarray\",\"array\":{\"type\":\"bytes\",\"data\":\"5j/fAY6b/D8aBezPjZv8P8InepWNm/w/XFCuVI2b/D9KZMQQjZv8P23rDs6Mm/w/gyqdkYyb/D9gs9JgjJv8P+9ODUGMm/w/WL1cN4yb/D9CNuxHjJv8P0rw1HWMm/w/BlvHwoyb/D/ZDdIujZv8Pz+cR7iNm/w/91DCW46b/D8TqzgUj5v8P00eKNuPm/w/rKTnqJCb/D8=\"},\"shape\":[19],\"dtype\":\"float64\",\"order\":\"little\"}],[\"fingerprint\",{\"type\":\"ndarray\",\"array\":[\"d70364f093fe5d4a9d3acd0d0193fa91\",\"47ce10b464da11518826a3c6d6654f42\",\"284fa843911e69ab6122d23d79ad4806\",\"d6fd70f4af4f613844fd65600267f9fb\",\"da89d10555a9b4c7b864fbb542ac497b\",\"7c0baedf140c3dbeef2fc3a73c15ea7b\",\"7b87b3f42160e0dc6a00aa7fa134604c\",\"dae144c959cdf177ec97e3b59f159015\",\"aa14936ee8e37ca095d6d052bb7b2c04\",\"efffe3c12cb38f91092589b38d338d29\",\"926798389bda3d66c00620a39ddd3b8b\",\"1d54b0678b9ef6bfc42b0c2ff2120ae5\",\"0a331d558139ac3a05c4cf676a8455b6\",\"e6bd6c13a2d22ad150081863f1c6fb59\",\"3124ef1903c236f1962db3ec8dacd2fe\",\"961dc67f12dc8c627e0a53ad04219881\",\"9a8e21bd4149448d46774270247b7c2b\",\"c191147e9f05abf7a8ba60eb73fbddbd\",\"1c33e9ed18d9ff88f91eda547cfe96cd\"],\"shape\":[19],\"dtype\":\"object\",\"order\":\"little\"}],[\"archive\",{\"type\":\"ndarray\",\"array\":[\"/var/folders/2f/l5_mybzs30j4qqvyj98w1_nw0000gn/T/tmp8jg8ann9/d70364f093fe5d4a9d3acd0d0193fa91.h5\",\"/var/folders/2f/l5_mybzs30j4qqvyj98w1_nw0000gn/T/tmp8jg8ann9/47ce10b464da11518826a3c6d6654f42.h5\",\"/var/folders/2f/l5_mybzs30j4qqvyj98w1_nw0000gn/T/tmp8jg8ann9/284fa843911e69ab6122d23d79ad4806.h5\",\"/var/folders/2f/l5_mybzs30j4qqvyj98w1_nw0000gn/T/tmp8jg8ann9/d6fd70f4af4f613844fd65600267f9fb.h5\",\"/var/folders/2f/l5_mybzs30j4qqvyj98w1_nw0000gn/T/tmp8jg8ann9/da89d10555a9b4c7b864fbb542ac497b.h5\",\"/var/folders/2f/l5_mybzs30j4qqvyj98w1_nw0000gn/T/tmp8jg8ann9/7c0baedf140c3dbeef2fc3a73c15ea7b.h5\",\"/var/folders/2f/l5_mybzs30j4qqvyj98w1_nw0000gn/T/tmp8jg8ann9/7b87b3f42160e0dc6a00aa7fa134604c.h5\",\"/var/folders/2f/l5_mybzs30j4qqvyj98w1_nw0000gn/T/tmp8jg8ann9/dae144c959cdf177ec97e3b59f159015.h5\",\"/var/folders/2f/l5_mybzs30j4qqvyj98w1_nw0000gn/T/tmp8jg8ann9/aa14936ee8e37ca095d6d052bb7b2c04.h5\",\"/var/folders/2f/l5_mybzs30j4qqvyj98w1_nw0000gn/T/tmp8jg8ann9/efffe3c12cb38f91092589b38d338d29.h5\",\"/var/folders/2f/l5_mybzs30j4qqvyj98w1_nw0000gn/T/tmp8jg8ann9/926798389bda3d66c00620a39ddd3b8b.h5\",\"/var/folders/2f/l5_mybzs30j4qqvyj98w1_nw0000gn/T/tmp8jg8ann9/1d54b0678b9ef6bfc42b0c2ff2120ae5.h5\",\"/var/folders/2f/l5_mybzs30j4qqvyj98w1_nw0000gn/T/tmp8jg8ann9/0a331d558139ac3a05c4cf676a8455b6.h5\",\"/var/folders/2f/l5_mybzs30j4qqvyj98w1_nw0000gn/T/tmp8jg8ann9/e6bd6c13a2d22ad150081863f1c6fb59.h5\",\"/var/folders/2f/l5_mybzs30j4qqvyj98w1_nw0000gn/T/tmp8jg8ann9/3124ef1903c236f1962db3ec8dacd2fe.h5\",\"/var/folders/2f/l5_mybzs30j4qqvyj98w1_nw0000gn/T/tmp8jg8ann9/961dc67f12dc8c627e0a53ad04219881.h5\",\"/var/folders/2f/l5_mybzs30j4qqvyj98w1_nw0000gn/T/tmp8jg8ann9/9a8e21bd4149448d46774270247b7c2b.h5\",\"/var/folders/2f/l5_mybzs30j4qqvyj98w1_nw0000gn/T/tmp8jg8ann9/c191147e9f05abf7a8ba60eb73fbddbd.h5\",\"/var/folders/2f/l5_mybzs30j4qqvyj98w1_nw0000gn/T/tmp8jg8ann9/1c33e9ed18d9ff88f91eda547cfe96cd.h5\"],\"shape\":[19],\"dtype\":\"object\",\"order\":\"little\"}],[\"maxb(1)\",{\"type\":\"ndarray\",\"array\":{\"type\":\"bytes\",\"data\":\"AAAAAAAAAADtWIEw0o51P+1YgTDSjoU/sgJhpB0rkD/tWIEw0o6VPyivobyG8po/sgJhpB0roD/PLXHq99yiP+1YgTDSjqU/C4SRdqxAqD8or6G8hvKqP0basQJhpK0/sgJhpB0rsD9BGGnHCoSxP88tcer33LI/XkN5DeU1tD/tWIEw0o61P3xuiVO/57Y/C4SRdqxAuD8=\"},\"shape\":[19],\"dtype\":\"float64\",\"order\":\"little\"}],[\"Exception\",{\"type\":\"ndarray\",\"array\":{\"type\":\"bytes\",\"data\":\"AAAAAAAAAAAAAAAAAAAAAAAAAA==\"},\"shape\":[19],\"dtype\":\"bool\",\"order\":\"little\"}]]}}},\"view\":{\"type\":\"object\",\"name\":\"CDSView\",\"id\":\"p1094\",\"attributes\":{\"filter\":{\"type\":\"object\",\"name\":\"AllIndices\",\"id\":\"p1095\"}}},\"glyph\":{\"type\":\"object\",\"name\":\"Circle\",\"id\":\"p1090\",\"attributes\":{\"x\":{\"type\":\"field\",\"field\":\"maxb(1)\"},\"y\":{\"type\":\"field\",\"field\":\"end_sigma_x\"},\"size\":{\"type\":\"value\",\"value\":10},\"line_color\":{\"type\":\"value\",\"value\":\"green\"},\"fill_color\":{\"type\":\"value\",\"value\":\"green\"},\"hatch_color\":{\"type\":\"value\",\"value\":\"green\"}}},\"nonselection_glyph\":{\"type\":\"object\",\"name\":\"Circle\",\"id\":\"p1091\",\"attributes\":{\"x\":{\"type\":\"field\",\"field\":\"maxb(1)\"},\"y\":{\"type\":\"field\",\"field\":\"end_sigma_x\"},\"size\":{\"type\":\"value\",\"value\":10},\"line_color\":{\"type\":\"value\",\"value\":\"green\"},\"line_alpha\":{\"type\":\"value\",\"value\":0.1},\"fill_color\":{\"type\":\"value\",\"value\":\"green\"},\"fill_alpha\":{\"type\":\"value\",\"value\":0.1},\"hatch_color\":{\"type\":\"value\",\"value\":\"green\"},\"hatch_alpha\":{\"type\":\"value\",\"value\":0.1}}},\"muted_glyph\":{\"type\":\"object\",\"name\":\"Circle\",\"id\":\"p1092\",\"attributes\":{\"x\":{\"type\":\"field\",\"field\":\"maxb(1)\"},\"y\":{\"type\":\"field\",\"field\":\"end_sigma_x\"},\"size\":{\"type\":\"value\",\"value\":10},\"line_color\":{\"type\":\"value\",\"value\":\"green\"},\"line_alpha\":{\"type\":\"value\",\"value\":0.2},\"fill_color\":{\"type\":\"value\",\"value\":\"green\"},\"fill_alpha\":{\"type\":\"value\",\"value\":0.2},\"hatch_color\":{\"type\":\"value\",\"value\":\"green\"},\"hatch_alpha\":{\"type\":\"value\",\"value\":0.2}}}}}],\"toolbar\":{\"type\":\"object\",\"name\":\"Toolbar\",\"id\":\"p1073\",\"attributes\":{\"tools\":[{\"type\":\"object\",\"name\":\"TapTool\",\"id\":\"p1086\",\"attributes\":{\"renderers\":\"auto\"}},{\"type\":\"object\",\"name\":\"HoverTool\",\"id\":\"p1064\",\"attributes\":{\"renderers\":\"auto\",\"tooltips\":[[\"sigma_x\",\"@end_sigma_x\"],[\"norm_emit_x\",\"@end_norm_emit_x\"],[\"archive\",\"@archive\"]]}}]}},\"left\":[{\"type\":\"object\",\"name\":\"LinearAxis\",\"id\":\"p1081\",\"attributes\":{\"ticker\":{\"type\":\"object\",\"name\":\"BasicTicker\",\"id\":\"p1082\",\"attributes\":{\"mantissas\":[1,2,5]}},\"formatter\":{\"type\":\"object\",\"name\":\"BasicTickFormatter\",\"id\":\"p1083\"},\"major_label_policy\":{\"type\":\"object\",\"name\":\"AllLabels\",\"id\":\"p1084\"}}}],\"below\":[{\"type\":\"object\",\"name\":\"LinearAxis\",\"id\":\"p1076\",\"attributes\":{\"ticker\":{\"type\":\"object\",\"name\":\"BasicTicker\",\"id\":\"p1077\",\"attributes\":{\"mantissas\":[1,2,5]}},\"formatter\":{\"type\":\"object\",\"name\":\"BasicTickFormatter\",\"id\":\"p1078\"},\"major_label_policy\":{\"type\":\"object\",\"name\":\"AllLabels\",\"id\":\"p1079\"}}}],\"center\":[{\"type\":\"object\",\"name\":\"Grid\",\"id\":\"p1080\",\"attributes\":{\"axis\":{\"id\":\"p1076\"}}},{\"type\":\"object\",\"name\":\"Grid\",\"id\":\"p1085\",\"attributes\":{\"dimension\":1,\"axis\":{\"id\":\"p1081\"}}}]}}]}};\n",
       "  const render_items = [{\"docid\":\"96d5860a-ffef-46d1-941c-794b89351c87\",\"roots\":{\"p1065\":\"b941f2a6-baf7-493e-824f-4b728887168f\"},\"root_ids\":[\"p1065\"]}];\n",
       "  root.Bokeh.embed.embed_items_notebook(docs_json, render_items);\n",
       "  }\n",
       "  if (root.Bokeh !== undefined) {\n",
       "    embed_document(root);\n",
       "  } else {\n",
       "    let attempts = 0;\n",
       "    const timer = setInterval(function(root) {\n",
       "      if (root.Bokeh !== undefined) {\n",
       "        clearInterval(timer);\n",
       "        embed_document(root);\n",
       "      } else {\n",
       "        attempts++;\n",
       "        if (attempts > 100) {\n",
       "          clearInterval(timer);\n",
       "          console.log(\"Bokeh: ERROR: Unable to run BokehJS code because BokehJS library is missing\");\n",
       "        }\n",
       "      }\n",
       "    }, 10, root)\n",
       "  }\n",
       "})(window);"
      ],
      "application/vnd.bokehjs_exec.v0+json": ""
     },
     "metadata": {
      "application/vnd.bokehjs_exec.v0+json": {
       "id": "p1065"
      }
     },
     "output_type": "display_data"
    }
   ],
   "source": [
    "# Fancier plot\n",
    "\n",
    "from bokeh.models.tools import HoverTool\n",
    "\n",
    "hover = HoverTool()\n",
    "\n",
    "\n",
    "hover.tooltips=[\n",
    "    ('sigma_x', '@end_sigma_x'),\n",
    "    ('norm_emit_x', '@end_norm_emit_x'),\n",
    "    ('archive', '@archive')\n",
    "]\n",
    "p = figure(tools='tap')\n",
    "p.circle(x='maxb(1)', y='end_sigma_x', source=source, size=10, color='green')\n",
    "\n",
    "p.add_tools(hover)\n",
    "\n",
    "show(p)"
   ]
  },
  {
   "cell_type": "code",
   "execution_count": 24,
   "metadata": {
    "execution": {
     "iopub.execute_input": "2023-08-02T15:50:37.792582Z",
     "iopub.status.busy": "2023-08-02T15:50:37.792468Z",
     "iopub.status.idle": "2023-08-02T15:50:38.312577Z",
     "shell.execute_reply": "2023-08-02T15:50:38.312278Z"
    }
   },
   "outputs": [],
   "source": [
    "# Load all archives\n",
    "from astra import Astra\n",
    "Alist = []\n",
    "for a in filtered_df['archive']:\n",
    "    A = Astra()\n",
    "    A.load_archive(a)\n",
    "    Alist.append(A)"
   ]
  },
  {
   "cell_type": "code",
   "execution_count": 25,
   "metadata": {
    "execution": {
     "iopub.execute_input": "2023-08-02T15:50:38.314481Z",
     "iopub.status.busy": "2023-08-02T15:50:38.314371Z",
     "iopub.status.idle": "2023-08-02T15:50:38.443082Z",
     "shell.execute_reply": "2023-08-02T15:50:38.442824Z"
    }
   },
   "outputs": [
    {
     "data": {
      "text/plain": [
       "[<matplotlib.lines.Line2D at 0x15774f4f0>]"
      ]
     },
     "execution_count": 25,
     "metadata": {},
     "output_type": "execute_result"
    },
    {
     "data": {
      "image/png": "[encoded data removed]",
      "text/plain": [
       "<Figure size 640x480 with 1 Axes>"
      ]
     },
     "metadata": {},
     "output_type": "display_data"
    }
   ],
   "source": [
    "plt.plot(\n",
    "    Alist[0].output['stats']['mean_z'],\n",
    "    Alist[0].output['stats']['sigma_x']\n",
    ")"
   ]
  }
 ],
 "metadata": {
  "kernelspec": {
   "display_name": "Python 3.9.13 ('lume-astra-dev')",
   "language": "python",
   "name": "python3"
  },
  "language_info": {
   "codemirror_mode": {
    "name": "ipython",
    "version": 3
   },
   "file_extension": ".py",
   "mimetype": "text/x-python",
   "name": "python",
   "nbconvert_exporter": "python",
   "pygments_lexer": "ipython3",
   "version": "3.9.16"
  },
  "vscode": {
   "interpreter": {
    "hash": "6d03fce94a11c73dea1695392ee56e7f433fe1c4db87f5351f52c08d53a6c5e5"
   }
  }
 },
 "nbformat": 4,
 "nbformat_minor": 4
}

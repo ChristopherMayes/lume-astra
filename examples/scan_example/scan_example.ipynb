{
 "cells": [
  {
   "cell_type": "markdown",
   "metadata": {},
   "source": [
    "# Scanning Astra evaluations"
   ]
  },
  {
   "cell_type": "code",
   "execution_count": 1,
   "metadata": {},
   "outputs": [],
   "source": [
    "# Useful for debugging\n",
    "%load_ext autoreload\n",
    "%autoreload 2"
   ]
  },
  {
   "cell_type": "code",
   "execution_count": 2,
   "metadata": {},
   "outputs": [],
   "source": [
    "from astra import evaluate_astra_with_distgen\n",
    "\n",
    "import matplotlib.pyplot as plt\n",
    "\n",
    "import numpy as np\n",
    "import os"
   ]
  },
  {
   "cell_type": "code",
   "execution_count": 3,
   "metadata": {},
   "outputs": [],
   "source": [
    "# Input files\n",
    "ASTRA_IN = 'templates/dcgun/astra.in'\n",
    "DISTGEN_IN = 'templates/dcgun/distgen.yaml'"
   ]
  },
  {
   "cell_type": "code",
   "execution_count": 4,
   "metadata": {},
   "outputs": [],
   "source": [
    "# Run Astra with Distgen\n",
    "\n",
    "# Basic settings\n",
    "settings0 = {'zstop':1, 'zemit':10, 'zphase':10, 'phases':True}\n",
    "settings0['distgen:n_particle'] = 2000\n",
    "\n",
    "# Solenoid field\n",
    "settings0['maxb(1)'] = 0.04"
   ]
  },
  {
   "cell_type": "code",
   "execution_count": 5,
   "metadata": {},
   "outputs": [
    {
     "data": {
      "text/plain": [
       "{'error': False,\n",
       " 'end_mean_z': 1.0,\n",
       " 'end_mean_t': 4.0156e-09,\n",
       " 'end_mean_x': -8.1128e-11,\n",
       " 'end_sigma_x': 0.00034241,\n",
       " 'end_sigma_xp': 0.00058502,\n",
       " 'end_norm_emit_x': 1.7516000000000001e-07,\n",
       " 'end_cov_x__xp': 1.72026784e-07,\n",
       " 'end_mean_y': 5.7747e-09,\n",
       " 'end_sigma_y': 0.00034245,\n",
       " 'end_sigma_yp': 0.0005843,\n",
       " 'end_norm_emit_y': 1.7455e-07,\n",
       " 'end_cov_y__yp': 1.7197839e-07,\n",
       " 'end_mean_kinetic_energy': 499790.0,\n",
       " 'end_sigma_z': 0.0021695000000000004,\n",
       " 'end_sigma_energy': 1.7883,\n",
       " 'end_norm_emit_z': 0.0038791,\n",
       " 'end_cov_z__energy': 7.779827000000001e-05,\n",
       " 'end_n_particle_loss': 0,\n",
       " 'end_total_charge': 9.999999999999999e-11,\n",
       " 'end_higher_order_energy_spread': 1.7879755920482698,\n",
       " 'fingerprint': '23d2d0175f0de516d959180c4fcb3a3c'}"
      ]
     },
     "execution_count": 5,
     "metadata": {},
     "output_type": "execute_result"
    }
   ],
   "source": [
    "# This is the basic function we will use\n",
    "outputs = evaluate_astra_with_distgen(settings0, astra_input_file=ASTRA_IN,\n",
    "                              distgen_input_file=DISTGEN_IN)\n",
    "outputs"
   ]
  },
  {
   "cell_type": "code",
   "execution_count": 6,
   "metadata": {},
   "outputs": [
    {
     "data": {
      "text/plain": [
       "{'error': False,\n",
       " 'end_mean_z': 1.0,\n",
       " 'end_mean_t': 4.0156e-09,\n",
       " 'end_mean_x': -3.6051e-09,\n",
       " 'end_sigma_x': 0.0006159000000000001,\n",
       " 'end_sigma_xp': 0.00065659,\n",
       " 'end_norm_emit_x': 1.7486999999999998e-07,\n",
       " 'end_cov_x__xp': 3.9120120300000003e-07,\n",
       " 'end_mean_y': -5.7092e-09,\n",
       " 'end_sigma_y': 0.00061615,\n",
       " 'end_sigma_yp': 0.00065711,\n",
       " 'end_norm_emit_y': 1.7486e-07,\n",
       " 'end_cov_y__yp': 3.917050395e-07,\n",
       " 'end_mean_kinetic_energy': 499790.0,\n",
       " 'end_sigma_z': 0.0021695000000000004,\n",
       " 'end_sigma_energy': 1.7883,\n",
       " 'end_norm_emit_z': 0.0038791,\n",
       " 'end_cov_z__energy': 7.776355800000001e-05,\n",
       " 'end_n_particle_loss': 0,\n",
       " 'end_total_charge': 9.999999999999999e-11,\n",
       " 'end_higher_order_energy_spread': 1.787977225601662,\n",
       " 'fingerprint': '5ef84f0a9cf28fbdd276b91a96ef6aa2'}"
      ]
     },
     "execution_count": 6,
     "metadata": {},
     "output_type": "execute_result"
    }
   ],
   "source": [
    "# Make a bare minimum function to evaluate\n",
    "def f(b):\n",
    "    s = settings0.copy()\n",
    "    s['maxb(1)'] = b\n",
    "    return evaluate_astra_with_distgen(s, astra_input_file=ASTRA_IN,\n",
    "                          distgen_input_file=DISTGEN_IN)\n",
    "# Make a list to scan\n",
    "blist = np.linspace(0, 0.1, 20)\n",
    "f(0)"
   ]
  },
  {
   "cell_type": "code",
   "execution_count": 7,
   "metadata": {},
   "outputs": [],
   "source": [
    "# Get a parallel executor\n",
    "\n",
    "# Processes. These lines are needed to get this to work on macOS\n",
    "import multiprocessing as mp                                                                                     \n",
    "mp.set_start_method(\"fork\")    \n",
    "from concurrent.futures import ProcessPoolExecutor as Executor\n",
    "\n",
    "#from concurrent.futures import ThreadPoolExecutor as Executor # DO NOT USE\n",
    "#from dask.distributed import Client as Executor\n",
    "\n",
    "executor=Executor()"
   ]
  },
  {
   "cell_type": "code",
   "execution_count": 8,
   "metadata": {},
   "outputs": [],
   "source": [
    "# Make a map object. Note that this does not execute immediately.\n",
    "results = executor.map(f, blist)"
   ]
  },
  {
   "cell_type": "code",
   "execution_count": 9,
   "metadata": {},
   "outputs": [],
   "source": [
    "# Actually evalute the funciton and gather the results\n",
    "outputs = []\n",
    "for r in results:\n",
    "    outputs.append(r)\n",
    "#    outputs.append(r.result())"
   ]
  },
  {
   "cell_type": "code",
   "execution_count": 10,
   "metadata": {},
   "outputs": [
    {
     "data": {
      "text/plain": [
       "[<matplotlib.lines.Line2D at 0x12be69bb0>]"
      ]
     },
     "execution_count": 10,
     "metadata": {},
     "output_type": "execute_result"
    },
    {
     "data": {
      "image/png": "[encoded data removed]",
      "text/plain": [
       "<Figure size 640x480 with 1 Axes>"
      ]
     },
     "metadata": {},
     "output_type": "display_data"
    }
   ],
   "source": [
    "# Simple plot\n",
    "plt.plot(blist, [o['end_sigma_x'] for o in outputs])"
   ]
  },
  {
   "cell_type": "markdown",
   "metadata": {},
   "source": [
    "# Better: robust evaluation, form dataset "
   ]
  },
  {
   "cell_type": "code",
   "execution_count": 11,
   "metadata": {},
   "outputs": [],
   "source": [
    "from tempfile import TemporaryDirectory\n",
    "SCRATCH=TemporaryDirectory()"
   ]
  },
  {
   "cell_type": "code",
   "execution_count": 12,
   "metadata": {},
   "outputs": [],
   "source": [
    "# Make a robust evaluate\n",
    "def evaluate(b):\n",
    "    try:\n",
    "        s = settings0.copy()\n",
    "        s['maxb(1)'] = b\n",
    "        output = evaluate_astra_with_distgen(s, astra_input_file=ASTRA_IN,\n",
    "                              distgen_input_file=DISTGEN_IN, archive_path=SCRATCH.name)\n",
    "        # Add the input\n",
    "        output['maxb(1)'] = b\n",
    "        output['Exception'] = False\n",
    "    except:\n",
    "        output = {}\n",
    "        output['maxb(1)'] = b\n",
    "        output['Exception'] = True\n",
    "        \n",
    "    return output"
   ]
  },
  {
   "cell_type": "code",
   "execution_count": 13,
   "metadata": {},
   "outputs": [
    {
     "data": {
      "text/plain": [
       "'/var/folders/2f/l5_mybzs30j4qqvyj98w1_nw0000gn/T/tmpun53yjcs'"
      ]
     },
     "execution_count": 13,
     "metadata": {},
     "output_type": "execute_result"
    }
   ],
   "source": [
    "SCRATCH.name"
   ]
  },
  {
   "cell_type": "code",
   "execution_count": 14,
   "metadata": {},
   "outputs": [
    {
     "name": "stdout",
     "output_type": "stream",
     "text": [
      "Run Aborted Traceback (most recent call last):\n",
      "  File \"/Users/chrisonian/Code/GitHub/lume-astra/astra/astra.py\", line 302, in run_astra\n",
      "    self.load_output()\n",
      "  File \"/Users/chrisonian/Code/GitHub/lume-astra/astra/astra.py\", line 221, in load_output\n",
      "    d = parsers.parse_astra_output_file(f)\n",
      "  File \"/Users/chrisonian/Code/GitHub/lume-astra/astra/parsers.py\", line 156, in parse_astra_output_file\n",
      "    d[keys[i]] = data[:,i]*factors[i]\n",
      "IndexError: too many indices for array: array is 1-dimensional, but 2 were indexed\n",
      "\n"
     ]
    },
    {
     "data": {
      "text/plain": [
       "{'maxb(1)': 1000000000.0, 'Exception': True}"
      ]
     },
     "execution_count": 14,
     "metadata": {},
     "output_type": "execute_result"
    }
   ],
   "source": [
    "# This will cause a crash in Astra\n",
    "evaluate(1e9)"
   ]
  },
  {
   "cell_type": "code",
   "execution_count": 15,
   "metadata": {},
   "outputs": [
    {
     "name": "stdout",
     "output_type": "stream",
     "text": [
      "Run Aborted Traceback (most recent call last):\n",
      "  File \"/Users/chrisonian/Code/GitHub/lume-astra/astra/astra.py\", line 302, in run_astra\n",
      "    self.load_output()\n",
      "  File \"/Users/chrisonian/Code/GitHub/lume-astra/astra/astra.py\", line 221, in load_output\n",
      "    d = parsers.parse_astra_output_file(f)\n",
      "  File \"/Users/chrisonian/Code/GitHub/lume-astra/astra/parsers.py\", line 156, in parse_astra_output_file\n",
      "    d[keys[i]] = data[:,i]*factors[i]\n",
      "IndexError: too many indices for array: array is 1-dimensional, but 2 were indexed\n",
      "\n"
     ]
    }
   ],
   "source": [
    "# Get a new executor\n",
    "executor =  Executor()\n",
    "\n",
    "# Make a map object. Note that this does not execute immediately.\n",
    "\n",
    "blist[-1] = 1e9 # Add something that will crash\n",
    "results = executor.map(evaluate, blist)\n",
    "# Actually evalute the funciton and gather the results\n",
    "outputs = []\n",
    "for r in results:\n",
    "    outputs.append(r)"
   ]
  },
  {
   "cell_type": "code",
   "execution_count": 16,
   "metadata": {},
   "outputs": [
    {
     "data": {
      "text/plain": [
       "['9daed7665a879aeb2c3462df0fcb40af.h5',\n",
       " '152a55f3fc5ea5d0e273448a107203cd.h5',\n",
       " 'fbfe7f38120c8fc2161fe8a70d8d13bc.h5',\n",
       " 'd7fd09079023261d077847179aa64b64.h5',\n",
       " '1564dd989209b48f5f7c4500a1c2614b.h5',\n",
       " '89b853aa66256c83ebcca9c9e8b29dd8.h5',\n",
       " '97ec1299aceab0f7dee580202598bba7.h5',\n",
       " 'a8b801cfead0a1c541c98c028a062a58.h5',\n",
       " 'b76f206b9a428dce2c3daa51ab14b71e.h5',\n",
       " '55bc386546bd216e92bbe81f8c6f0679.h5',\n",
       " 'e408d2c24341bb615ff5eece35c00a98.h5',\n",
       " '9794855b277fd4868e860c044e057b0c.h5',\n",
       " '36bd110868c0cdcd268b4bea3cddfd70.h5',\n",
       " '19ba20d598e3a481a40afc735d083222.h5',\n",
       " '049647d1cc11f4b3889b23bf6ee214f1.h5',\n",
       " '5d175968b52405e4436c1e79e9361aa5.h5',\n",
       " 'a5cd100f26477b8bb5184c1d0fdb80bc.h5',\n",
       " '7fbf911b765009875b4cb850305b63be.h5',\n",
       " '27ecd98f1354eee5d909e045fab51359.h5']"
      ]
     },
     "execution_count": 16,
     "metadata": {},
     "output_type": "execute_result"
    }
   ],
   "source": [
    "# Archive files are here\n",
    "os.listdir(SCRATCH.name)"
   ]
  },
  {
   "cell_type": "markdown",
   "metadata": {},
   "source": [
    "# Pandas "
   ]
  },
  {
   "cell_type": "code",
   "execution_count": 17,
   "metadata": {},
   "outputs": [
    {
     "ename": "ModuleNotFoundError",
     "evalue": "No module named 'pandas'",
     "output_type": "error",
     "traceback": [
      "\u001b[0;31m---------------------------------------------------------------------------\u001b[0m",
      "\u001b[0;31mModuleNotFoundError\u001b[0m                       Traceback (most recent call last)",
      "Cell \u001b[0;32mIn [17], line 1\u001b[0m\n\u001b[0;32m----> 1\u001b[0m \u001b[38;5;28;01mimport\u001b[39;00m \u001b[38;5;21;01mpandas\u001b[39;00m \u001b[38;5;28;01mas\u001b[39;00m \u001b[38;5;21;01mpd\u001b[39;00m\n",
      "\u001b[0;31mModuleNotFoundError\u001b[0m: No module named 'pandas'"
     ]
    }
   ],
   "source": [
    "import pandas as pd"
   ]
  },
  {
   "cell_type": "code",
   "execution_count": null,
   "metadata": {},
   "outputs": [
    {
     "data": {
      "text/html": [
       "<div>\n",
       "<style scoped>\n",
       "    .dataframe tbody tr th:only-of-type {\n",
       "        vertical-align: middle;\n",
       "    }\n",
       "\n",
       "    .dataframe tbody tr th {\n",
       "        vertical-align: top;\n",
       "    }\n",
       "\n",
       "    .dataframe thead th {\n",
       "        text-align: right;\n",
       "    }\n",
       "</style>\n",
       "<table border=\"1\" class=\"dataframe\">\n",
       "  <thead>\n",
       "    <tr style=\"text-align: right;\">\n",
       "      <th></th>\n",
       "      <th>error</th>\n",
       "      <th>end_mean_z</th>\n",
       "      <th>end_mean_t</th>\n",
       "      <th>end_mean_x</th>\n",
       "      <th>end_sigma_x</th>\n",
       "      <th>end_sigma_xp</th>\n",
       "      <th>end_norm_emit_x</th>\n",
       "      <th>end_cov_x__xp</th>\n",
       "      <th>end_mean_y</th>\n",
       "      <th>end_sigma_y</th>\n",
       "      <th>...</th>\n",
       "      <th>end_sigma_energy</th>\n",
       "      <th>end_norm_emit_z</th>\n",
       "      <th>end_cov_z__energy</th>\n",
       "      <th>end_n_particle_loss</th>\n",
       "      <th>end_total_charge</th>\n",
       "      <th>end_higher_order_energy_spread</th>\n",
       "      <th>fingerprint</th>\n",
       "      <th>archive</th>\n",
       "      <th>maxb(1)</th>\n",
       "      <th>Exception</th>\n",
       "    </tr>\n",
       "  </thead>\n",
       "  <tbody>\n",
       "    <tr>\n",
       "      <th>0</th>\n",
       "      <td>False</td>\n",
       "      <td>1.0</td>\n",
       "      <td>4.015600e-09</td>\n",
       "      <td>1.333800e-10</td>\n",
       "      <td>0.000616</td>\n",
       "      <td>0.000657</td>\n",
       "      <td>1.748500e-07</td>\n",
       "      <td>3.912074e-07</td>\n",
       "      <td>2.268900e-10</td>\n",
       "      <td>0.000616</td>\n",
       "      <td>...</td>\n",
       "      <td>1.055</td>\n",
       "      <td>0.000020</td>\n",
       "      <td>0.00003</td>\n",
       "      <td>0.0</td>\n",
       "      <td>1.000000e-10</td>\n",
       "      <td>0.333425</td>\n",
       "      <td>1072e28cb26b18367e1493ad9445c4a2</td>\n",
       "      <td>/var/folders/wj/lfgr01993dx79p9cm_skykbw0000gn...</td>\n",
       "      <td>0.000000e+00</td>\n",
       "      <td>False</td>\n",
       "    </tr>\n",
       "    <tr>\n",
       "      <th>1</th>\n",
       "      <td>False</td>\n",
       "      <td>1.0</td>\n",
       "      <td>4.015600e-09</td>\n",
       "      <td>1.094800e-10</td>\n",
       "      <td>0.000608</td>\n",
       "      <td>0.000647</td>\n",
       "      <td>1.749300e-07</td>\n",
       "      <td>3.799868e-07</td>\n",
       "      <td>2.283000e-10</td>\n",
       "      <td>0.000608</td>\n",
       "      <td>...</td>\n",
       "      <td>1.055</td>\n",
       "      <td>0.000020</td>\n",
       "      <td>0.00003</td>\n",
       "      <td>0.0</td>\n",
       "      <td>1.000000e-10</td>\n",
       "      <td>0.333330</td>\n",
       "      <td>db1ec99167d5574f67c495839a3cb4a3</td>\n",
       "      <td>/var/folders/wj/lfgr01993dx79p9cm_skykbw0000gn...</td>\n",
       "      <td>5.263158e-03</td>\n",
       "      <td>False</td>\n",
       "    </tr>\n",
       "    <tr>\n",
       "      <th>2</th>\n",
       "      <td>False</td>\n",
       "      <td>1.0</td>\n",
       "      <td>4.015600e-09</td>\n",
       "      <td>8.997000e-11</td>\n",
       "      <td>0.000584</td>\n",
       "      <td>0.000621</td>\n",
       "      <td>1.750000e-07</td>\n",
       "      <td>3.478028e-07</td>\n",
       "      <td>2.255400e-10</td>\n",
       "      <td>0.000584</td>\n",
       "      <td>...</td>\n",
       "      <td>1.055</td>\n",
       "      <td>0.000020</td>\n",
       "      <td>0.00003</td>\n",
       "      <td>0.0</td>\n",
       "      <td>1.000000e-10</td>\n",
       "      <td>0.333061</td>\n",
       "      <td>c726e957e9d498bdd71decc882bcdf9b</td>\n",
       "      <td>/var/folders/wj/lfgr01993dx79p9cm_skykbw0000gn...</td>\n",
       "      <td>1.052632e-02</td>\n",
       "      <td>False</td>\n",
       "    </tr>\n",
       "    <tr>\n",
       "      <th>3</th>\n",
       "      <td>False</td>\n",
       "      <td>1.0</td>\n",
       "      <td>4.015600e-09</td>\n",
       "      <td>7.525300e-11</td>\n",
       "      <td>0.000546</td>\n",
       "      <td>0.000581</td>\n",
       "      <td>1.750600e-07</td>\n",
       "      <td>2.999336e-07</td>\n",
       "      <td>2.209300e-10</td>\n",
       "      <td>0.000545</td>\n",
       "      <td>...</td>\n",
       "      <td>1.055</td>\n",
       "      <td>0.000020</td>\n",
       "      <td>0.00003</td>\n",
       "      <td>0.0</td>\n",
       "      <td>1.000000e-10</td>\n",
       "      <td>0.332660</td>\n",
       "      <td>160eee342ea5b555f8a809c63f538223</td>\n",
       "      <td>/var/folders/wj/lfgr01993dx79p9cm_skykbw0000gn...</td>\n",
       "      <td>1.578947e-02</td>\n",
       "      <td>False</td>\n",
       "    </tr>\n",
       "    <tr>\n",
       "      <th>4</th>\n",
       "      <td>False</td>\n",
       "      <td>1.0</td>\n",
       "      <td>4.015600e-09</td>\n",
       "      <td>6.490000e-11</td>\n",
       "      <td>0.000496</td>\n",
       "      <td>0.000535</td>\n",
       "      <td>1.751200e-07</td>\n",
       "      <td>2.448509e-07</td>\n",
       "      <td>2.167400e-10</td>\n",
       "      <td>0.000495</td>\n",
       "      <td>...</td>\n",
       "      <td>1.055</td>\n",
       "      <td>0.000020</td>\n",
       "      <td>0.00003</td>\n",
       "      <td>0.0</td>\n",
       "      <td>1.000000e-10</td>\n",
       "      <td>0.332197</td>\n",
       "      <td>72efcc8b13bf45a0c21fe290a650d243</td>\n",
       "      <td>/var/folders/wj/lfgr01993dx79p9cm_skykbw0000gn...</td>\n",
       "      <td>2.105263e-02</td>\n",
       "      <td>False</td>\n",
       "    </tr>\n",
       "    <tr>\n",
       "      <th>5</th>\n",
       "      <td>False</td>\n",
       "      <td>1.0</td>\n",
       "      <td>4.015600e-09</td>\n",
       "      <td>5.766700e-11</td>\n",
       "      <td>0.000439</td>\n",
       "      <td>0.000499</td>\n",
       "      <td>1.751500e-07</td>\n",
       "      <td>1.935856e-07</td>\n",
       "      <td>2.149300e-10</td>\n",
       "      <td>0.000439</td>\n",
       "      <td>...</td>\n",
       "      <td>1.055</td>\n",
       "      <td>0.000020</td>\n",
       "      <td>0.00003</td>\n",
       "      <td>0.0</td>\n",
       "      <td>1.000000e-10</td>\n",
       "      <td>0.331762</td>\n",
       "      <td>09f5c247db74c2c662720ce521da2073</td>\n",
       "      <td>/var/folders/wj/lfgr01993dx79p9cm_skykbw0000gn...</td>\n",
       "      <td>2.631579e-02</td>\n",
       "      <td>False</td>\n",
       "    </tr>\n",
       "    <tr>\n",
       "      <th>6</th>\n",
       "      <td>False</td>\n",
       "      <td>1.0</td>\n",
       "      <td>4.015600e-09</td>\n",
       "      <td>5.159900e-11</td>\n",
       "      <td>0.000384</td>\n",
       "      <td>0.000492</td>\n",
       "      <td>1.751700e-07</td>\n",
       "      <td>1.589447e-07</td>\n",
       "      <td>2.168900e-10</td>\n",
       "      <td>0.000384</td>\n",
       "      <td>...</td>\n",
       "      <td>1.055</td>\n",
       "      <td>0.000020</td>\n",
       "      <td>0.00003</td>\n",
       "      <td>0.0</td>\n",
       "      <td>1.000000e-10</td>\n",
       "      <td>0.331461</td>\n",
       "      <td>ea935d4f2e571251e20b6b28bad22a19</td>\n",
       "      <td>/var/folders/wj/lfgr01993dx79p9cm_skykbw0000gn...</td>\n",
       "      <td>3.157895e-02</td>\n",
       "      <td>False</td>\n",
       "    </tr>\n",
       "    <tr>\n",
       "      <th>7</th>\n",
       "      <td>False</td>\n",
       "      <td>1.0</td>\n",
       "      <td>4.015600e-09</td>\n",
       "      <td>4.423000e-11</td>\n",
       "      <td>0.000347</td>\n",
       "      <td>0.000534</td>\n",
       "      <td>1.751700e-07</td>\n",
       "      <td>1.545513e-07</td>\n",
       "      <td>2.231700e-10</td>\n",
       "      <td>0.000347</td>\n",
       "      <td>...</td>\n",
       "      <td>1.055</td>\n",
       "      <td>0.000020</td>\n",
       "      <td>0.00003</td>\n",
       "      <td>0.0</td>\n",
       "      <td>1.000000e-10</td>\n",
       "      <td>0.331413</td>\n",
       "      <td>7c008155f8dc3ef0313649601abbebcb</td>\n",
       "      <td>/var/folders/wj/lfgr01993dx79p9cm_skykbw0000gn...</td>\n",
       "      <td>3.684211e-02</td>\n",
       "      <td>False</td>\n",
       "    </tr>\n",
       "    <tr>\n",
       "      <th>8</th>\n",
       "      <td>False</td>\n",
       "      <td>1.0</td>\n",
       "      <td>4.015600e-09</td>\n",
       "      <td>3.287000e-11</td>\n",
       "      <td>0.000349</td>\n",
       "      <td>0.000629</td>\n",
       "      <td>1.751600e-07</td>\n",
       "      <td>1.937603e-07</td>\n",
       "      <td>2.333000e-10</td>\n",
       "      <td>0.000349</td>\n",
       "      <td>...</td>\n",
       "      <td>1.055</td>\n",
       "      <td>0.000020</td>\n",
       "      <td>0.00003</td>\n",
       "      <td>0.0</td>\n",
       "      <td>1.000000e-10</td>\n",
       "      <td>0.331742</td>\n",
       "      <td>52436e54469c97f282df7856e785f4af</td>\n",
       "      <td>/var/folders/wj/lfgr01993dx79p9cm_skykbw0000gn...</td>\n",
       "      <td>4.210526e-02</td>\n",
       "      <td>False</td>\n",
       "    </tr>\n",
       "    <tr>\n",
       "      <th>9</th>\n",
       "      <td>False</td>\n",
       "      <td>1.0</td>\n",
       "      <td>4.015600e-09</td>\n",
       "      <td>1.496100e-11</td>\n",
       "      <td>0.000399</td>\n",
       "      <td>0.000768</td>\n",
       "      <td>1.751300e-07</td>\n",
       "      <td>2.886720e-07</td>\n",
       "      <td>2.457200e-10</td>\n",
       "      <td>0.000399</td>\n",
       "      <td>...</td>\n",
       "      <td>1.055</td>\n",
       "      <td>0.000020</td>\n",
       "      <td>0.00003</td>\n",
       "      <td>0.0</td>\n",
       "      <td>1.000000e-10</td>\n",
       "      <td>0.332573</td>\n",
       "      <td>3dfb0c5659e18598447c3e5ee7cd9b5b</td>\n",
       "      <td>/var/folders/wj/lfgr01993dx79p9cm_skykbw0000gn...</td>\n",
       "      <td>4.736842e-02</td>\n",
       "      <td>False</td>\n",
       "    </tr>\n",
       "    <tr>\n",
       "      <th>10</th>\n",
       "      <td>False</td>\n",
       "      <td>1.0</td>\n",
       "      <td>4.015600e-09</td>\n",
       "      <td>-1.153400e-11</td>\n",
       "      <td>0.000491</td>\n",
       "      <td>0.000938</td>\n",
       "      <td>1.750800e-07</td>\n",
       "      <td>4.490662e-07</td>\n",
       "      <td>2.578100e-10</td>\n",
       "      <td>0.000490</td>\n",
       "      <td>...</td>\n",
       "      <td>1.055</td>\n",
       "      <td>0.000020</td>\n",
       "      <td>0.00003</td>\n",
       "      <td>0.0</td>\n",
       "      <td>1.000000e-10</td>\n",
       "      <td>0.334025</td>\n",
       "      <td>3ec2ce12505cb1fc9773208b94aa82a6</td>\n",
       "      <td>/var/folders/wj/lfgr01993dx79p9cm_skykbw0000gn...</td>\n",
       "      <td>5.263158e-02</td>\n",
       "      <td>False</td>\n",
       "    </tr>\n",
       "    <tr>\n",
       "      <th>11</th>\n",
       "      <td>False</td>\n",
       "      <td>1.0</td>\n",
       "      <td>4.015600e-09</td>\n",
       "      <td>-4.775200e-11</td>\n",
       "      <td>0.000610</td>\n",
       "      <td>0.001129</td>\n",
       "      <td>1.750200e-07</td>\n",
       "      <td>6.815719e-07</td>\n",
       "      <td>2.660500e-10</td>\n",
       "      <td>0.000610</td>\n",
       "      <td>...</td>\n",
       "      <td>1.055</td>\n",
       "      <td>0.000020</td>\n",
       "      <td>0.00003</td>\n",
       "      <td>0.0</td>\n",
       "      <td>1.000000e-10</td>\n",
       "      <td>0.336203</td>\n",
       "      <td>fcb17335db410818424a211e5a5eec78</td>\n",
       "      <td>/var/folders/wj/lfgr01993dx79p9cm_skykbw0000gn...</td>\n",
       "      <td>5.789474e-02</td>\n",
       "      <td>False</td>\n",
       "    </tr>\n",
       "    <tr>\n",
       "      <th>12</th>\n",
       "      <td>False</td>\n",
       "      <td>1.0</td>\n",
       "      <td>4.015600e-09</td>\n",
       "      <td>-9.359800e-11</td>\n",
       "      <td>0.000746</td>\n",
       "      <td>0.001333</td>\n",
       "      <td>1.749500e-07</td>\n",
       "      <td>9.889756e-07</td>\n",
       "      <td>2.663500e-10</td>\n",
       "      <td>0.000746</td>\n",
       "      <td>...</td>\n",
       "      <td>1.055</td>\n",
       "      <td>0.000020</td>\n",
       "      <td>0.00003</td>\n",
       "      <td>0.0</td>\n",
       "      <td>1.000000e-10</td>\n",
       "      <td>0.339184</td>\n",
       "      <td>f167134cb653bdaa536efb22a04b6b60</td>\n",
       "      <td>/var/folders/wj/lfgr01993dx79p9cm_skykbw0000gn...</td>\n",
       "      <td>6.315789e-02</td>\n",
       "      <td>False</td>\n",
       "    </tr>\n",
       "    <tr>\n",
       "      <th>13</th>\n",
       "      <td>False</td>\n",
       "      <td>1.0</td>\n",
       "      <td>4.015600e-09</td>\n",
       "      <td>-1.475400e-10</td>\n",
       "      <td>0.000890</td>\n",
       "      <td>0.001543</td>\n",
       "      <td>1.748700e-07</td>\n",
       "      <td>1.369843e-06</td>\n",
       "      <td>2.544500e-10</td>\n",
       "      <td>0.000891</td>\n",
       "      <td>...</td>\n",
       "      <td>1.055</td>\n",
       "      <td>0.000020</td>\n",
       "      <td>0.00003</td>\n",
       "      <td>0.0</td>\n",
       "      <td>1.000000e-10</td>\n",
       "      <td>0.343009</td>\n",
       "      <td>badc21d56125c19667c842f830bf7c12</td>\n",
       "      <td>/var/folders/wj/lfgr01993dx79p9cm_skykbw0000gn...</td>\n",
       "      <td>6.842105e-02</td>\n",
       "      <td>False</td>\n",
       "    </tr>\n",
       "    <tr>\n",
       "      <th>14</th>\n",
       "      <td>False</td>\n",
       "      <td>1.0</td>\n",
       "      <td>4.015600e-09</td>\n",
       "      <td>-2.065100e-10</td>\n",
       "      <td>0.001038</td>\n",
       "      <td>0.001754</td>\n",
       "      <td>1.748000e-07</td>\n",
       "      <td>1.818200e-06</td>\n",
       "      <td>2.264300e-10</td>\n",
       "      <td>0.001040</td>\n",
       "      <td>...</td>\n",
       "      <td>1.055</td>\n",
       "      <td>0.000020</td>\n",
       "      <td>0.00003</td>\n",
       "      <td>0.0</td>\n",
       "      <td>1.000000e-10</td>\n",
       "      <td>0.347666</td>\n",
       "      <td>ad81cfb8b253c80bdbc7f2ba6732b967</td>\n",
       "      <td>/var/folders/wj/lfgr01993dx79p9cm_skykbw0000gn...</td>\n",
       "      <td>7.368421e-02</td>\n",
       "      <td>False</td>\n",
       "    </tr>\n",
       "    <tr>\n",
       "      <th>15</th>\n",
       "      <td>False</td>\n",
       "      <td>1.0</td>\n",
       "      <td>4.015600e-09</td>\n",
       "      <td>-2.660200e-10</td>\n",
       "      <td>0.001186</td>\n",
       "      <td>0.001962</td>\n",
       "      <td>1.747200e-07</td>\n",
       "      <td>2.323616e-06</td>\n",
       "      <td>1.792400e-10</td>\n",
       "      <td>0.001189</td>\n",
       "      <td>...</td>\n",
       "      <td>1.055</td>\n",
       "      <td>0.000021</td>\n",
       "      <td>0.00003</td>\n",
       "      <td>0.0</td>\n",
       "      <td>1.000000e-10</td>\n",
       "      <td>0.353085</td>\n",
       "      <td>9c54008c3a0021ef4bd3dcaff82a5cc8</td>\n",
       "      <td>/var/folders/wj/lfgr01993dx79p9cm_skykbw0000gn...</td>\n",
       "      <td>7.894737e-02</td>\n",
       "      <td>False</td>\n",
       "    </tr>\n",
       "    <tr>\n",
       "      <th>16</th>\n",
       "      <td>False</td>\n",
       "      <td>1.0</td>\n",
       "      <td>4.015600e-09</td>\n",
       "      <td>-3.203900e-10</td>\n",
       "      <td>0.001330</td>\n",
       "      <td>0.002161</td>\n",
       "      <td>1.746600e-07</td>\n",
       "      <td>2.871803e-06</td>\n",
       "      <td>1.111600e-10</td>\n",
       "      <td>0.001334</td>\n",
       "      <td>...</td>\n",
       "      <td>1.055</td>\n",
       "      <td>0.000021</td>\n",
       "      <td>0.00003</td>\n",
       "      <td>0.0</td>\n",
       "      <td>1.000000e-10</td>\n",
       "      <td>0.359135</td>\n",
       "      <td>00d97a30fa342544be9c36c25ee4b25f</td>\n",
       "      <td>/var/folders/wj/lfgr01993dx79p9cm_skykbw0000gn...</td>\n",
       "      <td>8.421053e-02</td>\n",
       "      <td>False</td>\n",
       "    </tr>\n",
       "    <tr>\n",
       "      <th>17</th>\n",
       "      <td>False</td>\n",
       "      <td>1.0</td>\n",
       "      <td>4.015600e-09</td>\n",
       "      <td>-3.632000e-10</td>\n",
       "      <td>0.001467</td>\n",
       "      <td>0.002349</td>\n",
       "      <td>1.746000e-07</td>\n",
       "      <td>3.444868e-06</td>\n",
       "      <td>2.228000e-11</td>\n",
       "      <td>0.001472</td>\n",
       "      <td>...</td>\n",
       "      <td>1.055</td>\n",
       "      <td>0.000021</td>\n",
       "      <td>0.00003</td>\n",
       "      <td>0.0</td>\n",
       "      <td>1.000000e-10</td>\n",
       "      <td>0.365627</td>\n",
       "      <td>5f17a2ee7d486dbfa108c7df1f73aa57</td>\n",
       "      <td>/var/folders/wj/lfgr01993dx79p9cm_skykbw0000gn...</td>\n",
       "      <td>8.947368e-02</td>\n",
       "      <td>False</td>\n",
       "    </tr>\n",
       "    <tr>\n",
       "      <th>18</th>\n",
       "      <td>False</td>\n",
       "      <td>1.0</td>\n",
       "      <td>4.015600e-09</td>\n",
       "      <td>-3.878300e-10</td>\n",
       "      <td>0.001595</td>\n",
       "      <td>0.002522</td>\n",
       "      <td>1.745600e-07</td>\n",
       "      <td>4.021793e-06</td>\n",
       "      <td>-8.530900e-11</td>\n",
       "      <td>0.001601</td>\n",
       "      <td>...</td>\n",
       "      <td>1.055</td>\n",
       "      <td>0.000021</td>\n",
       "      <td>0.00003</td>\n",
       "      <td>0.0</td>\n",
       "      <td>1.000000e-10</td>\n",
       "      <td>0.372329</td>\n",
       "      <td>b061f9b3fdb89b1191ab193f3cc5dbb3</td>\n",
       "      <td>/var/folders/wj/lfgr01993dx79p9cm_skykbw0000gn...</td>\n",
       "      <td>9.473684e-02</td>\n",
       "      <td>False</td>\n",
       "    </tr>\n",
       "    <tr>\n",
       "      <th>19</th>\n",
       "      <td>NaN</td>\n",
       "      <td>NaN</td>\n",
       "      <td>NaN</td>\n",
       "      <td>NaN</td>\n",
       "      <td>NaN</td>\n",
       "      <td>NaN</td>\n",
       "      <td>NaN</td>\n",
       "      <td>NaN</td>\n",
       "      <td>NaN</td>\n",
       "      <td>NaN</td>\n",
       "      <td>...</td>\n",
       "      <td>NaN</td>\n",
       "      <td>NaN</td>\n",
       "      <td>NaN</td>\n",
       "      <td>NaN</td>\n",
       "      <td>NaN</td>\n",
       "      <td>NaN</td>\n",
       "      <td>NaN</td>\n",
       "      <td>NaN</td>\n",
       "      <td>1.000000e+09</td>\n",
       "      <td>True</td>\n",
       "    </tr>\n",
       "  </tbody>\n",
       "</table>\n",
       "<p>20 rows × 25 columns</p>\n",
       "</div>"
      ],
      "text/plain": [
       "    error  end_mean_z    end_mean_t    end_mean_x  end_sigma_x  end_sigma_xp  \\\n",
       "0   False         1.0  4.015600e-09  1.333800e-10     0.000616      0.000657   \n",
       "1   False         1.0  4.015600e-09  1.094800e-10     0.000608      0.000647   \n",
       "2   False         1.0  4.015600e-09  8.997000e-11     0.000584      0.000621   \n",
       "3   False         1.0  4.015600e-09  7.525300e-11     0.000546      0.000581   \n",
       "4   False         1.0  4.015600e-09  6.490000e-11     0.000496      0.000535   \n",
       "5   False         1.0  4.015600e-09  5.766700e-11     0.000439      0.000499   \n",
       "6   False         1.0  4.015600e-09  5.159900e-11     0.000384      0.000492   \n",
       "7   False         1.0  4.015600e-09  4.423000e-11     0.000347      0.000534   \n",
       "8   False         1.0  4.015600e-09  3.287000e-11     0.000349      0.000629   \n",
       "9   False         1.0  4.015600e-09  1.496100e-11     0.000399      0.000768   \n",
       "10  False         1.0  4.015600e-09 -1.153400e-11     0.000491      0.000938   \n",
       "11  False         1.0  4.015600e-09 -4.775200e-11     0.000610      0.001129   \n",
       "12  False         1.0  4.015600e-09 -9.359800e-11     0.000746      0.001333   \n",
       "13  False         1.0  4.015600e-09 -1.475400e-10     0.000890      0.001543   \n",
       "14  False         1.0  4.015600e-09 -2.065100e-10     0.001038      0.001754   \n",
       "15  False         1.0  4.015600e-09 -2.660200e-10     0.001186      0.001962   \n",
       "16  False         1.0  4.015600e-09 -3.203900e-10     0.001330      0.002161   \n",
       "17  False         1.0  4.015600e-09 -3.632000e-10     0.001467      0.002349   \n",
       "18  False         1.0  4.015600e-09 -3.878300e-10     0.001595      0.002522   \n",
       "19    NaN         NaN           NaN           NaN          NaN           NaN   \n",
       "\n",
       "    end_norm_emit_x  end_cov_x__xp    end_mean_y  end_sigma_y  ...  \\\n",
       "0      1.748500e-07   3.912074e-07  2.268900e-10     0.000616  ...   \n",
       "1      1.749300e-07   3.799868e-07  2.283000e-10     0.000608  ...   \n",
       "2      1.750000e-07   3.478028e-07  2.255400e-10     0.000584  ...   \n",
       "3      1.750600e-07   2.999336e-07  2.209300e-10     0.000545  ...   \n",
       "4      1.751200e-07   2.448509e-07  2.167400e-10     0.000495  ...   \n",
       "5      1.751500e-07   1.935856e-07  2.149300e-10     0.000439  ...   \n",
       "6      1.751700e-07   1.589447e-07  2.168900e-10     0.000384  ...   \n",
       "7      1.751700e-07   1.545513e-07  2.231700e-10     0.000347  ...   \n",
       "8      1.751600e-07   1.937603e-07  2.333000e-10     0.000349  ...   \n",
       "9      1.751300e-07   2.886720e-07  2.457200e-10     0.000399  ...   \n",
       "10     1.750800e-07   4.490662e-07  2.578100e-10     0.000490  ...   \n",
       "11     1.750200e-07   6.815719e-07  2.660500e-10     0.000610  ...   \n",
       "12     1.749500e-07   9.889756e-07  2.663500e-10     0.000746  ...   \n",
       "13     1.748700e-07   1.369843e-06  2.544500e-10     0.000891  ...   \n",
       "14     1.748000e-07   1.818200e-06  2.264300e-10     0.001040  ...   \n",
       "15     1.747200e-07   2.323616e-06  1.792400e-10     0.001189  ...   \n",
       "16     1.746600e-07   2.871803e-06  1.111600e-10     0.001334  ...   \n",
       "17     1.746000e-07   3.444868e-06  2.228000e-11     0.001472  ...   \n",
       "18     1.745600e-07   4.021793e-06 -8.530900e-11     0.001601  ...   \n",
       "19              NaN            NaN           NaN          NaN  ...   \n",
       "\n",
       "    end_sigma_energy  end_norm_emit_z  end_cov_z__energy  end_n_particle_loss  \\\n",
       "0              1.055         0.000020            0.00003                  0.0   \n",
       "1              1.055         0.000020            0.00003                  0.0   \n",
       "2              1.055         0.000020            0.00003                  0.0   \n",
       "3              1.055         0.000020            0.00003                  0.0   \n",
       "4              1.055         0.000020            0.00003                  0.0   \n",
       "5              1.055         0.000020            0.00003                  0.0   \n",
       "6              1.055         0.000020            0.00003                  0.0   \n",
       "7              1.055         0.000020            0.00003                  0.0   \n",
       "8              1.055         0.000020            0.00003                  0.0   \n",
       "9              1.055         0.000020            0.00003                  0.0   \n",
       "10             1.055         0.000020            0.00003                  0.0   \n",
       "11             1.055         0.000020            0.00003                  0.0   \n",
       "12             1.055         0.000020            0.00003                  0.0   \n",
       "13             1.055         0.000020            0.00003                  0.0   \n",
       "14             1.055         0.000020            0.00003                  0.0   \n",
       "15             1.055         0.000021            0.00003                  0.0   \n",
       "16             1.055         0.000021            0.00003                  0.0   \n",
       "17             1.055         0.000021            0.00003                  0.0   \n",
       "18             1.055         0.000021            0.00003                  0.0   \n",
       "19               NaN              NaN                NaN                  NaN   \n",
       "\n",
       "    end_total_charge  end_higher_order_energy_spread  \\\n",
       "0       1.000000e-10                        0.333425   \n",
       "1       1.000000e-10                        0.333330   \n",
       "2       1.000000e-10                        0.333061   \n",
       "3       1.000000e-10                        0.332660   \n",
       "4       1.000000e-10                        0.332197   \n",
       "5       1.000000e-10                        0.331762   \n",
       "6       1.000000e-10                        0.331461   \n",
       "7       1.000000e-10                        0.331413   \n",
       "8       1.000000e-10                        0.331742   \n",
       "9       1.000000e-10                        0.332573   \n",
       "10      1.000000e-10                        0.334025   \n",
       "11      1.000000e-10                        0.336203   \n",
       "12      1.000000e-10                        0.339184   \n",
       "13      1.000000e-10                        0.343009   \n",
       "14      1.000000e-10                        0.347666   \n",
       "15      1.000000e-10                        0.353085   \n",
       "16      1.000000e-10                        0.359135   \n",
       "17      1.000000e-10                        0.365627   \n",
       "18      1.000000e-10                        0.372329   \n",
       "19               NaN                             NaN   \n",
       "\n",
       "                         fingerprint  \\\n",
       "0   1072e28cb26b18367e1493ad9445c4a2   \n",
       "1   db1ec99167d5574f67c495839a3cb4a3   \n",
       "2   c726e957e9d498bdd71decc882bcdf9b   \n",
       "3   160eee342ea5b555f8a809c63f538223   \n",
       "4   72efcc8b13bf45a0c21fe290a650d243   \n",
       "5   09f5c247db74c2c662720ce521da2073   \n",
       "6   ea935d4f2e571251e20b6b28bad22a19   \n",
       "7   7c008155f8dc3ef0313649601abbebcb   \n",
       "8   52436e54469c97f282df7856e785f4af   \n",
       "9   3dfb0c5659e18598447c3e5ee7cd9b5b   \n",
       "10  3ec2ce12505cb1fc9773208b94aa82a6   \n",
       "11  fcb17335db410818424a211e5a5eec78   \n",
       "12  f167134cb653bdaa536efb22a04b6b60   \n",
       "13  badc21d56125c19667c842f830bf7c12   \n",
       "14  ad81cfb8b253c80bdbc7f2ba6732b967   \n",
       "15  9c54008c3a0021ef4bd3dcaff82a5cc8   \n",
       "16  00d97a30fa342544be9c36c25ee4b25f   \n",
       "17  5f17a2ee7d486dbfa108c7df1f73aa57   \n",
       "18  b061f9b3fdb89b1191ab193f3cc5dbb3   \n",
       "19                               NaN   \n",
       "\n",
       "                                              archive       maxb(1)  Exception  \n",
       "0   /var/folders/wj/lfgr01993dx79p9cm_skykbw0000gn...  0.000000e+00      False  \n",
       "1   /var/folders/wj/lfgr01993dx79p9cm_skykbw0000gn...  5.263158e-03      False  \n",
       "2   /var/folders/wj/lfgr01993dx79p9cm_skykbw0000gn...  1.052632e-02      False  \n",
       "3   /var/folders/wj/lfgr01993dx79p9cm_skykbw0000gn...  1.578947e-02      False  \n",
       "4   /var/folders/wj/lfgr01993dx79p9cm_skykbw0000gn...  2.105263e-02      False  \n",
       "5   /var/folders/wj/lfgr01993dx79p9cm_skykbw0000gn...  2.631579e-02      False  \n",
       "6   /var/folders/wj/lfgr01993dx79p9cm_skykbw0000gn...  3.157895e-02      False  \n",
       "7   /var/folders/wj/lfgr01993dx79p9cm_skykbw0000gn...  3.684211e-02      False  \n",
       "8   /var/folders/wj/lfgr01993dx79p9cm_skykbw0000gn...  4.210526e-02      False  \n",
       "9   /var/folders/wj/lfgr01993dx79p9cm_skykbw0000gn...  4.736842e-02      False  \n",
       "10  /var/folders/wj/lfgr01993dx79p9cm_skykbw0000gn...  5.263158e-02      False  \n",
       "11  /var/folders/wj/lfgr01993dx79p9cm_skykbw0000gn...  5.789474e-02      False  \n",
       "12  /var/folders/wj/lfgr01993dx79p9cm_skykbw0000gn...  6.315789e-02      False  \n",
       "13  /var/folders/wj/lfgr01993dx79p9cm_skykbw0000gn...  6.842105e-02      False  \n",
       "14  /var/folders/wj/lfgr01993dx79p9cm_skykbw0000gn...  7.368421e-02      False  \n",
       "15  /var/folders/wj/lfgr01993dx79p9cm_skykbw0000gn...  7.894737e-02      False  \n",
       "16  /var/folders/wj/lfgr01993dx79p9cm_skykbw0000gn...  8.421053e-02      False  \n",
       "17  /var/folders/wj/lfgr01993dx79p9cm_skykbw0000gn...  8.947368e-02      False  \n",
       "18  /var/folders/wj/lfgr01993dx79p9cm_skykbw0000gn...  9.473684e-02      False  \n",
       "19                                                NaN  1.000000e+09       True  \n",
       "\n",
       "[20 rows x 25 columns]"
      ]
     },
     "execution_count": 18,
     "metadata": {},
     "output_type": "execute_result"
    }
   ],
   "source": [
    "# Make a DataFrame\n",
    "df = pd.DataFrame(outputs)\n",
    "df"
   ]
  },
  {
   "cell_type": "code",
   "execution_count": null,
   "metadata": {},
   "outputs": [],
   "source": [
    "# Get all runs without an exeption\n",
    "filtered_df=df[~df['Exception']]"
   ]
  },
  {
   "cell_type": "markdown",
   "metadata": {},
   "source": [
    "# Visualize with Bokeh"
   ]
  },
  {
   "cell_type": "code",
   "execution_count": null,
   "metadata": {},
   "outputs": [
    {
     "data": {
      "text/html": [
       "\n",
       "    <div class=\"bk-root\">\n",
       "        <a href=\"https://bokeh.org\" target=\"_blank\" class=\"bk-logo bk-logo-small bk-logo-notebook\"></a>\n",
       "        <span id=\"1002\">Loading BokehJS ...</span>\n",
       "    </div>"
      ]
     },
     "metadata": {},
     "output_type": "display_data"
    },
    {
     "data": {
      "application/javascript": "\n(function(root) {\n  function now() {\n    return new Date();\n  }\n\n  const force = true;\n\n  if (typeof root._bokeh_onload_callbacks === \"undefined\" || force === true) {\n    root._bokeh_onload_callbacks = [];\n    root._bokeh_is_loading = undefined;\n  }\n\n  const JS_MIME_TYPE = 'application/javascript';\n  const HTML_MIME_TYPE = 'text/html';\n  const EXEC_MIME_TYPE = 'application/vnd.bokehjs_exec.v0+json';\n  const CLASS_NAME = 'output_bokeh rendered_html';\n\n  /**\n   * Render data to the DOM node\n   */\n  function render(props, node) {\n    const script = document.createElement(\"script\");\n    node.appendChild(script);\n  }\n\n  /**\n   * Handle when an output is cleared or removed\n   */\n  function handleClearOutput(event, handle) {\n    const cell = handle.cell;\n\n    const id = cell.output_area._bokeh_element_id;\n    const server_id = cell.output_area._bokeh_server_id;\n    // Clean up Bokeh references\n    if (id != null && id in Bokeh.index) {\n      Bokeh.index[id].model.document.clear();\n      delete Bokeh.index[id];\n    }\n\n    if (server_id !== undefined) {\n      // Clean up Bokeh references\n      const cmd_clean = \"from bokeh.io.state import curstate; print(curstate().uuid_to_server['\" + server_id + \"'].get_sessions()[0].document.roots[0]._id)\";\n      cell.notebook.kernel.execute(cmd_clean, {\n        iopub: {\n          output: function(msg) {\n            const id = msg.content.text.trim();\n            if (id in Bokeh.index) {\n              Bokeh.index[id].model.document.clear();\n              delete Bokeh.index[id];\n            }\n          }\n        }\n      });\n      // Destroy server and session\n      const cmd_destroy = \"import bokeh.io.notebook as ion; ion.destroy_server('\" + server_id + \"')\";\n      cell.notebook.kernel.execute(cmd_destroy);\n    }\n  }\n\n  /**\n   * Handle when a new output is added\n   */\n  function handleAddOutput(event, handle) {\n    const output_area = handle.output_area;\n    const output = handle.output;\n\n    // limit handleAddOutput to display_data with EXEC_MIME_TYPE content only\n    if ((output.output_type != \"display_data\") || (!Object.prototype.hasOwnProperty.call(output.data, EXEC_MIME_TYPE))) {\n      return\n    }\n\n    const toinsert = output_area.element.find(\".\" + CLASS_NAME.split(' ')[0]);\n\n    if (output.metadata[EXEC_MIME_TYPE][\"id\"] !== undefined) {\n      toinsert[toinsert.length - 1].firstChild.textContent = output.data[JS_MIME_TYPE];\n      // store reference to embed id on output_area\n      output_area._bokeh_element_id = output.metadata[EXEC_MIME_TYPE][\"id\"];\n    }\n    if (output.metadata[EXEC_MIME_TYPE][\"server_id\"] !== undefined) {\n      const bk_div = document.createElement(\"div\");\n      bk_div.innerHTML = output.data[HTML_MIME_TYPE];\n      const script_attrs = bk_div.children[0].attributes;\n      for (let i = 0; i < script_attrs.length; i++) {\n        toinsert[toinsert.length - 1].firstChild.setAttribute(script_attrs[i].name, script_attrs[i].value);\n        toinsert[toinsert.length - 1].firstChild.textContent = bk_div.children[0].textContent\n      }\n      // store reference to server id on output_area\n      output_area._bokeh_server_id = output.metadata[EXEC_MIME_TYPE][\"server_id\"];\n    }\n  }\n\n  function register_renderer(events, OutputArea) {\n\n    function append_mime(data, metadata, element) {\n      // create a DOM node to render to\n      const toinsert = this.create_output_subarea(\n        metadata,\n        CLASS_NAME,\n        EXEC_MIME_TYPE\n      );\n      this.keyboard_manager.register_events(toinsert);\n      // Render to node\n      const props = {data: data, metadata: metadata[EXEC_MIME_TYPE]};\n      render(props, toinsert[toinsert.length - 1]);\n      element.append(toinsert);\n      return toinsert\n    }\n\n    /* Handle when an output is cleared or removed */\n    events.on('clear_output.CodeCell', handleClearOutput);\n    events.on('delete.Cell', handleClearOutput);\n\n    /* Handle when a new output is added */\n    events.on('output_added.OutputArea', handleAddOutput);\n\n    /**\n     * Register the mime type and append_mime function with output_area\n     */\n    OutputArea.prototype.register_mime_type(EXEC_MIME_TYPE, append_mime, {\n      /* Is output safe? */\n      safe: true,\n      /* Index of renderer in `output_area.display_order` */\n      index: 0\n    });\n  }\n\n  // register the mime type if in Jupyter Notebook environment and previously unregistered\n  if (root.Jupyter !== undefined) {\n    const events = require('base/js/events');\n    const OutputArea = require('notebook/js/outputarea').OutputArea;\n\n    if (OutputArea.prototype.mime_types().indexOf(EXEC_MIME_TYPE) == -1) {\n      register_renderer(events, OutputArea);\n    }\n  }\n\n  \n  if (typeof (root._bokeh_timeout) === \"undefined\" || force === true) {\n    root._bokeh_timeout = Date.now() + 5000;\n    root._bokeh_failed_load = false;\n  }\n\n  const NB_LOAD_WARNING = {'data': {'text/html':\n     \"<div style='background-color: #fdd'>\\n\"+\n     \"<p>\\n\"+\n     \"BokehJS does not appear to have successfully loaded. If loading BokehJS from CDN, this \\n\"+\n     \"may be due to a slow or bad network connection. Possible fixes:\\n\"+\n     \"</p>\\n\"+\n     \"<ul>\\n\"+\n     \"<li>re-rerun `output_notebook()` to attempt to load from CDN again, or</li>\\n\"+\n     \"<li>use INLINE resources instead, as so:</li>\\n\"+\n     \"</ul>\\n\"+\n     \"<code>\\n\"+\n     \"from bokeh.resources import INLINE\\n\"+\n     \"output_notebook(resources=INLINE)\\n\"+\n     \"</code>\\n\"+\n     \"</div>\"}};\n\n  function display_loaded() {\n    const el = document.getElementById(\"1002\");\n    if (el != null) {\n      el.textContent = \"BokehJS is loading...\";\n    }\n    if (root.Bokeh !== undefined) {\n      if (el != null) {\n        el.textContent = \"BokehJS \" + root.Bokeh.version + \" successfully loaded.\";\n      }\n    } else if (Date.now() < root._bokeh_timeout) {\n      setTimeout(display_loaded, 100)\n    }\n  }\n\n\n  function run_callbacks() {\n    try {\n      root._bokeh_onload_callbacks.forEach(function(callback) {\n        if (callback != null)\n          callback();\n      });\n    } finally {\n      delete root._bokeh_onload_callbacks\n    }\n    console.debug(\"Bokeh: all callbacks have finished\");\n  }\n\n  function load_libs(css_urls, js_urls, callback) {\n    if (css_urls == null) css_urls = [];\n    if (js_urls == null) js_urls = [];\n\n    root._bokeh_onload_callbacks.push(callback);\n    if (root._bokeh_is_loading > 0) {\n      console.debug(\"Bokeh: BokehJS is being loaded, scheduling callback at\", now());\n      return null;\n    }\n    if (js_urls == null || js_urls.length === 0) {\n      run_callbacks();\n      return null;\n    }\n    console.debug(\"Bokeh: BokehJS not loaded, scheduling load and callback at\", now());\n    root._bokeh_is_loading = css_urls.length + js_urls.length;\n\n    function on_load() {\n      root._bokeh_is_loading--;\n      if (root._bokeh_is_loading === 0) {\n        console.debug(\"Bokeh: all BokehJS libraries/stylesheets loaded\");\n        run_callbacks()\n      }\n    }\n\n    function on_error(url) {\n      console.error(\"failed to load \" + url);\n    }\n\n    for (let i = 0; i < css_urls.length; i++) {\n      const url = css_urls[i];\n      const element = document.createElement(\"link\");\n      element.onload = on_load;\n      element.onerror = on_error.bind(null, url);\n      element.rel = \"stylesheet\";\n      element.type = \"text/css\";\n      element.href = url;\n      console.debug(\"Bokeh: injecting link tag for BokehJS stylesheet: \", url);\n      document.body.appendChild(element);\n    }\n\n    for (let i = 0; i < js_urls.length; i++) {\n      const url = js_urls[i];\n      const element = document.createElement('script');\n      element.onload = on_load;\n      element.onerror = on_error.bind(null, url);\n      element.async = false;\n      element.src = url;\n      console.debug(\"Bokeh: injecting script tag for BokehJS library: \", url);\n      document.head.appendChild(element);\n    }\n  };\n\n  function inject_raw_css(css) {\n    const element = document.createElement(\"style\");\n    element.appendChild(document.createTextNode(css));\n    document.body.appendChild(element);\n  }\n\n  \n  const js_urls = [\"https://cdn.bokeh.org/bokeh/release/bokeh-2.4.2.min.js\", \"https://cdn.bokeh.org/bokeh/release/bokeh-gl-2.4.2.min.js\", \"https://cdn.bokeh.org/bokeh/release/bokeh-widgets-2.4.2.min.js\", \"https://cdn.bokeh.org/bokeh/release/bokeh-tables-2.4.2.min.js\", \"https://cdn.bokeh.org/bokeh/release/bokeh-mathjax-2.4.2.min.js\"];\n  const css_urls = [];\n  \n\n  const inline_js = [\n    function(Bokeh) {\n      Bokeh.set_log_level(\"info\");\n    },\n    function(Bokeh) {\n    \n    \n    }\n  ];\n\n  function run_inline_js() {\n    \n    if (root.Bokeh !== undefined || force === true) {\n      \n    for (let i = 0; i < inline_js.length; i++) {\n      inline_js[i].call(root, root.Bokeh);\n    }\n    if (force === true) {\n        display_loaded();\n      }} else if (Date.now() < root._bokeh_timeout) {\n      setTimeout(run_inline_js, 100);\n    } else if (!root._bokeh_failed_load) {\n      console.log(\"Bokeh: BokehJS failed to load within specified timeout.\");\n      root._bokeh_failed_load = true;\n    } else if (force !== true) {\n      const cell = $(document.getElementById(\"1002\")).parents('.cell').data().cell;\n      cell.output_area.append_execute_result(NB_LOAD_WARNING)\n    }\n\n  }\n\n  if (root._bokeh_is_loading === 0) {\n    console.debug(\"Bokeh: BokehJS loaded, going straight to plotting\");\n    run_inline_js();\n  } else {\n    load_libs(css_urls, js_urls, function() {\n      console.debug(\"Bokeh: BokehJS plotting callback run at\", now());\n      run_inline_js();\n    });\n  }\n}(window));",
      "application/vnd.bokehjs_load.v0+json": ""
     },
     "metadata": {},
     "output_type": "display_data"
    }
   ],
   "source": [
    "from bokeh.plotting import figure, output_notebook, show\n",
    "\n",
    "from bokeh.models import ColumnDataSource\n",
    "\n",
    "# Allows plots to show up in the notebook\n",
    "output_notebook()"
   ]
  },
  {
   "cell_type": "code",
   "execution_count": null,
   "metadata": {},
   "outputs": [
    {
     "data": {
      "text/plain": [
       "['index',\n",
       " 'error',\n",
       " 'end_mean_z',\n",
       " 'end_mean_t',\n",
       " 'end_mean_x',\n",
       " 'end_sigma_x',\n",
       " 'end_sigma_xp',\n",
       " 'end_norm_emit_x',\n",
       " 'end_cov_x__xp',\n",
       " 'end_mean_y',\n",
       " 'end_sigma_y',\n",
       " 'end_sigma_yp',\n",
       " 'end_norm_emit_y',\n",
       " 'end_cov_y__yp',\n",
       " 'end_mean_kinetic_energy',\n",
       " 'end_sigma_z',\n",
       " 'end_sigma_energy',\n",
       " 'end_norm_emit_z',\n",
       " 'end_cov_z__energy',\n",
       " 'end_n_particle_loss',\n",
       " 'end_total_charge',\n",
       " 'end_higher_order_energy_spread',\n",
       " 'fingerprint',\n",
       " 'archive',\n",
       " 'maxb(1)',\n",
       " 'Exception']"
      ]
     },
     "execution_count": 21,
     "metadata": {},
     "output_type": "execute_result"
    }
   ],
   "source": [
    "# Form a Bokeh style data source\n",
    "source = ColumnDataSource(filtered_df)\n",
    "source.column_names"
   ]
  },
  {
   "cell_type": "code",
   "execution_count": null,
   "metadata": {},
   "outputs": [
    {
     "data": {
      "text/html": [
       "\n",
       "\n",
       "\n",
       "\n",
       "\n",
       "\n",
       "  <div class=\"bk-root\" id=\"c606056c-3256-4844-acfb-73a2daf614c0\" data-root-id=\"1004\"></div>\n"
      ]
     },
     "metadata": {},
     "output_type": "display_data"
    },
    {
     "data": {
      "application/javascript": "(function(root) {\n  function embed_document(root) {\n    \n  const docs_json = {\"97b37cec-491e-4f6a-83a9-2c7f67bdb47a\":{\"defs\":[],\"roots\":{\"references\":[{\"attributes\":{\"below\":[{\"id\":\"1013\"}],\"center\":[{\"id\":\"1016\"},{\"id\":\"1020\"}],\"left\":[{\"id\":\"1017\"}],\"renderers\":[{\"id\":\"1039\"}],\"title\":{\"id\":\"1041\"},\"toolbar\":{\"id\":\"1028\"},\"x_range\":{\"id\":\"1005\"},\"x_scale\":{\"id\":\"1009\"},\"y_range\":{\"id\":\"1007\"},\"y_scale\":{\"id\":\"1011\"}},\"id\":\"1004\",\"subtype\":\"Figure\",\"type\":\"Plot\"},{\"attributes\":{\"axis\":{\"id\":\"1017\"},\"coordinates\":null,\"dimension\":1,\"group\":null,\"ticker\":null},\"id\":\"1020\",\"type\":\"Grid\"},{\"attributes\":{\"coordinates\":null,\"group\":null},\"id\":\"1041\",\"type\":\"Title\"},{\"attributes\":{},\"id\":\"1007\",\"type\":\"DataRange1d\"},{\"attributes\":{},\"id\":\"1049\",\"type\":\"UnionRenderers\"},{\"attributes\":{},\"id\":\"1005\",\"type\":\"DataRange1d\"},{\"attributes\":{},\"id\":\"1050\",\"type\":\"Selection\"},{\"attributes\":{\"bottom_units\":\"screen\",\"coordinates\":null,\"fill_alpha\":0.5,\"fill_color\":\"lightgrey\",\"group\":null,\"left_units\":\"screen\",\"level\":\"overlay\",\"line_alpha\":1.0,\"line_color\":\"black\",\"line_dash\":[4,4],\"line_width\":2,\"right_units\":\"screen\",\"syncable\":false,\"top_units\":\"screen\"},\"id\":\"1027\",\"type\":\"BoxAnnotation\"},{\"attributes\":{\"coordinates\":null,\"data_source\":{\"id\":\"1003\"},\"glyph\":{\"id\":\"1036\"},\"group\":null,\"hover_glyph\":null,\"muted_glyph\":{\"id\":\"1038\"},\"nonselection_glyph\":{\"id\":\"1037\"},\"view\":{\"id\":\"1040\"}},\"id\":\"1039\",\"type\":\"GlyphRenderer\"},{\"attributes\":{},\"id\":\"1022\",\"type\":\"WheelZoomTool\"},{\"attributes\":{},\"id\":\"1044\",\"type\":\"BasicTickFormatter\"},{\"attributes\":{\"source\":{\"id\":\"1003\"}},\"id\":\"1040\",\"type\":\"CDSView\"},{\"attributes\":{},\"id\":\"1045\",\"type\":\"AllLabels\"},{\"attributes\":{\"overlay\":{\"id\":\"1027\"}},\"id\":\"1023\",\"type\":\"BoxZoomTool\"},{\"attributes\":{\"tools\":[{\"id\":\"1021\"},{\"id\":\"1022\"},{\"id\":\"1023\"},{\"id\":\"1024\"},{\"id\":\"1025\"},{\"id\":\"1026\"}]},\"id\":\"1028\",\"type\":\"Toolbar\"},{\"attributes\":{},\"id\":\"1021\",\"type\":\"PanTool\"},{\"attributes\":{\"data\":{\"Exception\":[false,false,false,false,false,false,false,false,false,false,false,false,false,false,false,false,false,false,false],\"archive\":[\"/var/folders/wj/lfgr01993dx79p9cm_skykbw0000gn/T/tmpgjp7legb/1072e28cb26b18367e1493ad9445c4a2.h5\",\"/var/folders/wj/lfgr01993dx79p9cm_skykbw0000gn/T/tmpgjp7legb/db1ec99167d5574f67c495839a3cb4a3.h5\",\"/var/folders/wj/lfgr01993dx79p9cm_skykbw0000gn/T/tmpgjp7legb/c726e957e9d498bdd71decc882bcdf9b.h5\",\"/var/folders/wj/lfgr01993dx79p9cm_skykbw0000gn/T/tmpgjp7legb/160eee342ea5b555f8a809c63f538223.h5\",\"/var/folders/wj/lfgr01993dx79p9cm_skykbw0000gn/T/tmpgjp7legb/72efcc8b13bf45a0c21fe290a650d243.h5\",\"/var/folders/wj/lfgr01993dx79p9cm_skykbw0000gn/T/tmpgjp7legb/09f5c247db74c2c662720ce521da2073.h5\",\"/var/folders/wj/lfgr01993dx79p9cm_skykbw0000gn/T/tmpgjp7legb/ea935d4f2e571251e20b6b28bad22a19.h5\",\"/var/folders/wj/lfgr01993dx79p9cm_skykbw0000gn/T/tmpgjp7legb/7c008155f8dc3ef0313649601abbebcb.h5\",\"/var/folders/wj/lfgr01993dx79p9cm_skykbw0000gn/T/tmpgjp7legb/52436e54469c97f282df7856e785f4af.h5\",\"/var/folders/wj/lfgr01993dx79p9cm_skykbw0000gn/T/tmpgjp7legb/3dfb0c5659e18598447c3e5ee7cd9b5b.h5\",\"/var/folders/wj/lfgr01993dx79p9cm_skykbw0000gn/T/tmpgjp7legb/3ec2ce12505cb1fc9773208b94aa82a6.h5\",\"/var/folders/wj/lfgr01993dx79p9cm_skykbw0000gn/T/tmpgjp7legb/fcb17335db410818424a211e5a5eec78.h5\",\"/var/folders/wj/lfgr01993dx79p9cm_skykbw0000gn/T/tmpgjp7legb/f167134cb653bdaa536efb22a04b6b60.h5\",\"/var/folders/wj/lfgr01993dx79p9cm_skykbw0000gn/T/tmpgjp7legb/badc21d56125c19667c842f830bf7c12.h5\",\"/var/folders/wj/lfgr01993dx79p9cm_skykbw0000gn/T/tmpgjp7legb/ad81cfb8b253c80bdbc7f2ba6732b967.h5\",\"/var/folders/wj/lfgr01993dx79p9cm_skykbw0000gn/T/tmpgjp7legb/9c54008c3a0021ef4bd3dcaff82a5cc8.h5\",\"/var/folders/wj/lfgr01993dx79p9cm_skykbw0000gn/T/tmpgjp7legb/00d97a30fa342544be9c36c25ee4b25f.h5\",\"/var/folders/wj/lfgr01993dx79p9cm_skykbw0000gn/T/tmpgjp7legb/5f17a2ee7d486dbfa108c7df1f73aa57.h5\",\"/var/folders/wj/lfgr01993dx79p9cm_skykbw0000gn/T/tmpgjp7legb/b061f9b3fdb89b1191ab193f3cc5dbb3.h5\"],\"end_cov_x__xp\":{\"__ndarray__\":\"MZRuLORAmj44iomyH4CZPjc4MeE0V5c+LVCeBNIglD5LB4qXgW6QPs/ctvSM+4k+E4VHh0xVhT5JAJG3V76EPoRJ+lGNAYo+avE/uFhfkz69kTjp5SKePkB+mGWo3qY+5GQvHp6XsD6mRPlfbvu2Prkt9Kobgb4+PV6OkO19wz6KmuZqJhfIPvb4ZzDM5cw+InKR513e0D4=\",\"dtype\":\"float64\",\"order\":\"little\",\"shape\":[19]},\"end_cov_y__yp\":{\"__ndarray__\":\"Kpt7+3BJmj4eDZHpcYOZPm6LqqmjVpc+soomG2IflD4nGHq1xW6QPkzar/O0AYo+zuTMyH9ehT5IzLyuO8OEPiQvD9wU+ok+nJxV9H1Skz54uBhmXQ6ePltXdgdj1KY+W3w6o6KWsD7qR32CAAS3PrdvY51mmr4+LdC3ECGWwz6ZTwlVWz3IPrLmEzdmG80+MVcisA8B0T4=\",\"dtype\":\"float64\",\"order\":\"little\",\"shape\":[19]},\"end_cov_z__energy\":{\"__ndarray__\":\"Qgl2YxTH/z4evYjxicf/Pq/YwJvqyP8+2bys2e/K/z5hK2maDM3/Ps76s9Lizv8+WCqQ2NvP/z5HGySPO8//Pm/k5j9dzP8+K8mG26nG/z6Lrz5Iob3/PgWI5aMWsf8+muQi8Yag/z6pvX2qQ4z/Ppyscp9QdP8+njzYAD1Z/z6ePRHlszv/PjGMgEN2HP8+Zerk6KT8/j4=\",\"dtype\":\"float64\",\"order\":\"little\",\"shape\":[19]},\"end_higher_order_energy_spread\":{\"__ndarray__\":\"1Mbc5ddW1T96z1frR1XVP1iXRXfdUNU/2KqbXk1K1T83TMC/t0LVP0oGO7mWO9U/VihK0Kk21T8mnd5w4DXVP5sOTC1EO9U/JqlcguFI1T/3hhLDq2DVPxz3qnJYhNU/LW98fjC11T/B21K42vPVP3k9Ed8oQNY/AcC42fOY1j+yOYqEEvzWPxKVyKdvZtc/hiL4VDvU1z8=\",\"dtype\":\"float64\",\"order\":\"little\",\"shape\":[19]},\"end_mean_kinetic_energy\":{\"__ndarray__\":\"AAAAADiBHkEAAAAAOIEeQQAAAAA4gR5BAAAAADiBHkEAAAAAOIEeQQAAAAA4gR5BAAAAADiBHkEAAAAAOIEeQQAAAAA4gR5BAAAAADiBHkEAAAAAOIEeQQAAAAA4gR5BAAAAADiBHkEAAAAAOIEeQQAAAAA4gR5BAAAAADiBHkEAAAAAOIEeQQAAAAA4gR5BAAAAADiBHkE=\",\"dtype\":\"float64\",\"order\":\"little\",\"shape\":[19]},\"end_mean_t\":{\"__ndarray__\":\"WWOe6jI/MT5ZY57qMj8xPlljnuoyPzE+WWOe6jI/MT5ZY57qMj8xPlljnuoyPzE+WWOe6jI/MT5ZY57qMj8xPlljnuoyPzE+WWOe6jI/MT5ZY57qMj8xPlljnuoyPzE+WWOe6jI/MT5ZY57qMj8xPlljnuoyPzE+WWOe6jI/MT5ZY57qMj8xPlljnuoyPzE+WWOe6jI/MT4=\",\"dtype\":\"float64\",\"order\":\"little\",\"shape\":[19]},\"end_mean_x\":{\"__ndarray__\":\"6KSRPORU4j1nJExZ+BfePQzyE28Tu9g97djxh3Wv1D1cj5h27tbRPWrSP6Pos889oMu65eldzD2GqTCx0VDIPW/22Y4KEsI9eDYWqiVzsD1E1kqUEF2pveP+gB1/QMq9hOjzq1+62b3NUpQtGkfkvSIt1bfsYey9us+nkt9H8r2xadxIXAT2vRYkeWJ79fi9WrUhC8em+r0=\",\"dtype\":\"float64\",\"order\":\"little\",\"shape\":[19]},\"end_mean_y\":{\"__ndarray__\":\"Z0lccPsu7z175ACXl2DvPW9NTLh7/+49gYwGiEhd7j1XJdFd3MntPYhl+FUtiu09HrNEciPP7T2awF2oGKzuPdBXBstBCPA9q6scgMDi8D35SRoFcbfxPYH3TK5mSPI9SIXAwq1N8j3n4tjsVHzxPZCFkyDMHu89xbH4ZHKi6D2L8s6JMI7ePfFV9jFDf7g9GsiLUhZz170=\",\"dtype\":\"float64\",\"order\":\"little\",\"shape\":[19]},\"end_mean_z\":{\"__ndarray__\":\"AAAAAAAA8D8AAAAAAADwPwAAAAAAAPA/AAAAAAAA8D8AAAAAAADwPwAAAAAAAPA/AAAAAAAA8D8AAAAAAADwPwAAAAAAAPA/AAAAAAAA8D8AAAAAAADwPwAAAAAAAPA/AAAAAAAA8D8AAAAAAADwPwAAAAAAAPA/AAAAAAAA8D8AAAAAAADwPwAAAAAAAPA/AAAAAAAA8D8=\",\"dtype\":\"float64\",\"order\":\"little\",\"shape\":[19]},\"end_n_particle_loss\":{\"__ndarray__\":\"AAAAAAAAAAAAAAAAAAAAAAAAAAAAAAAAAAAAAAAAAAAAAAAAAAAAAAAAAAAAAAAAAAAAAAAAAAAAAAAAAAAAAAAAAAAAAAAAAAAAAAAAAAAAAAAAAAAAAAAAAAAAAAAAAAAAAAAAAAAAAAAAAAAAAAAAAAAAAAAAAAAAAAAAAAAAAAAAAAAAAAAAAAAAAAAAAAAAAAAAAAA=\",\"dtype\":\"float64\",\"order\":\"little\",\"shape\":[19]},\"end_norm_emit_x\":{\"__ndarray__\":\"7EBs3cx3hz4YcGiNjHqHPl8ZZUf0fIc+wDxiCwR/hz4iYF/PE4GHPtPxXbEbgoc+nf1cncuChz6d/Vydy4KHPrl3Xadzgoc+COZexWuBhz6MSGH3s3+HPiolZDOkfYc+43tneTx7hz62TGvJfHiHPnCjbg8Vdoc+QnRyX1Vzhz7iUHWbRXGHPoAteNc1b4c+6hV6/9Vthz4=\",\"dtype\":\"float64\",\"order\":\"little\",\"shape\":[19]},\"end_norm_emit_y\":{\"__ndarray__\":\"7EBs3cx3hz6kl28jZXWHPl7ucmn9coc+FkV2r5Vwhz6ap3jh3W6HPuoVev/VbYc+OYR7Hc5shz45hHsdzmyHPgWQegl+bYc+tSF564Vuhz4xv3a5PXCHPpPic31Ncoc+2YtwN7V0hz4hNW3xHHeHPk1kaaHceYc+lA1mW0R8hz7btmIVrH6HPldUYONjgIc+7Wteu8OBhz4=\",\"dtype\":\"float64\",\"order\":\"little\",\"shape\":[19]},\"end_norm_emit_z\":{\"__ndarray__\":\"Dnv1f3uP9D48mWZXrY70PmGU6ZWHjPQ+GQ2u806J9D7RhXJRFob0Pr8/lh9ng/Q+Ur3XPlSC9D6RISVINYT0PuvuPBwdivQ+A+k8DKiV9D6s8bNApKf0PonMvwquwfQ+bVvvkpPk9D7FIAG6ZxH1PshdVPCzSPU+PtGJxe6J9T5XmRIRStT1PgmTADpuJvY+p9dHVmd99j4=\",\"dtype\":\"float64\",\"order\":\"little\",\"shape\":[19]},\"end_sigma_energy\":{\"__ndarray__\":\"4XoUrkfh8D/hehSuR+HwP+F6FK5H4fA/4XoUrkfh8D/hehSuR+HwP+F6FK5H4fA/4XoUrkfh8D/hehSuR+HwP+F6FK5H4fA/4XoUrkfh8D/hehSuR+HwP+F6FK5H4fA/4XoUrkfh8D/hehSuR+HwP+F6FK5H4fA/4XoUrkfh8D/hehSuR+HwP+F6FK5H4fA/4XoUrkfh8D8=\",\"dtype\":\"float64\",\"order\":\"little\",\"shape\":[19]},\"end_sigma_x\":{\"__ndarray__\":\"6QvGLYsuRD/1vH41xetDP53hHxkfJEM/S99zedbiQT/E69n30T5APzGKUDJawzw/b03bO3ouOT8qSH2jZ8Q2P02RU6Ze2DY/dOFRdG4kOj85v3o/4hVAP4VfqMt7/0M/CVsFlPpwSD/dNt/KCixNPzJA/cKGAlE/ynRDri9tUz8/nxIhv8hVPyA3suGfCFg/xF+TNeohWj8=\",\"dtype\":\"float64\",\"order\":\"little\",\"shape\":[19]},\"end_sigma_xp\":{\"__ndarray__\":\"vhtmw/WDRT/keMv2nTZFP+KReHk6V0Q/I3lbp5kHQz8EZccEBIxBP2Kh90LYW0A/DAxRbKIiQD+1KWik739BP1aA7zZvnEQ/5oq93bMqST85/RM7nr9OP/RAGgQMgVI/fNP02QHXVT+zImqiz0dZP1kKkog6vVw/7nMh+8URYD+1lyMak7RhP32ASYUMP2M/rt48MNupZD8=\",\"dtype\":\"float64\",\"order\":\"little\",\"shape\":[19]},\"end_sigma_y\":{\"__ndarray__\":\"piK6DKQwRD+hjZbiLutDP1u5tG1aIUM/wxxWGxDfQT+d7dmMNjtAP/TTLI7Svjw/6jtkb84tOT/Spk1JlMU2P8l/3Nmy1zY/kMxdKroeOj/7CFebWhFAP5zYbHqK+0M/5g2sunlwSD9hh7UhlDFNP1Fabh+oCVE/SpIxiFl5Uz8gwH148dlVP2BbmrbaHlg/cxwuKMI8Wj8=\",\"dtype\":\"float64\",\"order\":\"little\",\"shape\":[19]},\"end_sigma_yp\":{\"__ndarray__\":\"mw1sdFKIRT9Xg8UbeDlFP90fMXL9WEQ/vUL2rDEJQz/yXUpdMo5BP+JAJwhHXkA/U6YDH6QjQD/hWlCM6nxBPyKuWqFhlEQ/u5y3ViAfST9XGwhuSbNOP4aoZ+ZufFI/l/1fGivWVT8iuxzAbExZP+a8tQL5yFw/NkU2RqEbYD95liAjoMJhP8lBZOzfUGM/F8LF5dO+ZD8=\",\"dtype\":\"float64\",\"order\":\"little\",\"shape\":[19]},\"end_sigma_z\":{\"__ndarray__\":\"B52Ruv3vAT8HnZG6/e8BPwedkbr97wE/B52Ruv3vAT8HnZG6/e8BPwedkbr97wE/VW2pFiDwAT/xDdnOZPABP9l+IOPL8AE/XZCXr3fxAT/LElaQivIBP72miz1J9AE/gRxQE9b2AT8A5eolmPoBP4fQc9Gx/wE/AVAyKooGAj9tYyYwIQ8CP8kKUON2GQI/faV/i0YlAj8=\",\"dtype\":\"float64\",\"order\":\"little\",\"shape\":[19]},\"end_total_charge\":{\"__ndarray__\":\"ur3X2d982z26vdfZ33zbPbq919nffNs9ur3X2d982z26vdfZ33zbPbq919nffNs9ur3X2d982z26vdfZ33zbPbq919nffNs9ur3X2d982z26vdfZ33zbPbq919nffNs9ur3X2d982z26vdfZ33zbPbq919nffNs9ur3X2d982z26vdfZ33zbPbq919nffNs9ur3X2d982z0=\",\"dtype\":\"float64\",\"order\":\"little\",\"shape\":[19]},\"error\":[false,false,false,false,false,false,false,false,false,false,false,false,false,false,false,false,false,false,false],\"fingerprint\":[\"1072e28cb26b18367e1493ad9445c4a2\",\"db1ec99167d5574f67c495839a3cb4a3\",\"c726e957e9d498bdd71decc882bcdf9b\",\"160eee342ea5b555f8a809c63f538223\",\"72efcc8b13bf45a0c21fe290a650d243\",\"09f5c247db74c2c662720ce521da2073\",\"ea935d4f2e571251e20b6b28bad22a19\",\"7c008155f8dc3ef0313649601abbebcb\",\"52436e54469c97f282df7856e785f4af\",\"3dfb0c5659e18598447c3e5ee7cd9b5b\",\"3ec2ce12505cb1fc9773208b94aa82a6\",\"fcb17335db410818424a211e5a5eec78\",\"f167134cb653bdaa536efb22a04b6b60\",\"badc21d56125c19667c842f830bf7c12\",\"ad81cfb8b253c80bdbc7f2ba6732b967\",\"9c54008c3a0021ef4bd3dcaff82a5cc8\",\"00d97a30fa342544be9c36c25ee4b25f\",\"5f17a2ee7d486dbfa108c7df1f73aa57\",\"b061f9b3fdb89b1191ab193f3cc5dbb3\"],\"index\":[0,1,2,3,4,5,6,7,8,9,10,11,12,13,14,15,16,17,18],\"maxb(1)\":{\"__ndarray__\":\"AAAAAAAAAADtWIEw0o51P+1YgTDSjoU/sgJhpB0rkD/tWIEw0o6VPyivobyG8po/sgJhpB0roD/PLXHq99yiP+1YgTDSjqU/C4SRdqxAqD8or6G8hvKqP0basQJhpK0/sgJhpB0rsD9BGGnHCoSxP88tcer33LI/XkN5DeU1tD/tWIEw0o61P3xuiVO/57Y/C4SRdqxAuD8=\",\"dtype\":\"float64\",\"order\":\"little\",\"shape\":[19]}},\"selected\":{\"id\":\"1050\"},\"selection_policy\":{\"id\":\"1049\"}},\"id\":\"1003\",\"type\":\"ColumnDataSource\"},{\"attributes\":{\"fill_alpha\":{\"value\":0.2},\"fill_color\":{\"value\":\"#1f77b4\"},\"hatch_alpha\":{\"value\":0.2},\"line_alpha\":{\"value\":0.2},\"line_color\":{\"value\":\"#1f77b4\"},\"x\":{\"field\":\"maxb(1)\"},\"y\":{\"field\":\"end_sigma_x\"}},\"id\":\"1038\",\"type\":\"Circle\"},{\"attributes\":{},\"id\":\"1018\",\"type\":\"BasicTicker\"},{\"attributes\":{},\"id\":\"1025\",\"type\":\"ResetTool\"},{\"attributes\":{\"fill_alpha\":{\"value\":0.1},\"fill_color\":{\"value\":\"#1f77b4\"},\"hatch_alpha\":{\"value\":0.1},\"line_alpha\":{\"value\":0.1},\"line_color\":{\"value\":\"#1f77b4\"},\"x\":{\"field\":\"maxb(1)\"},\"y\":{\"field\":\"end_sigma_x\"}},\"id\":\"1037\",\"type\":\"Circle\"},{\"attributes\":{},\"id\":\"1024\",\"type\":\"SaveTool\"},{\"attributes\":{},\"id\":\"1048\",\"type\":\"AllLabels\"},{\"attributes\":{},\"id\":\"1047\",\"type\":\"BasicTickFormatter\"},{\"attributes\":{},\"id\":\"1011\",\"type\":\"LinearScale\"},{\"attributes\":{\"fill_color\":{\"value\":\"#1f77b4\"},\"line_color\":{\"value\":\"#1f77b4\"},\"x\":{\"field\":\"maxb(1)\"},\"y\":{\"field\":\"end_sigma_x\"}},\"id\":\"1036\",\"type\":\"Circle\"},{\"attributes\":{},\"id\":\"1009\",\"type\":\"LinearScale\"},{\"attributes\":{\"coordinates\":null,\"formatter\":{\"id\":\"1044\"},\"group\":null,\"major_label_policy\":{\"id\":\"1045\"},\"ticker\":{\"id\":\"1018\"}},\"id\":\"1017\",\"type\":\"LinearAxis\"},{\"attributes\":{\"coordinates\":null,\"formatter\":{\"id\":\"1047\"},\"group\":null,\"major_label_policy\":{\"id\":\"1048\"},\"ticker\":{\"id\":\"1014\"}},\"id\":\"1013\",\"type\":\"LinearAxis\"},{\"attributes\":{},\"id\":\"1014\",\"type\":\"BasicTicker\"},{\"attributes\":{},\"id\":\"1026\",\"type\":\"HelpTool\"},{\"attributes\":{\"axis\":{\"id\":\"1013\"},\"coordinates\":null,\"group\":null,\"ticker\":null},\"id\":\"1016\",\"type\":\"Grid\"}],\"root_ids\":[\"1004\"]},\"title\":\"Bokeh Application\",\"version\":\"2.4.2\"}};\n  const render_items = [{\"docid\":\"97b37cec-491e-4f6a-83a9-2c7f67bdb47a\",\"root_ids\":[\"1004\"],\"roots\":{\"1004\":\"c606056c-3256-4844-acfb-73a2daf614c0\"}}];\n  root.Bokeh.embed.embed_items_notebook(docs_json, render_items);\n\n  }\n  if (root.Bokeh !== undefined) {\n    embed_document(root);\n  } else {\n    let attempts = 0;\n    const timer = setInterval(function(root) {\n      if (root.Bokeh !== undefined) {\n        clearInterval(timer);\n        embed_document(root);\n      } else {\n        attempts++;\n        if (attempts > 100) {\n          clearInterval(timer);\n          console.log(\"Bokeh: ERROR: Unable to run BokehJS code because BokehJS library is missing\");\n        }\n      }\n    }, 10, root)\n  }\n})(window);",
      "application/vnd.bokehjs_exec.v0+json": ""
     },
     "metadata": {
      "application/vnd.bokehjs_exec.v0+json": {
       "id": "1004"
      }
     },
     "output_type": "display_data"
    }
   ],
   "source": [
    "# A simple plot\n",
    "p = figure()\n",
    "p.circle(x='maxb(1)', y='end_sigma_x', source=source)\n",
    "show(p)"
   ]
  },
  {
   "cell_type": "code",
   "execution_count": null,
   "metadata": {},
   "outputs": [
    {
     "data": {
      "text/html": [
       "\n",
       "\n",
       "\n",
       "\n",
       "\n",
       "\n",
       "  <div class=\"bk-root\" id=\"90b657b5-4420-4f85-a902-d5eb9e007751\" data-root-id=\"1108\"></div>\n"
      ]
     },
     "metadata": {},
     "output_type": "display_data"
    },
    {
     "data": {
      "application/javascript": "(function(root) {\n  function embed_document(root) {\n    \n  const docs_json = {\"bddeac5e-ed34-4068-8e31-7499a35becd0\":{\"defs\":[],\"roots\":{\"references\":[{\"attributes\":{\"below\":[{\"id\":\"1117\"}],\"center\":[{\"id\":\"1120\"},{\"id\":\"1124\"}],\"left\":[{\"id\":\"1121\"}],\"renderers\":[{\"id\":\"1132\"}],\"title\":{\"id\":\"1146\"},\"toolbar\":{\"id\":\"1126\"},\"x_range\":{\"id\":\"1109\"},\"x_scale\":{\"id\":\"1113\"},\"y_range\":{\"id\":\"1111\"},\"y_scale\":{\"id\":\"1115\"}},\"id\":\"1108\",\"subtype\":\"Figure\",\"type\":\"Plot\"},{\"attributes\":{\"source\":{\"id\":\"1003\"}},\"id\":\"1133\",\"type\":\"CDSView\"},{\"attributes\":{\"coordinates\":null,\"data_source\":{\"id\":\"1003\"},\"glyph\":{\"id\":\"1129\"},\"group\":null,\"hover_glyph\":null,\"muted_glyph\":{\"id\":\"1131\"},\"nonselection_glyph\":{\"id\":\"1130\"},\"view\":{\"id\":\"1133\"}},\"id\":\"1132\",\"type\":\"GlyphRenderer\"},{\"attributes\":{\"fill_color\":{\"value\":\"green\"},\"hatch_color\":{\"value\":\"green\"},\"line_color\":{\"value\":\"green\"},\"size\":{\"value\":10},\"x\":{\"field\":\"maxb(1)\"},\"y\":{\"field\":\"end_sigma_x\"}},\"id\":\"1129\",\"type\":\"Circle\"},{\"attributes\":{\"callback\":null},\"id\":\"1125\",\"type\":\"TapTool\"},{\"attributes\":{},\"id\":\"1049\",\"type\":\"UnionRenderers\"},{\"attributes\":{},\"id\":\"1050\",\"type\":\"Selection\"},{\"attributes\":{\"callback\":null,\"tooltips\":[[\"sigma_x\",\"@end_sigma_x\"],[\"norm_emit_x\",\"@end_norm_emit_x\"],[\"archive\",\"@archive\"]]},\"id\":\"1107\",\"type\":\"HoverTool\"},{\"attributes\":{},\"id\":\"1150\",\"type\":\"AllLabels\"},{\"attributes\":{},\"id\":\"1122\",\"type\":\"BasicTicker\"},{\"attributes\":{\"axis\":{\"id\":\"1121\"},\"coordinates\":null,\"dimension\":1,\"group\":null,\"ticker\":null},\"id\":\"1124\",\"type\":\"Grid\"},{\"attributes\":{},\"id\":\"1152\",\"type\":\"BasicTickFormatter\"},{\"attributes\":{},\"id\":\"1149\",\"type\":\"BasicTickFormatter\"},{\"attributes\":{},\"id\":\"1153\",\"type\":\"AllLabels\"},{\"attributes\":{\"data\":{\"Exception\":[false,false,false,false,false,false,false,false,false,false,false,false,false,false,false,false,false,false,false],\"archive\":[\"/var/folders/wj/lfgr01993dx79p9cm_skykbw0000gn/T/tmpgjp7legb/1072e28cb26b18367e1493ad9445c4a2.h5\",\"/var/folders/wj/lfgr01993dx79p9cm_skykbw0000gn/T/tmpgjp7legb/db1ec99167d5574f67c495839a3cb4a3.h5\",\"/var/folders/wj/lfgr01993dx79p9cm_skykbw0000gn/T/tmpgjp7legb/c726e957e9d498bdd71decc882bcdf9b.h5\",\"/var/folders/wj/lfgr01993dx79p9cm_skykbw0000gn/T/tmpgjp7legb/160eee342ea5b555f8a809c63f538223.h5\",\"/var/folders/wj/lfgr01993dx79p9cm_skykbw0000gn/T/tmpgjp7legb/72efcc8b13bf45a0c21fe290a650d243.h5\",\"/var/folders/wj/lfgr01993dx79p9cm_skykbw0000gn/T/tmpgjp7legb/09f5c247db74c2c662720ce521da2073.h5\",\"/var/folders/wj/lfgr01993dx79p9cm_skykbw0000gn/T/tmpgjp7legb/ea935d4f2e571251e20b6b28bad22a19.h5\",\"/var/folders/wj/lfgr01993dx79p9cm_skykbw0000gn/T/tmpgjp7legb/7c008155f8dc3ef0313649601abbebcb.h5\",\"/var/folders/wj/lfgr01993dx79p9cm_skykbw0000gn/T/tmpgjp7legb/52436e54469c97f282df7856e785f4af.h5\",\"/var/folders/wj/lfgr01993dx79p9cm_skykbw0000gn/T/tmpgjp7legb/3dfb0c5659e18598447c3e5ee7cd9b5b.h5\",\"/var/folders/wj/lfgr01993dx79p9cm_skykbw0000gn/T/tmpgjp7legb/3ec2ce12505cb1fc9773208b94aa82a6.h5\",\"/var/folders/wj/lfgr01993dx79p9cm_skykbw0000gn/T/tmpgjp7legb/fcb17335db410818424a211e5a5eec78.h5\",\"/var/folders/wj/lfgr01993dx79p9cm_skykbw0000gn/T/tmpgjp7legb/f167134cb653bdaa536efb22a04b6b60.h5\",\"/var/folders/wj/lfgr01993dx79p9cm_skykbw0000gn/T/tmpgjp7legb/badc21d56125c19667c842f830bf7c12.h5\",\"/var/folders/wj/lfgr01993dx79p9cm_skykbw0000gn/T/tmpgjp7legb/ad81cfb8b253c80bdbc7f2ba6732b967.h5\",\"/var/folders/wj/lfgr01993dx79p9cm_skykbw0000gn/T/tmpgjp7legb/9c54008c3a0021ef4bd3dcaff82a5cc8.h5\",\"/var/folders/wj/lfgr01993dx79p9cm_skykbw0000gn/T/tmpgjp7legb/00d97a30fa342544be9c36c25ee4b25f.h5\",\"/var/folders/wj/lfgr01993dx79p9cm_skykbw0000gn/T/tmpgjp7legb/5f17a2ee7d486dbfa108c7df1f73aa57.h5\",\"/var/folders/wj/lfgr01993dx79p9cm_skykbw0000gn/T/tmpgjp7legb/b061f9b3fdb89b1191ab193f3cc5dbb3.h5\"],\"end_cov_x__xp\":{\"__ndarray__\":\"MZRuLORAmj44iomyH4CZPjc4MeE0V5c+LVCeBNIglD5LB4qXgW6QPs/ctvSM+4k+E4VHh0xVhT5JAJG3V76EPoRJ+lGNAYo+avE/uFhfkz69kTjp5SKePkB+mGWo3qY+5GQvHp6XsD6mRPlfbvu2Prkt9Kobgb4+PV6OkO19wz6KmuZqJhfIPvb4ZzDM5cw+InKR513e0D4=\",\"dtype\":\"float64\",\"order\":\"little\",\"shape\":[19]},\"end_cov_y__yp\":{\"__ndarray__\":\"Kpt7+3BJmj4eDZHpcYOZPm6LqqmjVpc+soomG2IflD4nGHq1xW6QPkzar/O0AYo+zuTMyH9ehT5IzLyuO8OEPiQvD9wU+ok+nJxV9H1Skz54uBhmXQ6ePltXdgdj1KY+W3w6o6KWsD7qR32CAAS3PrdvY51mmr4+LdC3ECGWwz6ZTwlVWz3IPrLmEzdmG80+MVcisA8B0T4=\",\"dtype\":\"float64\",\"order\":\"little\",\"shape\":[19]},\"end_cov_z__energy\":{\"__ndarray__\":\"Qgl2YxTH/z4evYjxicf/Pq/YwJvqyP8+2bys2e/K/z5hK2maDM3/Ps76s9Lizv8+WCqQ2NvP/z5HGySPO8//Pm/k5j9dzP8+K8mG26nG/z6Lrz5Iob3/PgWI5aMWsf8+muQi8Yag/z6pvX2qQ4z/Ppyscp9QdP8+njzYAD1Z/z6ePRHlszv/PjGMgEN2HP8+Zerk6KT8/j4=\",\"dtype\":\"float64\",\"order\":\"little\",\"shape\":[19]},\"end_higher_order_energy_spread\":{\"__ndarray__\":\"1Mbc5ddW1T96z1frR1XVP1iXRXfdUNU/2KqbXk1K1T83TMC/t0LVP0oGO7mWO9U/VihK0Kk21T8mnd5w4DXVP5sOTC1EO9U/JqlcguFI1T/3hhLDq2DVPxz3qnJYhNU/LW98fjC11T/B21K42vPVP3k9Ed8oQNY/AcC42fOY1j+yOYqEEvzWPxKVyKdvZtc/hiL4VDvU1z8=\",\"dtype\":\"float64\",\"order\":\"little\",\"shape\":[19]},\"end_mean_kinetic_energy\":{\"__ndarray__\":\"AAAAADiBHkEAAAAAOIEeQQAAAAA4gR5BAAAAADiBHkEAAAAAOIEeQQAAAAA4gR5BAAAAADiBHkEAAAAAOIEeQQAAAAA4gR5BAAAAADiBHkEAAAAAOIEeQQAAAAA4gR5BAAAAADiBHkEAAAAAOIEeQQAAAAA4gR5BAAAAADiBHkEAAAAAOIEeQQAAAAA4gR5BAAAAADiBHkE=\",\"dtype\":\"float64\",\"order\":\"little\",\"shape\":[19]},\"end_mean_t\":{\"__ndarray__\":\"WWOe6jI/MT5ZY57qMj8xPlljnuoyPzE+WWOe6jI/MT5ZY57qMj8xPlljnuoyPzE+WWOe6jI/MT5ZY57qMj8xPlljnuoyPzE+WWOe6jI/MT5ZY57qMj8xPlljnuoyPzE+WWOe6jI/MT5ZY57qMj8xPlljnuoyPzE+WWOe6jI/MT5ZY57qMj8xPlljnuoyPzE+WWOe6jI/MT4=\",\"dtype\":\"float64\",\"order\":\"little\",\"shape\":[19]},\"end_mean_x\":{\"__ndarray__\":\"6KSRPORU4j1nJExZ+BfePQzyE28Tu9g97djxh3Wv1D1cj5h27tbRPWrSP6Pos889oMu65eldzD2GqTCx0VDIPW/22Y4KEsI9eDYWqiVzsD1E1kqUEF2pveP+gB1/QMq9hOjzq1+62b3NUpQtGkfkvSIt1bfsYey9us+nkt9H8r2xadxIXAT2vRYkeWJ79fi9WrUhC8em+r0=\",\"dtype\":\"float64\",\"order\":\"little\",\"shape\":[19]},\"end_mean_y\":{\"__ndarray__\":\"Z0lccPsu7z175ACXl2DvPW9NTLh7/+49gYwGiEhd7j1XJdFd3MntPYhl+FUtiu09HrNEciPP7T2awF2oGKzuPdBXBstBCPA9q6scgMDi8D35SRoFcbfxPYH3TK5mSPI9SIXAwq1N8j3n4tjsVHzxPZCFkyDMHu89xbH4ZHKi6D2L8s6JMI7ePfFV9jFDf7g9GsiLUhZz170=\",\"dtype\":\"float64\",\"order\":\"little\",\"shape\":[19]},\"end_mean_z\":{\"__ndarray__\":\"AAAAAAAA8D8AAAAAAADwPwAAAAAAAPA/AAAAAAAA8D8AAAAAAADwPwAAAAAAAPA/AAAAAAAA8D8AAAAAAADwPwAAAAAAAPA/AAAAAAAA8D8AAAAAAADwPwAAAAAAAPA/AAAAAAAA8D8AAAAAAADwPwAAAAAAAPA/AAAAAAAA8D8AAAAAAADwPwAAAAAAAPA/AAAAAAAA8D8=\",\"dtype\":\"float64\",\"order\":\"little\",\"shape\":[19]},\"end_n_particle_loss\":{\"__ndarray__\":\"AAAAAAAAAAAAAAAAAAAAAAAAAAAAAAAAAAAAAAAAAAAAAAAAAAAAAAAAAAAAAAAAAAAAAAAAAAAAAAAAAAAAAAAAAAAAAAAAAAAAAAAAAAAAAAAAAAAAAAAAAAAAAAAAAAAAAAAAAAAAAAAAAAAAAAAAAAAAAAAAAAAAAAAAAAAAAAAAAAAAAAAAAAAAAAAAAAAAAAAAAAA=\",\"dtype\":\"float64\",\"order\":\"little\",\"shape\":[19]},\"end_norm_emit_x\":{\"__ndarray__\":\"7EBs3cx3hz4YcGiNjHqHPl8ZZUf0fIc+wDxiCwR/hz4iYF/PE4GHPtPxXbEbgoc+nf1cncuChz6d/Vydy4KHPrl3Xadzgoc+COZexWuBhz6MSGH3s3+HPiolZDOkfYc+43tneTx7hz62TGvJfHiHPnCjbg8Vdoc+QnRyX1Vzhz7iUHWbRXGHPoAteNc1b4c+6hV6/9Vthz4=\",\"dtype\":\"float64\",\"order\":\"little\",\"shape\":[19]},\"end_norm_emit_y\":{\"__ndarray__\":\"7EBs3cx3hz6kl28jZXWHPl7ucmn9coc+FkV2r5Vwhz6ap3jh3W6HPuoVev/VbYc+OYR7Hc5shz45hHsdzmyHPgWQegl+bYc+tSF564Vuhz4xv3a5PXCHPpPic31Ncoc+2YtwN7V0hz4hNW3xHHeHPk1kaaHceYc+lA1mW0R8hz7btmIVrH6HPldUYONjgIc+7Wteu8OBhz4=\",\"dtype\":\"float64\",\"order\":\"little\",\"shape\":[19]},\"end_norm_emit_z\":{\"__ndarray__\":\"Dnv1f3uP9D48mWZXrY70PmGU6ZWHjPQ+GQ2u806J9D7RhXJRFob0Pr8/lh9ng/Q+Ur3XPlSC9D6RISVINYT0PuvuPBwdivQ+A+k8DKiV9D6s8bNApKf0PonMvwquwfQ+bVvvkpPk9D7FIAG6ZxH1PshdVPCzSPU+PtGJxe6J9T5XmRIRStT1PgmTADpuJvY+p9dHVmd99j4=\",\"dtype\":\"float64\",\"order\":\"little\",\"shape\":[19]},\"end_sigma_energy\":{\"__ndarray__\":\"4XoUrkfh8D/hehSuR+HwP+F6FK5H4fA/4XoUrkfh8D/hehSuR+HwP+F6FK5H4fA/4XoUrkfh8D/hehSuR+HwP+F6FK5H4fA/4XoUrkfh8D/hehSuR+HwP+F6FK5H4fA/4XoUrkfh8D/hehSuR+HwP+F6FK5H4fA/4XoUrkfh8D/hehSuR+HwP+F6FK5H4fA/4XoUrkfh8D8=\",\"dtype\":\"float64\",\"order\":\"little\",\"shape\":[19]},\"end_sigma_x\":{\"__ndarray__\":\"6QvGLYsuRD/1vH41xetDP53hHxkfJEM/S99zedbiQT/E69n30T5APzGKUDJawzw/b03bO3ouOT8qSH2jZ8Q2P02RU6Ze2DY/dOFRdG4kOj85v3o/4hVAP4VfqMt7/0M/CVsFlPpwSD/dNt/KCixNPzJA/cKGAlE/ynRDri9tUz8/nxIhv8hVPyA3suGfCFg/xF+TNeohWj8=\",\"dtype\":\"float64\",\"order\":\"little\",\"shape\":[19]},\"end_sigma_xp\":{\"__ndarray__\":\"vhtmw/WDRT/keMv2nTZFP+KReHk6V0Q/I3lbp5kHQz8EZccEBIxBP2Kh90LYW0A/DAxRbKIiQD+1KWik739BP1aA7zZvnEQ/5oq93bMqST85/RM7nr9OP/RAGgQMgVI/fNP02QHXVT+zImqiz0dZP1kKkog6vVw/7nMh+8URYD+1lyMak7RhP32ASYUMP2M/rt48MNupZD8=\",\"dtype\":\"float64\",\"order\":\"little\",\"shape\":[19]},\"end_sigma_y\":{\"__ndarray__\":\"piK6DKQwRD+hjZbiLutDP1u5tG1aIUM/wxxWGxDfQT+d7dmMNjtAP/TTLI7Svjw/6jtkb84tOT/Spk1JlMU2P8l/3Nmy1zY/kMxdKroeOj/7CFebWhFAP5zYbHqK+0M/5g2sunlwSD9hh7UhlDFNP1Fabh+oCVE/SpIxiFl5Uz8gwH148dlVP2BbmrbaHlg/cxwuKMI8Wj8=\",\"dtype\":\"float64\",\"order\":\"little\",\"shape\":[19]},\"end_sigma_yp\":{\"__ndarray__\":\"mw1sdFKIRT9Xg8UbeDlFP90fMXL9WEQ/vUL2rDEJQz/yXUpdMo5BP+JAJwhHXkA/U6YDH6QjQD/hWlCM6nxBPyKuWqFhlEQ/u5y3ViAfST9XGwhuSbNOP4aoZ+ZufFI/l/1fGivWVT8iuxzAbExZP+a8tQL5yFw/NkU2RqEbYD95liAjoMJhP8lBZOzfUGM/F8LF5dO+ZD8=\",\"dtype\":\"float64\",\"order\":\"little\",\"shape\":[19]},\"end_sigma_z\":{\"__ndarray__\":\"B52Ruv3vAT8HnZG6/e8BPwedkbr97wE/B52Ruv3vAT8HnZG6/e8BPwedkbr97wE/VW2pFiDwAT/xDdnOZPABP9l+IOPL8AE/XZCXr3fxAT/LElaQivIBP72miz1J9AE/gRxQE9b2AT8A5eolmPoBP4fQc9Gx/wE/AVAyKooGAj9tYyYwIQ8CP8kKUON2GQI/faV/i0YlAj8=\",\"dtype\":\"float64\",\"order\":\"little\",\"shape\":[19]},\"end_total_charge\":{\"__ndarray__\":\"ur3X2d982z26vdfZ33zbPbq919nffNs9ur3X2d982z26vdfZ33zbPbq919nffNs9ur3X2d982z26vdfZ33zbPbq919nffNs9ur3X2d982z26vdfZ33zbPbq919nffNs9ur3X2d982z26vdfZ33zbPbq919nffNs9ur3X2d982z26vdfZ33zbPbq919nffNs9ur3X2d982z0=\",\"dtype\":\"float64\",\"order\":\"little\",\"shape\":[19]},\"error\":[false,false,false,false,false,false,false,false,false,false,false,false,false,false,false,false,false,false,false],\"fingerprint\":[\"1072e28cb26b18367e1493ad9445c4a2\",\"db1ec99167d5574f67c495839a3cb4a3\",\"c726e957e9d498bdd71decc882bcdf9b\",\"160eee342ea5b555f8a809c63f538223\",\"72efcc8b13bf45a0c21fe290a650d243\",\"09f5c247db74c2c662720ce521da2073\",\"ea935d4f2e571251e20b6b28bad22a19\",\"7c008155f8dc3ef0313649601abbebcb\",\"52436e54469c97f282df7856e785f4af\",\"3dfb0c5659e18598447c3e5ee7cd9b5b\",\"3ec2ce12505cb1fc9773208b94aa82a6\",\"fcb17335db410818424a211e5a5eec78\",\"f167134cb653bdaa536efb22a04b6b60\",\"badc21d56125c19667c842f830bf7c12\",\"ad81cfb8b253c80bdbc7f2ba6732b967\",\"9c54008c3a0021ef4bd3dcaff82a5cc8\",\"00d97a30fa342544be9c36c25ee4b25f\",\"5f17a2ee7d486dbfa108c7df1f73aa57\",\"b061f9b3fdb89b1191ab193f3cc5dbb3\"],\"index\":[0,1,2,3,4,5,6,7,8,9,10,11,12,13,14,15,16,17,18],\"maxb(1)\":{\"__ndarray__\":\"AAAAAAAAAADtWIEw0o51P+1YgTDSjoU/sgJhpB0rkD/tWIEw0o6VPyivobyG8po/sgJhpB0roD/PLXHq99yiP+1YgTDSjqU/C4SRdqxAqD8or6G8hvKqP0basQJhpK0/sgJhpB0rsD9BGGnHCoSxP88tcer33LI/XkN5DeU1tD/tWIEw0o61P3xuiVO/57Y/C4SRdqxAuD8=\",\"dtype\":\"float64\",\"order\":\"little\",\"shape\":[19]}},\"selected\":{\"id\":\"1050\"},\"selection_policy\":{\"id\":\"1049\"}},\"id\":\"1003\",\"type\":\"ColumnDataSource\"},{\"attributes\":{\"axis\":{\"id\":\"1117\"},\"coordinates\":null,\"group\":null,\"ticker\":null},\"id\":\"1120\",\"type\":\"Grid\"},{\"attributes\":{},\"id\":\"1118\",\"type\":\"BasicTicker\"},{\"attributes\":{\"fill_alpha\":{\"value\":0.2},\"fill_color\":{\"value\":\"green\"},\"hatch_alpha\":{\"value\":0.2},\"hatch_color\":{\"value\":\"green\"},\"line_alpha\":{\"value\":0.2},\"line_color\":{\"value\":\"green\"},\"size\":{\"value\":10},\"x\":{\"field\":\"maxb(1)\"},\"y\":{\"field\":\"end_sigma_x\"}},\"id\":\"1131\",\"type\":\"Circle\"},{\"attributes\":{},\"id\":\"1115\",\"type\":\"LinearScale\"},{\"attributes\":{\"coordinates\":null,\"group\":null},\"id\":\"1146\",\"type\":\"Title\"},{\"attributes\":{\"coordinates\":null,\"formatter\":{\"id\":\"1149\"},\"group\":null,\"major_label_policy\":{\"id\":\"1150\"},\"ticker\":{\"id\":\"1122\"}},\"id\":\"1121\",\"type\":\"LinearAxis\"},{\"attributes\":{\"coordinates\":null,\"formatter\":{\"id\":\"1152\"},\"group\":null,\"major_label_policy\":{\"id\":\"1153\"},\"ticker\":{\"id\":\"1118\"}},\"id\":\"1117\",\"type\":\"LinearAxis\"},{\"attributes\":{\"tools\":[{\"id\":\"1125\"},{\"id\":\"1107\"}]},\"id\":\"1126\",\"type\":\"Toolbar\"},{\"attributes\":{},\"id\":\"1111\",\"type\":\"DataRange1d\"},{\"attributes\":{},\"id\":\"1113\",\"type\":\"LinearScale\"},{\"attributes\":{\"fill_alpha\":{\"value\":0.1},\"fill_color\":{\"value\":\"green\"},\"hatch_alpha\":{\"value\":0.1},\"hatch_color\":{\"value\":\"green\"},\"line_alpha\":{\"value\":0.1},\"line_color\":{\"value\":\"green\"},\"size\":{\"value\":10},\"x\":{\"field\":\"maxb(1)\"},\"y\":{\"field\":\"end_sigma_x\"}},\"id\":\"1130\",\"type\":\"Circle\"},{\"attributes\":{},\"id\":\"1109\",\"type\":\"DataRange1d\"}],\"root_ids\":[\"1108\"]},\"title\":\"Bokeh Application\",\"version\":\"2.4.2\"}};\n  const render_items = [{\"docid\":\"bddeac5e-ed34-4068-8e31-7499a35becd0\",\"root_ids\":[\"1108\"],\"roots\":{\"1108\":\"90b657b5-4420-4f85-a902-d5eb9e007751\"}}];\n  root.Bokeh.embed.embed_items_notebook(docs_json, render_items);\n\n  }\n  if (root.Bokeh !== undefined) {\n    embed_document(root);\n  } else {\n    let attempts = 0;\n    const timer = setInterval(function(root) {\n      if (root.Bokeh !== undefined) {\n        clearInterval(timer);\n        embed_document(root);\n      } else {\n        attempts++;\n        if (attempts > 100) {\n          clearInterval(timer);\n          console.log(\"Bokeh: ERROR: Unable to run BokehJS code because BokehJS library is missing\");\n        }\n      }\n    }, 10, root)\n  }\n})(window);",
      "application/vnd.bokehjs_exec.v0+json": ""
     },
     "metadata": {
      "application/vnd.bokehjs_exec.v0+json": {
       "id": "1108"
      }
     },
     "output_type": "display_data"
    }
   ],
   "source": [
    "# Fancier plot\n",
    "\n",
    "from bokeh.models.tools import HoverTool\n",
    "\n",
    "hover = HoverTool()\n",
    "\n",
    "\n",
    "hover.tooltips=[\n",
    "    ('sigma_x', '@end_sigma_x'),\n",
    "    ('norm_emit_x', '@end_norm_emit_x'),\n",
    "    ('archive', '@archive')\n",
    "]\n",
    "p = figure(tools='tap')\n",
    "p.circle(x='maxb(1)', y='end_sigma_x', source=source, size=10, color='green')\n",
    "\n",
    "p.add_tools(hover)\n",
    "\n",
    "show(p)"
   ]
  },
  {
   "cell_type": "code",
   "execution_count": null,
   "metadata": {},
   "outputs": [],
   "source": [
    "# Load all archives\n",
    "from astra import Astra\n",
    "Alist = []\n",
    "for a in filtered_df['archive']:\n",
    "    A = Astra()\n",
    "    A.load_archive(a)\n",
    "    Alist.append(A)"
   ]
  },
  {
   "cell_type": "code",
   "execution_count": null,
   "metadata": {},
   "outputs": [
    {
     "data": {
      "text/plain": [
       "[<matplotlib.lines.Line2D at 0x126a36eb0>]"
      ]
     },
     "execution_count": 25,
     "metadata": {},
     "output_type": "execute_result"
    },
    {
     "data": {
      "image/png": "[encoded data removed]",
      "text/plain": [
       "<Figure size 432x288 with 1 Axes>"
      ]
     },
     "metadata": {
      "needs_background": "light"
     },
     "output_type": "display_data"
    }
   ],
   "source": [
    "plt.plot(\n",
    "    Alist[0].output['stats']['mean_z'],\n",
    "    Alist[0].output['stats']['sigma_x']\n",
    ")"
   ]
  }
 ],
 "metadata": {
  "kernelspec": {
   "display_name": "Python 3.9.13 ('lume-astra-dev')",
   "language": "python",
   "name": "python3"
  },
  "language_info": {
   "codemirror_mode": {
    "name": "ipython",
    "version": 3
   },
   "file_extension": ".py",
   "mimetype": "text/x-python",
   "name": "python",
   "nbconvert_exporter": "python",
   "pygments_lexer": "ipython3",
   "version": "3.9.13"
  },
  "vscode": {
   "interpreter": {
    "hash": "6d03fce94a11c73dea1695392ee56e7f433fe1c4db87f5351f52c08d53a6c5e5"
   }
  }
 },
 "nbformat": 4,
 "nbformat_minor": 4
}

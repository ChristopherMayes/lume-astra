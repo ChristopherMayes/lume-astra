{
 "cells": [
  {
   "cell_type": "markdown",
   "metadata": {},
   "source": [
    "# Install Astra "
   ]
  },
  {
   "cell_type": "markdown",
   "metadata": {},
   "source": [
    "Simple download functions for Astra, generator"
   ]
  },
  {
   "cell_type": "code",
   "execution_count": 1,
   "metadata": {},
   "outputs": [],
   "source": [
    "from astra.install import install_astra, install_generator"
   ]
  },
  {
   "cell_type": "code",
   "execution_count": 2,
   "metadata": {},
   "outputs": [
    {
     "name": "stdout",
     "output_type": "stream",
     "text": [
      "Downloading http://www.desy.de/~mpyflo/Astra_for_Mac_OSX/Astra to /Users/chrisonian/Code/GitHub/lume-astra/examples/Astra\n",
      "Installed Astra in /Users/chrisonian/Code/GitHub/lume-astra/examples/Astra, and set $ASTRA_BIN equal to this.\n"
     ]
    }
   ],
   "source": [
    "astra_bin = install_astra('.', verbose=True)"
   ]
  },
  {
   "cell_type": "code",
   "execution_count": 3,
   "metadata": {},
   "outputs": [
    {
     "name": "stdout",
     "output_type": "stream",
     "text": [
      "Downloading http://www.desy.de/~mpyflo/Astra_for_Mac_OSX/generator to /Users/chrisonian/Code/GitHub/lume-astra/examples/generator\n",
      "Installed Astra's generator in /Users/chrisonian/Code/GitHub/lume-astra/examples/generator, and set $GENERATOR_BIN equal to this.\n"
     ]
    }
   ],
   "source": [
    "generator_bin = install_generator('.', verbose=True)"
   ]
  },
  {
   "cell_type": "code",
   "execution_count": 4,
   "metadata": {},
   "outputs": [],
   "source": [
    "# Cleanup\n",
    "import os\n",
    "os.remove(astra_bin)\n",
    "os.remove(generator_bin)"
   ]
  },
  {
   "cell_type": "code",
   "execution_count": null,
   "metadata": {},
   "outputs": [],
   "source": []
  }
 ],
 "metadata": {
  "kernelspec": {
   "display_name": "Python 3 (ipykernel)",
   "language": "python",
   "name": "python3"
  },
  "language_info": {
   "codemirror_mode": {
    "name": "ipython",
    "version": 3
   },
   "file_extension": ".py",
   "mimetype": "text/x-python",
   "name": "python",
   "nbconvert_exporter": "python",
   "pygments_lexer": "ipython3",
   "version": "3.9.7"
  }
 },
 "nbformat": 4,
 "nbformat_minor": 4
}
